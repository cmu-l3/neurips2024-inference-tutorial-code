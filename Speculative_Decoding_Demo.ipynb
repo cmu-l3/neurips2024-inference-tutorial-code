{
  "cells": [
    {
      "cell_type": "code",
      "execution_count": 1,
      "metadata": {
        "colab": {
          "base_uri": "https://localhost:8080/"
        },
        "id": "3AeIuOqDp4rn",
        "outputId": "5df61d2d-8e00-4fdd-f1fa-1d84fbdc889c"
      },
      "outputs": [
        {
          "name": "stdout",
          "output_type": "stream",
          "text": [
            "Requirement already satisfied: bitsandbytes in /home/kogolobo/miniconda3/envs/dl/lib/python3.11/site-packages (0.44.1)\n",
            "Requirement already satisfied: transformers in /home/kogolobo/miniconda3/envs/dl/lib/python3.11/site-packages (4.46.2)\n",
            "Requirement already satisfied: accelerate in /home/kogolobo/miniconda3/envs/dl/lib/python3.11/site-packages (0.33.0)\n",
            "Requirement already satisfied: vllm in /home/kogolobo/miniconda3/envs/dl/lib/python3.11/site-packages (0.6.3.post1)\n",
            "Requirement already satisfied: torch in /home/kogolobo/miniconda3/envs/dl/lib/python3.11/site-packages (from bitsandbytes) (2.4.0)\n",
            "Requirement already satisfied: numpy in /home/kogolobo/miniconda3/envs/dl/lib/python3.11/site-packages (from bitsandbytes) (1.26.2)\n",
            "Requirement already satisfied: filelock in /home/kogolobo/miniconda3/envs/dl/lib/python3.11/site-packages (from transformers) (3.13.1)\n",
            "Requirement already satisfied: huggingface-hub<1.0,>=0.23.2 in /home/kogolobo/miniconda3/envs/dl/lib/python3.11/site-packages (from transformers) (0.24.6)\n",
            "Requirement already satisfied: packaging>=20.0 in /home/kogolobo/miniconda3/envs/dl/lib/python3.11/site-packages (from transformers) (23.2)\n",
            "Requirement already satisfied: pyyaml>=5.1 in /home/kogolobo/miniconda3/envs/dl/lib/python3.11/site-packages (from transformers) (6.0.1)\n",
            "Requirement already satisfied: regex!=2019.12.17 in /home/kogolobo/miniconda3/envs/dl/lib/python3.11/site-packages (from transformers) (2023.10.3)\n",
            "Requirement already satisfied: requests in /home/kogolobo/miniconda3/envs/dl/lib/python3.11/site-packages (from transformers) (2.32.3)\n",
            "Requirement already satisfied: safetensors>=0.4.1 in /home/kogolobo/miniconda3/envs/dl/lib/python3.11/site-packages (from transformers) (0.4.4)\n",
            "Requirement already satisfied: tokenizers<0.21,>=0.20 in /home/kogolobo/miniconda3/envs/dl/lib/python3.11/site-packages (from transformers) (0.20.3)\n",
            "Requirement already satisfied: tqdm>=4.27 in /home/kogolobo/miniconda3/envs/dl/lib/python3.11/site-packages (from transformers) (4.66.1)\n",
            "Requirement already satisfied: psutil in /home/kogolobo/miniconda3/envs/dl/lib/python3.11/site-packages (from accelerate) (6.0.0)\n",
            "Requirement already satisfied: sentencepiece in /home/kogolobo/miniconda3/envs/dl/lib/python3.11/site-packages (from vllm) (0.2.0)\n",
            "Requirement already satisfied: py-cpuinfo in /home/kogolobo/miniconda3/envs/dl/lib/python3.11/site-packages (from vllm) (9.0.0)\n",
            "Requirement already satisfied: protobuf in /home/kogolobo/miniconda3/envs/dl/lib/python3.11/site-packages (from vllm) (5.28.0)\n",
            "Requirement already satisfied: aiohttp in /home/kogolobo/miniconda3/envs/dl/lib/python3.11/site-packages (from vllm) (3.9.0)\n",
            "Requirement already satisfied: openai>=1.40.0 in /home/kogolobo/miniconda3/envs/dl/lib/python3.11/site-packages (from vllm) (1.54.4)\n",
            "Requirement already satisfied: uvicorn[standard] in /home/kogolobo/miniconda3/envs/dl/lib/python3.11/site-packages (from vllm) (0.32.0)\n",
            "Requirement already satisfied: pydantic>=2.9 in /home/kogolobo/miniconda3/envs/dl/lib/python3.11/site-packages (from vllm) (2.9.2)\n",
            "Requirement already satisfied: pillow in /home/kogolobo/miniconda3/envs/dl/lib/python3.11/site-packages (from vllm) (10.4.0)\n",
            "Requirement already satisfied: prometheus-client>=0.18.0 in /home/kogolobo/miniconda3/envs/dl/lib/python3.11/site-packages (from vllm) (0.21.0)\n",
            "Requirement already satisfied: prometheus-fastapi-instrumentator>=7.0.0 in /home/kogolobo/miniconda3/envs/dl/lib/python3.11/site-packages (from vllm) (7.0.0)\n",
            "Requirement already satisfied: tiktoken>=0.6.0 in /home/kogolobo/miniconda3/envs/dl/lib/python3.11/site-packages (from vllm) (0.7.0)\n",
            "Requirement already satisfied: lm-format-enforcer==0.10.6 in /home/kogolobo/miniconda3/envs/dl/lib/python3.11/site-packages (from vllm) (0.10.6)\n",
            "Requirement already satisfied: outlines<0.1,>=0.0.43 in /home/kogolobo/miniconda3/envs/dl/lib/python3.11/site-packages (from vllm) (0.0.46)\n",
            "Requirement already satisfied: typing-extensions>=4.10 in /home/kogolobo/miniconda3/envs/dl/lib/python3.11/site-packages (from vllm) (4.12.2)\n",
            "Requirement already satisfied: partial-json-parser in /home/kogolobo/miniconda3/envs/dl/lib/python3.11/site-packages (from vllm) (0.2.1.1.post4)\n",
            "Requirement already satisfied: pyzmq in /home/kogolobo/miniconda3/envs/dl/lib/python3.11/site-packages (from vllm) (26.2.0)\n",
            "Requirement already satisfied: msgspec in /home/kogolobo/miniconda3/envs/dl/lib/python3.11/site-packages (from vllm) (0.18.6)\n",
            "Requirement already satisfied: gguf==0.10.0 in /home/kogolobo/miniconda3/envs/dl/lib/python3.11/site-packages (from vllm) (0.10.0)\n",
            "Requirement already satisfied: importlib-metadata in /home/kogolobo/miniconda3/envs/dl/lib/python3.11/site-packages (from vllm) (8.4.0)\n",
            "Requirement already satisfied: mistral-common>=1.4.4 in /home/kogolobo/miniconda3/envs/dl/lib/python3.11/site-packages (from mistral-common[opencv]>=1.4.4->vllm) (1.4.4)\n",
            "Requirement already satisfied: einops in /home/kogolobo/miniconda3/envs/dl/lib/python3.11/site-packages (from vllm) (0.8.0)\n",
            "Requirement already satisfied: compressed-tensors==0.6.0 in /home/kogolobo/miniconda3/envs/dl/lib/python3.11/site-packages (from vllm) (0.6.0)\n",
            "Requirement already satisfied: ray>=2.9 in /home/kogolobo/miniconda3/envs/dl/lib/python3.11/site-packages (from vllm) (2.38.0)\n",
            "Requirement already satisfied: nvidia-ml-py in /home/kogolobo/miniconda3/envs/dl/lib/python3.11/site-packages (from vllm) (12.560.30)\n",
            "Requirement already satisfied: torchvision==0.19 in /home/kogolobo/miniconda3/envs/dl/lib/python3.11/site-packages (from vllm) (0.19.0)\n",
            "Requirement already satisfied: xformers==0.0.27.post2 in /home/kogolobo/miniconda3/envs/dl/lib/python3.11/site-packages (from vllm) (0.0.27.post2)\n",
            "Requirement already satisfied: fastapi!=0.113.*,!=0.114.0,>=0.107.0 in /home/kogolobo/miniconda3/envs/dl/lib/python3.11/site-packages (from vllm) (0.115.5)\n",
            "Requirement already satisfied: interegular>=0.3.2 in /home/kogolobo/miniconda3/envs/dl/lib/python3.11/site-packages (from lm-format-enforcer==0.10.6->vllm) (0.3.3)\n",
            "Requirement already satisfied: sympy in /home/kogolobo/miniconda3/envs/dl/lib/python3.11/site-packages (from torch->bitsandbytes) (1.12)\n",
            "Requirement already satisfied: networkx in /home/kogolobo/miniconda3/envs/dl/lib/python3.11/site-packages (from torch->bitsandbytes) (3.2.1)\n",
            "Requirement already satisfied: jinja2 in /home/kogolobo/miniconda3/envs/dl/lib/python3.11/site-packages (from torch->bitsandbytes) (3.1.2)\n",
            "Requirement already satisfied: fsspec in /home/kogolobo/miniconda3/envs/dl/lib/python3.11/site-packages (from torch->bitsandbytes) (2023.10.0)\n",
            "Requirement already satisfied: starlette<0.42.0,>=0.40.0 in /home/kogolobo/miniconda3/envs/dl/lib/python3.11/site-packages (from fastapi!=0.113.*,!=0.114.0,>=0.107.0->vllm) (0.41.2)\n",
            "Requirement already satisfied: jsonschema<5.0.0,>=4.21.1 in /home/kogolobo/miniconda3/envs/dl/lib/python3.11/site-packages (from mistral-common>=1.4.4->mistral-common[opencv]>=1.4.4->vllm) (4.23.0)\n",
            "Requirement already satisfied: opencv-python-headless<5.0.0,>=4.0.0 in /home/kogolobo/miniconda3/envs/dl/lib/python3.11/site-packages (from mistral-common[opencv]>=1.4.4->vllm) (4.10.0.84)\n",
            "Requirement already satisfied: anyio<5,>=3.5.0 in /home/kogolobo/miniconda3/envs/dl/lib/python3.11/site-packages (from openai>=1.40.0->vllm) (3.7.1)\n",
            "Requirement already satisfied: distro<2,>=1.7.0 in /home/kogolobo/miniconda3/envs/dl/lib/python3.11/site-packages (from openai>=1.40.0->vllm) (1.8.0)\n",
            "Requirement already satisfied: httpx<1,>=0.23.0 in /home/kogolobo/miniconda3/envs/dl/lib/python3.11/site-packages (from openai>=1.40.0->vllm) (0.25.1)\n",
            "Requirement already satisfied: jiter<1,>=0.4.0 in /home/kogolobo/miniconda3/envs/dl/lib/python3.11/site-packages (from openai>=1.40.0->vllm) (0.7.1)\n",
            "Requirement already satisfied: sniffio in /home/kogolobo/miniconda3/envs/dl/lib/python3.11/site-packages (from openai>=1.40.0->vllm) (1.3.0)\n",
            "Requirement already satisfied: lark in /home/kogolobo/miniconda3/envs/dl/lib/python3.11/site-packages (from outlines<0.1,>=0.0.43->vllm) (1.2.2)\n",
            "Requirement already satisfied: nest-asyncio in /home/kogolobo/miniconda3/envs/dl/lib/python3.11/site-packages (from outlines<0.1,>=0.0.43->vllm) (1.6.0)\n",
            "Requirement already satisfied: cloudpickle in /home/kogolobo/miniconda3/envs/dl/lib/python3.11/site-packages (from outlines<0.1,>=0.0.43->vllm) (3.0.0)\n",
            "Requirement already satisfied: diskcache in /home/kogolobo/miniconda3/envs/dl/lib/python3.11/site-packages (from outlines<0.1,>=0.0.43->vllm) (5.6.3)\n",
            "Requirement already satisfied: numba in /home/kogolobo/miniconda3/envs/dl/lib/python3.11/site-packages (from outlines<0.1,>=0.0.43->vllm) (0.60.0)\n",
            "Requirement already satisfied: referencing in /home/kogolobo/miniconda3/envs/dl/lib/python3.11/site-packages (from outlines<0.1,>=0.0.43->vllm) (0.35.1)\n",
            "Requirement already satisfied: datasets in /home/kogolobo/miniconda3/envs/dl/lib/python3.11/site-packages (from outlines<0.1,>=0.0.43->vllm) (2.18.0)\n",
            "Requirement already satisfied: pycountry in /home/kogolobo/miniconda3/envs/dl/lib/python3.11/site-packages (from outlines<0.1,>=0.0.43->vllm) (24.6.1)\n",
            "Requirement already satisfied: pyairports in /home/kogolobo/miniconda3/envs/dl/lib/python3.11/site-packages (from outlines<0.1,>=0.0.43->vllm) (2.1.1)\n",
            "Requirement already satisfied: annotated-types>=0.6.0 in /home/kogolobo/miniconda3/envs/dl/lib/python3.11/site-packages (from pydantic>=2.9->vllm) (0.6.0)\n",
            "Requirement already satisfied: pydantic-core==2.23.4 in /home/kogolobo/miniconda3/envs/dl/lib/python3.11/site-packages (from pydantic>=2.9->vllm) (2.23.4)\n",
            "Requirement already satisfied: click>=7.0 in /home/kogolobo/miniconda3/envs/dl/lib/python3.11/site-packages (from ray>=2.9->vllm) (8.1.7)\n",
            "Requirement already satisfied: msgpack<2.0.0,>=1.0.0 in /home/kogolobo/miniconda3/envs/dl/lib/python3.11/site-packages (from ray>=2.9->vllm) (1.1.0)\n",
            "Requirement already satisfied: aiosignal in /home/kogolobo/miniconda3/envs/dl/lib/python3.11/site-packages (from ray>=2.9->vllm) (1.3.1)\n",
            "Requirement already satisfied: frozenlist in /home/kogolobo/miniconda3/envs/dl/lib/python3.11/site-packages (from ray>=2.9->vllm) (1.4.0)\n",
            "Requirement already satisfied: charset-normalizer<4,>=2 in /home/kogolobo/miniconda3/envs/dl/lib/python3.11/site-packages (from requests->transformers) (3.3.2)\n",
            "Requirement already satisfied: idna<4,>=2.5 in /home/kogolobo/miniconda3/envs/dl/lib/python3.11/site-packages (from requests->transformers) (3.4)\n",
            "Requirement already satisfied: urllib3<3,>=1.21.1 in /home/kogolobo/miniconda3/envs/dl/lib/python3.11/site-packages (from requests->transformers) (2.1.0)\n",
            "Requirement already satisfied: certifi>=2017.4.17 in /home/kogolobo/miniconda3/envs/dl/lib/python3.11/site-packages (from requests->transformers) (2023.11.17)\n",
            "Requirement already satisfied: attrs>=17.3.0 in /home/kogolobo/miniconda3/envs/dl/lib/python3.11/site-packages (from aiohttp->vllm) (23.1.0)\n",
            "Requirement already satisfied: multidict<7.0,>=4.5 in /home/kogolobo/miniconda3/envs/dl/lib/python3.11/site-packages (from aiohttp->vllm) (6.0.4)\n",
            "Requirement already satisfied: yarl<2.0,>=1.0 in /home/kogolobo/miniconda3/envs/dl/lib/python3.11/site-packages (from aiohttp->vllm) (1.9.3)\n",
            "Requirement already satisfied: zipp>=0.5 in /home/kogolobo/miniconda3/envs/dl/lib/python3.11/site-packages (from importlib-metadata->vllm) (3.17.0)\n",
            "Requirement already satisfied: h11>=0.8 in /home/kogolobo/miniconda3/envs/dl/lib/python3.11/site-packages (from uvicorn[standard]->vllm) (0.14.0)\n",
            "Requirement already satisfied: httptools>=0.5.0 in /home/kogolobo/miniconda3/envs/dl/lib/python3.11/site-packages (from uvicorn[standard]->vllm) (0.6.4)\n",
            "Requirement already satisfied: python-dotenv>=0.13 in /home/kogolobo/miniconda3/envs/dl/lib/python3.11/site-packages (from uvicorn[standard]->vllm) (1.0.1)\n",
            "Requirement already satisfied: uvloop!=0.15.0,!=0.15.1,>=0.14.0 in /home/kogolobo/miniconda3/envs/dl/lib/python3.11/site-packages (from uvicorn[standard]->vllm) (0.21.0)\n",
            "Requirement already satisfied: watchfiles>=0.13 in /home/kogolobo/miniconda3/envs/dl/lib/python3.11/site-packages (from uvicorn[standard]->vllm) (0.24.0)\n",
            "Requirement already satisfied: websockets>=10.4 in /home/kogolobo/miniconda3/envs/dl/lib/python3.11/site-packages (from uvicorn[standard]->vllm) (14.0)\n",
            "Requirement already satisfied: httpcore in /home/kogolobo/miniconda3/envs/dl/lib/python3.11/site-packages (from httpx<1,>=0.23.0->openai>=1.40.0->vllm) (1.0.2)\n",
            "Requirement already satisfied: jsonschema-specifications>=2023.03.6 in /home/kogolobo/miniconda3/envs/dl/lib/python3.11/site-packages (from jsonschema<5.0.0,>=4.21.1->mistral-common>=1.4.4->mistral-common[opencv]>=1.4.4->vllm) (2024.10.1)\n",
            "Requirement already satisfied: rpds-py>=0.7.1 in /home/kogolobo/miniconda3/envs/dl/lib/python3.11/site-packages (from jsonschema<5.0.0,>=4.21.1->mistral-common>=1.4.4->mistral-common[opencv]>=1.4.4->vllm) (0.21.0)\n",
            "Requirement already satisfied: pyarrow>=12.0.0 in /home/kogolobo/miniconda3/envs/dl/lib/python3.11/site-packages (from datasets->outlines<0.1,>=0.0.43->vllm) (14.0.1)\n",
            "Requirement already satisfied: pyarrow-hotfix in /home/kogolobo/miniconda3/envs/dl/lib/python3.11/site-packages (from datasets->outlines<0.1,>=0.0.43->vllm) (0.5)\n",
            "Requirement already satisfied: dill<0.3.9,>=0.3.0 in /home/kogolobo/miniconda3/envs/dl/lib/python3.11/site-packages (from datasets->outlines<0.1,>=0.0.43->vllm) (0.3.7)\n",
            "Requirement already satisfied: pandas in /home/kogolobo/miniconda3/envs/dl/lib/python3.11/site-packages (from datasets->outlines<0.1,>=0.0.43->vllm) (2.1.3)\n",
            "Requirement already satisfied: xxhash in /home/kogolobo/miniconda3/envs/dl/lib/python3.11/site-packages (from datasets->outlines<0.1,>=0.0.43->vllm) (3.4.1)\n",
            "Requirement already satisfied: multiprocess in /home/kogolobo/miniconda3/envs/dl/lib/python3.11/site-packages (from datasets->outlines<0.1,>=0.0.43->vllm) (0.70.15)\n",
            "Requirement already satisfied: MarkupSafe>=2.0 in /home/kogolobo/miniconda3/envs/dl/lib/python3.11/site-packages (from jinja2->torch->bitsandbytes) (2.1.3)\n",
            "Requirement already satisfied: llvmlite<0.44,>=0.43.0dev0 in /home/kogolobo/miniconda3/envs/dl/lib/python3.11/site-packages (from numba->outlines<0.1,>=0.0.43->vllm) (0.43.0)\n",
            "Requirement already satisfied: mpmath>=0.19 in /home/kogolobo/miniconda3/envs/dl/lib/python3.11/site-packages (from sympy->torch->bitsandbytes) (1.3.0)\n",
            "Requirement already satisfied: python-dateutil>=2.8.2 in /home/kogolobo/miniconda3/envs/dl/lib/python3.11/site-packages (from pandas->datasets->outlines<0.1,>=0.0.43->vllm) (2.8.2)\n",
            "Requirement already satisfied: pytz>=2020.1 in /home/kogolobo/miniconda3/envs/dl/lib/python3.11/site-packages (from pandas->datasets->outlines<0.1,>=0.0.43->vllm) (2023.3.post1)\n",
            "Requirement already satisfied: tzdata>=2022.1 in /home/kogolobo/miniconda3/envs/dl/lib/python3.11/site-packages (from pandas->datasets->outlines<0.1,>=0.0.43->vllm) (2023.3)\n",
            "Requirement already satisfied: six>=1.5 in /home/kogolobo/miniconda3/envs/dl/lib/python3.11/site-packages (from python-dateutil>=2.8.2->pandas->datasets->outlines<0.1,>=0.0.43->vllm) (1.16.0)\n"
          ]
        }
      ],
      "source": [
        "!pip install bitsandbytes transformers accelerate vllm"
      ]
    },
    {
      "cell_type": "code",
      "execution_count": 2,
      "metadata": {
        "colab": {
          "base_uri": "https://localhost:8080/"
        },
        "id": "bPIHWdgQPE98",
        "outputId": "a156b73b-8b96-4daa-f089-5d0d84a7df4f"
      },
      "outputs": [
        {
          "name": "stdout",
          "output_type": "stream",
          "text": [
            "CUDA GPU is available\n",
            "Device name: NVIDIA GeForce RTX 4090\n"
          ]
        },
        {
          "name": "stderr",
          "output_type": "stream",
          "text": [
            "Unused kwargs: ['_load_in_4bit', '_load_in_8bit', 'quant_method']. These kwargs are not used in <class 'transformers.utils.quantization_config.BitsAndBytesConfig'>.\n",
            "Unused kwargs: ['_load_in_4bit', '_load_in_8bit', 'quant_method']. These kwargs are not used in <class 'transformers.utils.quantization_config.BitsAndBytesConfig'>.\n"
          ]
        }
      ],
      "source": [
        "import pprint\n",
        "import torch\n",
        "from torch.distributions import Categorical\n",
        "from transformers import AutoTokenizer, AutoModelForCausalLM, GenerationConfig, set_seed, BitsAndBytesConfig\n",
        "\n",
        "# Default device is CPU\n",
        "device = torch.device('cpu')\n",
        "\n",
        "# Check if CUDA GPU is available\n",
        "if torch.cuda.is_available():\n",
        "    device = torch.device('cuda')\n",
        "    print('CUDA GPU is available')\n",
        "    print(f\"Device name: {torch.cuda.get_device_name(0)}\")\n",
        "\n",
        "\n",
        "target_model_name = \"unsloth/Llama-3.2-3B-Instruct-bnb-4bit\"\n",
        "auxilary_model_name = \"unsloth/Llama-3.2-1B-Instruct-bnb-4bit\"\n",
        "\n",
        "# Load models and tokenizer\n",
        "compute_dtype = torch.bfloat16\n",
        "quantization_config = BitsAndBytesConfig(\n",
        "        load_in_4bit=True,\n",
        "        llm_int8_threshold=6.0,\n",
        "        llm_int8_has_fp16_weight=False,\n",
        "        bnb_4bit_compute_dtype=compute_dtype,\n",
        "        bnb_4bit_use_double_quant=True,\n",
        "        bnb_4bit_quant_type=\"nf4\"\n",
        ")\n",
        "\n",
        "model_args = {\"torch_dtype\": compute_dtype, \"device_map\": \"auto\"}\n",
        "target_model = AutoModelForCausalLM.from_pretrained(target_model_name, **model_args)\n",
        "auxilary_model = AutoModelForCausalLM.from_pretrained(auxilary_model_name, **model_args)\n",
        "tokenizer = AutoTokenizer.from_pretrained(target_model_name)\n",
        "tokenizer.pad_token = tokenizer.eos_token\n",
        "tokenizer.padding_side = \"left\""
      ]
    },
    {
      "cell_type": "code",
      "execution_count": 3,
      "metadata": {
        "id": "KQSne5e5P4jl"
      },
      "outputs": [],
      "source": [
        "@torch.no_grad()\n",
        "def sample_decode(model, tokenizer, input_ids: torch.Tensor, max_new_tokens: int, temperature: float = 1.0) -> torch.Tensor:\n",
        "    log_zero = -1e4\n",
        "\n",
        "    # Initialize generated tokens with the input prompt\n",
        "    generated_ids = input_ids\n",
        "    finished_sequences = torch.zeros(input_ids.shape[0], dtype=torch.bool, device=model.device)\n",
        "    log_probs = []\n",
        "\n",
        "    # Iteratively generate tokens using greedy decoding\n",
        "    for token_idx in range(max_new_tokens):\n",
        "        # Filter out finished sequences\n",
        "        active_indices = torch.nonzero(~finished_sequences).squeeze(-1)\n",
        "        if len(active_indices) == 0:\n",
        "            break\n",
        "\n",
        "        # Get model outputs for active sequences\n",
        "        active_input_ids = generated_ids[active_indices]\n",
        "        outputs = model(input_ids=active_input_ids)\n",
        "        logits = outputs.logits\n",
        "\n",
        "        # Get the last token logits and apply argmax to select the next token\n",
        "        next_token_logits = logits[:, -1, :] / temperature\n",
        "        next_token_log_probs = torch.nn.functional.log_softmax(next_token_logits, dim=-1)\n",
        "        next_token_id = Categorical(logits=next_token_log_probs).sample()\n",
        "        # next_token_log_prob, next_token_id = next_token_log_probs.max(dim=-1)\n",
        "\n",
        "        # Save log next-token distribution for each sequence in batch; inactivate sequences produce <pad> token with probability 1\n",
        "        curr_log_probs = torch.full((input_ids.shape[0], len(tokenizer)), log_zero, dtype=next_token_log_probs.dtype, device=model.device)\n",
        "        curr_log_probs[:, tokenizer.pad_token_id] = 0.0\n",
        "        curr_log_probs[active_indices] = next_token_log_probs\n",
        "        log_probs.append(curr_log_probs)\n",
        "\n",
        "        # Update finished sequences and add padding if necessary\n",
        "        finished_sequences[active_indices] |= (next_token_id == tokenizer.eos_token_id)\n",
        "\n",
        "        # Create a tensor for the next tokens to append to all sequences\n",
        "        new_tokens = torch.full((generated_ids.shape[0], 1), tokenizer.pad_token_id, dtype=torch.long, device=model.device)\n",
        "        new_tokens[active_indices] = next_token_id.unsqueeze(-1)\n",
        "\n",
        "        # Append the next token to the generated sequence\n",
        "        generated_ids = torch.cat([generated_ids, new_tokens], dim=-1)\n",
        "\n",
        "    return generated_ids, log_probs"
      ]
    },
    {
      "cell_type": "code",
      "execution_count": 4,
      "metadata": {
        "id": "CNxmC_zfP9TJ"
      },
      "outputs": [],
      "source": [
        "@torch.no_grad()\n",
        "def specualative_decode(target_model, auxilary_model, tokenizer, input_ids: torch.Tensor,\n",
        "                        max_new_tokens: int, num_speculated: int = 5, temperature: float = 1.0) -> torch.Tensor:\n",
        "    # Initialize generated tokens with the input prompt\n",
        "    generated_ids = input_ids\n",
        "    max_length = input_ids.shape[1] + max_new_tokens\n",
        "\n",
        "    while generated_ids.shape[1] < max_length:\n",
        "        tokens_remaining = max_length - generated_ids.shape[1]\n",
        "        speculation_size = min(num_speculated, tokens_remaining - 1)\n",
        "\n",
        "        if speculation_size > 0:\n",
        "\n",
        "            # Generate speculative tokens\n",
        "            speculated_ids, speculated_log_probs = sample_decode(auxilary_model, tokenizer, generated_ids, speculation_size, temperature)\n",
        "            speculation_size = speculated_ids.shape[1] - generated_ids.shape[1]\n",
        "            speculated_token_ids = speculated_ids[:, -speculation_size:]\n",
        "            speculated_log_probs = torch.stack(speculated_log_probs, dim=1).squeeze(0)\n",
        "\n",
        "            # Verify all speculative tokens in one forward pass\n",
        "            outputs = target_model(input_ids=speculated_ids)\n",
        "            target_logits = outputs.logits[:, -(speculation_size + 1):, :].squeeze(0) / temperature\n",
        "            target_log_probs = torch.nn.functional.log_softmax(target_logits, dim=-1)\n",
        "\n",
        "            # Compare log-likelihood ratios of target and speculative tokens; use unifrorm (0, 1) distribution to decide acceptance\n",
        "            log_likelihood_ratios = target_log_probs[:-1].gather(1, speculated_token_ids.view(-1,1)) \\\n",
        "                                    - speculated_log_probs.gather(1, speculated_token_ids.view(-1,1))\n",
        "            uniform_log_probs = torch.log(torch.rand_like(log_likelihood_ratios))\n",
        "            rejected_indexes = torch.nonzero((log_likelihood_ratios <= uniform_log_probs).squeeze(-1))\n",
        "\n",
        "            if len(rejected_indexes) > 0:\n",
        "                # Some speculative tokens are rejected, truncate the accepted tokens\n",
        "                rejected_token_idx = rejected_indexes[0]\n",
        "                accepted_ids = speculated_token_ids[:, :rejected_token_idx]\n",
        "\n",
        "                # Sample the next token from the adjusted distribution\n",
        "                adjusted_distribution = torch.clamp(\n",
        "                    torch.exp(target_log_probs[rejected_token_idx]) - torch.exp(speculated_log_probs[rejected_token_idx]),\n",
        "                    min=0\n",
        "                )\n",
        "                adjusted_distribution = torch.div(adjusted_distribution, adjusted_distribution.sum())\n",
        "                next_token_id = Categorical(probs=adjusted_distribution).sample()\n",
        "\n",
        "            else:\n",
        "                # All speculative tokens are accepted, sample the next token from target model\n",
        "                accepted_ids = speculated_token_ids\n",
        "                if accepted_ids[0, -1].item() != tokenizer.eos_token_id:\n",
        "                    next_token_id = Categorical(logits=target_logits[[-1]]).sample()\n",
        "\n",
        "            # Append the accepted tokens to the generated sequence\n",
        "            if accepted_ids.numel() == 0 or (accepted_ids.numel() > 0  and accepted_ids[0, -1].item() != tokenizer.eos_token_id):\n",
        "                new_tokens = torch.cat([accepted_ids, next_token_id.unsqueeze(-1)], dim=-1)\n",
        "            else:\n",
        "                new_tokens = accepted_ids\n",
        "\n",
        "            generated_ids = torch.cat([generated_ids, new_tokens], dim=-1)\n",
        "\n",
        "        else:\n",
        "            # If no speculation is performed, use the target model for generation\n",
        "            outputs = target_model(input_ids=generated_ids)\n",
        "            target_logits = outputs.logits[:, -1, :].squeeze(0) / temperature\n",
        "            target_log_probs = torch.nn.functional.log_softmax(target_logits, dim=-1).unsqueeze(0)\n",
        "            next_token_id = Categorical(logits=target_log_probs).sample()\n",
        "            generated_ids = torch.cat([generated_ids, next_token_id.unsqueeze(0)], dim=-1)\n",
        "\n",
        "        if generated_ids[0, -1] == tokenizer.eos_token_id:\n",
        "            break\n",
        "\n",
        "    return generated_ids"
      ]
    },
    {
      "cell_type": "code",
      "execution_count": 5,
      "metadata": {
        "colab": {
          "base_uri": "https://localhost:8080/"
        },
        "id": "OBRSXdWnP-61",
        "outputId": "681b1711-921f-4871-9d12-3c23e7141762"
      },
      "outputs": [
        {
          "name": "stdout",
          "output_type": "stream",
          "text": [
            "The outputs match!\n",
            "{'Prompt': [{'content': 'You are an algebra assistant. The user will ask you '\n",
            "                        'math questions and you will solve them.',\n",
            "             'role': 'system'},\n",
            "            {'content': 'Peter purchased 20 popsicles at $0.25 each. He also '\n",
            "                        'purchased 2730244 ice cream bars at $0.50 each. How '\n",
            "                        'much did he pay in total in dollars?',\n",
            "             'role': 'user'}],\n",
            " 'Sampled': ['system\\n'\n",
            "             '\\n'\n",
            "             'Cutting Knowledge Date: December 2023\\n'\n",
            "             'Today Date: 12 Nov 2024\\n'\n",
            "             '\\n'\n",
            "             'You are an algebra assistant. The user will ask you math '\n",
            "             'questions and you will solve them.user\\n'\n",
            "             '\\n'\n",
            "             'Peter purchased 20 popsicles at $0.25 each. He also purchased '\n",
            "             '2730244 ice cream bars at $0.50 each. How much did he pay in '\n",
            "             'total in dollars?assistant\\n'\n",
            "             '\\n'\n",
            "             'To find the total amount Peter paid, we need to calculate the '\n",
            "             'cost of the popsicles and the ice cream bars separately and then '\n",
            "             'add them together.\\n'\n",
            "             '\\n'\n",
            "             'Cost of popsicles: 20 popsicles * $0.25/popsicle = $5\\n'\n",
            "             'Cost of ice cream bars: 2730244 ice cream bars * $0.50/ice cream '\n",
            "             'bar = $1365122\\n'\n",
            "             '\\n'\n",
            "             'Total cost: $5 + $1365122 = $1365127\\n'\n",
            "             '\\n'\n",
            "             'So, Peter paid a total of $1365127.'],\n",
            " 'Speculative': ['system\\n'\n",
            "                 '\\n'\n",
            "                 'Cutting Knowledge Date: December 2023\\n'\n",
            "                 'Today Date: 12 Nov 2024\\n'\n",
            "                 '\\n'\n",
            "                 'You are an algebra assistant. The user will ask you math '\n",
            "                 'questions and you will solve them.user\\n'\n",
            "                 '\\n'\n",
            "                 'Peter purchased 20 popsicles at $0.25 each. He also '\n",
            "                 'purchased 2730244 ice cream bars at $0.50 each. How much did '\n",
            "                 'he pay in total in dollars?assistant\\n'\n",
            "                 '\\n'\n",
            "                 'To find the total amount Peter paid, we need to calculate '\n",
            "                 'the cost of the popsicles and the ice cream bars separately '\n",
            "                 'and then add them together.\\n'\n",
            "                 '\\n'\n",
            "                 'Cost of popsicles: 20 popsicles * $0.25/popsicle = $5\\n'\n",
            "                 'Cost of ice cream bars: 2730244 ice cream bars * $0.50/ice '\n",
            "                 'cream bar = $1365122\\n'\n",
            "                 '\\n'\n",
            "                 'Total cost: $5 + $1365122 = $1365127\\n'\n",
            "                 '\\n'\n",
            "                 'So, Peter paid a total of $1365127.']}\n"
          ]
        }
      ],
      "source": [
        "messages = [\n",
        "    [\n",
        "        {'role': 'system', 'content': 'You are an algebra assistant. The user will ask you math questions and you will solve them.'},\n",
        "        {'role': 'user', 'content': \"Peter purchased 20 popsicles at $0.25 each. He also purchased 2730244 ice cream bars at $0.50 each. How much did he pay in total in dollars?\"},\n",
        "    ],\n",
        "]\n",
        "max_new_tokens = 120\n",
        "temperature = 0.001\n",
        "\n",
        "inputs = tokenizer.apply_chat_template(messages)\n",
        "for input_ids, message in zip(inputs, messages):\n",
        "    input_ids = torch.tensor(input_ids, device=target_model.device).unsqueeze(0)\n",
        "\n",
        "    set_seed(42)\n",
        "    speculative_ids = specualative_decode(target_model, auxilary_model, tokenizer, input_ids, max_new_tokens, temperature=temperature)\n",
        "\n",
        "    set_seed(42)\n",
        "    sampled_ids, log_probs = sample_decode(target_model, tokenizer, input_ids, max_new_tokens, temperature=temperature)\n",
        "\n",
        "    if torch.equal(speculative_ids, sampled_ids):\n",
        "        print(\"The outputs match!\")\n",
        "    else:\n",
        "        print(\"The outputs do not match.\")\n",
        "\n",
        "    speculative_text = tokenizer.batch_decode(speculative_ids, skip_special_tokens=True)\n",
        "    sampled_text = tokenizer.batch_decode(sampled_ids, skip_special_tokens=True)\n",
        "\n",
        "    pprint.pprint({\"Prompt\": message, \"Speculative\": speculative_text, \"Sampled\": sampled_text})\n"
      ]
    },
    {
      "cell_type": "code",
      "execution_count": 6,
      "metadata": {
        "colab": {
          "base_uri": "https://localhost:8080/",
          "height": 113,
          "referenced_widgets": [
            "489c67ddbfc34058a315d3a2d942075c",
            "218c79d36ac4445cb67d658f2995025e",
            "0df80053fdea49dfad7291645a40dcee",
            "a4392fd858d2439fbf56f0750b53d9e6",
            "0d5308cac10b495cb89128f4585a0e7e",
            "35ee8f38ee924e8fa2915312fcb970be",
            "e673d6e178c448ce96e721dbc9a590f7",
            "c8cadd9e0f054c409bd2ece4a0230fda",
            "82e19bcc64524fd187e9b984ad64795d",
            "7f6dbb40b0c948bfb219191167416c6e",
            "b5c79d2c3832456fb65743fb284c5011",
            "4f1135c99d5a4e809e19374d54e03ab5",
            "30da41545b9147af95cb633ffd0ac949",
            "bdbbcb7f26a74a89b0c1c7e9b53db0c8",
            "3687005dbc744011a303cdd539d67b2b",
            "08568f38c8ef47e5835485134e6a4392",
            "86ad3b736ea84cef88974bf531859fec",
            "30a17ee900134a2cb628708d88f47383",
            "9e3558bbde1147d3801840f5ec2a44f6",
            "a274c65e94274f248f33157526d5e914",
            "dfd749a03c7e4fb2ac1b0f098e0b9224",
            "16e702d8138a4c3f9cef0ff46a660e70",
            "973ebbb4388249fd978356bf71b34471",
            "7295873850234ea3aa570d22ec1329bc",
            "4d6fc384f0804cba896b283c45ff48c6",
            "69fe53c5e51544c09086349b574eb92e",
            "e628f769c6e7457ea2356c3b03ae9ea6",
            "9614ededef8947a58c18931c1d707e62",
            "ef48a4a457424bb482fa82d7cbb280fe",
            "fc8a884501cc44d3b819cb5eb778333e",
            "ed77b2fcfdda4496b1bf45c98808b9b9",
            "c02f9e7f43444910adc56ee9d78ebb89",
            "00f7280b44564079b83fa5ead6583465"
          ]
        },
        "id": "DLdZfaBF5LRu",
        "outputId": "8c40ddc2-b4f2-4a32-c51c-0d5860caf88e"
      },
      "outputs": [],
      "source": [
        "from datasets import load_dataset\n",
        "from tqdm.notebook import tqdm\n",
        "from collections import defaultdict\n",
        "import time\n",
        "\n",
        "seed = 42\n",
        "temperature = 0.1\n",
        "max_new_tokens = 10\n",
        "target_device = target_model.device\n",
        "data = load_dataset(\"reasoning-machines/gsm-hard\")['train'].shuffle(seed=seed).select(range(10))['input']\n",
        "messages = [\n",
        "    [\n",
        "        {'role': 'system', 'content': 'You are an algebra assistant. The user will ask you math questions and you will solve them.'},\n",
        "        {'role': 'user', 'content': example},\n",
        "    ]\n",
        "    for example in data\n",
        "]\n",
        "inputs = tokenizer.apply_chat_template(messages, tokenize=False)"
      ]
    },
    {
      "cell_type": "code",
      "execution_count": 7,
      "metadata": {
        "colab": {
          "base_uri": "https://localhost:8080/",
          "height": 49,
          "referenced_widgets": [
            "2b6ffd4d1974415289fbb0551dc71675",
            "60016a623f2e45449cf5d83245e38f9b",
            "85eb16f1852f42d4bdd0834253404730",
            "7343700b0586457fa3c371d87de7a143",
            "5cdcbc945a174c4c889092fe5f0b9418",
            "ceda62169f1943bf824278fe9c814fe9",
            "391329a2130747f7a30de23453c02b51",
            "84b5688773d940a68fe4373a3ce0e371",
            "82ba586017d24bfe9747e39fda17490e",
            "3d6cd2f9c28047289b9a8ce1410a8bdc",
            "d3f3b334b12440b68d8a739bf54f8111"
          ]
        },
        "id": "KLmn0_G-TnrI",
        "outputId": "b14667ce-a3a8-4ef0-9d56-ab588c00a14e"
      },
      "outputs": [
        {
          "data": {
            "application/vnd.jupyter.widget-view+json": {
              "model_id": "96edb2a8c9024610a82c6091c0b97814",
              "version_major": 2,
              "version_minor": 0
            },
            "text/plain": [
              "  0%|          | 0/10 [00:00<?, ?it/s]"
            ]
          },
          "metadata": {},
          "output_type": "display_data"
        }
      ],
      "source": [
        "from accelerate.utils import release_memory\n",
        "\n",
        "sample_latencies = []\n",
        "for example in tqdm(inputs):\n",
        "    input_ids = tokenizer(example, return_tensors=\"pt\", padding=False).input_ids.to(target_device)\n",
        "    start = time.time()\n",
        "    sampled_ids, log_probs = sample_decode(target_model, tokenizer, input_ids, max_new_tokens, temperature=temperature)\n",
        "    latency = time.time() - start\n",
        "    sample_latencies.append(latency)\n",
        "\n",
        "target_model = release_memory(target_model)\n",
        "auxilary_model = release_memory(auxilary_model)"
      ]
    },
    {
      "cell_type": "code",
      "execution_count": 8,
      "metadata": {
        "colab": {
          "base_uri": "https://localhost:8080/",
          "height": 1000,
          "referenced_widgets": [
            "1d02663a567b46d1ba20122e4b7361dd",
            "7e08b44dfe5347f99eb485c755ce178a",
            "b49abfc1e0b7445b8b5cbbf2eb885e18",
            "943c96cc125c409787d49267db24171d",
            "ffa61e2b39d54fd69882620bddd7caab",
            "e7d1922e060c4764832d35b13bb5ec61",
            "b9ffa917e77447dd865aac2aa772d63c",
            "c1c6cb41493243e4b22205f0230008de",
            "3b63dd28cf4548e3a2735efeab20b3f7",
            "1d5074c189d047849c7b9c799bfb7094",
            "b1b1cdf8206d41d7984ba04c796a637c",
            "dd17d0a46c6d4bc4b09d3f58bc7d36ae",
            "5c92c8f6447c4ef19a6f33825c4238ae",
            "6f34b8af71a74278a1d24487466801d5",
            "5b1a870f181e4efd90e9e02393037e3e",
            "81ef2be8420c431a859d84ff99843281",
            "dce9fa7b65b649a494a4ced72c92b271",
            "6ff70e04799c4f73a52474e183fa8fa2",
            "f3109e0621174d86bff2c85035d1b539",
            "e1643cb32292492995c9bf793dd6a4fe",
            "dba22813182d4d5b8ad17ead96a0efc8",
            "8972e91a10f04dc19ed8ecdadef64999",
            "8807743976d04d88a1f646255ddd5a99",
            "39dccadb3c3348efb687adb2ca298871",
            "d210298528ef4c5690c6c2d9614d52cc",
            "a5eecc6760834348aa1ac4b87a0f07d1",
            "dc6f9c56174e48758f854ef0456f4362",
            "3e0cd2ae9b814250bd5d5f6811fdc29a",
            "e8410a6f3c174dd789fbb9eebcd6703f",
            "d3edd6b3e2364ef097575c396582fd79",
            "32001f5ab9bf4b87b2b523c259079032",
            "ef62ecc135a743918c15bf862126fa3e",
            "c645b2da2c9a4595b80725473e655b57",
            "5df0d9a984fc4d4fa33fe32eeeb59a94",
            "0d7f76e4a8aa4f81b144a4bea28dedd8",
            "c79f1d3cb551498493cc3f1e1e1aad35",
            "bafab255956c4d75b357edca040b79e0",
            "bd826ab0c689428297b8c3e69b61b0b9",
            "c9bd47d82f1843e181ae1bdbe94bac43",
            "cd301117ec7a4e889164c40d430a8bc4",
            "e8cc5a080c5b478dbce1461f20ac31a2",
            "a3da6433748b4215b37eb6c9b241fc25",
            "363b371217de4a029a5b6833e8a89802",
            "71e0a4992eba420a9fc96e07142b807e"
          ]
        },
        "id": "p5Sgyu8FThKk",
        "outputId": "6e36fd71-ca4b-4ab3-b741-c82ea26ec803"
      },
      "outputs": [
        {
          "name": "stdout",
          "output_type": "stream",
          "text": [
            "Testing with 1 speculative tokens\n"
          ]
        },
        {
          "data": {
            "application/vnd.jupyter.widget-view+json": {
              "model_id": "f0df64981c6846f48ca28b8f4f5193fb",
              "version_major": 2,
              "version_minor": 0
            },
            "text/plain": [
              "Loading safetensors checkpoint shards:   0% Completed | 0/1 [00:00<?, ?it/s]\n"
            ]
          },
          "metadata": {},
          "output_type": "display_data"
        },
        {
          "data": {
            "application/vnd.jupyter.widget-view+json": {
              "model_id": "aecac7c68459412d86407c4041a83239",
              "version_major": 2,
              "version_minor": 0
            },
            "text/plain": [
              "Loading safetensors checkpoint shards:   0% Completed | 0/1 [00:00<?, ?it/s]\n"
            ]
          },
          "metadata": {},
          "output_type": "display_data"
        },
        {
          "data": {
            "application/vnd.jupyter.widget-view+json": {
              "model_id": "6ffe0280d7bd45a194e228050bebed28",
              "version_major": 2,
              "version_minor": 0
            },
            "text/plain": [
              "Loading safetensors checkpoint shards:   0% Completed | 0/1 [00:00<?, ?it/s]\n"
            ]
          },
          "metadata": {},
          "output_type": "display_data"
        },
        {
          "data": {
            "application/vnd.jupyter.widget-view+json": {
              "model_id": "5a8cadf1c1ca4e199813f0478cda112e",
              "version_major": 2,
              "version_minor": 0
            },
            "text/plain": [
              "Loading safetensors checkpoint shards:   0% Completed | 0/1 [00:00<?, ?it/s]\n"
            ]
          },
          "metadata": {},
          "output_type": "display_data"
        },
        {
          "data": {
            "application/vnd.jupyter.widget-view+json": {
              "model_id": "6b2e66173c264db6883ff76cc83bd43a",
              "version_major": 2,
              "version_minor": 0
            },
            "text/plain": [
              "  0%|          | 0/10 [00:00<?, ?it/s]"
            ]
          },
          "metadata": {},
          "output_type": "display_data"
        },
        {
          "name": "stderr",
          "output_type": "stream",
          "text": [
            "Processed prompts: 100%|██████████| 2/2 [00:00<00:00,  4.59it/s, est. speed input: 13.78 toks/s, output: 45.93 toks/s]\n",
            "Processed prompts: 100%|██████████| 2/2 [00:00<00:00,  9.20it/s, est. speed input: 27.60 toks/s, output: 92.00 toks/s]\n",
            "Processed prompts: 100%|██████████| 2/2 [00:00<00:00,  9.76it/s, est. speed input: 29.29 toks/s, output: 97.64 toks/s]\n",
            "Processed prompts: 100%|██████████| 2/2 [00:00<00:00,  9.66it/s, est. speed input: 28.99 toks/s, output: 96.64 toks/s]\n",
            "Processed prompts: 100%|██████████| 2/2 [00:00<00:00,  8.68it/s, est. speed input: 26.04 toks/s, output: 86.80 toks/s]\n",
            "Processed prompts: 100%|██████████| 2/2 [00:00<00:00,  8.52it/s, est. speed input: 25.56 toks/s, output: 85.20 toks/s]\n",
            "Processed prompts: 100%|██████████| 2/2 [00:00<00:00,  9.09it/s, est. speed input: 27.29 toks/s, output: 90.96 toks/s]\n",
            "Processed prompts: 100%|██████████| 2/2 [00:00<00:00,  9.41it/s, est. speed input: 28.25 toks/s, output: 94.16 toks/s]\n",
            "Processed prompts: 100%|██████████| 2/2 [00:00<00:00,  8.78it/s, est. speed input: 26.38 toks/s, output: 87.93 toks/s]\n",
            "Processed prompts: 100%|██████████| 2/2 [00:00<00:00,  9.23it/s, est. speed input: 27.70 toks/s, output: 92.31 toks/s]\n"
          ]
        },
        {
          "name": "stdout",
          "output_type": "stream",
          "text": [
            "Testing with 2 speculative tokens\n"
          ]
        },
        {
          "data": {
            "application/vnd.jupyter.widget-view+json": {
              "model_id": "de929749b715438fa949797d46ea72d8",
              "version_major": 2,
              "version_minor": 0
            },
            "text/plain": [
              "Loading safetensors checkpoint shards:   0% Completed | 0/1 [00:00<?, ?it/s]\n"
            ]
          },
          "metadata": {},
          "output_type": "display_data"
        },
        {
          "data": {
            "application/vnd.jupyter.widget-view+json": {
              "model_id": "86044c20f3a5436588a0f04d34e01e86",
              "version_major": 2,
              "version_minor": 0
            },
            "text/plain": [
              "Loading safetensors checkpoint shards:   0% Completed | 0/1 [00:00<?, ?it/s]\n"
            ]
          },
          "metadata": {},
          "output_type": "display_data"
        },
        {
          "data": {
            "application/vnd.jupyter.widget-view+json": {
              "model_id": "ace0d2d44eed40b995efa3cf82769a3a",
              "version_major": 2,
              "version_minor": 0
            },
            "text/plain": [
              "Loading safetensors checkpoint shards:   0% Completed | 0/1 [00:00<?, ?it/s]\n"
            ]
          },
          "metadata": {},
          "output_type": "display_data"
        },
        {
          "data": {
            "application/vnd.jupyter.widget-view+json": {
              "model_id": "cc8ed436d25945a3ae31e0f903ea0fbd",
              "version_major": 2,
              "version_minor": 0
            },
            "text/plain": [
              "Loading safetensors checkpoint shards:   0% Completed | 0/1 [00:00<?, ?it/s]\n"
            ]
          },
          "metadata": {},
          "output_type": "display_data"
        },
        {
          "data": {
            "application/vnd.jupyter.widget-view+json": {
              "model_id": "2fa84fbfde3548d28df008dd90c96efa",
              "version_major": 2,
              "version_minor": 0
            },
            "text/plain": [
              "  0%|          | 0/10 [00:00<?, ?it/s]"
            ]
          },
          "metadata": {},
          "output_type": "display_data"
        },
        {
          "name": "stderr",
          "output_type": "stream",
          "text": [
            "Processed prompts: 100%|██████████| 2/2 [00:00<00:00,  8.80it/s, est. speed input: 26.44 toks/s, output: 88.12 toks/s]\n",
            "Processed prompts: 100%|██████████| 2/2 [00:00<00:00,  9.54it/s, est. speed input: 28.64 toks/s, output: 95.47 toks/s]\n",
            "Processed prompts: 100%|██████████| 2/2 [00:00<00:00,  9.83it/s, est. speed input: 29.51 toks/s, output: 98.37 toks/s]\n",
            "Processed prompts: 100%|██████████| 2/2 [00:00<00:00, 10.13it/s, est. speed input: 30.40 toks/s, output: 101.32 toks/s]\n",
            "Processed prompts: 100%|██████████| 2/2 [00:00<00:00,  8.76it/s, est. speed input: 26.29 toks/s, output: 87.64 toks/s]\n",
            "Processed prompts: 100%|██████████| 2/2 [00:00<00:00,  9.13it/s, est. speed input: 27.39 toks/s, output: 91.29 toks/s]\n",
            "Processed prompts: 100%|██████████| 2/2 [00:00<00:00,  9.47it/s, est. speed input: 28.43 toks/s, output: 94.75 toks/s]\n",
            "Processed prompts: 100%|██████████| 2/2 [00:00<00:00,  9.56it/s, est. speed input: 28.68 toks/s, output: 95.60 toks/s]\n",
            "Processed prompts: 100%|██████████| 2/2 [00:00<00:00,  9.08it/s, est. speed input: 27.26 toks/s, output: 90.87 toks/s]\n",
            "Processed prompts: 100%|██████████| 2/2 [00:00<00:00, 10.01it/s, est. speed input: 30.09 toks/s, output: 100.29 toks/s]\n"
          ]
        },
        {
          "name": "stdout",
          "output_type": "stream",
          "text": [
            "Testing with 3 speculative tokens\n"
          ]
        },
        {
          "data": {
            "application/vnd.jupyter.widget-view+json": {
              "model_id": "1cadc405a6444940b1b0fefb21041074",
              "version_major": 2,
              "version_minor": 0
            },
            "text/plain": [
              "Loading safetensors checkpoint shards:   0% Completed | 0/1 [00:00<?, ?it/s]\n"
            ]
          },
          "metadata": {},
          "output_type": "display_data"
        },
        {
          "data": {
            "application/vnd.jupyter.widget-view+json": {
              "model_id": "167b0a544f4e4fe7ac888830446b53cf",
              "version_major": 2,
              "version_minor": 0
            },
            "text/plain": [
              "Loading safetensors checkpoint shards:   0% Completed | 0/1 [00:00<?, ?it/s]\n"
            ]
          },
          "metadata": {},
          "output_type": "display_data"
        },
        {
          "data": {
            "application/vnd.jupyter.widget-view+json": {
              "model_id": "d5bebdefcab04b48a52016e7b04d5ddc",
              "version_major": 2,
              "version_minor": 0
            },
            "text/plain": [
              "Loading safetensors checkpoint shards:   0% Completed | 0/1 [00:00<?, ?it/s]\n"
            ]
          },
          "metadata": {},
          "output_type": "display_data"
        },
        {
          "data": {
            "application/vnd.jupyter.widget-view+json": {
              "model_id": "402826a9f6264046b2ce505a89601634",
              "version_major": 2,
              "version_minor": 0
            },
            "text/plain": [
              "Loading safetensors checkpoint shards:   0% Completed | 0/1 [00:00<?, ?it/s]\n"
            ]
          },
          "metadata": {},
          "output_type": "display_data"
        },
        {
          "data": {
            "application/vnd.jupyter.widget-view+json": {
              "model_id": "9ec3d45fef2a4c8e82d67ed3c325b2df",
              "version_major": 2,
              "version_minor": 0
            },
            "text/plain": [
              "  0%|          | 0/10 [00:00<?, ?it/s]"
            ]
          },
          "metadata": {},
          "output_type": "display_data"
        },
        {
          "name": "stderr",
          "output_type": "stream",
          "text": [
            "Processed prompts: 100%|██████████| 2/2 [00:00<00:00,  4.74it/s, est. speed input: 14.25 toks/s, output: 47.50 toks/s]\n",
            "Processed prompts: 100%|██████████| 2/2 [00:00<00:00,  8.52it/s, est. speed input: 25.60 toks/s, output: 85.32 toks/s]\n",
            "Processed prompts: 100%|██████████| 2/2 [00:00<00:00,  8.64it/s, est. speed input: 25.95 toks/s, output: 86.50 toks/s]\n",
            "Processed prompts: 100%|██████████| 2/2 [00:00<00:00,  8.04it/s, est. speed input: 24.12 toks/s, output: 80.39 toks/s]\n",
            "Processed prompts: 100%|██████████| 2/2 [00:00<00:00,  7.53it/s, est. speed input: 22.62 toks/s, output: 75.40 toks/s]\n",
            "Processed prompts: 100%|██████████| 2/2 [00:00<00:00,  8.40it/s, est. speed input: 25.24 toks/s, output: 84.13 toks/s]\n",
            "Processed prompts: 100%|██████████| 2/2 [00:00<00:00,  8.61it/s, est. speed input: 25.85 toks/s, output: 86.16 toks/s]\n",
            "Processed prompts: 100%|██████████| 2/2 [00:00<00:00,  8.02it/s, est. speed input: 24.08 toks/s, output: 80.25 toks/s]\n",
            "Processed prompts: 100%|██████████| 2/2 [00:00<00:00,  8.45it/s, est. speed input: 25.35 toks/s, output: 84.50 toks/s]\n",
            "Processed prompts: 100%|██████████| 2/2 [00:00<00:00,  8.34it/s, est. speed input: 25.06 toks/s, output: 83.52 toks/s]\n"
          ]
        },
        {
          "name": "stdout",
          "output_type": "stream",
          "text": [
            "Testing with 4 speculative tokens\n"
          ]
        },
        {
          "data": {
            "application/vnd.jupyter.widget-view+json": {
              "model_id": "b8484f745f4644ab8ec18fbf697f0a6c",
              "version_major": 2,
              "version_minor": 0
            },
            "text/plain": [
              "Loading safetensors checkpoint shards:   0% Completed | 0/1 [00:00<?, ?it/s]\n"
            ]
          },
          "metadata": {},
          "output_type": "display_data"
        },
        {
          "data": {
            "application/vnd.jupyter.widget-view+json": {
              "model_id": "5ed4431bf09948aca9f11363601ca4ce",
              "version_major": 2,
              "version_minor": 0
            },
            "text/plain": [
              "Loading safetensors checkpoint shards:   0% Completed | 0/1 [00:00<?, ?it/s]\n"
            ]
          },
          "metadata": {},
          "output_type": "display_data"
        },
        {
          "data": {
            "application/vnd.jupyter.widget-view+json": {
              "model_id": "be535ed266704c57bee0f1252bb13a1c",
              "version_major": 2,
              "version_minor": 0
            },
            "text/plain": [
              "Loading safetensors checkpoint shards:   0% Completed | 0/1 [00:00<?, ?it/s]\n"
            ]
          },
          "metadata": {},
          "output_type": "display_data"
        },
        {
          "data": {
            "application/vnd.jupyter.widget-view+json": {
              "model_id": "a4ef2c2bbc9842f7ae65361aea343810",
              "version_major": 2,
              "version_minor": 0
            },
            "text/plain": [
              "Loading safetensors checkpoint shards:   0% Completed | 0/1 [00:00<?, ?it/s]\n"
            ]
          },
          "metadata": {},
          "output_type": "display_data"
        },
        {
          "data": {
            "application/vnd.jupyter.widget-view+json": {
              "model_id": "6d9cabd627bf42fa958b7728e07d79bd",
              "version_major": 2,
              "version_minor": 0
            },
            "text/plain": [
              "  0%|          | 0/10 [00:00<?, ?it/s]"
            ]
          },
          "metadata": {},
          "output_type": "display_data"
        },
        {
          "name": "stderr",
          "output_type": "stream",
          "text": [
            "Processed prompts: 100%|██████████| 2/2 [00:00<00:00,  3.91it/s, est. speed input: 11.73 toks/s, output: 39.10 toks/s]\n",
            "Processed prompts: 100%|██████████| 2/2 [00:00<00:00,  8.86it/s, est. speed input: 26.59 toks/s, output: 88.62 toks/s]\n",
            "Processed prompts: 100%|██████████| 2/2 [00:00<00:00,  9.26it/s, est. speed input: 27.80 toks/s, output: 92.66 toks/s]\n",
            "Processed prompts: 100%|██████████| 2/2 [00:00<00:00,  9.69it/s, est. speed input: 29.11 toks/s, output: 97.02 toks/s]\n",
            "Processed prompts: 100%|██████████| 2/2 [00:00<00:00,  8.84it/s, est. speed input: 26.55 toks/s, output: 88.51 toks/s]\n",
            "Processed prompts: 100%|██████████| 2/2 [00:00<00:00,  8.43it/s, est. speed input: 25.31 toks/s, output: 84.36 toks/s]\n",
            "Processed prompts: 100%|██████████| 2/2 [00:00<00:00,  9.11it/s, est. speed input: 27.35 toks/s, output: 91.15 toks/s]\n",
            "Processed prompts: 100%|██████████| 2/2 [00:00<00:00,  9.15it/s, est. speed input: 27.50 toks/s, output: 91.65 toks/s]\n",
            "Processed prompts: 100%|██████████| 2/2 [00:00<00:00,  8.57it/s, est. speed input: 25.72 toks/s, output: 85.72 toks/s]\n",
            "Processed prompts: 100%|██████████| 2/2 [00:00<00:00,  9.03it/s, est. speed input: 27.09 toks/s, output: 90.31 toks/s]\n"
          ]
        },
        {
          "name": "stdout",
          "output_type": "stream",
          "text": [
            "Testing with 5 speculative tokens\n"
          ]
        },
        {
          "data": {
            "application/vnd.jupyter.widget-view+json": {
              "model_id": "a16797de2e864a07a642786c126ecd61",
              "version_major": 2,
              "version_minor": 0
            },
            "text/plain": [
              "Loading safetensors checkpoint shards:   0% Completed | 0/1 [00:00<?, ?it/s]\n"
            ]
          },
          "metadata": {},
          "output_type": "display_data"
        },
        {
          "data": {
            "application/vnd.jupyter.widget-view+json": {
              "model_id": "eae8140b25f64bfc9e3cc3d7750acb8c",
              "version_major": 2,
              "version_minor": 0
            },
            "text/plain": [
              "Loading safetensors checkpoint shards:   0% Completed | 0/1 [00:00<?, ?it/s]\n"
            ]
          },
          "metadata": {},
          "output_type": "display_data"
        },
        {
          "data": {
            "application/vnd.jupyter.widget-view+json": {
              "model_id": "37d6f546c7c0470f8168f04f41d7b106",
              "version_major": 2,
              "version_minor": 0
            },
            "text/plain": [
              "Loading safetensors checkpoint shards:   0% Completed | 0/1 [00:00<?, ?it/s]\n"
            ]
          },
          "metadata": {},
          "output_type": "display_data"
        },
        {
          "data": {
            "application/vnd.jupyter.widget-view+json": {
              "model_id": "d9d04966f23647c08df39426bfece1fc",
              "version_major": 2,
              "version_minor": 0
            },
            "text/plain": [
              "Loading safetensors checkpoint shards:   0% Completed | 0/1 [00:00<?, ?it/s]\n"
            ]
          },
          "metadata": {},
          "output_type": "display_data"
        },
        {
          "data": {
            "application/vnd.jupyter.widget-view+json": {
              "model_id": "faf13180ad5d4063af802be333b9a8b0",
              "version_major": 2,
              "version_minor": 0
            },
            "text/plain": [
              "  0%|          | 0/10 [00:00<?, ?it/s]"
            ]
          },
          "metadata": {},
          "output_type": "display_data"
        },
        {
          "name": "stderr",
          "output_type": "stream",
          "text": [
            "Processed prompts: 100%|██████████| 2/2 [00:00<00:00,  4.58it/s, est. speed input: 13.77 toks/s, output: 45.91 toks/s]\n",
            "Processed prompts: 100%|██████████| 2/2 [00:00<00:00,  6.86it/s, est. speed input: 20.65 toks/s, output: 68.84 toks/s]\n",
            "Processed prompts: 100%|██████████| 2/2 [00:00<00:00,  7.44it/s, est. speed input: 22.41 toks/s, output: 74.71 toks/s]\n",
            "Processed prompts: 100%|██████████| 2/2 [00:00<00:00,  7.23it/s, est. speed input: 21.80 toks/s, output: 72.65 toks/s]\n",
            "Processed prompts: 100%|██████████| 2/2 [00:00<00:00,  7.02it/s, est. speed input: 21.16 toks/s, output: 70.52 toks/s]\n",
            "Processed prompts: 100%|██████████| 2/2 [00:00<00:00,  7.17it/s, est. speed input: 21.58 toks/s, output: 71.94 toks/s]\n",
            "Processed prompts: 100%|██████████| 2/2 [00:00<00:00,  7.27it/s, est. speed input: 21.91 toks/s, output: 73.03 toks/s]\n",
            "Processed prompts: 100%|██████████| 2/2 [00:00<00:00,  6.84it/s, est. speed input: 20.59 toks/s, output: 68.62 toks/s]\n",
            "Processed prompts: 100%|██████████| 2/2 [00:00<00:00,  7.15it/s, est. speed input: 21.53 toks/s, output: 71.77 toks/s]\n",
            "Processed prompts: 100%|██████████| 2/2 [00:00<00:00,  6.80it/s, est. speed input: 20.49 toks/s, output: 68.29 toks/s]\n"
          ]
        },
        {
          "name": "stdout",
          "output_type": "stream",
          "text": [
            "Testing with 6 speculative tokens\n"
          ]
        },
        {
          "data": {
            "application/vnd.jupyter.widget-view+json": {
              "model_id": "ba77b1c570234b3db3b4e1a1bc9b4644",
              "version_major": 2,
              "version_minor": 0
            },
            "text/plain": [
              "Loading safetensors checkpoint shards:   0% Completed | 0/1 [00:00<?, ?it/s]\n"
            ]
          },
          "metadata": {},
          "output_type": "display_data"
        },
        {
          "data": {
            "application/vnd.jupyter.widget-view+json": {
              "model_id": "3262765b19c445f3b6c827218245ecfc",
              "version_major": 2,
              "version_minor": 0
            },
            "text/plain": [
              "Loading safetensors checkpoint shards:   0% Completed | 0/1 [00:00<?, ?it/s]\n"
            ]
          },
          "metadata": {},
          "output_type": "display_data"
        },
        {
          "data": {
            "application/vnd.jupyter.widget-view+json": {
              "model_id": "b40a4eb04c9f429aad045ba0fc7d3052",
              "version_major": 2,
              "version_minor": 0
            },
            "text/plain": [
              "Loading safetensors checkpoint shards:   0% Completed | 0/1 [00:00<?, ?it/s]\n"
            ]
          },
          "metadata": {},
          "output_type": "display_data"
        },
        {
          "data": {
            "application/vnd.jupyter.widget-view+json": {
              "model_id": "5a86da0c168d486c96002907c4c0c340",
              "version_major": 2,
              "version_minor": 0
            },
            "text/plain": [
              "Loading safetensors checkpoint shards:   0% Completed | 0/1 [00:00<?, ?it/s]\n"
            ]
          },
          "metadata": {},
          "output_type": "display_data"
        },
        {
          "data": {
            "application/vnd.jupyter.widget-view+json": {
              "model_id": "00e1aa76d479447baca7da619d4beb95",
              "version_major": 2,
              "version_minor": 0
            },
            "text/plain": [
              "  0%|          | 0/10 [00:00<?, ?it/s]"
            ]
          },
          "metadata": {},
          "output_type": "display_data"
        },
        {
          "name": "stderr",
          "output_type": "stream",
          "text": [
            "Processed prompts: 100%|██████████| 2/2 [00:00<00:00,  6.23it/s, est. speed input: 18.76 toks/s, output: 62.54 toks/s]\n",
            "Processed prompts: 100%|██████████| 2/2 [00:00<00:00,  6.32it/s, est. speed input: 19.03 toks/s, output: 63.45 toks/s]\n",
            "Processed prompts: 100%|██████████| 2/2 [00:00<00:00,  6.14it/s, est. speed input: 18.48 toks/s, output: 61.61 toks/s]\n",
            "Processed prompts: 100%|██████████| 2/2 [00:00<00:00,  6.86it/s, est. speed input: 20.68 toks/s, output: 68.92 toks/s]\n",
            "Processed prompts: 100%|██████████| 2/2 [00:00<00:00,  6.42it/s, est. speed input: 19.36 toks/s, output: 64.53 toks/s]\n",
            "Processed prompts: 100%|██████████| 2/2 [00:00<00:00,  6.23it/s, est. speed input: 18.77 toks/s, output: 62.57 toks/s]\n",
            "Processed prompts: 100%|██████████| 2/2 [00:00<00:00,  6.62it/s, est. speed input: 19.96 toks/s, output: 66.52 toks/s]\n",
            "Processed prompts: 100%|██████████| 2/2 [00:00<00:00,  6.39it/s, est. speed input: 19.24 toks/s, output: 64.15 toks/s]\n",
            "Processed prompts: 100%|██████████| 2/2 [00:00<00:00,  6.62it/s, est. speed input: 19.93 toks/s, output: 66.43 toks/s]\n",
            "Processed prompts: 100%|██████████| 2/2 [00:00<00:00,  6.74it/s, est. speed input: 20.30 toks/s, output: 67.67 toks/s]\n"
          ]
        },
        {
          "name": "stdout",
          "output_type": "stream",
          "text": [
            "Testing with 7 speculative tokens\n"
          ]
        },
        {
          "data": {
            "application/vnd.jupyter.widget-view+json": {
              "model_id": "b947b417e9a64fefaa17d051ca8ef564",
              "version_major": 2,
              "version_minor": 0
            },
            "text/plain": [
              "Loading safetensors checkpoint shards:   0% Completed | 0/1 [00:00<?, ?it/s]\n"
            ]
          },
          "metadata": {},
          "output_type": "display_data"
        },
        {
          "data": {
            "application/vnd.jupyter.widget-view+json": {
              "model_id": "c3e3d33d612a4eedaf2b862013c3cc52",
              "version_major": 2,
              "version_minor": 0
            },
            "text/plain": [
              "Loading safetensors checkpoint shards:   0% Completed | 0/1 [00:00<?, ?it/s]\n"
            ]
          },
          "metadata": {},
          "output_type": "display_data"
        },
        {
          "data": {
            "application/vnd.jupyter.widget-view+json": {
              "model_id": "4efa9172123640d98fce8632d73f3e02",
              "version_major": 2,
              "version_minor": 0
            },
            "text/plain": [
              "Loading safetensors checkpoint shards:   0% Completed | 0/1 [00:00<?, ?it/s]\n"
            ]
          },
          "metadata": {},
          "output_type": "display_data"
        },
        {
          "data": {
            "application/vnd.jupyter.widget-view+json": {
              "model_id": "905fef4bacd54e10b8f732bb40f7658e",
              "version_major": 2,
              "version_minor": 0
            },
            "text/plain": [
              "Loading safetensors checkpoint shards:   0% Completed | 0/1 [00:00<?, ?it/s]\n"
            ]
          },
          "metadata": {},
          "output_type": "display_data"
        },
        {
          "data": {
            "application/vnd.jupyter.widget-view+json": {
              "model_id": "b766f20ce63046bfb3957a53d41e1f95",
              "version_major": 2,
              "version_minor": 0
            },
            "text/plain": [
              "  0%|          | 0/10 [00:00<?, ?it/s]"
            ]
          },
          "metadata": {},
          "output_type": "display_data"
        },
        {
          "name": "stderr",
          "output_type": "stream",
          "text": [
            "Processed prompts: 100%|██████████| 2/2 [00:00<00:00,  4.78it/s, est. speed input: 14.35 toks/s, output: 47.85 toks/s]\n",
            "Processed prompts: 100%|██████████| 2/2 [00:00<00:00,  8.29it/s, est. speed input: 24.89 toks/s, output: 82.95 toks/s]\n",
            "Processed prompts: 100%|██████████| 2/2 [00:00<00:00,  7.86it/s, est. speed input: 23.60 toks/s, output: 78.67 toks/s]\n",
            "Processed prompts: 100%|██████████| 2/2 [00:00<00:00,  8.21it/s, est. speed input: 24.64 toks/s, output: 82.15 toks/s]\n",
            "Processed prompts: 100%|██████████| 2/2 [00:00<00:00,  8.38it/s, est. speed input: 25.17 toks/s, output: 83.88 toks/s]\n",
            "Processed prompts: 100%|██████████| 2/2 [00:00<00:00,  8.27it/s, est. speed input: 24.83 toks/s, output: 82.77 toks/s]\n",
            "Processed prompts: 100%|██████████| 2/2 [00:00<00:00,  7.67it/s, est. speed input: 23.03 toks/s, output: 76.76 toks/s]\n",
            "Processed prompts: 100%|██████████| 2/2 [00:00<00:00,  8.24it/s, est. speed input: 24.74 toks/s, output: 82.45 toks/s]\n",
            "Processed prompts: 100%|██████████| 2/2 [00:00<00:00,  7.91it/s, est. speed input: 23.75 toks/s, output: 79.16 toks/s]\n",
            "Processed prompts: 100%|██████████| 2/2 [00:00<00:00,  8.22it/s, est. speed input: 24.67 toks/s, output: 82.21 toks/s]\n"
          ]
        },
        {
          "name": "stdout",
          "output_type": "stream",
          "text": [
            "Testing with 8 speculative tokens\n"
          ]
        },
        {
          "data": {
            "application/vnd.jupyter.widget-view+json": {
              "model_id": "9157e0f02e244c189bc5da385eac6fed",
              "version_major": 2,
              "version_minor": 0
            },
            "text/plain": [
              "Loading safetensors checkpoint shards:   0% Completed | 0/1 [00:00<?, ?it/s]\n"
            ]
          },
          "metadata": {},
          "output_type": "display_data"
        },
        {
          "data": {
            "application/vnd.jupyter.widget-view+json": {
              "model_id": "958f120059a64365a123891eedea8635",
              "version_major": 2,
              "version_minor": 0
            },
            "text/plain": [
              "Loading safetensors checkpoint shards:   0% Completed | 0/1 [00:00<?, ?it/s]\n"
            ]
          },
          "metadata": {},
          "output_type": "display_data"
        },
        {
          "data": {
            "application/vnd.jupyter.widget-view+json": {
              "model_id": "3a67cf146fb24e85bbe08eb9a646b320",
              "version_major": 2,
              "version_minor": 0
            },
            "text/plain": [
              "Loading safetensors checkpoint shards:   0% Completed | 0/1 [00:00<?, ?it/s]\n"
            ]
          },
          "metadata": {},
          "output_type": "display_data"
        },
        {
          "data": {
            "application/vnd.jupyter.widget-view+json": {
              "model_id": "7188c1e222354d4798fc1d0edf128e02",
              "version_major": 2,
              "version_minor": 0
            },
            "text/plain": [
              "Loading safetensors checkpoint shards:   0% Completed | 0/1 [00:00<?, ?it/s]\n"
            ]
          },
          "metadata": {},
          "output_type": "display_data"
        },
        {
          "data": {
            "application/vnd.jupyter.widget-view+json": {
              "model_id": "1d0a1739f9104a29949d779c8778acaa",
              "version_major": 2,
              "version_minor": 0
            },
            "text/plain": [
              "  0%|          | 0/10 [00:00<?, ?it/s]"
            ]
          },
          "metadata": {},
          "output_type": "display_data"
        },
        {
          "name": "stderr",
          "output_type": "stream",
          "text": [
            "Processed prompts: 100%|██████████| 2/2 [00:00<00:00,  4.51it/s, est. speed input: 13.57 toks/s, output: 45.22 toks/s]\n",
            "Processed prompts: 100%|██████████| 2/2 [00:00<00:00,  8.71it/s, est. speed input: 26.23 toks/s, output: 87.44 toks/s]\n",
            "Processed prompts: 100%|██████████| 2/2 [00:00<00:00,  8.33it/s, est. speed input: 25.11 toks/s, output: 83.71 toks/s]\n",
            "Processed prompts: 100%|██████████| 2/2 [00:00<00:00,  8.44it/s, est. speed input: 25.44 toks/s, output: 84.79 toks/s]\n",
            "Processed prompts: 100%|██████████| 2/2 [00:00<00:00,  8.31it/s, est. speed input: 25.07 toks/s, output: 83.55 toks/s]\n",
            "Processed prompts: 100%|██████████| 2/2 [00:00<00:00,  8.45it/s, est. speed input: 25.49 toks/s, output: 84.97 toks/s]\n",
            "Processed prompts: 100%|██████████| 2/2 [00:00<00:00,  8.59it/s, est. speed input: 25.88 toks/s, output: 86.28 toks/s]\n",
            "Processed prompts: 100%|██████████| 2/2 [00:00<00:00,  8.37it/s, est. speed input: 25.24 toks/s, output: 84.12 toks/s]\n",
            "Processed prompts: 100%|██████████| 2/2 [00:00<00:00,  8.10it/s, est. speed input: 24.43 toks/s, output: 81.43 toks/s]\n",
            "Processed prompts: 100%|██████████| 2/2 [00:00<00:00,  8.35it/s, est. speed input: 25.18 toks/s, output: 83.93 toks/s]\n"
          ]
        },
        {
          "name": "stdout",
          "output_type": "stream",
          "text": [
            "Testing with 9 speculative tokens\n"
          ]
        },
        {
          "data": {
            "application/vnd.jupyter.widget-view+json": {
              "model_id": "f7dec31f9ba14df9bb3d9b244eecda33",
              "version_major": 2,
              "version_minor": 0
            },
            "text/plain": [
              "Loading safetensors checkpoint shards:   0% Completed | 0/1 [00:00<?, ?it/s]\n"
            ]
          },
          "metadata": {},
          "output_type": "display_data"
        },
        {
          "data": {
            "application/vnd.jupyter.widget-view+json": {
              "model_id": "4ba22f4f441f49268e935ab702c55e94",
              "version_major": 2,
              "version_minor": 0
            },
            "text/plain": [
              "Loading safetensors checkpoint shards:   0% Completed | 0/1 [00:00<?, ?it/s]\n"
            ]
          },
          "metadata": {},
          "output_type": "display_data"
        },
        {
          "data": {
            "application/vnd.jupyter.widget-view+json": {
              "model_id": "82c1a9f3235a4fb1a1b20a89841dfb36",
              "version_major": 2,
              "version_minor": 0
            },
            "text/plain": [
              "Loading safetensors checkpoint shards:   0% Completed | 0/1 [00:00<?, ?it/s]\n"
            ]
          },
          "metadata": {},
          "output_type": "display_data"
        },
        {
          "data": {
            "application/vnd.jupyter.widget-view+json": {
              "model_id": "aba66ebd665a4decb61f7e383d8efe1f",
              "version_major": 2,
              "version_minor": 0
            },
            "text/plain": [
              "Loading safetensors checkpoint shards:   0% Completed | 0/1 [00:00<?, ?it/s]\n"
            ]
          },
          "metadata": {},
          "output_type": "display_data"
        },
        {
          "data": {
            "application/vnd.jupyter.widget-view+json": {
              "model_id": "c2ada727f2b24d08867748bb4352e26c",
              "version_major": 2,
              "version_minor": 0
            },
            "text/plain": [
              "  0%|          | 0/10 [00:00<?, ?it/s]"
            ]
          },
          "metadata": {},
          "output_type": "display_data"
        },
        {
          "name": "stderr",
          "output_type": "stream",
          "text": [
            "Processed prompts: 100%|██████████| 2/2 [00:00<00:00,  5.45it/s, est. speed input: 16.37 toks/s, output: 54.57 toks/s]\n",
            "Processed prompts: 100%|██████████| 2/2 [00:00<00:00,  5.87it/s, est. speed input: 17.61 toks/s, output: 58.69 toks/s]\n",
            "Processed prompts: 100%|██████████| 2/2 [00:00<00:00,  5.95it/s, est. speed input: 17.86 toks/s, output: 59.55 toks/s]\n",
            "Processed prompts: 100%|██████████| 2/2 [00:00<00:00,  5.68it/s, est. speed input: 17.05 toks/s, output: 56.82 toks/s]\n",
            "Processed prompts: 100%|██████████| 2/2 [00:00<00:00,  5.83it/s, est. speed input: 17.49 toks/s, output: 58.31 toks/s]\n",
            "Processed prompts: 100%|██████████| 2/2 [00:00<00:00,  5.84it/s, est. speed input: 17.51 toks/s, output: 58.37 toks/s]\n",
            "Processed prompts: 100%|██████████| 2/2 [00:00<00:00,  5.80it/s, est. speed input: 17.41 toks/s, output: 58.02 toks/s]\n",
            "Processed prompts: 100%|██████████| 2/2 [00:00<00:00,  5.81it/s, est. speed input: 17.42 toks/s, output: 58.07 toks/s]\n",
            "Processed prompts: 100%|██████████| 2/2 [00:00<00:00,  5.84it/s, est. speed input: 17.53 toks/s, output: 58.44 toks/s]\n",
            "Processed prompts: 100%|██████████| 2/2 [00:00<00:00,  5.41it/s, est. speed input: 16.25 toks/s, output: 54.18 toks/s]\n"
          ]
        },
        {
          "name": "stdout",
          "output_type": "stream",
          "text": [
            "Testing with 10 speculative tokens\n"
          ]
        },
        {
          "data": {
            "application/vnd.jupyter.widget-view+json": {
              "model_id": "6706f4942dc14958887c500344448808",
              "version_major": 2,
              "version_minor": 0
            },
            "text/plain": [
              "Loading safetensors checkpoint shards:   0% Completed | 0/1 [00:00<?, ?it/s]\n"
            ]
          },
          "metadata": {},
          "output_type": "display_data"
        },
        {
          "data": {
            "application/vnd.jupyter.widget-view+json": {
              "model_id": "4cc96ded153042faa9f3f90e18e2fa53",
              "version_major": 2,
              "version_minor": 0
            },
            "text/plain": [
              "Loading safetensors checkpoint shards:   0% Completed | 0/1 [00:00<?, ?it/s]\n"
            ]
          },
          "metadata": {},
          "output_type": "display_data"
        },
        {
          "data": {
            "application/vnd.jupyter.widget-view+json": {
              "model_id": "34feb1e610594875bf0f9f71894a677e",
              "version_major": 2,
              "version_minor": 0
            },
            "text/plain": [
              "Loading safetensors checkpoint shards:   0% Completed | 0/1 [00:00<?, ?it/s]\n"
            ]
          },
          "metadata": {},
          "output_type": "display_data"
        },
        {
          "data": {
            "application/vnd.jupyter.widget-view+json": {
              "model_id": "92cc84f379dc489ca9387ef279a271ed",
              "version_major": 2,
              "version_minor": 0
            },
            "text/plain": [
              "Loading safetensors checkpoint shards:   0% Completed | 0/1 [00:00<?, ?it/s]\n"
            ]
          },
          "metadata": {},
          "output_type": "display_data"
        },
        {
          "data": {
            "application/vnd.jupyter.widget-view+json": {
              "model_id": "e0eb4f6fdc38451dad1d4a26a1e6a46a",
              "version_major": 2,
              "version_minor": 0
            },
            "text/plain": [
              "  0%|          | 0/10 [00:00<?, ?it/s]"
            ]
          },
          "metadata": {},
          "output_type": "display_data"
        },
        {
          "name": "stderr",
          "output_type": "stream",
          "text": [
            "Processed prompts: 100%|██████████| 2/2 [00:00<00:00,  4.35it/s, est. speed input: 13.04 toks/s, output: 43.48 toks/s]\n",
            "Processed prompts: 100%|██████████| 2/2 [00:00<00:00,  6.32it/s, est. speed input: 18.97 toks/s, output: 63.24 toks/s]\n",
            "Processed prompts: 100%|██████████| 2/2 [00:00<00:00,  6.37it/s, est. speed input: 19.14 toks/s, output: 63.79 toks/s]\n",
            "Processed prompts: 100%|██████████| 2/2 [00:00<00:00,  6.26it/s, est. speed input: 18.79 toks/s, output: 62.63 toks/s]\n",
            "Processed prompts: 100%|██████████| 2/2 [00:00<00:00,  6.65it/s, est. speed input: 19.96 toks/s, output: 66.55 toks/s]\n",
            "Processed prompts: 100%|██████████| 2/2 [00:00<00:00,  6.33it/s, est. speed input: 18.99 toks/s, output: 63.31 toks/s]\n",
            "Processed prompts: 100%|██████████| 2/2 [00:00<00:00,  6.45it/s, est. speed input: 19.36 toks/s, output: 64.53 toks/s]\n",
            "Processed prompts: 100%|██████████| 2/2 [00:00<00:00,  6.52it/s, est. speed input: 19.55 toks/s, output: 65.18 toks/s]\n",
            "Processed prompts: 100%|██████████| 2/2 [00:00<00:00,  6.32it/s, est. speed input: 18.96 toks/s, output: 63.20 toks/s]\n",
            "Processed prompts: 100%|██████████| 2/2 [00:00<00:00,  6.58it/s, est. speed input: 19.75 toks/s, output: 65.84 toks/s]\n"
          ]
        },
        {
          "name": "stdout",
          "output_type": "stream",
          "text": [
            "Testing with 11 speculative tokens\n"
          ]
        },
        {
          "data": {
            "application/vnd.jupyter.widget-view+json": {
              "model_id": "cfd79a276571403bbe1d2bc0d5573d31",
              "version_major": 2,
              "version_minor": 0
            },
            "text/plain": [
              "Loading safetensors checkpoint shards:   0% Completed | 0/1 [00:00<?, ?it/s]\n"
            ]
          },
          "metadata": {},
          "output_type": "display_data"
        },
        {
          "data": {
            "application/vnd.jupyter.widget-view+json": {
              "model_id": "ddb1cce0da4f420f931194e0b4da0229",
              "version_major": 2,
              "version_minor": 0
            },
            "text/plain": [
              "Loading safetensors checkpoint shards:   0% Completed | 0/1 [00:00<?, ?it/s]\n"
            ]
          },
          "metadata": {},
          "output_type": "display_data"
        },
        {
          "data": {
            "application/vnd.jupyter.widget-view+json": {
              "model_id": "2fba8c1aea214b73bdd33b4801de8f40",
              "version_major": 2,
              "version_minor": 0
            },
            "text/plain": [
              "Loading safetensors checkpoint shards:   0% Completed | 0/1 [00:00<?, ?it/s]\n"
            ]
          },
          "metadata": {},
          "output_type": "display_data"
        },
        {
          "data": {
            "application/vnd.jupyter.widget-view+json": {
              "model_id": "5184307f413448a2bd1aeb656ae468c5",
              "version_major": 2,
              "version_minor": 0
            },
            "text/plain": [
              "Loading safetensors checkpoint shards:   0% Completed | 0/1 [00:00<?, ?it/s]\n"
            ]
          },
          "metadata": {},
          "output_type": "display_data"
        },
        {
          "data": {
            "application/vnd.jupyter.widget-view+json": {
              "model_id": "f9e6849bc1df49ffa473ee9ee15bd830",
              "version_major": 2,
              "version_minor": 0
            },
            "text/plain": [
              "  0%|          | 0/10 [00:00<?, ?it/s]"
            ]
          },
          "metadata": {},
          "output_type": "display_data"
        },
        {
          "name": "stderr",
          "output_type": "stream",
          "text": [
            "Processed prompts: 100%|██████████| 2/2 [00:00<00:00,  4.05it/s, est. speed input: 12.19 toks/s, output: 40.64 toks/s]\n",
            "Processed prompts: 100%|██████████| 2/2 [00:00<00:00,  6.70it/s, est. speed input: 20.17 toks/s, output: 67.24 toks/s]\n",
            "Processed prompts: 100%|██████████| 2/2 [00:00<00:00,  6.67it/s, est. speed input: 20.08 toks/s, output: 66.91 toks/s]\n",
            "Processed prompts: 100%|██████████| 2/2 [00:00<00:00,  7.04it/s, est. speed input: 21.21 toks/s, output: 70.71 toks/s]\n",
            "Processed prompts: 100%|██████████| 2/2 [00:00<00:00,  6.59it/s, est. speed input: 19.86 toks/s, output: 66.19 toks/s]\n",
            "Processed prompts: 100%|██████████| 2/2 [00:00<00:00,  6.44it/s, est. speed input: 19.39 toks/s, output: 64.62 toks/s]\n",
            "Processed prompts: 100%|██████████| 2/2 [00:00<00:00,  6.16it/s, est. speed input: 18.54 toks/s, output: 61.80 toks/s]\n",
            "Processed prompts: 100%|██████████| 2/2 [00:00<00:00,  6.86it/s, est. speed input: 20.66 toks/s, output: 68.86 toks/s]\n",
            "Processed prompts: 100%|██████████| 2/2 [00:00<00:00,  6.30it/s, est. speed input: 18.99 toks/s, output: 63.31 toks/s]\n",
            "Processed prompts: 100%|██████████| 2/2 [00:00<00:00,  6.42it/s, est. speed input: 19.33 toks/s, output: 64.43 toks/s]\n"
          ]
        },
        {
          "name": "stdout",
          "output_type": "stream",
          "text": [
            "Testing with 12 speculative tokens\n"
          ]
        },
        {
          "data": {
            "application/vnd.jupyter.widget-view+json": {
              "model_id": "3a327fed55eb404ba2d9c1a3d49c2f5b",
              "version_major": 2,
              "version_minor": 0
            },
            "text/plain": [
              "Loading safetensors checkpoint shards:   0% Completed | 0/1 [00:00<?, ?it/s]\n"
            ]
          },
          "metadata": {},
          "output_type": "display_data"
        },
        {
          "data": {
            "application/vnd.jupyter.widget-view+json": {
              "model_id": "2e085003e35b471fac0e6657453e76b1",
              "version_major": 2,
              "version_minor": 0
            },
            "text/plain": [
              "Loading safetensors checkpoint shards:   0% Completed | 0/1 [00:00<?, ?it/s]\n"
            ]
          },
          "metadata": {},
          "output_type": "display_data"
        },
        {
          "data": {
            "application/vnd.jupyter.widget-view+json": {
              "model_id": "75b4842b9fd84785befa1a622bc08dfc",
              "version_major": 2,
              "version_minor": 0
            },
            "text/plain": [
              "Loading safetensors checkpoint shards:   0% Completed | 0/1 [00:00<?, ?it/s]\n"
            ]
          },
          "metadata": {},
          "output_type": "display_data"
        },
        {
          "data": {
            "application/vnd.jupyter.widget-view+json": {
              "model_id": "9e3c1b982b7e472b9bbb7fd7c524facf",
              "version_major": 2,
              "version_minor": 0
            },
            "text/plain": [
              "Loading safetensors checkpoint shards:   0% Completed | 0/1 [00:00<?, ?it/s]\n"
            ]
          },
          "metadata": {},
          "output_type": "display_data"
        },
        {
          "data": {
            "application/vnd.jupyter.widget-view+json": {
              "model_id": "8fd2d4b606854e0388ea75300f389166",
              "version_major": 2,
              "version_minor": 0
            },
            "text/plain": [
              "  0%|          | 0/10 [00:00<?, ?it/s]"
            ]
          },
          "metadata": {},
          "output_type": "display_data"
        },
        {
          "name": "stderr",
          "output_type": "stream",
          "text": [
            "Processed prompts: 100%|██████████| 2/2 [00:00<00:00,  3.29it/s, est. speed input: 9.90 toks/s, output: 33.01 toks/s]\n",
            "Processed prompts: 100%|██████████| 2/2 [00:00<00:00,  6.77it/s, est. speed input: 20.39 toks/s, output: 67.98 toks/s]\n",
            "Processed prompts: 100%|██████████| 2/2 [00:00<00:00,  6.54it/s, est. speed input: 19.68 toks/s, output: 65.59 toks/s]\n",
            "Processed prompts: 100%|██████████| 2/2 [00:00<00:00,  6.15it/s, est. speed input: 18.51 toks/s, output: 61.71 toks/s]\n",
            "Processed prompts: 100%|██████████| 2/2 [00:00<00:00,  6.55it/s, est. speed input: 19.70 toks/s, output: 65.67 toks/s]\n",
            "Processed prompts: 100%|██████████| 2/2 [00:00<00:00,  6.32it/s, est. speed input: 19.03 toks/s, output: 63.43 toks/s]\n",
            "Processed prompts: 100%|██████████| 2/2 [00:00<00:00,  5.64it/s, est. speed input: 16.97 toks/s, output: 56.58 toks/s]\n",
            "Processed prompts: 100%|██████████| 2/2 [00:00<00:00,  6.32it/s, est. speed input: 19.04 toks/s, output: 63.45 toks/s]\n",
            "Processed prompts: 100%|██████████| 2/2 [00:00<00:00,  6.69it/s, est. speed input: 20.15 toks/s, output: 67.17 toks/s]\n",
            "Processed prompts: 100%|██████████| 2/2 [00:00<00:00,  6.47it/s, est. speed input: 19.48 toks/s, output: 64.93 toks/s]\n"
          ]
        },
        {
          "name": "stdout",
          "output_type": "stream",
          "text": [
            "Testing with 13 speculative tokens\n"
          ]
        },
        {
          "data": {
            "application/vnd.jupyter.widget-view+json": {
              "model_id": "be7ca5017d5f4b1599f645231d254d4a",
              "version_major": 2,
              "version_minor": 0
            },
            "text/plain": [
              "Loading safetensors checkpoint shards:   0% Completed | 0/1 [00:00<?, ?it/s]\n"
            ]
          },
          "metadata": {},
          "output_type": "display_data"
        },
        {
          "data": {
            "application/vnd.jupyter.widget-view+json": {
              "model_id": "0aa31f6d3e7c4c1d93b95d0a53c9837e",
              "version_major": 2,
              "version_minor": 0
            },
            "text/plain": [
              "Loading safetensors checkpoint shards:   0% Completed | 0/1 [00:00<?, ?it/s]\n"
            ]
          },
          "metadata": {},
          "output_type": "display_data"
        },
        {
          "data": {
            "application/vnd.jupyter.widget-view+json": {
              "model_id": "ee1e3c3c705b41fdb591bebe9dac5d60",
              "version_major": 2,
              "version_minor": 0
            },
            "text/plain": [
              "Loading safetensors checkpoint shards:   0% Completed | 0/1 [00:00<?, ?it/s]\n"
            ]
          },
          "metadata": {},
          "output_type": "display_data"
        },
        {
          "data": {
            "application/vnd.jupyter.widget-view+json": {
              "model_id": "4aa5dfc6dbef4bff8f78a9d5b6764e2e",
              "version_major": 2,
              "version_minor": 0
            },
            "text/plain": [
              "Loading safetensors checkpoint shards:   0% Completed | 0/1 [00:00<?, ?it/s]\n"
            ]
          },
          "metadata": {},
          "output_type": "display_data"
        },
        {
          "data": {
            "application/vnd.jupyter.widget-view+json": {
              "model_id": "69dfb6b6c79f46b585a658a79c06aad9",
              "version_major": 2,
              "version_minor": 0
            },
            "text/plain": [
              "  0%|          | 0/10 [00:00<?, ?it/s]"
            ]
          },
          "metadata": {},
          "output_type": "display_data"
        },
        {
          "name": "stderr",
          "output_type": "stream",
          "text": [
            "Processed prompts: 100%|██████████| 2/2 [00:00<00:00,  2.59it/s, est. speed input: 7.79 toks/s, output: 25.95 toks/s]\n",
            "Processed prompts: 100%|██████████| 2/2 [00:00<00:00,  4.27it/s, est. speed input: 12.84 toks/s, output: 42.80 toks/s]\n",
            "Processed prompts: 100%|██████████| 2/2 [00:00<00:00,  4.22it/s, est. speed input: 12.69 toks/s, output: 42.29 toks/s]\n",
            "Processed prompts: 100%|██████████| 2/2 [00:00<00:00,  4.19it/s, est. speed input: 12.61 toks/s, output: 42.02 toks/s]\n",
            "Processed prompts: 100%|██████████| 2/2 [00:00<00:00,  4.35it/s, est. speed input: 13.08 toks/s, output: 43.59 toks/s]\n",
            "Processed prompts: 100%|██████████| 2/2 [00:00<00:00,  4.39it/s, est. speed input: 13.20 toks/s, output: 44.00 toks/s]\n",
            "Processed prompts: 100%|██████████| 2/2 [00:00<00:00,  4.28it/s, est. speed input: 12.87 toks/s, output: 42.90 toks/s]\n",
            "Processed prompts: 100%|██████████| 2/2 [00:00<00:00,  4.31it/s, est. speed input: 12.95 toks/s, output: 43.17 toks/s]\n",
            "Processed prompts: 100%|██████████| 2/2 [00:00<00:00,  4.37it/s, est. speed input: 13.15 toks/s, output: 43.83 toks/s]\n",
            "Processed prompts: 100%|██████████| 2/2 [00:00<00:00,  4.11it/s, est. speed input: 12.37 toks/s, output: 41.23 toks/s]\n"
          ]
        },
        {
          "name": "stdout",
          "output_type": "stream",
          "text": [
            "Testing with 14 speculative tokens\n"
          ]
        },
        {
          "data": {
            "application/vnd.jupyter.widget-view+json": {
              "model_id": "18917761aed8408c9327fd512d27a3bd",
              "version_major": 2,
              "version_minor": 0
            },
            "text/plain": [
              "Loading safetensors checkpoint shards:   0% Completed | 0/1 [00:00<?, ?it/s]\n"
            ]
          },
          "metadata": {},
          "output_type": "display_data"
        },
        {
          "data": {
            "application/vnd.jupyter.widget-view+json": {
              "model_id": "9325c2b9f27742d1a65846917bf24a7e",
              "version_major": 2,
              "version_minor": 0
            },
            "text/plain": [
              "Loading safetensors checkpoint shards:   0% Completed | 0/1 [00:00<?, ?it/s]\n"
            ]
          },
          "metadata": {},
          "output_type": "display_data"
        },
        {
          "data": {
            "application/vnd.jupyter.widget-view+json": {
              "model_id": "613da04934824d4ab30627c89a38b5cf",
              "version_major": 2,
              "version_minor": 0
            },
            "text/plain": [
              "Loading safetensors checkpoint shards:   0% Completed | 0/1 [00:00<?, ?it/s]\n"
            ]
          },
          "metadata": {},
          "output_type": "display_data"
        },
        {
          "data": {
            "application/vnd.jupyter.widget-view+json": {
              "model_id": "581e252629db4468868f03319263078b",
              "version_major": 2,
              "version_minor": 0
            },
            "text/plain": [
              "Loading safetensors checkpoint shards:   0% Completed | 0/1 [00:00<?, ?it/s]\n"
            ]
          },
          "metadata": {},
          "output_type": "display_data"
        },
        {
          "data": {
            "application/vnd.jupyter.widget-view+json": {
              "model_id": "46a6705b210a430495f24e3faea39e59",
              "version_major": 2,
              "version_minor": 0
            },
            "text/plain": [
              "  0%|          | 0/10 [00:00<?, ?it/s]"
            ]
          },
          "metadata": {},
          "output_type": "display_data"
        },
        {
          "name": "stderr",
          "output_type": "stream",
          "text": [
            "Processed prompts: 100%|██████████| 2/2 [00:01<00:00,  1.92it/s, est. speed input: 5.75 toks/s, output: 19.18 toks/s]\n",
            "Processed prompts: 100%|██████████| 2/2 [00:00<00:00,  2.70it/s, est. speed input: 8.10 toks/s, output: 27.00 toks/s]\n",
            "Processed prompts: 100%|██████████| 2/2 [00:00<00:00,  2.56it/s, est. speed input: 7.69 toks/s, output: 25.64 toks/s]\n",
            "Processed prompts: 100%|██████████| 2/2 [00:00<00:00,  2.67it/s, est. speed input: 8.04 toks/s, output: 26.78 toks/s]\n",
            "Processed prompts: 100%|██████████| 2/2 [00:00<00:00,  2.63it/s, est. speed input: 7.91 toks/s, output: 26.36 toks/s]\n",
            "Processed prompts: 100%|██████████| 2/2 [00:00<00:00,  2.63it/s, est. speed input: 7.92 toks/s, output: 26.40 toks/s]\n",
            "Processed prompts: 100%|██████████| 2/2 [00:00<00:00,  2.65it/s, est. speed input: 7.96 toks/s, output: 26.52 toks/s]\n",
            "Processed prompts: 100%|██████████| 2/2 [00:00<00:00,  2.67it/s, est. speed input: 8.01 toks/s, output: 26.70 toks/s]\n",
            "Processed prompts: 100%|██████████| 2/2 [00:00<00:00,  2.66it/s, est. speed input: 8.00 toks/s, output: 26.65 toks/s]\n",
            "Processed prompts: 100%|██████████| 2/2 [00:00<00:00,  2.72it/s, est. speed input: 8.18 toks/s, output: 27.25 toks/s]\n"
          ]
        },
        {
          "name": "stdout",
          "output_type": "stream",
          "text": [
            "Testing with 15 speculative tokens\n"
          ]
        },
        {
          "data": {
            "application/vnd.jupyter.widget-view+json": {
              "model_id": "475343b7f9c844c4b3f3841f6c2c35c3",
              "version_major": 2,
              "version_minor": 0
            },
            "text/plain": [
              "Loading safetensors checkpoint shards:   0% Completed | 0/1 [00:00<?, ?it/s]\n"
            ]
          },
          "metadata": {},
          "output_type": "display_data"
        },
        {
          "data": {
            "application/vnd.jupyter.widget-view+json": {
              "model_id": "a0a89775fe254556a0b683b9d2cbe1e3",
              "version_major": 2,
              "version_minor": 0
            },
            "text/plain": [
              "Loading safetensors checkpoint shards:   0% Completed | 0/1 [00:00<?, ?it/s]\n"
            ]
          },
          "metadata": {},
          "output_type": "display_data"
        },
        {
          "data": {
            "application/vnd.jupyter.widget-view+json": {
              "model_id": "69328362f7544be88b0911dc7023c884",
              "version_major": 2,
              "version_minor": 0
            },
            "text/plain": [
              "Loading safetensors checkpoint shards:   0% Completed | 0/1 [00:00<?, ?it/s]\n"
            ]
          },
          "metadata": {},
          "output_type": "display_data"
        },
        {
          "data": {
            "application/vnd.jupyter.widget-view+json": {
              "model_id": "9bfbabfd1726449b9b21ffafb98d2886",
              "version_major": 2,
              "version_minor": 0
            },
            "text/plain": [
              "Loading safetensors checkpoint shards:   0% Completed | 0/1 [00:00<?, ?it/s]\n"
            ]
          },
          "metadata": {},
          "output_type": "display_data"
        },
        {
          "data": {
            "application/vnd.jupyter.widget-view+json": {
              "model_id": "be4b080125314846aee576c379e06c85",
              "version_major": 2,
              "version_minor": 0
            },
            "text/plain": [
              "  0%|          | 0/10 [00:00<?, ?it/s]"
            ]
          },
          "metadata": {},
          "output_type": "display_data"
        },
        {
          "name": "stderr",
          "output_type": "stream",
          "text": [
            "Processed prompts: 100%|██████████| 2/2 [00:00<00:00,  3.78it/s, est. speed input: 11.36 toks/s, output: 37.85 toks/s]\n",
            "Processed prompts: 100%|██████████| 2/2 [00:00<00:00,  5.06it/s, est. speed input: 15.18 toks/s, output: 50.61 toks/s]\n",
            "Processed prompts: 100%|██████████| 2/2 [00:00<00:00,  5.48it/s, est. speed input: 16.45 toks/s, output: 54.84 toks/s]\n",
            "Processed prompts: 100%|██████████| 2/2 [00:00<00:00,  5.50it/s, est. speed input: 16.49 toks/s, output: 54.97 toks/s]\n",
            "Processed prompts: 100%|██████████| 2/2 [00:00<00:00,  4.93it/s, est. speed input: 14.80 toks/s, output: 49.34 toks/s]\n",
            "Processed prompts: 100%|██████████| 2/2 [00:00<00:00,  5.16it/s, est. speed input: 15.50 toks/s, output: 51.65 toks/s]\n",
            "Processed prompts: 100%|██████████| 2/2 [00:00<00:00,  5.34it/s, est. speed input: 16.03 toks/s, output: 53.42 toks/s]\n",
            "Processed prompts: 100%|██████████| 2/2 [00:00<00:00,  5.13it/s, est. speed input: 15.39 toks/s, output: 51.30 toks/s]\n",
            "Processed prompts: 100%|██████████| 2/2 [00:00<00:00,  5.31it/s, est. speed input: 15.93 toks/s, output: 53.10 toks/s]\n",
            "Processed prompts: 100%|██████████| 2/2 [00:00<00:00,  5.56it/s, est. speed input: 16.69 toks/s, output: 55.62 toks/s]\n"
          ]
        },
        {
          "name": "stdout",
          "output_type": "stream",
          "text": [
            "Testing with 16 speculative tokens\n"
          ]
        },
        {
          "data": {
            "application/vnd.jupyter.widget-view+json": {
              "model_id": "82dfe69e280246bf991c10ae2641d058",
              "version_major": 2,
              "version_minor": 0
            },
            "text/plain": [
              "Loading safetensors checkpoint shards:   0% Completed | 0/1 [00:00<?, ?it/s]\n"
            ]
          },
          "metadata": {},
          "output_type": "display_data"
        },
        {
          "data": {
            "application/vnd.jupyter.widget-view+json": {
              "model_id": "ca209779685b42a384bbaf39a017b379",
              "version_major": 2,
              "version_minor": 0
            },
            "text/plain": [
              "Loading safetensors checkpoint shards:   0% Completed | 0/1 [00:00<?, ?it/s]\n"
            ]
          },
          "metadata": {},
          "output_type": "display_data"
        },
        {
          "data": {
            "application/vnd.jupyter.widget-view+json": {
              "model_id": "56defbfaef45428bbeabaf5803a074d0",
              "version_major": 2,
              "version_minor": 0
            },
            "text/plain": [
              "Loading safetensors checkpoint shards:   0% Completed | 0/1 [00:00<?, ?it/s]\n"
            ]
          },
          "metadata": {},
          "output_type": "display_data"
        },
        {
          "data": {
            "application/vnd.jupyter.widget-view+json": {
              "model_id": "c3565f9f730b4c84a0fb6ac73a407363",
              "version_major": 2,
              "version_minor": 0
            },
            "text/plain": [
              "Loading safetensors checkpoint shards:   0% Completed | 0/1 [00:00<?, ?it/s]\n"
            ]
          },
          "metadata": {},
          "output_type": "display_data"
        },
        {
          "data": {
            "application/vnd.jupyter.widget-view+json": {
              "model_id": "6492de4c85934a87bf06af740c1256f9",
              "version_major": 2,
              "version_minor": 0
            },
            "text/plain": [
              "  0%|          | 0/10 [00:00<?, ?it/s]"
            ]
          },
          "metadata": {},
          "output_type": "display_data"
        },
        {
          "name": "stderr",
          "output_type": "stream",
          "text": [
            "Processed prompts: 100%|██████████| 2/2 [00:00<00:00,  3.35it/s, est. speed input: 10.06 toks/s, output: 33.53 toks/s]\n",
            "Processed prompts: 100%|██████████| 2/2 [00:00<00:00,  4.41it/s, est. speed input: 13.25 toks/s, output: 44.17 toks/s]\n",
            "Processed prompts: 100%|██████████| 2/2 [00:00<00:00,  4.54it/s, est. speed input: 13.62 toks/s, output: 45.40 toks/s]\n",
            "Processed prompts: 100%|██████████| 2/2 [00:00<00:00,  4.35it/s, est. speed input: 13.06 toks/s, output: 43.52 toks/s]\n",
            "Processed prompts: 100%|██████████| 2/2 [00:00<00:00,  4.58it/s, est. speed input: 13.73 toks/s, output: 45.77 toks/s]\n",
            "Processed prompts: 100%|██████████| 2/2 [00:00<00:00,  4.29it/s, est. speed input: 12.87 toks/s, output: 42.90 toks/s]\n",
            "Processed prompts: 100%|██████████| 2/2 [00:00<00:00,  4.54it/s, est. speed input: 13.61 toks/s, output: 45.38 toks/s]\n",
            "Processed prompts: 100%|██████████| 2/2 [00:00<00:00,  4.54it/s, est. speed input: 13.63 toks/s, output: 45.43 toks/s]\n",
            "Processed prompts: 100%|██████████| 2/2 [00:00<00:00,  4.57it/s, est. speed input: 13.70 toks/s, output: 45.68 toks/s]\n",
            "Processed prompts: 100%|██████████| 2/2 [00:00<00:00,  4.47it/s, est. speed input: 13.43 toks/s, output: 44.77 toks/s]\n"
          ]
        },
        {
          "name": "stdout",
          "output_type": "stream",
          "text": [
            "Testing with 17 speculative tokens\n"
          ]
        },
        {
          "data": {
            "application/vnd.jupyter.widget-view+json": {
              "model_id": "8c4b9c6040b044b389e7fd88624492d3",
              "version_major": 2,
              "version_minor": 0
            },
            "text/plain": [
              "Loading safetensors checkpoint shards:   0% Completed | 0/1 [00:00<?, ?it/s]\n"
            ]
          },
          "metadata": {},
          "output_type": "display_data"
        },
        {
          "data": {
            "application/vnd.jupyter.widget-view+json": {
              "model_id": "0d4f4d29e9514890a247b198d818f648",
              "version_major": 2,
              "version_minor": 0
            },
            "text/plain": [
              "Loading safetensors checkpoint shards:   0% Completed | 0/1 [00:00<?, ?it/s]\n"
            ]
          },
          "metadata": {},
          "output_type": "display_data"
        },
        {
          "data": {
            "application/vnd.jupyter.widget-view+json": {
              "model_id": "a29f6b619d944547b071272c6a060e81",
              "version_major": 2,
              "version_minor": 0
            },
            "text/plain": [
              "Loading safetensors checkpoint shards:   0% Completed | 0/1 [00:00<?, ?it/s]\n"
            ]
          },
          "metadata": {},
          "output_type": "display_data"
        },
        {
          "data": {
            "application/vnd.jupyter.widget-view+json": {
              "model_id": "fe7bb6c8cb294dd5b6449c21a9558eee",
              "version_major": 2,
              "version_minor": 0
            },
            "text/plain": [
              "Loading safetensors checkpoint shards:   0% Completed | 0/1 [00:00<?, ?it/s]\n"
            ]
          },
          "metadata": {},
          "output_type": "display_data"
        },
        {
          "data": {
            "application/vnd.jupyter.widget-view+json": {
              "model_id": "183e67cc805b4eabb36370739c2e951c",
              "version_major": 2,
              "version_minor": 0
            },
            "text/plain": [
              "  0%|          | 0/10 [00:00<?, ?it/s]"
            ]
          },
          "metadata": {},
          "output_type": "display_data"
        },
        {
          "name": "stderr",
          "output_type": "stream",
          "text": [
            "Processed prompts: 100%|██████████| 2/2 [00:00<00:00,  3.19it/s, est. speed input: 9.58 toks/s, output: 31.94 toks/s]\n",
            "Processed prompts: 100%|██████████| 2/2 [00:00<00:00,  4.37it/s, est. speed input: 13.13 toks/s, output: 43.76 toks/s]\n",
            "Processed prompts: 100%|██████████| 2/2 [00:00<00:00,  4.35it/s, est. speed input: 13.04 toks/s, output: 43.48 toks/s]\n",
            "Processed prompts: 100%|██████████| 2/2 [00:00<00:00,  4.34it/s, est. speed input: 13.04 toks/s, output: 43.45 toks/s]\n",
            "Processed prompts: 100%|██████████| 2/2 [00:00<00:00,  4.25it/s, est. speed input: 12.75 toks/s, output: 42.49 toks/s]\n",
            "Processed prompts: 100%|██████████| 2/2 [00:00<00:00,  4.36it/s, est. speed input: 13.07 toks/s, output: 43.56 toks/s]\n",
            "Processed prompts: 100%|██████████| 2/2 [00:00<00:00,  4.52it/s, est. speed input: 13.56 toks/s, output: 45.21 toks/s]\n",
            "Processed prompts: 100%|██████████| 2/2 [00:00<00:00,  4.51it/s, est. speed input: 13.53 toks/s, output: 45.08 toks/s]\n",
            "Processed prompts: 100%|██████████| 2/2 [00:00<00:00,  4.36it/s, est. speed input: 13.09 toks/s, output: 43.64 toks/s]\n",
            "Processed prompts: 100%|██████████| 2/2 [00:00<00:00,  4.25it/s, est. speed input: 12.75 toks/s, output: 42.50 toks/s]\n"
          ]
        },
        {
          "name": "stdout",
          "output_type": "stream",
          "text": [
            "Testing with 18 speculative tokens\n"
          ]
        },
        {
          "data": {
            "application/vnd.jupyter.widget-view+json": {
              "model_id": "44562aefb4414574a843eb491db74e51",
              "version_major": 2,
              "version_minor": 0
            },
            "text/plain": [
              "Loading safetensors checkpoint shards:   0% Completed | 0/1 [00:00<?, ?it/s]\n"
            ]
          },
          "metadata": {},
          "output_type": "display_data"
        },
        {
          "data": {
            "application/vnd.jupyter.widget-view+json": {
              "model_id": "453d1b7200eb4bffae6d140324cdb07d",
              "version_major": 2,
              "version_minor": 0
            },
            "text/plain": [
              "Loading safetensors checkpoint shards:   0% Completed | 0/1 [00:00<?, ?it/s]\n"
            ]
          },
          "metadata": {},
          "output_type": "display_data"
        },
        {
          "data": {
            "application/vnd.jupyter.widget-view+json": {
              "model_id": "f5a46f18e867414cb84218cf56cd9c95",
              "version_major": 2,
              "version_minor": 0
            },
            "text/plain": [
              "Loading safetensors checkpoint shards:   0% Completed | 0/1 [00:00<?, ?it/s]\n"
            ]
          },
          "metadata": {},
          "output_type": "display_data"
        },
        {
          "data": {
            "application/vnd.jupyter.widget-view+json": {
              "model_id": "ad6af206b55e48089268dded32834eb8",
              "version_major": 2,
              "version_minor": 0
            },
            "text/plain": [
              "Loading safetensors checkpoint shards:   0% Completed | 0/1 [00:00<?, ?it/s]\n"
            ]
          },
          "metadata": {},
          "output_type": "display_data"
        },
        {
          "data": {
            "application/vnd.jupyter.widget-view+json": {
              "model_id": "20d6ded6750d4b1fb496ae43c1970f74",
              "version_major": 2,
              "version_minor": 0
            },
            "text/plain": [
              "  0%|          | 0/10 [00:00<?, ?it/s]"
            ]
          },
          "metadata": {},
          "output_type": "display_data"
        },
        {
          "name": "stderr",
          "output_type": "stream",
          "text": [
            "Processed prompts: 100%|██████████| 2/2 [00:01<00:00,  1.79it/s, est. speed input: 5.38 toks/s, output: 17.93 toks/s]\n",
            "Processed prompts: 100%|██████████| 2/2 [00:00<00:00,  2.36it/s, est. speed input: 7.08 toks/s, output: 23.61 toks/s]\n",
            "Processed prompts: 100%|██████████| 2/2 [00:00<00:00,  2.40it/s, est. speed input: 7.22 toks/s, output: 24.05 toks/s]\n",
            "Processed prompts: 100%|██████████| 2/2 [00:00<00:00,  2.43it/s, est. speed input: 7.29 toks/s, output: 24.30 toks/s]\n",
            "Processed prompts: 100%|██████████| 2/2 [00:00<00:00,  2.43it/s, est. speed input: 7.31 toks/s, output: 24.36 toks/s]\n",
            "Processed prompts: 100%|██████████| 2/2 [00:00<00:00,  2.42it/s, est. speed input: 7.26 toks/s, output: 24.19 toks/s]\n",
            "Processed prompts: 100%|██████████| 2/2 [00:00<00:00,  2.36it/s, est. speed input: 7.08 toks/s, output: 23.61 toks/s]\n",
            "Processed prompts: 100%|██████████| 2/2 [00:00<00:00,  2.44it/s, est. speed input: 7.33 toks/s, output: 24.43 toks/s]\n",
            "Processed prompts: 100%|██████████| 2/2 [00:00<00:00,  2.44it/s, est. speed input: 7.34 toks/s, output: 24.48 toks/s]\n",
            "Processed prompts: 100%|██████████| 2/2 [00:00<00:00,  2.43it/s, est. speed input: 7.30 toks/s, output: 24.33 toks/s]\n"
          ]
        },
        {
          "name": "stdout",
          "output_type": "stream",
          "text": [
            "Testing with 19 speculative tokens\n"
          ]
        },
        {
          "data": {
            "application/vnd.jupyter.widget-view+json": {
              "model_id": "87470ffed49f4e12ab5a4165a46bf4c6",
              "version_major": 2,
              "version_minor": 0
            },
            "text/plain": [
              "Loading safetensors checkpoint shards:   0% Completed | 0/1 [00:00<?, ?it/s]\n"
            ]
          },
          "metadata": {},
          "output_type": "display_data"
        },
        {
          "data": {
            "application/vnd.jupyter.widget-view+json": {
              "model_id": "e8a2e14ac8ff4c488508b51182636047",
              "version_major": 2,
              "version_minor": 0
            },
            "text/plain": [
              "Loading safetensors checkpoint shards:   0% Completed | 0/1 [00:00<?, ?it/s]\n"
            ]
          },
          "metadata": {},
          "output_type": "display_data"
        },
        {
          "data": {
            "application/vnd.jupyter.widget-view+json": {
              "model_id": "39c6a9212c764e92aa7ecb16a4d28e92",
              "version_major": 2,
              "version_minor": 0
            },
            "text/plain": [
              "Loading safetensors checkpoint shards:   0% Completed | 0/1 [00:00<?, ?it/s]\n"
            ]
          },
          "metadata": {},
          "output_type": "display_data"
        },
        {
          "data": {
            "application/vnd.jupyter.widget-view+json": {
              "model_id": "02611a875e104b679834201c6382297d",
              "version_major": 2,
              "version_minor": 0
            },
            "text/plain": [
              "Loading safetensors checkpoint shards:   0% Completed | 0/1 [00:00<?, ?it/s]\n"
            ]
          },
          "metadata": {},
          "output_type": "display_data"
        },
        {
          "data": {
            "application/vnd.jupyter.widget-view+json": {
              "model_id": "c584b903efa54c3c89d44e91b3ffab6b",
              "version_major": 2,
              "version_minor": 0
            },
            "text/plain": [
              "  0%|          | 0/10 [00:00<?, ?it/s]"
            ]
          },
          "metadata": {},
          "output_type": "display_data"
        },
        {
          "name": "stderr",
          "output_type": "stream",
          "text": [
            "Processed prompts: 100%|██████████| 2/2 [00:01<00:00,  1.95it/s, est. speed input: 5.86 toks/s, output: 19.55 toks/s]\n",
            "Processed prompts: 100%|██████████| 2/2 [00:00<00:00,  2.51it/s, est. speed input: 7.52 toks/s, output: 25.06 toks/s]\n",
            "Processed prompts: 100%|██████████| 2/2 [00:00<00:00,  2.51it/s, est. speed input: 7.54 toks/s, output: 25.14 toks/s]\n",
            "Processed prompts: 100%|██████████| 2/2 [00:00<00:00,  2.51it/s, est. speed input: 7.54 toks/s, output: 25.14 toks/s]\n",
            "Processed prompts: 100%|██████████| 2/2 [00:00<00:00,  2.48it/s, est. speed input: 7.45 toks/s, output: 24.83 toks/s]\n",
            "Processed prompts: 100%|██████████| 2/2 [00:00<00:00,  2.44it/s, est. speed input: 7.33 toks/s, output: 24.43 toks/s]\n",
            "Processed prompts: 100%|██████████| 2/2 [00:00<00:00,  2.44it/s, est. speed input: 7.33 toks/s, output: 24.43 toks/s]\n",
            "Processed prompts: 100%|██████████| 2/2 [-1:59:59<00:00, -1.89it/s, est. speed input: -5.68 toks/s, output: -18.94 toks/s]\n",
            "Processed prompts: 100%|██████████| 2/2 [00:00<00:00,  2.40it/s, est. speed input: 7.19 toks/s, output: 23.96 toks/s]\n",
            "Processed prompts: 100%|██████████| 2/2 [00:00<00:00,  2.51it/s, est. speed input: 7.52 toks/s, output: 25.08 toks/s]\n"
          ]
        }
      ],
      "source": [
        "import torch\n",
        "import gc\n",
        "import os\n",
        "os.environ[\"VLLM_LOGGING_LEVEL\"] = \"ERROR\"\n",
        "\n",
        "from vllm import LLM, SamplingParams\n",
        "\n",
        "sampling_params = SamplingParams(temperature=temperature, seed=seed, max_tokens=max_new_tokens)\n",
        "vllm_args = {\n",
        "    \"model\": target_model_name,\n",
        "    \"tensor_parallel_size\": 1,\n",
        "    \"max_model_len\": 4096,\n",
        "    \"speculative_model\": auxilary_model_name,\n",
        "    \"use_v2_block_manager\": True,\n",
        "    \"trust_remote_code\": True,\n",
        "    \"gpu_memory_utilization\": 0.8,\n",
        "    \"dtype\": torch.bfloat16,\n",
        "    \"quantization\": \"bitsandbytes\",\n",
        "    \"load_format\": \"bitsandbytes\"\n",
        "}\n",
        "\n",
        "vllm_latencies = defaultdict(list)\n",
        "for specualtion_size in range(1, 20):\n",
        "    print(f\"Testing with {specualtion_size} speculative tokens\")\n",
        "    llm = LLM(num_speculative_tokens=specualtion_size, **vllm_args)\n",
        "    speculative_latencies = []\n",
        "    for example in tqdm(inputs):\n",
        "        input_ids = tokenizer(example, padding=False)\n",
        "        start = time.time()\n",
        "        outputs = llm.generate(input_ids, sampling_params=sampling_params)\n",
        "        latency = time.time() - start\n",
        "        speculative_latencies.append(latency)\n",
        "    vllm_latencies[specualtion_size] = speculative_latencies\n",
        "    del llm\n",
        "    torch.cuda.empty_cache()\n",
        "    gc.collect()"
      ]
    },
    {
      "cell_type": "code",
      "execution_count": 35,
      "metadata": {},
      "outputs": [
        {
          "data": {
            "text/plain": [
              "<BarContainer object of 19 artists>"
            ]
          },
          "execution_count": 35,
          "metadata": {},
          "output_type": "execute_result"
        },
        {
          "data": {
            "image/png": "[encoded data removed]",
            "text/plain": [
              "<Figure size 1000x600 with 1 Axes>"
            ]
          },
          "metadata": {},
          "output_type": "display_data"
        }
      ],
      "source": [
        "import pandas as pd\n",
        "import numpy as np\n",
        "import matplotlib.pyplot as plt\n",
        "\n",
        "sample_latencies_mean = np.mean(sample_latencies)\n",
        "vllm_latencies_df = pd.DataFrame(vllm_latencies)\n",
        "improvements = vllm_latencies_df.mean(axis=0) / sample_latencies_mean\n",
        "\n",
        "plt.figure(figsize=(10, 6))\n",
        "plt.ylabel(\"Runtime (% of Sampling)\")\n",
        "plt.xlabel(\"Number of Speculative Tokens\")\n",
        "plt.xticks(vllm_latencies_df.columns)\n",
        "plt.bar(vllm_latencies_df.columns, improvements * 100)\n",
        "\n"
      ]
    }
  ],
  "metadata": {
    "accelerator": "GPU",
    "colab": {
      "gpuType": "T4",
      "provenance": []
    },
    "kernelspec": {
      "display_name": "Python 3",
      "name": "python3"
    },
    "language_info": {
      "codemirror_mode": {
        "name": "ipython",
        "version": 3
      },
      "file_extension": ".py",
      "mimetype": "text/x-python",
      "name": "python",
      "nbconvert_exporter": "python",
      "pygments_lexer": "ipython3",
      "version": "3.11.9"
    },
    "widgets": {
      "application/vnd.jupyter.widget-state+json": {
        "00f7280b44564079b83fa5ead6583465": {
          "model_module": "@jupyter-widgets/controls",
          "model_module_version": "1.5.0",
          "model_name": "DescriptionStyleModel",
          "state": {
            "_model_module": "@jupyter-widgets/controls",
            "_model_module_version": "1.5.0",
            "_model_name": "DescriptionStyleModel",
            "_view_count": null,
            "_view_module": "@jupyter-widgets/base",
            "_view_module_version": "1.2.0",
            "_view_name": "StyleView",
            "description_width": ""
          }
        },
        "08568f38c8ef47e5835485134e6a4392": {
          "model_module": "@jupyter-widgets/base",
          "model_module_version": "1.2.0",
          "model_name": "LayoutModel",
          "state": {
            "_model_module": "@jupyter-widgets/base",
            "_model_module_version": "1.2.0",
            "_model_name": "LayoutModel",
            "_view_count": null,
            "_view_module": "@jupyter-widgets/base",
            "_view_module_version": "1.2.0",
            "_view_name": "LayoutView",
            "align_content": null,
            "align_items": null,
            "align_self": null,
            "border": null,
            "bottom": null,
            "display": null,
            "flex": null,
            "flex_flow": null,
            "grid_area": null,
            "grid_auto_columns": null,
            "grid_auto_flow": null,
            "grid_auto_rows": null,
            "grid_column": null,
            "grid_gap": null,
            "grid_row": null,
            "grid_template_areas": null,
            "grid_template_columns": null,
            "grid_template_rows": null,
            "height": null,
            "justify_content": null,
            "justify_items": null,
            "left": null,
            "margin": null,
            "max_height": null,
            "max_width": null,
            "min_height": null,
            "min_width": null,
            "object_fit": null,
            "object_position": null,
            "order": null,
            "overflow": null,
            "overflow_x": null,
            "overflow_y": null,
            "padding": null,
            "right": null,
            "top": null,
            "visibility": null,
            "width": null
          }
        },
        "0d5308cac10b495cb89128f4585a0e7e": {
          "model_module": "@jupyter-widgets/base",
          "model_module_version": "1.2.0",
          "model_name": "LayoutModel",
          "state": {
            "_model_module": "@jupyter-widgets/base",
            "_model_module_version": "1.2.0",
            "_model_name": "LayoutModel",
            "_view_count": null,
            "_view_module": "@jupyter-widgets/base",
            "_view_module_version": "1.2.0",
            "_view_name": "LayoutView",
            "align_content": null,
            "align_items": null,
            "align_self": null,
            "border": null,
            "bottom": null,
            "display": null,
            "flex": null,
            "flex_flow": null,
            "grid_area": null,
            "grid_auto_columns": null,
            "grid_auto_flow": null,
            "grid_auto_rows": null,
            "grid_column": null,
            "grid_gap": null,
            "grid_row": null,
            "grid_template_areas": null,
            "grid_template_columns": null,
            "grid_template_rows": null,
            "height": null,
            "justify_content": null,
            "justify_items": null,
            "left": null,
            "margin": null,
            "max_height": null,
            "max_width": null,
            "min_height": null,
            "min_width": null,
            "object_fit": null,
            "object_position": null,
            "order": null,
            "overflow": null,
            "overflow_x": null,
            "overflow_y": null,
            "padding": null,
            "right": null,
            "top": null,
            "visibility": null,
            "width": null
          }
        },
        "0d7f76e4a8aa4f81b144a4bea28dedd8": {
          "model_module": "@jupyter-widgets/controls",
          "model_module_version": "1.5.0",
          "model_name": "HTMLModel",
          "state": {
            "_dom_classes": [],
            "_model_module": "@jupyter-widgets/controls",
            "_model_module_version": "1.5.0",
            "_model_name": "HTMLModel",
            "_view_count": null,
            "_view_module": "@jupyter-widgets/controls",
            "_view_module_version": "1.5.0",
            "_view_name": "HTMLView",
            "description": "",
            "description_tooltip": null,
            "layout": "IPY_MODEL_c9bd47d82f1843e181ae1bdbe94bac43",
            "placeholder": "​",
            "style": "IPY_MODEL_cd301117ec7a4e889164c40d430a8bc4",
            "value": ""
          }
        },
        "0df80053fdea49dfad7291645a40dcee": {
          "model_module": "@jupyter-widgets/controls",
          "model_module_version": "1.5.0",
          "model_name": "FloatProgressModel",
          "state": {
            "_dom_classes": [],
            "_model_module": "@jupyter-widgets/controls",
            "_model_module_version": "1.5.0",
            "_model_name": "FloatProgressModel",
            "_view_count": null,
            "_view_module": "@jupyter-widgets/controls",
            "_view_module_version": "1.5.0",
            "_view_name": "ProgressView",
            "bar_style": "success",
            "description": "",
            "description_tooltip": null,
            "layout": "IPY_MODEL_c8cadd9e0f054c409bd2ece4a0230fda",
            "max": 1513,
            "min": 0,
            "orientation": "horizontal",
            "style": "IPY_MODEL_82e19bcc64524fd187e9b984ad64795d",
            "value": 1513
          }
        },
        "16e702d8138a4c3f9cef0ff46a660e70": {
          "model_module": "@jupyter-widgets/controls",
          "model_module_version": "1.5.0",
          "model_name": "DescriptionStyleModel",
          "state": {
            "_model_module": "@jupyter-widgets/controls",
            "_model_module_version": "1.5.0",
            "_model_name": "DescriptionStyleModel",
            "_view_count": null,
            "_view_module": "@jupyter-widgets/base",
            "_view_module_version": "1.2.0",
            "_view_name": "StyleView",
            "description_width": ""
          }
        },
        "1d02663a567b46d1ba20122e4b7361dd": {
          "model_module": "@jupyter-widgets/controls",
          "model_module_version": "1.5.0",
          "model_name": "HBoxModel",
          "state": {
            "_dom_classes": [],
            "_model_module": "@jupyter-widgets/controls",
            "_model_module_version": "1.5.0",
            "_model_name": "HBoxModel",
            "_view_count": null,
            "_view_module": "@jupyter-widgets/controls",
            "_view_module_version": "1.5.0",
            "_view_name": "HBoxView",
            "box_style": "",
            "children": [
              "IPY_MODEL_7e08b44dfe5347f99eb485c755ce178a",
              "IPY_MODEL_b49abfc1e0b7445b8b5cbbf2eb885e18",
              "IPY_MODEL_943c96cc125c409787d49267db24171d"
            ],
            "layout": "IPY_MODEL_ffa61e2b39d54fd69882620bddd7caab"
          }
        },
        "1d5074c189d047849c7b9c799bfb7094": {
          "model_module": "@jupyter-widgets/base",
          "model_module_version": "1.2.0",
          "model_name": "LayoutModel",
          "state": {
            "_model_module": "@jupyter-widgets/base",
            "_model_module_version": "1.2.0",
            "_model_name": "LayoutModel",
            "_view_count": null,
            "_view_module": "@jupyter-widgets/base",
            "_view_module_version": "1.2.0",
            "_view_name": "LayoutView",
            "align_content": null,
            "align_items": null,
            "align_self": null,
            "border": null,
            "bottom": null,
            "display": null,
            "flex": null,
            "flex_flow": null,
            "grid_area": null,
            "grid_auto_columns": null,
            "grid_auto_flow": null,
            "grid_auto_rows": null,
            "grid_column": null,
            "grid_gap": null,
            "grid_row": null,
            "grid_template_areas": null,
            "grid_template_columns": null,
            "grid_template_rows": null,
            "height": null,
            "justify_content": null,
            "justify_items": null,
            "left": null,
            "margin": null,
            "max_height": null,
            "max_width": null,
            "min_height": null,
            "min_width": null,
            "object_fit": null,
            "object_position": null,
            "order": null,
            "overflow": null,
            "overflow_x": null,
            "overflow_y": null,
            "padding": null,
            "right": null,
            "top": null,
            "visibility": null,
            "width": null
          }
        },
        "218c79d36ac4445cb67d658f2995025e": {
          "model_module": "@jupyter-widgets/controls",
          "model_module_version": "1.5.0",
          "model_name": "HTMLModel",
          "state": {
            "_dom_classes": [],
            "_model_module": "@jupyter-widgets/controls",
            "_model_module_version": "1.5.0",
            "_model_name": "HTMLModel",
            "_view_count": null,
            "_view_module": "@jupyter-widgets/controls",
            "_view_module_version": "1.5.0",
            "_view_name": "HTMLView",
            "description": "",
            "description_tooltip": null,
            "layout": "IPY_MODEL_35ee8f38ee924e8fa2915312fcb970be",
            "placeholder": "​",
            "style": "IPY_MODEL_e673d6e178c448ce96e721dbc9a590f7",
            "value": "README.md: 100%"
          }
        },
        "2b6ffd4d1974415289fbb0551dc71675": {
          "model_module": "@jupyter-widgets/controls",
          "model_module_version": "1.5.0",
          "model_name": "HBoxModel",
          "state": {
            "_dom_classes": [],
            "_model_module": "@jupyter-widgets/controls",
            "_model_module_version": "1.5.0",
            "_model_name": "HBoxModel",
            "_view_count": null,
            "_view_module": "@jupyter-widgets/controls",
            "_view_module_version": "1.5.0",
            "_view_name": "HBoxView",
            "box_style": "",
            "children": [
              "IPY_MODEL_60016a623f2e45449cf5d83245e38f9b",
              "IPY_MODEL_85eb16f1852f42d4bdd0834253404730",
              "IPY_MODEL_7343700b0586457fa3c371d87de7a143"
            ],
            "layout": "IPY_MODEL_5cdcbc945a174c4c889092fe5f0b9418"
          }
        },
        "30a17ee900134a2cb628708d88f47383": {
          "model_module": "@jupyter-widgets/controls",
          "model_module_version": "1.5.0",
          "model_name": "DescriptionStyleModel",
          "state": {
            "_model_module": "@jupyter-widgets/controls",
            "_model_module_version": "1.5.0",
            "_model_name": "DescriptionStyleModel",
            "_view_count": null,
            "_view_module": "@jupyter-widgets/base",
            "_view_module_version": "1.2.0",
            "_view_name": "StyleView",
            "description_width": ""
          }
        },
        "30da41545b9147af95cb633ffd0ac949": {
          "model_module": "@jupyter-widgets/controls",
          "model_module_version": "1.5.0",
          "model_name": "HTMLModel",
          "state": {
            "_dom_classes": [],
            "_model_module": "@jupyter-widgets/controls",
            "_model_module_version": "1.5.0",
            "_model_name": "HTMLModel",
            "_view_count": null,
            "_view_module": "@jupyter-widgets/controls",
            "_view_module_version": "1.5.0",
            "_view_name": "HTMLView",
            "description": "",
            "description_tooltip": null,
            "layout": "IPY_MODEL_86ad3b736ea84cef88974bf531859fec",
            "placeholder": "​",
            "style": "IPY_MODEL_30a17ee900134a2cb628708d88f47383",
            "value": "gsmhardv2.jsonl: 100%"
          }
        },
        "32001f5ab9bf4b87b2b523c259079032": {
          "model_module": "@jupyter-widgets/controls",
          "model_module_version": "1.5.0",
          "model_name": "ProgressStyleModel",
          "state": {
            "_model_module": "@jupyter-widgets/controls",
            "_model_module_version": "1.5.0",
            "_model_name": "ProgressStyleModel",
            "_view_count": null,
            "_view_module": "@jupyter-widgets/base",
            "_view_module_version": "1.2.0",
            "_view_name": "StyleView",
            "bar_color": null,
            "description_width": ""
          }
        },
        "35ee8f38ee924e8fa2915312fcb970be": {
          "model_module": "@jupyter-widgets/base",
          "model_module_version": "1.2.0",
          "model_name": "LayoutModel",
          "state": {
            "_model_module": "@jupyter-widgets/base",
            "_model_module_version": "1.2.0",
            "_model_name": "LayoutModel",
            "_view_count": null,
            "_view_module": "@jupyter-widgets/base",
            "_view_module_version": "1.2.0",
            "_view_name": "LayoutView",
            "align_content": null,
            "align_items": null,
            "align_self": null,
            "border": null,
            "bottom": null,
            "display": null,
            "flex": null,
            "flex_flow": null,
            "grid_area": null,
            "grid_auto_columns": null,
            "grid_auto_flow": null,
            "grid_auto_rows": null,
            "grid_column": null,
            "grid_gap": null,
            "grid_row": null,
            "grid_template_areas": null,
            "grid_template_columns": null,
            "grid_template_rows": null,
            "height": null,
            "justify_content": null,
            "justify_items": null,
            "left": null,
            "margin": null,
            "max_height": null,
            "max_width": null,
            "min_height": null,
            "min_width": null,
            "object_fit": null,
            "object_position": null,
            "order": null,
            "overflow": null,
            "overflow_x": null,
            "overflow_y": null,
            "padding": null,
            "right": null,
            "top": null,
            "visibility": null,
            "width": null
          }
        },
        "363b371217de4a029a5b6833e8a89802": {
          "model_module": "@jupyter-widgets/base",
          "model_module_version": "1.2.0",
          "model_name": "LayoutModel",
          "state": {
            "_model_module": "@jupyter-widgets/base",
            "_model_module_version": "1.2.0",
            "_model_name": "LayoutModel",
            "_view_count": null,
            "_view_module": "@jupyter-widgets/base",
            "_view_module_version": "1.2.0",
            "_view_name": "LayoutView",
            "align_content": null,
            "align_items": null,
            "align_self": null,
            "border": null,
            "bottom": null,
            "display": null,
            "flex": null,
            "flex_flow": null,
            "grid_area": null,
            "grid_auto_columns": null,
            "grid_auto_flow": null,
            "grid_auto_rows": null,
            "grid_column": null,
            "grid_gap": null,
            "grid_row": null,
            "grid_template_areas": null,
            "grid_template_columns": null,
            "grid_template_rows": null,
            "height": null,
            "justify_content": null,
            "justify_items": null,
            "left": null,
            "margin": null,
            "max_height": null,
            "max_width": null,
            "min_height": null,
            "min_width": null,
            "object_fit": null,
            "object_position": null,
            "order": null,
            "overflow": null,
            "overflow_x": null,
            "overflow_y": null,
            "padding": null,
            "right": null,
            "top": null,
            "visibility": null,
            "width": null
          }
        },
        "3687005dbc744011a303cdd539d67b2b": {
          "model_module": "@jupyter-widgets/controls",
          "model_module_version": "1.5.0",
          "model_name": "HTMLModel",
          "state": {
            "_dom_classes": [],
            "_model_module": "@jupyter-widgets/controls",
            "_model_module_version": "1.5.0",
            "_model_name": "HTMLModel",
            "_view_count": null,
            "_view_module": "@jupyter-widgets/controls",
            "_view_module_version": "1.5.0",
            "_view_name": "HTMLView",
            "description": "",
            "description_tooltip": null,
            "layout": "IPY_MODEL_dfd749a03c7e4fb2ac1b0f098e0b9224",
            "placeholder": "​",
            "style": "IPY_MODEL_16e702d8138a4c3f9cef0ff46a660e70",
            "value": " 1.14M/1.14M [00:00&lt;00:00, 5.93MB/s]"
          }
        },
        "391329a2130747f7a30de23453c02b51": {
          "model_module": "@jupyter-widgets/controls",
          "model_module_version": "1.5.0",
          "model_name": "DescriptionStyleModel",
          "state": {
            "_model_module": "@jupyter-widgets/controls",
            "_model_module_version": "1.5.0",
            "_model_name": "DescriptionStyleModel",
            "_view_count": null,
            "_view_module": "@jupyter-widgets/base",
            "_view_module_version": "1.2.0",
            "_view_name": "StyleView",
            "description_width": ""
          }
        },
        "39dccadb3c3348efb687adb2ca298871": {
          "model_module": "@jupyter-widgets/controls",
          "model_module_version": "1.5.0",
          "model_name": "HTMLModel",
          "state": {
            "_dom_classes": [],
            "_model_module": "@jupyter-widgets/controls",
            "_model_module_version": "1.5.0",
            "_model_name": "HTMLModel",
            "_view_count": null,
            "_view_module": "@jupyter-widgets/controls",
            "_view_module_version": "1.5.0",
            "_view_name": "HTMLView",
            "description": "",
            "description_tooltip": null,
            "layout": "IPY_MODEL_3e0cd2ae9b814250bd5d5f6811fdc29a",
            "placeholder": "​",
            "style": "IPY_MODEL_e8410a6f3c174dd789fbb9eebcd6703f",
            "value": ""
          }
        },
        "3b63dd28cf4548e3a2735efeab20b3f7": {
          "model_module": "@jupyter-widgets/controls",
          "model_module_version": "1.5.0",
          "model_name": "ProgressStyleModel",
          "state": {
            "_model_module": "@jupyter-widgets/controls",
            "_model_module_version": "1.5.0",
            "_model_name": "ProgressStyleModel",
            "_view_count": null,
            "_view_module": "@jupyter-widgets/base",
            "_view_module_version": "1.2.0",
            "_view_name": "StyleView",
            "bar_color": null,
            "description_width": ""
          }
        },
        "3d6cd2f9c28047289b9a8ce1410a8bdc": {
          "model_module": "@jupyter-widgets/base",
          "model_module_version": "1.2.0",
          "model_name": "LayoutModel",
          "state": {
            "_model_module": "@jupyter-widgets/base",
            "_model_module_version": "1.2.0",
            "_model_name": "LayoutModel",
            "_view_count": null,
            "_view_module": "@jupyter-widgets/base",
            "_view_module_version": "1.2.0",
            "_view_name": "LayoutView",
            "align_content": null,
            "align_items": null,
            "align_self": null,
            "border": null,
            "bottom": null,
            "display": null,
            "flex": null,
            "flex_flow": null,
            "grid_area": null,
            "grid_auto_columns": null,
            "grid_auto_flow": null,
            "grid_auto_rows": null,
            "grid_column": null,
            "grid_gap": null,
            "grid_row": null,
            "grid_template_areas": null,
            "grid_template_columns": null,
            "grid_template_rows": null,
            "height": null,
            "justify_content": null,
            "justify_items": null,
            "left": null,
            "margin": null,
            "max_height": null,
            "max_width": null,
            "min_height": null,
            "min_width": null,
            "object_fit": null,
            "object_position": null,
            "order": null,
            "overflow": null,
            "overflow_x": null,
            "overflow_y": null,
            "padding": null,
            "right": null,
            "top": null,
            "visibility": null,
            "width": null
          }
        },
        "3e0cd2ae9b814250bd5d5f6811fdc29a": {
          "model_module": "@jupyter-widgets/base",
          "model_module_version": "1.2.0",
          "model_name": "LayoutModel",
          "state": {
            "_model_module": "@jupyter-widgets/base",
            "_model_module_version": "1.2.0",
            "_model_name": "LayoutModel",
            "_view_count": null,
            "_view_module": "@jupyter-widgets/base",
            "_view_module_version": "1.2.0",
            "_view_name": "LayoutView",
            "align_content": null,
            "align_items": null,
            "align_self": null,
            "border": null,
            "bottom": null,
            "display": null,
            "flex": null,
            "flex_flow": null,
            "grid_area": null,
            "grid_auto_columns": null,
            "grid_auto_flow": null,
            "grid_auto_rows": null,
            "grid_column": null,
            "grid_gap": null,
            "grid_row": null,
            "grid_template_areas": null,
            "grid_template_columns": null,
            "grid_template_rows": null,
            "height": null,
            "justify_content": null,
            "justify_items": null,
            "left": null,
            "margin": null,
            "max_height": null,
            "max_width": null,
            "min_height": null,
            "min_width": null,
            "object_fit": null,
            "object_position": null,
            "order": null,
            "overflow": null,
            "overflow_x": null,
            "overflow_y": null,
            "padding": null,
            "right": null,
            "top": null,
            "visibility": null,
            "width": null
          }
        },
        "489c67ddbfc34058a315d3a2d942075c": {
          "model_module": "@jupyter-widgets/controls",
          "model_module_version": "1.5.0",
          "model_name": "HBoxModel",
          "state": {
            "_dom_classes": [],
            "_model_module": "@jupyter-widgets/controls",
            "_model_module_version": "1.5.0",
            "_model_name": "HBoxModel",
            "_view_count": null,
            "_view_module": "@jupyter-widgets/controls",
            "_view_module_version": "1.5.0",
            "_view_name": "HBoxView",
            "box_style": "",
            "children": [
              "IPY_MODEL_218c79d36ac4445cb67d658f2995025e",
              "IPY_MODEL_0df80053fdea49dfad7291645a40dcee",
              "IPY_MODEL_a4392fd858d2439fbf56f0750b53d9e6"
            ],
            "layout": "IPY_MODEL_0d5308cac10b495cb89128f4585a0e7e"
          }
        },
        "4d6fc384f0804cba896b283c45ff48c6": {
          "model_module": "@jupyter-widgets/controls",
          "model_module_version": "1.5.0",
          "model_name": "FloatProgressModel",
          "state": {
            "_dom_classes": [],
            "_model_module": "@jupyter-widgets/controls",
            "_model_module_version": "1.5.0",
            "_model_name": "FloatProgressModel",
            "_view_count": null,
            "_view_module": "@jupyter-widgets/controls",
            "_view_module_version": "1.5.0",
            "_view_name": "ProgressView",
            "bar_style": "success",
            "description": "",
            "description_tooltip": null,
            "layout": "IPY_MODEL_fc8a884501cc44d3b819cb5eb778333e",
            "max": 1319,
            "min": 0,
            "orientation": "horizontal",
            "style": "IPY_MODEL_ed77b2fcfdda4496b1bf45c98808b9b9",
            "value": 1319
          }
        },
        "4f1135c99d5a4e809e19374d54e03ab5": {
          "model_module": "@jupyter-widgets/controls",
          "model_module_version": "1.5.0",
          "model_name": "HBoxModel",
          "state": {
            "_dom_classes": [],
            "_model_module": "@jupyter-widgets/controls",
            "_model_module_version": "1.5.0",
            "_model_name": "HBoxModel",
            "_view_count": null,
            "_view_module": "@jupyter-widgets/controls",
            "_view_module_version": "1.5.0",
            "_view_name": "HBoxView",
            "box_style": "",
            "children": [
              "IPY_MODEL_30da41545b9147af95cb633ffd0ac949",
              "IPY_MODEL_bdbbcb7f26a74a89b0c1c7e9b53db0c8",
              "IPY_MODEL_3687005dbc744011a303cdd539d67b2b"
            ],
            "layout": "IPY_MODEL_08568f38c8ef47e5835485134e6a4392"
          }
        },
        "5b1a870f181e4efd90e9e02393037e3e": {
          "model_module": "@jupyter-widgets/controls",
          "model_module_version": "1.5.0",
          "model_name": "HTMLModel",
          "state": {
            "_dom_classes": [],
            "_model_module": "@jupyter-widgets/controls",
            "_model_module_version": "1.5.0",
            "_model_name": "HTMLModel",
            "_view_count": null,
            "_view_module": "@jupyter-widgets/controls",
            "_view_module_version": "1.5.0",
            "_view_name": "HTMLView",
            "description": "",
            "description_tooltip": null,
            "layout": "IPY_MODEL_dba22813182d4d5b8ad17ead96a0efc8",
            "placeholder": "​",
            "style": "IPY_MODEL_8972e91a10f04dc19ed8ecdadef64999",
            "value": "Loading safetensors checkpoint shards: 100% Completed | 1/1 [00:01&lt;00:00,  1.12s/it]\n"
          }
        },
        "5c92c8f6447c4ef19a6f33825c4238ae": {
          "model_module": "@jupyter-widgets/controls",
          "model_module_version": "1.5.0",
          "model_name": "HTMLModel",
          "state": {
            "_dom_classes": [],
            "_model_module": "@jupyter-widgets/controls",
            "_model_module_version": "1.5.0",
            "_model_name": "HTMLModel",
            "_view_count": null,
            "_view_module": "@jupyter-widgets/controls",
            "_view_module_version": "1.5.0",
            "_view_name": "HTMLView",
            "description": "",
            "description_tooltip": null,
            "layout": "IPY_MODEL_dce9fa7b65b649a494a4ced72c92b271",
            "placeholder": "​",
            "style": "IPY_MODEL_6ff70e04799c4f73a52474e183fa8fa2",
            "value": ""
          }
        },
        "5cdcbc945a174c4c889092fe5f0b9418": {
          "model_module": "@jupyter-widgets/base",
          "model_module_version": "1.2.0",
          "model_name": "LayoutModel",
          "state": {
            "_model_module": "@jupyter-widgets/base",
            "_model_module_version": "1.2.0",
            "_model_name": "LayoutModel",
            "_view_count": null,
            "_view_module": "@jupyter-widgets/base",
            "_view_module_version": "1.2.0",
            "_view_name": "LayoutView",
            "align_content": null,
            "align_items": null,
            "align_self": null,
            "border": null,
            "bottom": null,
            "display": null,
            "flex": null,
            "flex_flow": null,
            "grid_area": null,
            "grid_auto_columns": null,
            "grid_auto_flow": null,
            "grid_auto_rows": null,
            "grid_column": null,
            "grid_gap": null,
            "grid_row": null,
            "grid_template_areas": null,
            "grid_template_columns": null,
            "grid_template_rows": null,
            "height": null,
            "justify_content": null,
            "justify_items": null,
            "left": null,
            "margin": null,
            "max_height": null,
            "max_width": null,
            "min_height": null,
            "min_width": null,
            "object_fit": null,
            "object_position": null,
            "order": null,
            "overflow": null,
            "overflow_x": null,
            "overflow_y": null,
            "padding": null,
            "right": null,
            "top": null,
            "visibility": null,
            "width": null
          }
        },
        "5df0d9a984fc4d4fa33fe32eeeb59a94": {
          "model_module": "@jupyter-widgets/controls",
          "model_module_version": "1.5.0",
          "model_name": "HBoxModel",
          "state": {
            "_dom_classes": [],
            "_model_module": "@jupyter-widgets/controls",
            "_model_module_version": "1.5.0",
            "_model_name": "HBoxModel",
            "_view_count": null,
            "_view_module": "@jupyter-widgets/controls",
            "_view_module_version": "1.5.0",
            "_view_name": "HBoxView",
            "box_style": "",
            "children": [
              "IPY_MODEL_0d7f76e4a8aa4f81b144a4bea28dedd8",
              "IPY_MODEL_c79f1d3cb551498493cc3f1e1e1aad35",
              "IPY_MODEL_bafab255956c4d75b357edca040b79e0"
            ],
            "layout": "IPY_MODEL_bd826ab0c689428297b8c3e69b61b0b9"
          }
        },
        "60016a623f2e45449cf5d83245e38f9b": {
          "model_module": "@jupyter-widgets/controls",
          "model_module_version": "1.5.0",
          "model_name": "HTMLModel",
          "state": {
            "_dom_classes": [],
            "_model_module": "@jupyter-widgets/controls",
            "_model_module_version": "1.5.0",
            "_model_name": "HTMLModel",
            "_view_count": null,
            "_view_module": "@jupyter-widgets/controls",
            "_view_module_version": "1.5.0",
            "_view_name": "HTMLView",
            "description": "",
            "description_tooltip": null,
            "layout": "IPY_MODEL_ceda62169f1943bf824278fe9c814fe9",
            "placeholder": "​",
            "style": "IPY_MODEL_391329a2130747f7a30de23453c02b51",
            "value": "100%"
          }
        },
        "69fe53c5e51544c09086349b574eb92e": {
          "model_module": "@jupyter-widgets/controls",
          "model_module_version": "1.5.0",
          "model_name": "HTMLModel",
          "state": {
            "_dom_classes": [],
            "_model_module": "@jupyter-widgets/controls",
            "_model_module_version": "1.5.0",
            "_model_name": "HTMLModel",
            "_view_count": null,
            "_view_module": "@jupyter-widgets/controls",
            "_view_module_version": "1.5.0",
            "_view_name": "HTMLView",
            "description": "",
            "description_tooltip": null,
            "layout": "IPY_MODEL_c02f9e7f43444910adc56ee9d78ebb89",
            "placeholder": "​",
            "style": "IPY_MODEL_00f7280b44564079b83fa5ead6583465",
            "value": " 1319/1319 [00:00&lt;00:00, 12082.53 examples/s]"
          }
        },
        "6f34b8af71a74278a1d24487466801d5": {
          "model_module": "@jupyter-widgets/controls",
          "model_module_version": "1.5.0",
          "model_name": "FloatProgressModel",
          "state": {
            "_dom_classes": [],
            "_model_module": "@jupyter-widgets/controls",
            "_model_module_version": "1.5.0",
            "_model_name": "FloatProgressModel",
            "_view_count": null,
            "_view_module": "@jupyter-widgets/controls",
            "_view_module_version": "1.5.0",
            "_view_name": "ProgressView",
            "bar_style": "success",
            "description": "",
            "description_tooltip": null,
            "layout": "IPY_MODEL_f3109e0621174d86bff2c85035d1b539",
            "max": 1,
            "min": 0,
            "orientation": "horizontal",
            "style": "IPY_MODEL_e1643cb32292492995c9bf793dd6a4fe",
            "value": 1
          }
        },
        "6ff70e04799c4f73a52474e183fa8fa2": {
          "model_module": "@jupyter-widgets/controls",
          "model_module_version": "1.5.0",
          "model_name": "DescriptionStyleModel",
          "state": {
            "_model_module": "@jupyter-widgets/controls",
            "_model_module_version": "1.5.0",
            "_model_name": "DescriptionStyleModel",
            "_view_count": null,
            "_view_module": "@jupyter-widgets/base",
            "_view_module_version": "1.2.0",
            "_view_name": "StyleView",
            "description_width": ""
          }
        },
        "71e0a4992eba420a9fc96e07142b807e": {
          "model_module": "@jupyter-widgets/controls",
          "model_module_version": "1.5.0",
          "model_name": "DescriptionStyleModel",
          "state": {
            "_model_module": "@jupyter-widgets/controls",
            "_model_module_version": "1.5.0",
            "_model_name": "DescriptionStyleModel",
            "_view_count": null,
            "_view_module": "@jupyter-widgets/base",
            "_view_module_version": "1.2.0",
            "_view_name": "StyleView",
            "description_width": ""
          }
        },
        "7295873850234ea3aa570d22ec1329bc": {
          "model_module": "@jupyter-widgets/controls",
          "model_module_version": "1.5.0",
          "model_name": "HTMLModel",
          "state": {
            "_dom_classes": [],
            "_model_module": "@jupyter-widgets/controls",
            "_model_module_version": "1.5.0",
            "_model_name": "HTMLModel",
            "_view_count": null,
            "_view_module": "@jupyter-widgets/controls",
            "_view_module_version": "1.5.0",
            "_view_name": "HTMLView",
            "description": "",
            "description_tooltip": null,
            "layout": "IPY_MODEL_9614ededef8947a58c18931c1d707e62",
            "placeholder": "​",
            "style": "IPY_MODEL_ef48a4a457424bb482fa82d7cbb280fe",
            "value": "Generating train split: 100%"
          }
        },
        "7343700b0586457fa3c371d87de7a143": {
          "model_module": "@jupyter-widgets/controls",
          "model_module_version": "1.5.0",
          "model_name": "HTMLModel",
          "state": {
            "_dom_classes": [],
            "_model_module": "@jupyter-widgets/controls",
            "_model_module_version": "1.5.0",
            "_model_name": "HTMLModel",
            "_view_count": null,
            "_view_module": "@jupyter-widgets/controls",
            "_view_module_version": "1.5.0",
            "_view_name": "HTMLView",
            "description": "",
            "description_tooltip": null,
            "layout": "IPY_MODEL_3d6cd2f9c28047289b9a8ce1410a8bdc",
            "placeholder": "​",
            "style": "IPY_MODEL_d3f3b334b12440b68d8a739bf54f8111",
            "value": " 10/10 [00:41&lt;00:00,  4.21s/it]"
          }
        },
        "7e08b44dfe5347f99eb485c755ce178a": {
          "model_module": "@jupyter-widgets/controls",
          "model_module_version": "1.5.0",
          "model_name": "HTMLModel",
          "state": {
            "_dom_classes": [],
            "_model_module": "@jupyter-widgets/controls",
            "_model_module_version": "1.5.0",
            "_model_name": "HTMLModel",
            "_view_count": null,
            "_view_module": "@jupyter-widgets/controls",
            "_view_module_version": "1.5.0",
            "_view_name": "HTMLView",
            "description": "",
            "description_tooltip": null,
            "layout": "IPY_MODEL_e7d1922e060c4764832d35b13bb5ec61",
            "placeholder": "​",
            "style": "IPY_MODEL_b9ffa917e77447dd865aac2aa772d63c",
            "value": ""
          }
        },
        "7f6dbb40b0c948bfb219191167416c6e": {
          "model_module": "@jupyter-widgets/base",
          "model_module_version": "1.2.0",
          "model_name": "LayoutModel",
          "state": {
            "_model_module": "@jupyter-widgets/base",
            "_model_module_version": "1.2.0",
            "_model_name": "LayoutModel",
            "_view_count": null,
            "_view_module": "@jupyter-widgets/base",
            "_view_module_version": "1.2.0",
            "_view_name": "LayoutView",
            "align_content": null,
            "align_items": null,
            "align_self": null,
            "border": null,
            "bottom": null,
            "display": null,
            "flex": null,
            "flex_flow": null,
            "grid_area": null,
            "grid_auto_columns": null,
            "grid_auto_flow": null,
            "grid_auto_rows": null,
            "grid_column": null,
            "grid_gap": null,
            "grid_row": null,
            "grid_template_areas": null,
            "grid_template_columns": null,
            "grid_template_rows": null,
            "height": null,
            "justify_content": null,
            "justify_items": null,
            "left": null,
            "margin": null,
            "max_height": null,
            "max_width": null,
            "min_height": null,
            "min_width": null,
            "object_fit": null,
            "object_position": null,
            "order": null,
            "overflow": null,
            "overflow_x": null,
            "overflow_y": null,
            "padding": null,
            "right": null,
            "top": null,
            "visibility": null,
            "width": null
          }
        },
        "81ef2be8420c431a859d84ff99843281": {
          "model_module": "@jupyter-widgets/base",
          "model_module_version": "1.2.0",
          "model_name": "LayoutModel",
          "state": {
            "_model_module": "@jupyter-widgets/base",
            "_model_module_version": "1.2.0",
            "_model_name": "LayoutModel",
            "_view_count": null,
            "_view_module": "@jupyter-widgets/base",
            "_view_module_version": "1.2.0",
            "_view_name": "LayoutView",
            "align_content": null,
            "align_items": null,
            "align_self": null,
            "border": null,
            "bottom": null,
            "display": null,
            "flex": null,
            "flex_flow": null,
            "grid_area": null,
            "grid_auto_columns": null,
            "grid_auto_flow": null,
            "grid_auto_rows": null,
            "grid_column": null,
            "grid_gap": null,
            "grid_row": null,
            "grid_template_areas": null,
            "grid_template_columns": null,
            "grid_template_rows": null,
            "height": null,
            "justify_content": null,
            "justify_items": null,
            "left": null,
            "margin": null,
            "max_height": null,
            "max_width": null,
            "min_height": null,
            "min_width": null,
            "object_fit": null,
            "object_position": null,
            "order": null,
            "overflow": null,
            "overflow_x": null,
            "overflow_y": null,
            "padding": null,
            "right": null,
            "top": null,
            "visibility": null,
            "width": null
          }
        },
        "82ba586017d24bfe9747e39fda17490e": {
          "model_module": "@jupyter-widgets/controls",
          "model_module_version": "1.5.0",
          "model_name": "ProgressStyleModel",
          "state": {
            "_model_module": "@jupyter-widgets/controls",
            "_model_module_version": "1.5.0",
            "_model_name": "ProgressStyleModel",
            "_view_count": null,
            "_view_module": "@jupyter-widgets/base",
            "_view_module_version": "1.2.0",
            "_view_name": "StyleView",
            "bar_color": null,
            "description_width": ""
          }
        },
        "82e19bcc64524fd187e9b984ad64795d": {
          "model_module": "@jupyter-widgets/controls",
          "model_module_version": "1.5.0",
          "model_name": "ProgressStyleModel",
          "state": {
            "_model_module": "@jupyter-widgets/controls",
            "_model_module_version": "1.5.0",
            "_model_name": "ProgressStyleModel",
            "_view_count": null,
            "_view_module": "@jupyter-widgets/base",
            "_view_module_version": "1.2.0",
            "_view_name": "StyleView",
            "bar_color": null,
            "description_width": ""
          }
        },
        "84b5688773d940a68fe4373a3ce0e371": {
          "model_module": "@jupyter-widgets/base",
          "model_module_version": "1.2.0",
          "model_name": "LayoutModel",
          "state": {
            "_model_module": "@jupyter-widgets/base",
            "_model_module_version": "1.2.0",
            "_model_name": "LayoutModel",
            "_view_count": null,
            "_view_module": "@jupyter-widgets/base",
            "_view_module_version": "1.2.0",
            "_view_name": "LayoutView",
            "align_content": null,
            "align_items": null,
            "align_self": null,
            "border": null,
            "bottom": null,
            "display": null,
            "flex": null,
            "flex_flow": null,
            "grid_area": null,
            "grid_auto_columns": null,
            "grid_auto_flow": null,
            "grid_auto_rows": null,
            "grid_column": null,
            "grid_gap": null,
            "grid_row": null,
            "grid_template_areas": null,
            "grid_template_columns": null,
            "grid_template_rows": null,
            "height": null,
            "justify_content": null,
            "justify_items": null,
            "left": null,
            "margin": null,
            "max_height": null,
            "max_width": null,
            "min_height": null,
            "min_width": null,
            "object_fit": null,
            "object_position": null,
            "order": null,
            "overflow": null,
            "overflow_x": null,
            "overflow_y": null,
            "padding": null,
            "right": null,
            "top": null,
            "visibility": null,
            "width": null
          }
        },
        "85eb16f1852f42d4bdd0834253404730": {
          "model_module": "@jupyter-widgets/controls",
          "model_module_version": "1.5.0",
          "model_name": "FloatProgressModel",
          "state": {
            "_dom_classes": [],
            "_model_module": "@jupyter-widgets/controls",
            "_model_module_version": "1.5.0",
            "_model_name": "FloatProgressModel",
            "_view_count": null,
            "_view_module": "@jupyter-widgets/controls",
            "_view_module_version": "1.5.0",
            "_view_name": "ProgressView",
            "bar_style": "success",
            "description": "",
            "description_tooltip": null,
            "layout": "IPY_MODEL_84b5688773d940a68fe4373a3ce0e371",
            "max": 10,
            "min": 0,
            "orientation": "horizontal",
            "style": "IPY_MODEL_82ba586017d24bfe9747e39fda17490e",
            "value": 10
          }
        },
        "86ad3b736ea84cef88974bf531859fec": {
          "model_module": "@jupyter-widgets/base",
          "model_module_version": "1.2.0",
          "model_name": "LayoutModel",
          "state": {
            "_model_module": "@jupyter-widgets/base",
            "_model_module_version": "1.2.0",
            "_model_name": "LayoutModel",
            "_view_count": null,
            "_view_module": "@jupyter-widgets/base",
            "_view_module_version": "1.2.0",
            "_view_name": "LayoutView",
            "align_content": null,
            "align_items": null,
            "align_self": null,
            "border": null,
            "bottom": null,
            "display": null,
            "flex": null,
            "flex_flow": null,
            "grid_area": null,
            "grid_auto_columns": null,
            "grid_auto_flow": null,
            "grid_auto_rows": null,
            "grid_column": null,
            "grid_gap": null,
            "grid_row": null,
            "grid_template_areas": null,
            "grid_template_columns": null,
            "grid_template_rows": null,
            "height": null,
            "justify_content": null,
            "justify_items": null,
            "left": null,
            "margin": null,
            "max_height": null,
            "max_width": null,
            "min_height": null,
            "min_width": null,
            "object_fit": null,
            "object_position": null,
            "order": null,
            "overflow": null,
            "overflow_x": null,
            "overflow_y": null,
            "padding": null,
            "right": null,
            "top": null,
            "visibility": null,
            "width": null
          }
        },
        "8807743976d04d88a1f646255ddd5a99": {
          "model_module": "@jupyter-widgets/controls",
          "model_module_version": "1.5.0",
          "model_name": "HBoxModel",
          "state": {
            "_dom_classes": [],
            "_model_module": "@jupyter-widgets/controls",
            "_model_module_version": "1.5.0",
            "_model_name": "HBoxModel",
            "_view_count": null,
            "_view_module": "@jupyter-widgets/controls",
            "_view_module_version": "1.5.0",
            "_view_name": "HBoxView",
            "box_style": "",
            "children": [
              "IPY_MODEL_39dccadb3c3348efb687adb2ca298871",
              "IPY_MODEL_d210298528ef4c5690c6c2d9614d52cc",
              "IPY_MODEL_a5eecc6760834348aa1ac4b87a0f07d1"
            ],
            "layout": "IPY_MODEL_dc6f9c56174e48758f854ef0456f4362"
          }
        },
        "8972e91a10f04dc19ed8ecdadef64999": {
          "model_module": "@jupyter-widgets/controls",
          "model_module_version": "1.5.0",
          "model_name": "DescriptionStyleModel",
          "state": {
            "_model_module": "@jupyter-widgets/controls",
            "_model_module_version": "1.5.0",
            "_model_name": "DescriptionStyleModel",
            "_view_count": null,
            "_view_module": "@jupyter-widgets/base",
            "_view_module_version": "1.2.0",
            "_view_name": "StyleView",
            "description_width": ""
          }
        },
        "943c96cc125c409787d49267db24171d": {
          "model_module": "@jupyter-widgets/controls",
          "model_module_version": "1.5.0",
          "model_name": "HTMLModel",
          "state": {
            "_dom_classes": [],
            "_model_module": "@jupyter-widgets/controls",
            "_model_module_version": "1.5.0",
            "_model_name": "HTMLModel",
            "_view_count": null,
            "_view_module": "@jupyter-widgets/controls",
            "_view_module_version": "1.5.0",
            "_view_name": "HTMLView",
            "description": "",
            "description_tooltip": null,
            "layout": "IPY_MODEL_1d5074c189d047849c7b9c799bfb7094",
            "placeholder": "​",
            "style": "IPY_MODEL_b1b1cdf8206d41d7984ba04c796a637c",
            "value": "Loading safetensors checkpoint shards: 100% Completed | 1/1 [00:01&lt;00:00,  1.05s/it]\n"
          }
        },
        "9614ededef8947a58c18931c1d707e62": {
          "model_module": "@jupyter-widgets/base",
          "model_module_version": "1.2.0",
          "model_name": "LayoutModel",
          "state": {
            "_model_module": "@jupyter-widgets/base",
            "_model_module_version": "1.2.0",
            "_model_name": "LayoutModel",
            "_view_count": null,
            "_view_module": "@jupyter-widgets/base",
            "_view_module_version": "1.2.0",
            "_view_name": "LayoutView",
            "align_content": null,
            "align_items": null,
            "align_self": null,
            "border": null,
            "bottom": null,
            "display": null,
            "flex": null,
            "flex_flow": null,
            "grid_area": null,
            "grid_auto_columns": null,
            "grid_auto_flow": null,
            "grid_auto_rows": null,
            "grid_column": null,
            "grid_gap": null,
            "grid_row": null,
            "grid_template_areas": null,
            "grid_template_columns": null,
            "grid_template_rows": null,
            "height": null,
            "justify_content": null,
            "justify_items": null,
            "left": null,
            "margin": null,
            "max_height": null,
            "max_width": null,
            "min_height": null,
            "min_width": null,
            "object_fit": null,
            "object_position": null,
            "order": null,
            "overflow": null,
            "overflow_x": null,
            "overflow_y": null,
            "padding": null,
            "right": null,
            "top": null,
            "visibility": null,
            "width": null
          }
        },
        "973ebbb4388249fd978356bf71b34471": {
          "model_module": "@jupyter-widgets/controls",
          "model_module_version": "1.5.0",
          "model_name": "HBoxModel",
          "state": {
            "_dom_classes": [],
            "_model_module": "@jupyter-widgets/controls",
            "_model_module_version": "1.5.0",
            "_model_name": "HBoxModel",
            "_view_count": null,
            "_view_module": "@jupyter-widgets/controls",
            "_view_module_version": "1.5.0",
            "_view_name": "HBoxView",
            "box_style": "",
            "children": [
              "IPY_MODEL_7295873850234ea3aa570d22ec1329bc",
              "IPY_MODEL_4d6fc384f0804cba896b283c45ff48c6",
              "IPY_MODEL_69fe53c5e51544c09086349b574eb92e"
            ],
            "layout": "IPY_MODEL_e628f769c6e7457ea2356c3b03ae9ea6"
          }
        },
        "9e3558bbde1147d3801840f5ec2a44f6": {
          "model_module": "@jupyter-widgets/base",
          "model_module_version": "1.2.0",
          "model_name": "LayoutModel",
          "state": {
            "_model_module": "@jupyter-widgets/base",
            "_model_module_version": "1.2.0",
            "_model_name": "LayoutModel",
            "_view_count": null,
            "_view_module": "@jupyter-widgets/base",
            "_view_module_version": "1.2.0",
            "_view_name": "LayoutView",
            "align_content": null,
            "align_items": null,
            "align_self": null,
            "border": null,
            "bottom": null,
            "display": null,
            "flex": null,
            "flex_flow": null,
            "grid_area": null,
            "grid_auto_columns": null,
            "grid_auto_flow": null,
            "grid_auto_rows": null,
            "grid_column": null,
            "grid_gap": null,
            "grid_row": null,
            "grid_template_areas": null,
            "grid_template_columns": null,
            "grid_template_rows": null,
            "height": null,
            "justify_content": null,
            "justify_items": null,
            "left": null,
            "margin": null,
            "max_height": null,
            "max_width": null,
            "min_height": null,
            "min_width": null,
            "object_fit": null,
            "object_position": null,
            "order": null,
            "overflow": null,
            "overflow_x": null,
            "overflow_y": null,
            "padding": null,
            "right": null,
            "top": null,
            "visibility": null,
            "width": null
          }
        },
        "a274c65e94274f248f33157526d5e914": {
          "model_module": "@jupyter-widgets/controls",
          "model_module_version": "1.5.0",
          "model_name": "ProgressStyleModel",
          "state": {
            "_model_module": "@jupyter-widgets/controls",
            "_model_module_version": "1.5.0",
            "_model_name": "ProgressStyleModel",
            "_view_count": null,
            "_view_module": "@jupyter-widgets/base",
            "_view_module_version": "1.2.0",
            "_view_name": "StyleView",
            "bar_color": null,
            "description_width": ""
          }
        },
        "a3da6433748b4215b37eb6c9b241fc25": {
          "model_module": "@jupyter-widgets/controls",
          "model_module_version": "1.5.0",
          "model_name": "ProgressStyleModel",
          "state": {
            "_model_module": "@jupyter-widgets/controls",
            "_model_module_version": "1.5.0",
            "_model_name": "ProgressStyleModel",
            "_view_count": null,
            "_view_module": "@jupyter-widgets/base",
            "_view_module_version": "1.2.0",
            "_view_name": "StyleView",
            "bar_color": null,
            "description_width": ""
          }
        },
        "a4392fd858d2439fbf56f0750b53d9e6": {
          "model_module": "@jupyter-widgets/controls",
          "model_module_version": "1.5.0",
          "model_name": "HTMLModel",
          "state": {
            "_dom_classes": [],
            "_model_module": "@jupyter-widgets/controls",
            "_model_module_version": "1.5.0",
            "_model_name": "HTMLModel",
            "_view_count": null,
            "_view_module": "@jupyter-widgets/controls",
            "_view_module_version": "1.5.0",
            "_view_name": "HTMLView",
            "description": "",
            "description_tooltip": null,
            "layout": "IPY_MODEL_7f6dbb40b0c948bfb219191167416c6e",
            "placeholder": "​",
            "style": "IPY_MODEL_b5c79d2c3832456fb65743fb284c5011",
            "value": " 1.51k/1.51k [00:00&lt;00:00, 88.6kB/s]"
          }
        },
        "a5eecc6760834348aa1ac4b87a0f07d1": {
          "model_module": "@jupyter-widgets/controls",
          "model_module_version": "1.5.0",
          "model_name": "HTMLModel",
          "state": {
            "_dom_classes": [],
            "_model_module": "@jupyter-widgets/controls",
            "_model_module_version": "1.5.0",
            "_model_name": "HTMLModel",
            "_view_count": null,
            "_view_module": "@jupyter-widgets/controls",
            "_view_module_version": "1.5.0",
            "_view_name": "HTMLView",
            "description": "",
            "description_tooltip": null,
            "layout": "IPY_MODEL_ef62ecc135a743918c15bf862126fa3e",
            "placeholder": "​",
            "style": "IPY_MODEL_c645b2da2c9a4595b80725473e655b57",
            "value": "Loading safetensors checkpoint shards: 100% Completed | 1/1 [00:00&lt;00:00,  1.55it/s]\n"
          }
        },
        "b1b1cdf8206d41d7984ba04c796a637c": {
          "model_module": "@jupyter-widgets/controls",
          "model_module_version": "1.5.0",
          "model_name": "DescriptionStyleModel",
          "state": {
            "_model_module": "@jupyter-widgets/controls",
            "_model_module_version": "1.5.0",
            "_model_name": "DescriptionStyleModel",
            "_view_count": null,
            "_view_module": "@jupyter-widgets/base",
            "_view_module_version": "1.2.0",
            "_view_name": "StyleView",
            "description_width": ""
          }
        },
        "b49abfc1e0b7445b8b5cbbf2eb885e18": {
          "model_module": "@jupyter-widgets/controls",
          "model_module_version": "1.5.0",
          "model_name": "FloatProgressModel",
          "state": {
            "_dom_classes": [],
            "_model_module": "@jupyter-widgets/controls",
            "_model_module_version": "1.5.0",
            "_model_name": "FloatProgressModel",
            "_view_count": null,
            "_view_module": "@jupyter-widgets/controls",
            "_view_module_version": "1.5.0",
            "_view_name": "ProgressView",
            "bar_style": "success",
            "description": "",
            "description_tooltip": null,
            "layout": "IPY_MODEL_c1c6cb41493243e4b22205f0230008de",
            "max": 1,
            "min": 0,
            "orientation": "horizontal",
            "style": "IPY_MODEL_3b63dd28cf4548e3a2735efeab20b3f7",
            "value": 1
          }
        },
        "b5c79d2c3832456fb65743fb284c5011": {
          "model_module": "@jupyter-widgets/controls",
          "model_module_version": "1.5.0",
          "model_name": "DescriptionStyleModel",
          "state": {
            "_model_module": "@jupyter-widgets/controls",
            "_model_module_version": "1.5.0",
            "_model_name": "DescriptionStyleModel",
            "_view_count": null,
            "_view_module": "@jupyter-widgets/base",
            "_view_module_version": "1.2.0",
            "_view_name": "StyleView",
            "description_width": ""
          }
        },
        "b9ffa917e77447dd865aac2aa772d63c": {
          "model_module": "@jupyter-widgets/controls",
          "model_module_version": "1.5.0",
          "model_name": "DescriptionStyleModel",
          "state": {
            "_model_module": "@jupyter-widgets/controls",
            "_model_module_version": "1.5.0",
            "_model_name": "DescriptionStyleModel",
            "_view_count": null,
            "_view_module": "@jupyter-widgets/base",
            "_view_module_version": "1.2.0",
            "_view_name": "StyleView",
            "description_width": ""
          }
        },
        "bafab255956c4d75b357edca040b79e0": {
          "model_module": "@jupyter-widgets/controls",
          "model_module_version": "1.5.0",
          "model_name": "HTMLModel",
          "state": {
            "_dom_classes": [],
            "_model_module": "@jupyter-widgets/controls",
            "_model_module_version": "1.5.0",
            "_model_name": "HTMLModel",
            "_view_count": null,
            "_view_module": "@jupyter-widgets/controls",
            "_view_module_version": "1.5.0",
            "_view_name": "HTMLView",
            "description": "",
            "description_tooltip": null,
            "layout": "IPY_MODEL_363b371217de4a029a5b6833e8a89802",
            "placeholder": "​",
            "style": "IPY_MODEL_71e0a4992eba420a9fc96e07142b807e",
            "value": "Loading safetensors checkpoint shards: 100% Completed | 1/1 [00:00&lt;00:00,  1.56it/s]\n"
          }
        },
        "bd826ab0c689428297b8c3e69b61b0b9": {
          "model_module": "@jupyter-widgets/base",
          "model_module_version": "1.2.0",
          "model_name": "LayoutModel",
          "state": {
            "_model_module": "@jupyter-widgets/base",
            "_model_module_version": "1.2.0",
            "_model_name": "LayoutModel",
            "_view_count": null,
            "_view_module": "@jupyter-widgets/base",
            "_view_module_version": "1.2.0",
            "_view_name": "LayoutView",
            "align_content": null,
            "align_items": null,
            "align_self": null,
            "border": null,
            "bottom": null,
            "display": null,
            "flex": null,
            "flex_flow": null,
            "grid_area": null,
            "grid_auto_columns": null,
            "grid_auto_flow": null,
            "grid_auto_rows": null,
            "grid_column": null,
            "grid_gap": null,
            "grid_row": null,
            "grid_template_areas": null,
            "grid_template_columns": null,
            "grid_template_rows": null,
            "height": null,
            "justify_content": null,
            "justify_items": null,
            "left": null,
            "margin": null,
            "max_height": null,
            "max_width": null,
            "min_height": null,
            "min_width": null,
            "object_fit": null,
            "object_position": null,
            "order": null,
            "overflow": null,
            "overflow_x": null,
            "overflow_y": null,
            "padding": null,
            "right": null,
            "top": null,
            "visibility": null,
            "width": null
          }
        },
        "bdbbcb7f26a74a89b0c1c7e9b53db0c8": {
          "model_module": "@jupyter-widgets/controls",
          "model_module_version": "1.5.0",
          "model_name": "FloatProgressModel",
          "state": {
            "_dom_classes": [],
            "_model_module": "@jupyter-widgets/controls",
            "_model_module_version": "1.5.0",
            "_model_name": "FloatProgressModel",
            "_view_count": null,
            "_view_module": "@jupyter-widgets/controls",
            "_view_module_version": "1.5.0",
            "_view_name": "ProgressView",
            "bar_style": "success",
            "description": "",
            "description_tooltip": null,
            "layout": "IPY_MODEL_9e3558bbde1147d3801840f5ec2a44f6",
            "max": 1138151,
            "min": 0,
            "orientation": "horizontal",
            "style": "IPY_MODEL_a274c65e94274f248f33157526d5e914",
            "value": 1138151
          }
        },
        "c02f9e7f43444910adc56ee9d78ebb89": {
          "model_module": "@jupyter-widgets/base",
          "model_module_version": "1.2.0",
          "model_name": "LayoutModel",
          "state": {
            "_model_module": "@jupyter-widgets/base",
            "_model_module_version": "1.2.0",
            "_model_name": "LayoutModel",
            "_view_count": null,
            "_view_module": "@jupyter-widgets/base",
            "_view_module_version": "1.2.0",
            "_view_name": "LayoutView",
            "align_content": null,
            "align_items": null,
            "align_self": null,
            "border": null,
            "bottom": null,
            "display": null,
            "flex": null,
            "flex_flow": null,
            "grid_area": null,
            "grid_auto_columns": null,
            "grid_auto_flow": null,
            "grid_auto_rows": null,
            "grid_column": null,
            "grid_gap": null,
            "grid_row": null,
            "grid_template_areas": null,
            "grid_template_columns": null,
            "grid_template_rows": null,
            "height": null,
            "justify_content": null,
            "justify_items": null,
            "left": null,
            "margin": null,
            "max_height": null,
            "max_width": null,
            "min_height": null,
            "min_width": null,
            "object_fit": null,
            "object_position": null,
            "order": null,
            "overflow": null,
            "overflow_x": null,
            "overflow_y": null,
            "padding": null,
            "right": null,
            "top": null,
            "visibility": null,
            "width": null
          }
        },
        "c1c6cb41493243e4b22205f0230008de": {
          "model_module": "@jupyter-widgets/base",
          "model_module_version": "1.2.0",
          "model_name": "LayoutModel",
          "state": {
            "_model_module": "@jupyter-widgets/base",
            "_model_module_version": "1.2.0",
            "_model_name": "LayoutModel",
            "_view_count": null,
            "_view_module": "@jupyter-widgets/base",
            "_view_module_version": "1.2.0",
            "_view_name": "LayoutView",
            "align_content": null,
            "align_items": null,
            "align_self": null,
            "border": null,
            "bottom": null,
            "display": null,
            "flex": null,
            "flex_flow": null,
            "grid_area": null,
            "grid_auto_columns": null,
            "grid_auto_flow": null,
            "grid_auto_rows": null,
            "grid_column": null,
            "grid_gap": null,
            "grid_row": null,
            "grid_template_areas": null,
            "grid_template_columns": null,
            "grid_template_rows": null,
            "height": null,
            "justify_content": null,
            "justify_items": null,
            "left": null,
            "margin": null,
            "max_height": null,
            "max_width": null,
            "min_height": null,
            "min_width": null,
            "object_fit": null,
            "object_position": null,
            "order": null,
            "overflow": null,
            "overflow_x": null,
            "overflow_y": null,
            "padding": null,
            "right": null,
            "top": null,
            "visibility": null,
            "width": null
          }
        },
        "c645b2da2c9a4595b80725473e655b57": {
          "model_module": "@jupyter-widgets/controls",
          "model_module_version": "1.5.0",
          "model_name": "DescriptionStyleModel",
          "state": {
            "_model_module": "@jupyter-widgets/controls",
            "_model_module_version": "1.5.0",
            "_model_name": "DescriptionStyleModel",
            "_view_count": null,
            "_view_module": "@jupyter-widgets/base",
            "_view_module_version": "1.2.0",
            "_view_name": "StyleView",
            "description_width": ""
          }
        },
        "c79f1d3cb551498493cc3f1e1e1aad35": {
          "model_module": "@jupyter-widgets/controls",
          "model_module_version": "1.5.0",
          "model_name": "FloatProgressModel",
          "state": {
            "_dom_classes": [],
            "_model_module": "@jupyter-widgets/controls",
            "_model_module_version": "1.5.0",
            "_model_name": "FloatProgressModel",
            "_view_count": null,
            "_view_module": "@jupyter-widgets/controls",
            "_view_module_version": "1.5.0",
            "_view_name": "ProgressView",
            "bar_style": "success",
            "description": "",
            "description_tooltip": null,
            "layout": "IPY_MODEL_e8cc5a080c5b478dbce1461f20ac31a2",
            "max": 1,
            "min": 0,
            "orientation": "horizontal",
            "style": "IPY_MODEL_a3da6433748b4215b37eb6c9b241fc25",
            "value": 1
          }
        },
        "c8cadd9e0f054c409bd2ece4a0230fda": {
          "model_module": "@jupyter-widgets/base",
          "model_module_version": "1.2.0",
          "model_name": "LayoutModel",
          "state": {
            "_model_module": "@jupyter-widgets/base",
            "_model_module_version": "1.2.0",
            "_model_name": "LayoutModel",
            "_view_count": null,
            "_view_module": "@jupyter-widgets/base",
            "_view_module_version": "1.2.0",
            "_view_name": "LayoutView",
            "align_content": null,
            "align_items": null,
            "align_self": null,
            "border": null,
            "bottom": null,
            "display": null,
            "flex": null,
            "flex_flow": null,
            "grid_area": null,
            "grid_auto_columns": null,
            "grid_auto_flow": null,
            "grid_auto_rows": null,
            "grid_column": null,
            "grid_gap": null,
            "grid_row": null,
            "grid_template_areas": null,
            "grid_template_columns": null,
            "grid_template_rows": null,
            "height": null,
            "justify_content": null,
            "justify_items": null,
            "left": null,
            "margin": null,
            "max_height": null,
            "max_width": null,
            "min_height": null,
            "min_width": null,
            "object_fit": null,
            "object_position": null,
            "order": null,
            "overflow": null,
            "overflow_x": null,
            "overflow_y": null,
            "padding": null,
            "right": null,
            "top": null,
            "visibility": null,
            "width": null
          }
        },
        "c9bd47d82f1843e181ae1bdbe94bac43": {
          "model_module": "@jupyter-widgets/base",
          "model_module_version": "1.2.0",
          "model_name": "LayoutModel",
          "state": {
            "_model_module": "@jupyter-widgets/base",
            "_model_module_version": "1.2.0",
            "_model_name": "LayoutModel",
            "_view_count": null,
            "_view_module": "@jupyter-widgets/base",
            "_view_module_version": "1.2.0",
            "_view_name": "LayoutView",
            "align_content": null,
            "align_items": null,
            "align_self": null,
            "border": null,
            "bottom": null,
            "display": null,
            "flex": null,
            "flex_flow": null,
            "grid_area": null,
            "grid_auto_columns": null,
            "grid_auto_flow": null,
            "grid_auto_rows": null,
            "grid_column": null,
            "grid_gap": null,
            "grid_row": null,
            "grid_template_areas": null,
            "grid_template_columns": null,
            "grid_template_rows": null,
            "height": null,
            "justify_content": null,
            "justify_items": null,
            "left": null,
            "margin": null,
            "max_height": null,
            "max_width": null,
            "min_height": null,
            "min_width": null,
            "object_fit": null,
            "object_position": null,
            "order": null,
            "overflow": null,
            "overflow_x": null,
            "overflow_y": null,
            "padding": null,
            "right": null,
            "top": null,
            "visibility": null,
            "width": null
          }
        },
        "cd301117ec7a4e889164c40d430a8bc4": {
          "model_module": "@jupyter-widgets/controls",
          "model_module_version": "1.5.0",
          "model_name": "DescriptionStyleModel",
          "state": {
            "_model_module": "@jupyter-widgets/controls",
            "_model_module_version": "1.5.0",
            "_model_name": "DescriptionStyleModel",
            "_view_count": null,
            "_view_module": "@jupyter-widgets/base",
            "_view_module_version": "1.2.0",
            "_view_name": "StyleView",
            "description_width": ""
          }
        },
        "ceda62169f1943bf824278fe9c814fe9": {
          "model_module": "@jupyter-widgets/base",
          "model_module_version": "1.2.0",
          "model_name": "LayoutModel",
          "state": {
            "_model_module": "@jupyter-widgets/base",
            "_model_module_version": "1.2.0",
            "_model_name": "LayoutModel",
            "_view_count": null,
            "_view_module": "@jupyter-widgets/base",
            "_view_module_version": "1.2.0",
            "_view_name": "LayoutView",
            "align_content": null,
            "align_items": null,
            "align_self": null,
            "border": null,
            "bottom": null,
            "display": null,
            "flex": null,
            "flex_flow": null,
            "grid_area": null,
            "grid_auto_columns": null,
            "grid_auto_flow": null,
            "grid_auto_rows": null,
            "grid_column": null,
            "grid_gap": null,
            "grid_row": null,
            "grid_template_areas": null,
            "grid_template_columns": null,
            "grid_template_rows": null,
            "height": null,
            "justify_content": null,
            "justify_items": null,
            "left": null,
            "margin": null,
            "max_height": null,
            "max_width": null,
            "min_height": null,
            "min_width": null,
            "object_fit": null,
            "object_position": null,
            "order": null,
            "overflow": null,
            "overflow_x": null,
            "overflow_y": null,
            "padding": null,
            "right": null,
            "top": null,
            "visibility": null,
            "width": null
          }
        },
        "d210298528ef4c5690c6c2d9614d52cc": {
          "model_module": "@jupyter-widgets/controls",
          "model_module_version": "1.5.0",
          "model_name": "FloatProgressModel",
          "state": {
            "_dom_classes": [],
            "_model_module": "@jupyter-widgets/controls",
            "_model_module_version": "1.5.0",
            "_model_name": "FloatProgressModel",
            "_view_count": null,
            "_view_module": "@jupyter-widgets/controls",
            "_view_module_version": "1.5.0",
            "_view_name": "ProgressView",
            "bar_style": "success",
            "description": "",
            "description_tooltip": null,
            "layout": "IPY_MODEL_d3edd6b3e2364ef097575c396582fd79",
            "max": 1,
            "min": 0,
            "orientation": "horizontal",
            "style": "IPY_MODEL_32001f5ab9bf4b87b2b523c259079032",
            "value": 1
          }
        },
        "d3edd6b3e2364ef097575c396582fd79": {
          "model_module": "@jupyter-widgets/base",
          "model_module_version": "1.2.0",
          "model_name": "LayoutModel",
          "state": {
            "_model_module": "@jupyter-widgets/base",
            "_model_module_version": "1.2.0",
            "_model_name": "LayoutModel",
            "_view_count": null,
            "_view_module": "@jupyter-widgets/base",
            "_view_module_version": "1.2.0",
            "_view_name": "LayoutView",
            "align_content": null,
            "align_items": null,
            "align_self": null,
            "border": null,
            "bottom": null,
            "display": null,
            "flex": null,
            "flex_flow": null,
            "grid_area": null,
            "grid_auto_columns": null,
            "grid_auto_flow": null,
            "grid_auto_rows": null,
            "grid_column": null,
            "grid_gap": null,
            "grid_row": null,
            "grid_template_areas": null,
            "grid_template_columns": null,
            "grid_template_rows": null,
            "height": null,
            "justify_content": null,
            "justify_items": null,
            "left": null,
            "margin": null,
            "max_height": null,
            "max_width": null,
            "min_height": null,
            "min_width": null,
            "object_fit": null,
            "object_position": null,
            "order": null,
            "overflow": null,
            "overflow_x": null,
            "overflow_y": null,
            "padding": null,
            "right": null,
            "top": null,
            "visibility": null,
            "width": null
          }
        },
        "d3f3b334b12440b68d8a739bf54f8111": {
          "model_module": "@jupyter-widgets/controls",
          "model_module_version": "1.5.0",
          "model_name": "DescriptionStyleModel",
          "state": {
            "_model_module": "@jupyter-widgets/controls",
            "_model_module_version": "1.5.0",
            "_model_name": "DescriptionStyleModel",
            "_view_count": null,
            "_view_module": "@jupyter-widgets/base",
            "_view_module_version": "1.2.0",
            "_view_name": "StyleView",
            "description_width": ""
          }
        },
        "dba22813182d4d5b8ad17ead96a0efc8": {
          "model_module": "@jupyter-widgets/base",
          "model_module_version": "1.2.0",
          "model_name": "LayoutModel",
          "state": {
            "_model_module": "@jupyter-widgets/base",
            "_model_module_version": "1.2.0",
            "_model_name": "LayoutModel",
            "_view_count": null,
            "_view_module": "@jupyter-widgets/base",
            "_view_module_version": "1.2.0",
            "_view_name": "LayoutView",
            "align_content": null,
            "align_items": null,
            "align_self": null,
            "border": null,
            "bottom": null,
            "display": null,
            "flex": null,
            "flex_flow": null,
            "grid_area": null,
            "grid_auto_columns": null,
            "grid_auto_flow": null,
            "grid_auto_rows": null,
            "grid_column": null,
            "grid_gap": null,
            "grid_row": null,
            "grid_template_areas": null,
            "grid_template_columns": null,
            "grid_template_rows": null,
            "height": null,
            "justify_content": null,
            "justify_items": null,
            "left": null,
            "margin": null,
            "max_height": null,
            "max_width": null,
            "min_height": null,
            "min_width": null,
            "object_fit": null,
            "object_position": null,
            "order": null,
            "overflow": null,
            "overflow_x": null,
            "overflow_y": null,
            "padding": null,
            "right": null,
            "top": null,
            "visibility": null,
            "width": null
          }
        },
        "dc6f9c56174e48758f854ef0456f4362": {
          "model_module": "@jupyter-widgets/base",
          "model_module_version": "1.2.0",
          "model_name": "LayoutModel",
          "state": {
            "_model_module": "@jupyter-widgets/base",
            "_model_module_version": "1.2.0",
            "_model_name": "LayoutModel",
            "_view_count": null,
            "_view_module": "@jupyter-widgets/base",
            "_view_module_version": "1.2.0",
            "_view_name": "LayoutView",
            "align_content": null,
            "align_items": null,
            "align_self": null,
            "border": null,
            "bottom": null,
            "display": null,
            "flex": null,
            "flex_flow": null,
            "grid_area": null,
            "grid_auto_columns": null,
            "grid_auto_flow": null,
            "grid_auto_rows": null,
            "grid_column": null,
            "grid_gap": null,
            "grid_row": null,
            "grid_template_areas": null,
            "grid_template_columns": null,
            "grid_template_rows": null,
            "height": null,
            "justify_content": null,
            "justify_items": null,
            "left": null,
            "margin": null,
            "max_height": null,
            "max_width": null,
            "min_height": null,
            "min_width": null,
            "object_fit": null,
            "object_position": null,
            "order": null,
            "overflow": null,
            "overflow_x": null,
            "overflow_y": null,
            "padding": null,
            "right": null,
            "top": null,
            "visibility": null,
            "width": null
          }
        },
        "dce9fa7b65b649a494a4ced72c92b271": {
          "model_module": "@jupyter-widgets/base",
          "model_module_version": "1.2.0",
          "model_name": "LayoutModel",
          "state": {
            "_model_module": "@jupyter-widgets/base",
            "_model_module_version": "1.2.0",
            "_model_name": "LayoutModel",
            "_view_count": null,
            "_view_module": "@jupyter-widgets/base",
            "_view_module_version": "1.2.0",
            "_view_name": "LayoutView",
            "align_content": null,
            "align_items": null,
            "align_self": null,
            "border": null,
            "bottom": null,
            "display": null,
            "flex": null,
            "flex_flow": null,
            "grid_area": null,
            "grid_auto_columns": null,
            "grid_auto_flow": null,
            "grid_auto_rows": null,
            "grid_column": null,
            "grid_gap": null,
            "grid_row": null,
            "grid_template_areas": null,
            "grid_template_columns": null,
            "grid_template_rows": null,
            "height": null,
            "justify_content": null,
            "justify_items": null,
            "left": null,
            "margin": null,
            "max_height": null,
            "max_width": null,
            "min_height": null,
            "min_width": null,
            "object_fit": null,
            "object_position": null,
            "order": null,
            "overflow": null,
            "overflow_x": null,
            "overflow_y": null,
            "padding": null,
            "right": null,
            "top": null,
            "visibility": null,
            "width": null
          }
        },
        "dd17d0a46c6d4bc4b09d3f58bc7d36ae": {
          "model_module": "@jupyter-widgets/controls",
          "model_module_version": "1.5.0",
          "model_name": "HBoxModel",
          "state": {
            "_dom_classes": [],
            "_model_module": "@jupyter-widgets/controls",
            "_model_module_version": "1.5.0",
            "_model_name": "HBoxModel",
            "_view_count": null,
            "_view_module": "@jupyter-widgets/controls",
            "_view_module_version": "1.5.0",
            "_view_name": "HBoxView",
            "box_style": "",
            "children": [
              "IPY_MODEL_5c92c8f6447c4ef19a6f33825c4238ae",
              "IPY_MODEL_6f34b8af71a74278a1d24487466801d5",
              "IPY_MODEL_5b1a870f181e4efd90e9e02393037e3e"
            ],
            "layout": "IPY_MODEL_81ef2be8420c431a859d84ff99843281"
          }
        },
        "dfd749a03c7e4fb2ac1b0f098e0b9224": {
          "model_module": "@jupyter-widgets/base",
          "model_module_version": "1.2.0",
          "model_name": "LayoutModel",
          "state": {
            "_model_module": "@jupyter-widgets/base",
            "_model_module_version": "1.2.0",
            "_model_name": "LayoutModel",
            "_view_count": null,
            "_view_module": "@jupyter-widgets/base",
            "_view_module_version": "1.2.0",
            "_view_name": "LayoutView",
            "align_content": null,
            "align_items": null,
            "align_self": null,
            "border": null,
            "bottom": null,
            "display": null,
            "flex": null,
            "flex_flow": null,
            "grid_area": null,
            "grid_auto_columns": null,
            "grid_auto_flow": null,
            "grid_auto_rows": null,
            "grid_column": null,
            "grid_gap": null,
            "grid_row": null,
            "grid_template_areas": null,
            "grid_template_columns": null,
            "grid_template_rows": null,
            "height": null,
            "justify_content": null,
            "justify_items": null,
            "left": null,
            "margin": null,
            "max_height": null,
            "max_width": null,
            "min_height": null,
            "min_width": null,
            "object_fit": null,
            "object_position": null,
            "order": null,
            "overflow": null,
            "overflow_x": null,
            "overflow_y": null,
            "padding": null,
            "right": null,
            "top": null,
            "visibility": null,
            "width": null
          }
        },
        "e1643cb32292492995c9bf793dd6a4fe": {
          "model_module": "@jupyter-widgets/controls",
          "model_module_version": "1.5.0",
          "model_name": "ProgressStyleModel",
          "state": {
            "_model_module": "@jupyter-widgets/controls",
            "_model_module_version": "1.5.0",
            "_model_name": "ProgressStyleModel",
            "_view_count": null,
            "_view_module": "@jupyter-widgets/base",
            "_view_module_version": "1.2.0",
            "_view_name": "StyleView",
            "bar_color": null,
            "description_width": ""
          }
        },
        "e628f769c6e7457ea2356c3b03ae9ea6": {
          "model_module": "@jupyter-widgets/base",
          "model_module_version": "1.2.0",
          "model_name": "LayoutModel",
          "state": {
            "_model_module": "@jupyter-widgets/base",
            "_model_module_version": "1.2.0",
            "_model_name": "LayoutModel",
            "_view_count": null,
            "_view_module": "@jupyter-widgets/base",
            "_view_module_version": "1.2.0",
            "_view_name": "LayoutView",
            "align_content": null,
            "align_items": null,
            "align_self": null,
            "border": null,
            "bottom": null,
            "display": null,
            "flex": null,
            "flex_flow": null,
            "grid_area": null,
            "grid_auto_columns": null,
            "grid_auto_flow": null,
            "grid_auto_rows": null,
            "grid_column": null,
            "grid_gap": null,
            "grid_row": null,
            "grid_template_areas": null,
            "grid_template_columns": null,
            "grid_template_rows": null,
            "height": null,
            "justify_content": null,
            "justify_items": null,
            "left": null,
            "margin": null,
            "max_height": null,
            "max_width": null,
            "min_height": null,
            "min_width": null,
            "object_fit": null,
            "object_position": null,
            "order": null,
            "overflow": null,
            "overflow_x": null,
            "overflow_y": null,
            "padding": null,
            "right": null,
            "top": null,
            "visibility": null,
            "width": null
          }
        },
        "e673d6e178c448ce96e721dbc9a590f7": {
          "model_module": "@jupyter-widgets/controls",
          "model_module_version": "1.5.0",
          "model_name": "DescriptionStyleModel",
          "state": {
            "_model_module": "@jupyter-widgets/controls",
            "_model_module_version": "1.5.0",
            "_model_name": "DescriptionStyleModel",
            "_view_count": null,
            "_view_module": "@jupyter-widgets/base",
            "_view_module_version": "1.2.0",
            "_view_name": "StyleView",
            "description_width": ""
          }
        },
        "e7d1922e060c4764832d35b13bb5ec61": {
          "model_module": "@jupyter-widgets/base",
          "model_module_version": "1.2.0",
          "model_name": "LayoutModel",
          "state": {
            "_model_module": "@jupyter-widgets/base",
            "_model_module_version": "1.2.0",
            "_model_name": "LayoutModel",
            "_view_count": null,
            "_view_module": "@jupyter-widgets/base",
            "_view_module_version": "1.2.0",
            "_view_name": "LayoutView",
            "align_content": null,
            "align_items": null,
            "align_self": null,
            "border": null,
            "bottom": null,
            "display": null,
            "flex": null,
            "flex_flow": null,
            "grid_area": null,
            "grid_auto_columns": null,
            "grid_auto_flow": null,
            "grid_auto_rows": null,
            "grid_column": null,
            "grid_gap": null,
            "grid_row": null,
            "grid_template_areas": null,
            "grid_template_columns": null,
            "grid_template_rows": null,
            "height": null,
            "justify_content": null,
            "justify_items": null,
            "left": null,
            "margin": null,
            "max_height": null,
            "max_width": null,
            "min_height": null,
            "min_width": null,
            "object_fit": null,
            "object_position": null,
            "order": null,
            "overflow": null,
            "overflow_x": null,
            "overflow_y": null,
            "padding": null,
            "right": null,
            "top": null,
            "visibility": null,
            "width": null
          }
        },
        "e8410a6f3c174dd789fbb9eebcd6703f": {
          "model_module": "@jupyter-widgets/controls",
          "model_module_version": "1.5.0",
          "model_name": "DescriptionStyleModel",
          "state": {
            "_model_module": "@jupyter-widgets/controls",
            "_model_module_version": "1.5.0",
            "_model_name": "DescriptionStyleModel",
            "_view_count": null,
            "_view_module": "@jupyter-widgets/base",
            "_view_module_version": "1.2.0",
            "_view_name": "StyleView",
            "description_width": ""
          }
        },
        "e8cc5a080c5b478dbce1461f20ac31a2": {
          "model_module": "@jupyter-widgets/base",
          "model_module_version": "1.2.0",
          "model_name": "LayoutModel",
          "state": {
            "_model_module": "@jupyter-widgets/base",
            "_model_module_version": "1.2.0",
            "_model_name": "LayoutModel",
            "_view_count": null,
            "_view_module": "@jupyter-widgets/base",
            "_view_module_version": "1.2.0",
            "_view_name": "LayoutView",
            "align_content": null,
            "align_items": null,
            "align_self": null,
            "border": null,
            "bottom": null,
            "display": null,
            "flex": null,
            "flex_flow": null,
            "grid_area": null,
            "grid_auto_columns": null,
            "grid_auto_flow": null,
            "grid_auto_rows": null,
            "grid_column": null,
            "grid_gap": null,
            "grid_row": null,
            "grid_template_areas": null,
            "grid_template_columns": null,
            "grid_template_rows": null,
            "height": null,
            "justify_content": null,
            "justify_items": null,
            "left": null,
            "margin": null,
            "max_height": null,
            "max_width": null,
            "min_height": null,
            "min_width": null,
            "object_fit": null,
            "object_position": null,
            "order": null,
            "overflow": null,
            "overflow_x": null,
            "overflow_y": null,
            "padding": null,
            "right": null,
            "top": null,
            "visibility": null,
            "width": null
          }
        },
        "ed77b2fcfdda4496b1bf45c98808b9b9": {
          "model_module": "@jupyter-widgets/controls",
          "model_module_version": "1.5.0",
          "model_name": "ProgressStyleModel",
          "state": {
            "_model_module": "@jupyter-widgets/controls",
            "_model_module_version": "1.5.0",
            "_model_name": "ProgressStyleModel",
            "_view_count": null,
            "_view_module": "@jupyter-widgets/base",
            "_view_module_version": "1.2.0",
            "_view_name": "StyleView",
            "bar_color": null,
            "description_width": ""
          }
        },
        "ef48a4a457424bb482fa82d7cbb280fe": {
          "model_module": "@jupyter-widgets/controls",
          "model_module_version": "1.5.0",
          "model_name": "DescriptionStyleModel",
          "state": {
            "_model_module": "@jupyter-widgets/controls",
            "_model_module_version": "1.5.0",
            "_model_name": "DescriptionStyleModel",
            "_view_count": null,
            "_view_module": "@jupyter-widgets/base",
            "_view_module_version": "1.2.0",
            "_view_name": "StyleView",
            "description_width": ""
          }
        },
        "ef62ecc135a743918c15bf862126fa3e": {
          "model_module": "@jupyter-widgets/base",
          "model_module_version": "1.2.0",
          "model_name": "LayoutModel",
          "state": {
            "_model_module": "@jupyter-widgets/base",
            "_model_module_version": "1.2.0",
            "_model_name": "LayoutModel",
            "_view_count": null,
            "_view_module": "@jupyter-widgets/base",
            "_view_module_version": "1.2.0",
            "_view_name": "LayoutView",
            "align_content": null,
            "align_items": null,
            "align_self": null,
            "border": null,
            "bottom": null,
            "display": null,
            "flex": null,
            "flex_flow": null,
            "grid_area": null,
            "grid_auto_columns": null,
            "grid_auto_flow": null,
            "grid_auto_rows": null,
            "grid_column": null,
            "grid_gap": null,
            "grid_row": null,
            "grid_template_areas": null,
            "grid_template_columns": null,
            "grid_template_rows": null,
            "height": null,
            "justify_content": null,
            "justify_items": null,
            "left": null,
            "margin": null,
            "max_height": null,
            "max_width": null,
            "min_height": null,
            "min_width": null,
            "object_fit": null,
            "object_position": null,
            "order": null,
            "overflow": null,
            "overflow_x": null,
            "overflow_y": null,
            "padding": null,
            "right": null,
            "top": null,
            "visibility": null,
            "width": null
          }
        },
        "f3109e0621174d86bff2c85035d1b539": {
          "model_module": "@jupyter-widgets/base",
          "model_module_version": "1.2.0",
          "model_name": "LayoutModel",
          "state": {
            "_model_module": "@jupyter-widgets/base",
            "_model_module_version": "1.2.0",
            "_model_name": "LayoutModel",
            "_view_count": null,
            "_view_module": "@jupyter-widgets/base",
            "_view_module_version": "1.2.0",
            "_view_name": "LayoutView",
            "align_content": null,
            "align_items": null,
            "align_self": null,
            "border": null,
            "bottom": null,
            "display": null,
            "flex": null,
            "flex_flow": null,
            "grid_area": null,
            "grid_auto_columns": null,
            "grid_auto_flow": null,
            "grid_auto_rows": null,
            "grid_column": null,
            "grid_gap": null,
            "grid_row": null,
            "grid_template_areas": null,
            "grid_template_columns": null,
            "grid_template_rows": null,
            "height": null,
            "justify_content": null,
            "justify_items": null,
            "left": null,
            "margin": null,
            "max_height": null,
            "max_width": null,
            "min_height": null,
            "min_width": null,
            "object_fit": null,
            "object_position": null,
            "order": null,
            "overflow": null,
            "overflow_x": null,
            "overflow_y": null,
            "padding": null,
            "right": null,
            "top": null,
            "visibility": null,
            "width": null
          }
        },
        "fc8a884501cc44d3b819cb5eb778333e": {
          "model_module": "@jupyter-widgets/base",
          "model_module_version": "1.2.0",
          "model_name": "LayoutModel",
          "state": {
            "_model_module": "@jupyter-widgets/base",
            "_model_module_version": "1.2.0",
            "_model_name": "LayoutModel",
            "_view_count": null,
            "_view_module": "@jupyter-widgets/base",
            "_view_module_version": "1.2.0",
            "_view_name": "LayoutView",
            "align_content": null,
            "align_items": null,
            "align_self": null,
            "border": null,
            "bottom": null,
            "display": null,
            "flex": null,
            "flex_flow": null,
            "grid_area": null,
            "grid_auto_columns": null,
            "grid_auto_flow": null,
            "grid_auto_rows": null,
            "grid_column": null,
            "grid_gap": null,
            "grid_row": null,
            "grid_template_areas": null,
            "grid_template_columns": null,
            "grid_template_rows": null,
            "height": null,
            "justify_content": null,
            "justify_items": null,
            "left": null,
            "margin": null,
            "max_height": null,
            "max_width": null,
            "min_height": null,
            "min_width": null,
            "object_fit": null,
            "object_position": null,
            "order": null,
            "overflow": null,
            "overflow_x": null,
            "overflow_y": null,
            "padding": null,
            "right": null,
            "top": null,
            "visibility": null,
            "width": null
          }
        },
        "ffa61e2b39d54fd69882620bddd7caab": {
          "model_module": "@jupyter-widgets/base",
          "model_module_version": "1.2.0",
          "model_name": "LayoutModel",
          "state": {
            "_model_module": "@jupyter-widgets/base",
            "_model_module_version": "1.2.0",
            "_model_name": "LayoutModel",
            "_view_count": null,
            "_view_module": "@jupyter-widgets/base",
            "_view_module_version": "1.2.0",
            "_view_name": "LayoutView",
            "align_content": null,
            "align_items": null,
            "align_self": null,
            "border": null,
            "bottom": null,
            "display": null,
            "flex": null,
            "flex_flow": null,
            "grid_area": null,
            "grid_auto_columns": null,
            "grid_auto_flow": null,
            "grid_auto_rows": null,
            "grid_column": null,
            "grid_gap": null,
            "grid_row": null,
            "grid_template_areas": null,
            "grid_template_columns": null,
            "grid_template_rows": null,
            "height": null,
            "justify_content": null,
            "justify_items": null,
            "left": null,
            "margin": null,
            "max_height": null,
            "max_width": null,
            "min_height": null,
            "min_width": null,
            "object_fit": null,
            "object_position": null,
            "order": null,
            "overflow": null,
            "overflow_x": null,
            "overflow_y": null,
            "padding": null,
            "right": null,
            "top": null,
            "visibility": null,
            "width": null
          }
        }
      }
    }
  },
  "nbformat": 4,
  "nbformat_minor": 0
}
