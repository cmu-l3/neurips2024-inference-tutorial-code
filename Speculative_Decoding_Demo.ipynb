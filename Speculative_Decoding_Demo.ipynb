{
  "cells": [
    {
      "cell_type": "code",
      "execution_count": 1,
      "metadata": {
        "colab": {
          "base_uri": "https://localhost:8080/"
        },
        "id": "3AeIuOqDp4rn",
        "outputId": "5df61d2d-8e00-4fdd-f1fa-1d84fbdc889c"
      },
      "outputs": [
        {
          "name": "stdout",
          "output_type": "stream",
          "text": [
            "Requirement already satisfied: bitsandbytes in /home/kogolobo/miniconda3/envs/dl/lib/python3.11/site-packages (0.44.1)\n",
            "Requirement already satisfied: transformers in /home/kogolobo/miniconda3/envs/dl/lib/python3.11/site-packages (4.46.2)\n",
            "Requirement already satisfied: accelerate in /home/kogolobo/miniconda3/envs/dl/lib/python3.11/site-packages (0.33.0)\n",
            "Requirement already satisfied: vllm in /home/kogolobo/miniconda3/envs/dl/lib/python3.11/site-packages (0.6.3.post1)\n",
            "Requirement already satisfied: torch in /home/kogolobo/miniconda3/envs/dl/lib/python3.11/site-packages (from bitsandbytes) (2.4.0)\n",
            "Requirement already satisfied: numpy in /home/kogolobo/miniconda3/envs/dl/lib/python3.11/site-packages (from bitsandbytes) (1.26.2)\n",
            "Requirement already satisfied: filelock in /home/kogolobo/miniconda3/envs/dl/lib/python3.11/site-packages (from transformers) (3.13.1)\n",
            "Requirement already satisfied: huggingface-hub<1.0,>=0.23.2 in /home/kogolobo/miniconda3/envs/dl/lib/python3.11/site-packages (from transformers) (0.24.6)\n",
            "Requirement already satisfied: packaging>=20.0 in /home/kogolobo/miniconda3/envs/dl/lib/python3.11/site-packages (from transformers) (24.2)\n",
            "Requirement already satisfied: pyyaml>=5.1 in /home/kogolobo/miniconda3/envs/dl/lib/python3.11/site-packages (from transformers) (6.0.1)\n",
            "Requirement already satisfied: regex!=2019.12.17 in /home/kogolobo/miniconda3/envs/dl/lib/python3.11/site-packages (from transformers) (2023.10.3)\n",
            "Requirement already satisfied: requests in /home/kogolobo/miniconda3/envs/dl/lib/python3.11/site-packages (from transformers) (2.32.3)\n",
            "Requirement already satisfied: safetensors>=0.4.1 in /home/kogolobo/miniconda3/envs/dl/lib/python3.11/site-packages (from transformers) (0.4.4)\n",
            "Requirement already satisfied: tokenizers<0.21,>=0.20 in /home/kogolobo/miniconda3/envs/dl/lib/python3.11/site-packages (from transformers) (0.20.3)\n",
            "Requirement already satisfied: tqdm>=4.27 in /home/kogolobo/miniconda3/envs/dl/lib/python3.11/site-packages (from transformers) (4.66.1)\n",
            "Requirement already satisfied: psutil in /home/kogolobo/miniconda3/envs/dl/lib/python3.11/site-packages (from accelerate) (6.0.0)\n",
            "Requirement already satisfied: sentencepiece in /home/kogolobo/miniconda3/envs/dl/lib/python3.11/site-packages (from vllm) (0.2.0)\n",
            "Requirement already satisfied: py-cpuinfo in /home/kogolobo/miniconda3/envs/dl/lib/python3.11/site-packages (from vllm) (9.0.0)\n",
            "Requirement already satisfied: protobuf in /home/kogolobo/miniconda3/envs/dl/lib/python3.11/site-packages (from vllm) (5.28.0)\n",
            "Requirement already satisfied: aiohttp in /home/kogolobo/miniconda3/envs/dl/lib/python3.11/site-packages (from vllm) (3.9.0)\n",
            "Requirement already satisfied: openai>=1.40.0 in /home/kogolobo/miniconda3/envs/dl/lib/python3.11/site-packages (from vllm) (1.54.4)\n",
            "Requirement already satisfied: uvicorn[standard] in /home/kogolobo/miniconda3/envs/dl/lib/python3.11/site-packages (from vllm) (0.32.0)\n",
            "Requirement already satisfied: pydantic>=2.9 in /home/kogolobo/miniconda3/envs/dl/lib/python3.11/site-packages (from vllm) (2.9.2)\n",
            "Requirement already satisfied: pillow in /home/kogolobo/miniconda3/envs/dl/lib/python3.11/site-packages (from vllm) (10.4.0)\n",
            "Requirement already satisfied: prometheus-client>=0.18.0 in /home/kogolobo/miniconda3/envs/dl/lib/python3.11/site-packages (from vllm) (0.21.0)\n",
            "Requirement already satisfied: prometheus-fastapi-instrumentator>=7.0.0 in /home/kogolobo/miniconda3/envs/dl/lib/python3.11/site-packages (from vllm) (7.0.0)\n",
            "Requirement already satisfied: tiktoken>=0.6.0 in /home/kogolobo/miniconda3/envs/dl/lib/python3.11/site-packages (from vllm) (0.7.0)\n",
            "Requirement already satisfied: lm-format-enforcer==0.10.6 in /home/kogolobo/miniconda3/envs/dl/lib/python3.11/site-packages (from vllm) (0.10.6)\n",
            "Requirement already satisfied: outlines<0.1,>=0.0.43 in /home/kogolobo/miniconda3/envs/dl/lib/python3.11/site-packages (from vllm) (0.0.46)\n",
            "Requirement already satisfied: typing-extensions>=4.10 in /home/kogolobo/miniconda3/envs/dl/lib/python3.11/site-packages (from vllm) (4.12.2)\n",
            "Requirement already satisfied: partial-json-parser in /home/kogolobo/miniconda3/envs/dl/lib/python3.11/site-packages (from vllm) (0.2.1.1.post4)\n",
            "Requirement already satisfied: pyzmq in /home/kogolobo/miniconda3/envs/dl/lib/python3.11/site-packages (from vllm) (26.2.0)\n",
            "Requirement already satisfied: msgspec in /home/kogolobo/miniconda3/envs/dl/lib/python3.11/site-packages (from vllm) (0.18.6)\n",
            "Requirement already satisfied: gguf==0.10.0 in /home/kogolobo/miniconda3/envs/dl/lib/python3.11/site-packages (from vllm) (0.10.0)\n",
            "Requirement already satisfied: importlib-metadata in /home/kogolobo/miniconda3/envs/dl/lib/python3.11/site-packages (from vllm) (8.5.0)\n",
            "Requirement already satisfied: mistral-common>=1.4.4 in /home/kogolobo/miniconda3/envs/dl/lib/python3.11/site-packages (from mistral-common[opencv]>=1.4.4->vllm) (1.4.4)\n",
            "Requirement already satisfied: einops in /home/kogolobo/miniconda3/envs/dl/lib/python3.11/site-packages (from vllm) (0.8.0)\n",
            "Requirement already satisfied: compressed-tensors==0.6.0 in /home/kogolobo/miniconda3/envs/dl/lib/python3.11/site-packages (from vllm) (0.6.0)\n",
            "Requirement already satisfied: ray>=2.9 in /home/kogolobo/miniconda3/envs/dl/lib/python3.11/site-packages (from vllm) (2.38.0)\n",
            "Requirement already satisfied: nvidia-ml-py in /home/kogolobo/miniconda3/envs/dl/lib/python3.11/site-packages (from vllm) (12.560.30)\n",
            "Requirement already satisfied: torchvision==0.19 in /home/kogolobo/miniconda3/envs/dl/lib/python3.11/site-packages (from vllm) (0.19.0)\n",
            "Requirement already satisfied: xformers==0.0.27.post2 in /home/kogolobo/miniconda3/envs/dl/lib/python3.11/site-packages (from vllm) (0.0.27.post2)\n",
            "Requirement already satisfied: fastapi!=0.113.*,!=0.114.0,>=0.107.0 in /home/kogolobo/miniconda3/envs/dl/lib/python3.11/site-packages (from vllm) (0.115.5)\n",
            "Requirement already satisfied: interegular>=0.3.2 in /home/kogolobo/miniconda3/envs/dl/lib/python3.11/site-packages (from lm-format-enforcer==0.10.6->vllm) (0.3.3)\n",
            "Requirement already satisfied: sympy in /home/kogolobo/miniconda3/envs/dl/lib/python3.11/site-packages (from torch->bitsandbytes) (1.12)\n",
            "Requirement already satisfied: networkx in /home/kogolobo/miniconda3/envs/dl/lib/python3.11/site-packages (from torch->bitsandbytes) (3.2.1)\n",
            "Requirement already satisfied: jinja2 in /home/kogolobo/miniconda3/envs/dl/lib/python3.11/site-packages (from torch->bitsandbytes) (3.1.2)\n",
            "Requirement already satisfied: fsspec in /home/kogolobo/miniconda3/envs/dl/lib/python3.11/site-packages (from torch->bitsandbytes) (2023.10.0)\n",
            "Requirement already satisfied: starlette<0.42.0,>=0.40.0 in /home/kogolobo/miniconda3/envs/dl/lib/python3.11/site-packages (from fastapi!=0.113.*,!=0.114.0,>=0.107.0->vllm) (0.41.2)\n",
            "Requirement already satisfied: jsonschema<5.0.0,>=4.21.1 in /home/kogolobo/miniconda3/envs/dl/lib/python3.11/site-packages (from mistral-common>=1.4.4->mistral-common[opencv]>=1.4.4->vllm) (4.23.0)\n",
            "Requirement already satisfied: opencv-python-headless<5.0.0,>=4.0.0 in /home/kogolobo/miniconda3/envs/dl/lib/python3.11/site-packages (from mistral-common[opencv]>=1.4.4->vllm) (4.10.0.84)\n",
            "Requirement already satisfied: anyio<5,>=3.5.0 in /home/kogolobo/miniconda3/envs/dl/lib/python3.11/site-packages (from openai>=1.40.0->vllm) (3.7.1)\n",
            "Requirement already satisfied: distro<2,>=1.7.0 in /home/kogolobo/miniconda3/envs/dl/lib/python3.11/site-packages (from openai>=1.40.0->vllm) (1.8.0)\n",
            "Requirement already satisfied: httpx<1,>=0.23.0 in /home/kogolobo/miniconda3/envs/dl/lib/python3.11/site-packages (from openai>=1.40.0->vllm) (0.25.1)\n",
            "Requirement already satisfied: jiter<1,>=0.4.0 in /home/kogolobo/miniconda3/envs/dl/lib/python3.11/site-packages (from openai>=1.40.0->vllm) (0.7.1)\n",
            "Requirement already satisfied: sniffio in /home/kogolobo/miniconda3/envs/dl/lib/python3.11/site-packages (from openai>=1.40.0->vllm) (1.3.0)\n",
            "Requirement already satisfied: lark in /home/kogolobo/miniconda3/envs/dl/lib/python3.11/site-packages (from outlines<0.1,>=0.0.43->vllm) (1.2.2)\n",
            "Requirement already satisfied: nest-asyncio in /home/kogolobo/miniconda3/envs/dl/lib/python3.11/site-packages (from outlines<0.1,>=0.0.43->vllm) (1.6.0)\n",
            "Requirement already satisfied: cloudpickle in /home/kogolobo/miniconda3/envs/dl/lib/python3.11/site-packages (from outlines<0.1,>=0.0.43->vllm) (3.0.0)\n",
            "Requirement already satisfied: diskcache in /home/kogolobo/miniconda3/envs/dl/lib/python3.11/site-packages (from outlines<0.1,>=0.0.43->vllm) (5.6.3)\n",
            "Requirement already satisfied: numba in /home/kogolobo/miniconda3/envs/dl/lib/python3.11/site-packages (from outlines<0.1,>=0.0.43->vllm) (0.60.0)\n",
            "Requirement already satisfied: referencing in /home/kogolobo/miniconda3/envs/dl/lib/python3.11/site-packages (from outlines<0.1,>=0.0.43->vllm) (0.35.1)\n",
            "Requirement already satisfied: datasets in /home/kogolobo/miniconda3/envs/dl/lib/python3.11/site-packages (from outlines<0.1,>=0.0.43->vllm) (2.18.0)\n",
            "Requirement already satisfied: pycountry in /home/kogolobo/miniconda3/envs/dl/lib/python3.11/site-packages (from outlines<0.1,>=0.0.43->vllm) (24.6.1)\n",
            "Requirement already satisfied: pyairports in /home/kogolobo/miniconda3/envs/dl/lib/python3.11/site-packages (from outlines<0.1,>=0.0.43->vllm) (2.1.1)\n",
            "Requirement already satisfied: annotated-types>=0.6.0 in /home/kogolobo/miniconda3/envs/dl/lib/python3.11/site-packages (from pydantic>=2.9->vllm) (0.6.0)\n",
            "Requirement already satisfied: pydantic-core==2.23.4 in /home/kogolobo/miniconda3/envs/dl/lib/python3.11/site-packages (from pydantic>=2.9->vllm) (2.23.4)\n",
            "Requirement already satisfied: click>=7.0 in /home/kogolobo/miniconda3/envs/dl/lib/python3.11/site-packages (from ray>=2.9->vllm) (8.1.7)\n",
            "Requirement already satisfied: msgpack<2.0.0,>=1.0.0 in /home/kogolobo/miniconda3/envs/dl/lib/python3.11/site-packages (from ray>=2.9->vllm) (1.1.0)\n",
            "Requirement already satisfied: aiosignal in /home/kogolobo/miniconda3/envs/dl/lib/python3.11/site-packages (from ray>=2.9->vllm) (1.3.1)\n",
            "Requirement already satisfied: frozenlist in /home/kogolobo/miniconda3/envs/dl/lib/python3.11/site-packages (from ray>=2.9->vllm) (1.4.0)\n",
            "Requirement already satisfied: charset-normalizer<4,>=2 in /home/kogolobo/miniconda3/envs/dl/lib/python3.11/site-packages (from requests->transformers) (3.3.2)\n",
            "Requirement already satisfied: idna<4,>=2.5 in /home/kogolobo/miniconda3/envs/dl/lib/python3.11/site-packages (from requests->transformers) (3.4)\n",
            "Requirement already satisfied: urllib3<3,>=1.21.1 in /home/kogolobo/miniconda3/envs/dl/lib/python3.11/site-packages (from requests->transformers) (2.1.0)\n",
            "Requirement already satisfied: certifi>=2017.4.17 in /home/kogolobo/miniconda3/envs/dl/lib/python3.11/site-packages (from requests->transformers) (2023.11.17)\n",
            "Requirement already satisfied: attrs>=17.3.0 in /home/kogolobo/miniconda3/envs/dl/lib/python3.11/site-packages (from aiohttp->vllm) (23.1.0)\n",
            "Requirement already satisfied: multidict<7.0,>=4.5 in /home/kogolobo/miniconda3/envs/dl/lib/python3.11/site-packages (from aiohttp->vllm) (6.0.4)\n",
            "Requirement already satisfied: yarl<2.0,>=1.0 in /home/kogolobo/miniconda3/envs/dl/lib/python3.11/site-packages (from aiohttp->vllm) (1.9.3)\n",
            "Requirement already satisfied: zipp>=3.20 in /home/kogolobo/miniconda3/envs/dl/lib/python3.11/site-packages (from importlib-metadata->vllm) (3.21.0)\n",
            "Requirement already satisfied: h11>=0.8 in /home/kogolobo/miniconda3/envs/dl/lib/python3.11/site-packages (from uvicorn[standard]->vllm) (0.14.0)\n",
            "Requirement already satisfied: httptools>=0.5.0 in /home/kogolobo/miniconda3/envs/dl/lib/python3.11/site-packages (from uvicorn[standard]->vllm) (0.6.4)\n",
            "Requirement already satisfied: python-dotenv>=0.13 in /home/kogolobo/miniconda3/envs/dl/lib/python3.11/site-packages (from uvicorn[standard]->vllm) (1.0.1)\n",
            "Requirement already satisfied: uvloop!=0.15.0,!=0.15.1,>=0.14.0 in /home/kogolobo/miniconda3/envs/dl/lib/python3.11/site-packages (from uvicorn[standard]->vllm) (0.21.0)\n",
            "Requirement already satisfied: watchfiles>=0.13 in /home/kogolobo/miniconda3/envs/dl/lib/python3.11/site-packages (from uvicorn[standard]->vllm) (0.24.0)\n",
            "Requirement already satisfied: websockets>=10.4 in /home/kogolobo/miniconda3/envs/dl/lib/python3.11/site-packages (from uvicorn[standard]->vllm) (14.0)\n",
            "Requirement already satisfied: httpcore in /home/kogolobo/miniconda3/envs/dl/lib/python3.11/site-packages (from httpx<1,>=0.23.0->openai>=1.40.0->vllm) (1.0.2)\n",
            "Requirement already satisfied: jsonschema-specifications>=2023.03.6 in /home/kogolobo/miniconda3/envs/dl/lib/python3.11/site-packages (from jsonschema<5.0.0,>=4.21.1->mistral-common>=1.4.4->mistral-common[opencv]>=1.4.4->vllm) (2024.10.1)\n",
            "Requirement already satisfied: rpds-py>=0.7.1 in /home/kogolobo/miniconda3/envs/dl/lib/python3.11/site-packages (from jsonschema<5.0.0,>=4.21.1->mistral-common>=1.4.4->mistral-common[opencv]>=1.4.4->vllm) (0.21.0)\n",
            "Requirement already satisfied: pyarrow>=12.0.0 in /home/kogolobo/miniconda3/envs/dl/lib/python3.11/site-packages (from datasets->outlines<0.1,>=0.0.43->vllm) (14.0.1)\n",
            "Requirement already satisfied: pyarrow-hotfix in /home/kogolobo/miniconda3/envs/dl/lib/python3.11/site-packages (from datasets->outlines<0.1,>=0.0.43->vllm) (0.5)\n",
            "Requirement already satisfied: dill<0.3.9,>=0.3.0 in /home/kogolobo/miniconda3/envs/dl/lib/python3.11/site-packages (from datasets->outlines<0.1,>=0.0.43->vllm) (0.3.7)\n",
            "Requirement already satisfied: pandas in /home/kogolobo/miniconda3/envs/dl/lib/python3.11/site-packages (from datasets->outlines<0.1,>=0.0.43->vllm) (2.1.3)\n",
            "Requirement already satisfied: xxhash in /home/kogolobo/miniconda3/envs/dl/lib/python3.11/site-packages (from datasets->outlines<0.1,>=0.0.43->vllm) (3.4.1)\n",
            "Requirement already satisfied: multiprocess in /home/kogolobo/miniconda3/envs/dl/lib/python3.11/site-packages (from datasets->outlines<0.1,>=0.0.43->vllm) (0.70.15)\n",
            "Requirement already satisfied: MarkupSafe>=2.0 in /home/kogolobo/miniconda3/envs/dl/lib/python3.11/site-packages (from jinja2->torch->bitsandbytes) (2.1.3)\n",
            "Requirement already satisfied: llvmlite<0.44,>=0.43.0dev0 in /home/kogolobo/miniconda3/envs/dl/lib/python3.11/site-packages (from numba->outlines<0.1,>=0.0.43->vllm) (0.43.0)\n",
            "Requirement already satisfied: mpmath>=0.19 in /home/kogolobo/miniconda3/envs/dl/lib/python3.11/site-packages (from sympy->torch->bitsandbytes) (1.3.0)\n",
            "Requirement already satisfied: python-dateutil>=2.8.2 in /home/kogolobo/miniconda3/envs/dl/lib/python3.11/site-packages (from pandas->datasets->outlines<0.1,>=0.0.43->vllm) (2.8.2)\n",
            "Requirement already satisfied: pytz>=2020.1 in /home/kogolobo/miniconda3/envs/dl/lib/python3.11/site-packages (from pandas->datasets->outlines<0.1,>=0.0.43->vllm) (2023.3.post1)\n",
            "Requirement already satisfied: tzdata>=2022.1 in /home/kogolobo/miniconda3/envs/dl/lib/python3.11/site-packages (from pandas->datasets->outlines<0.1,>=0.0.43->vllm) (2023.3)\n",
            "Requirement already satisfied: six>=1.5 in /home/kogolobo/miniconda3/envs/dl/lib/python3.11/site-packages (from python-dateutil>=2.8.2->pandas->datasets->outlines<0.1,>=0.0.43->vllm) (1.16.0)\n"
          ]
        }
      ],
      "source": [
        "!pip install bitsandbytes transformers accelerate vllm"
      ]
    },
    {
      "cell_type": "code",
      "execution_count": 2,
      "metadata": {
        "colab": {
          "base_uri": "https://localhost:8080/"
        },
        "id": "bPIHWdgQPE98",
        "outputId": "a156b73b-8b96-4daa-f089-5d0d84a7df4f"
      },
      "outputs": [
        {
          "name": "stdout",
          "output_type": "stream",
          "text": [
            "CUDA GPU is available\n",
            "Device name: NVIDIA GeForce RTX 4090\n"
          ]
        },
        {
          "name": "stderr",
          "output_type": "stream",
          "text": [
            "Unused kwargs: ['_load_in_4bit', '_load_in_8bit', 'quant_method']. These kwargs are not used in <class 'transformers.utils.quantization_config.BitsAndBytesConfig'>.\n",
            "Unused kwargs: ['_load_in_4bit', '_load_in_8bit', 'quant_method']. These kwargs are not used in <class 'transformers.utils.quantization_config.BitsAndBytesConfig'>.\n"
          ]
        }
      ],
      "source": [
        "import pprint\n",
        "import torch\n",
        "from torch.distributions import Categorical\n",
        "from transformers import AutoTokenizer, AutoModelForCausalLM, GenerationConfig, set_seed, BitsAndBytesConfig\n",
        "\n",
        "# Default device is CPU\n",
        "device = torch.device('cpu')\n",
        "\n",
        "# Check if CUDA GPU is available\n",
        "if torch.cuda.is_available():\n",
        "    device = torch.device('cuda')\n",
        "    print('CUDA GPU is available')\n",
        "    print(f\"Device name: {torch.cuda.get_device_name(0)}\")\n",
        "\n",
        "\n",
        "target_model_name = \"unsloth/Llama-3.2-3B-Instruct-bnb-4bit\"\n",
        "auxilary_model_name = \"unsloth/Llama-3.2-1B-Instruct-bnb-4bit\"\n",
        "\n",
        "# Load models and tokenizer\n",
        "compute_dtype = torch.bfloat16\n",
        "quantization_config = BitsAndBytesConfig(\n",
        "        load_in_4bit=True,\n",
        "        llm_int8_threshold=6.0,\n",
        "        llm_int8_has_fp16_weight=False,\n",
        "        bnb_4bit_compute_dtype=compute_dtype,\n",
        "        bnb_4bit_use_double_quant=True,\n",
        "        bnb_4bit_quant_type=\"nf4\"\n",
        ")\n",
        "\n",
        "model_args = {\"torch_dtype\": compute_dtype, \"device_map\": \"auto\"}\n",
        "target_model = AutoModelForCausalLM.from_pretrained(target_model_name, **model_args)\n",
        "auxilary_model = AutoModelForCausalLM.from_pretrained(auxilary_model_name, **model_args)\n",
        "tokenizer = AutoTokenizer.from_pretrained(target_model_name)\n",
        "tokenizer.pad_token = tokenizer.eos_token\n",
        "tokenizer.padding_side = \"left\""
      ]
    },
    {
      "cell_type": "code",
      "execution_count": 6,
      "metadata": {
        "id": "KQSne5e5P4jl"
      },
      "outputs": [],
      "source": [
        "@torch.no_grad()\n",
        "def sample_decode(model, tokenizer, input_ids: torch.Tensor, max_new_tokens: int, temperature: float = 1.0) -> torch.Tensor:\n",
        "    log_zero = -1e4\n",
        "\n",
        "    # Initialize generated tokens with the input prompt\n",
        "    generated_ids = input_ids\n",
        "    finished_sequences = torch.zeros(input_ids.shape[0], dtype=torch.bool, device=model.device)\n",
        "    log_probs = []\n",
        "\n",
        "    # Iteratively generate tokens using greedy decoding\n",
        "    for token_idx in range(max_new_tokens):\n",
        "        # Filter out finished sequences\n",
        "        active_indices = torch.nonzero(~finished_sequences).squeeze(-1)\n",
        "        if len(active_indices) == 0:\n",
        "            break\n",
        "\n",
        "        # Get model outputs for active sequences\n",
        "        active_input_ids = generated_ids[active_indices]\n",
        "        outputs = model(input_ids=active_input_ids)\n",
        "        logits = outputs.logits\n",
        "\n",
        "        # Get the last token logits and apply argmax to select the next token\n",
        "        next_token_logits = logits[:, -1, :] / temperature\n",
        "        next_token_log_probs = torch.nn.functional.log_softmax(next_token_logits, dim=-1)\n",
        "        next_token_id = Categorical(logits=next_token_log_probs).sample()\n",
        "        # next_token_log_prob, next_token_id = next_token_log_probs.max(dim=-1)\n",
        "\n",
        "        # Save log next-token distribution for each sequence in batch; inactivate sequences produce <pad> token with probability 1\n",
        "        curr_log_probs = torch.full((input_ids.shape[0], len(tokenizer)), log_zero, dtype=next_token_log_probs.dtype, device=model.device)\n",
        "        curr_log_probs[:, tokenizer.pad_token_id] = 0.0\n",
        "        curr_log_probs[active_indices] = next_token_log_probs\n",
        "        log_probs.append(curr_log_probs)\n",
        "\n",
        "        # Update finished sequences and add padding if necessary\n",
        "        finished_sequences[active_indices] |= (next_token_id == tokenizer.eos_token_id)\n",
        "\n",
        "        # Create a tensor for the next tokens to append to all sequences\n",
        "        new_tokens = torch.full((generated_ids.shape[0], 1), tokenizer.pad_token_id, dtype=torch.long, device=model.device)\n",
        "        new_tokens[active_indices] = next_token_id.unsqueeze(-1)\n",
        "\n",
        "        # Append the next token to the generated sequence\n",
        "        generated_ids = torch.cat([generated_ids, new_tokens], dim=-1)\n",
        "\n",
        "    return generated_ids, log_probs"
      ]
    },
    {
      "cell_type": "code",
      "execution_count": 4,
      "metadata": {
        "id": "CNxmC_zfP9TJ"
      },
      "outputs": [],
      "source": [
        "@torch.no_grad()\n",
        "def specualative_decode(target_model, auxilary_model, tokenizer, input_ids: torch.Tensor,\n",
        "                        max_new_tokens: int, num_speculated: int = 5, temperature: float = 1.0) -> torch.Tensor:\n",
        "    # Initialize generated tokens with the input prompt\n",
        "    generated_ids = input_ids\n",
        "    max_length = input_ids.shape[1] + max_new_tokens\n",
        "\n",
        "    while generated_ids.shape[1] < max_length:\n",
        "        tokens_remaining = max_length - generated_ids.shape[1]\n",
        "        speculation_size = min(num_speculated, tokens_remaining - 1)\n",
        "\n",
        "        if speculation_size > 0:\n",
        "\n",
        "            # Generate speculative tokens\n",
        "            speculated_ids, speculated_log_probs = sample_decode(auxilary_model, tokenizer, generated_ids, speculation_size, temperature)\n",
        "            speculation_size = speculated_ids.shape[1] - generated_ids.shape[1]\n",
        "            speculated_token_ids = speculated_ids[:, -speculation_size:]\n",
        "            speculated_log_probs = torch.stack(speculated_log_probs, dim=1).squeeze(0)\n",
        "\n",
        "            # Verify all speculative tokens in one forward pass\n",
        "            outputs = target_model(input_ids=speculated_ids)\n",
        "            target_logits = outputs.logits[:, -(speculation_size + 1):, :].squeeze(0) / temperature\n",
        "            target_log_probs = torch.nn.functional.log_softmax(target_logits, dim=-1)\n",
        "\n",
        "            # Compare log-likelihood ratios of target and speculative tokens; use unifrorm (0, 1) distribution to decide acceptance\n",
        "            log_likelihood_ratios = target_log_probs[:-1].gather(1, speculated_token_ids.view(-1,1)) \\\n",
        "                                    - speculated_log_probs.gather(1, speculated_token_ids.view(-1,1))\n",
        "            uniform_log_probs = torch.log(torch.rand_like(log_likelihood_ratios))\n",
        "            rejected_indexes = torch.nonzero((log_likelihood_ratios <= uniform_log_probs).squeeze(-1))\n",
        "\n",
        "            if len(rejected_indexes) > 0:\n",
        "                # Some speculative tokens are rejected, truncate the accepted tokens\n",
        "                rejected_token_idx = rejected_indexes[0]\n",
        "                accepted_ids = speculated_token_ids[:, :rejected_token_idx]\n",
        "\n",
        "                # Sample the next token from the adjusted distribution\n",
        "                adjusted_distribution = torch.clamp(\n",
        "                    torch.exp(target_log_probs[rejected_token_idx]) - torch.exp(speculated_log_probs[rejected_token_idx]),\n",
        "                    min=0\n",
        "                )\n",
        "                adjusted_distribution = torch.div(adjusted_distribution, adjusted_distribution.sum())\n",
        "                next_token_id = Categorical(probs=adjusted_distribution).sample()\n",
        "\n",
        "            else:\n",
        "                # All speculative tokens are accepted, sample the next token from target model\n",
        "                accepted_ids = speculated_token_ids\n",
        "                if accepted_ids[0, -1].item() != tokenizer.eos_token_id:\n",
        "                    next_token_id = Categorical(logits=target_logits[[-1]]).sample()\n",
        "\n",
        "            # Append the accepted tokens to the generated sequence\n",
        "            if accepted_ids.numel() == 0 or (accepted_ids.numel() > 0  and accepted_ids[0, -1].item() != tokenizer.eos_token_id):\n",
        "                new_tokens = torch.cat([accepted_ids, next_token_id.unsqueeze(-1)], dim=-1)\n",
        "            else:\n",
        "                new_tokens = accepted_ids\n",
        "\n",
        "            generated_ids = torch.cat([generated_ids, new_tokens], dim=-1)\n",
        "\n",
        "        else:\n",
        "            # If no speculation is performed, use the target model for generation\n",
        "            outputs = target_model(input_ids=generated_ids)\n",
        "            target_logits = outputs.logits[:, -1, :].squeeze(0) / temperature\n",
        "            target_log_probs = torch.nn.functional.log_softmax(target_logits, dim=-1).unsqueeze(0)\n",
        "            next_token_id = Categorical(logits=target_log_probs).sample()\n",
        "            generated_ids = torch.cat([generated_ids, next_token_id.unsqueeze(0)], dim=-1)\n",
        "\n",
        "        if generated_ids[0, -1] == tokenizer.eos_token_id:\n",
        "            break\n",
        "\n",
        "    return generated_ids"
      ]
    },
    {
      "cell_type": "code",
      "execution_count": 5,
      "metadata": {
        "colab": {
          "base_uri": "https://localhost:8080/"
        },
        "id": "OBRSXdWnP-61",
        "outputId": "681b1711-921f-4871-9d12-3c23e7141762"
      },
      "outputs": [
        {
          "name": "stdout",
          "output_type": "stream",
          "text": [
            "The outputs match!\n",
            "{'Prompt': [{'content': 'You are an algebra assistant. The user will ask you '\n",
            "                        'math questions and you will solve them.',\n",
            "             'role': 'system'},\n",
            "            {'content': 'Peter purchased 20 popsicles at $0.25 each. He also '\n",
            "                        'purchased 2730244 ice cream bars at $0.50 each. How '\n",
            "                        'much did he pay in total in dollars?',\n",
            "             'role': 'user'}],\n",
            " 'Sampled': ['system\\n'\n",
            "             '\\n'\n",
            "             'Cutting Knowledge Date: December 2023\\n'\n",
            "             'Today Date: 13 Nov 2024\\n'\n",
            "             '\\n'\n",
            "             'You are an algebra assistant. The user will ask you math '\n",
            "             'questions and you will solve them.user\\n'\n",
            "             '\\n'\n",
            "             'Peter purchased 20 popsicles at $0.25 each. He also purchased '\n",
            "             '2730244 ice cream bars at $0.50 each. How much did he pay in '\n",
            "             'total in dollars?assistant\\n'\n",
            "             '\\n'\n",
            "             'To find the total amount Peter paid, we need to calculate the '\n",
            "             'cost of the popsicles and the ice cream bars separately and then '\n",
            "             'add them together.\\n'\n",
            "             '\\n'\n",
            "             'Cost of popsicles: 20 popsicles * $0.25/popsicle = $5\\n'\n",
            "             'Cost of ice cream bars: 2730244 ice cream bars * $0.50/ice cream '\n",
            "             'bar = $1365122\\n'\n",
            "             '\\n'\n",
            "             'Total cost: $5 + $1365122 = $1365127\\n'\n",
            "             '\\n'\n",
            "             'So, Peter paid a total of $1365127.'],\n",
            " 'Speculative': ['system\\n'\n",
            "                 '\\n'\n",
            "                 'Cutting Knowledge Date: December 2023\\n'\n",
            "                 'Today Date: 13 Nov 2024\\n'\n",
            "                 '\\n'\n",
            "                 'You are an algebra assistant. The user will ask you math '\n",
            "                 'questions and you will solve them.user\\n'\n",
            "                 '\\n'\n",
            "                 'Peter purchased 20 popsicles at $0.25 each. He also '\n",
            "                 'purchased 2730244 ice cream bars at $0.50 each. How much did '\n",
            "                 'he pay in total in dollars?assistant\\n'\n",
            "                 '\\n'\n",
            "                 'To find the total amount Peter paid, we need to calculate '\n",
            "                 'the cost of the popsicles and the ice cream bars separately '\n",
            "                 'and then add them together.\\n'\n",
            "                 '\\n'\n",
            "                 'Cost of popsicles: 20 popsicles * $0.25/popsicle = $5\\n'\n",
            "                 'Cost of ice cream bars: 2730244 ice cream bars * $0.50/ice '\n",
            "                 'cream bar = $1365122\\n'\n",
            "                 '\\n'\n",
            "                 'Total cost: $5 + $1365122 = $1365127\\n'\n",
            "                 '\\n'\n",
            "                 'So, Peter paid a total of $1365127.']}\n"
          ]
        }
      ],
      "source": [
        "messages = [\n",
        "    [\n",
        "        {'role': 'system', 'content': 'You are an algebra assistant. The user will ask you math questions and you will solve them.'},\n",
        "        {'role': 'user', 'content': \"Peter purchased 20 popsicles at $0.25 each. He also purchased 2730244 ice cream bars at $0.50 each. How much did he pay in total in dollars?\"},\n",
        "    ],\n",
        "]\n",
        "max_new_tokens = 120\n",
        "temperature = 0.001\n",
        "\n",
        "inputs = tokenizer.apply_chat_template(messages)\n",
        "for input_ids, message in zip(inputs, messages):\n",
        "    input_ids = torch.tensor(input_ids, device=target_model.device).unsqueeze(0)\n",
        "\n",
        "    set_seed(42)\n",
        "    speculative_ids = specualative_decode(target_model, auxilary_model, tokenizer, input_ids, max_new_tokens, temperature=temperature)\n",
        "\n",
        "    set_seed(42)\n",
        "    sampled_ids, log_probs = sample_decode(target_model, tokenizer, input_ids, max_new_tokens, temperature=temperature)\n",
        "\n",
        "    if torch.equal(speculative_ids, sampled_ids):\n",
        "        print(\"The outputs match!\")\n",
        "    else:\n",
        "        print(\"The outputs do not match.\")\n",
        "\n",
        "    speculative_text = tokenizer.batch_decode(speculative_ids, skip_special_tokens=True)\n",
        "    sampled_text = tokenizer.batch_decode(sampled_ids, skip_special_tokens=True)\n",
        "\n",
        "    pprint.pprint({\"Prompt\": message, \"Speculative\": speculative_text, \"Sampled\": sampled_text})\n"
      ]
    },
    {
      "cell_type": "code",
      "execution_count": 6,
      "metadata": {
        "colab": {
          "base_uri": "https://localhost:8080/",
          "height": 113,
          "referenced_widgets": [
            "489c67ddbfc34058a315d3a2d942075c",
            "218c79d36ac4445cb67d658f2995025e",
            "0df80053fdea49dfad7291645a40dcee",
            "a4392fd858d2439fbf56f0750b53d9e6",
            "0d5308cac10b495cb89128f4585a0e7e",
            "35ee8f38ee924e8fa2915312fcb970be",
            "e673d6e178c448ce96e721dbc9a590f7",
            "c8cadd9e0f054c409bd2ece4a0230fda",
            "82e19bcc64524fd187e9b984ad64795d",
            "7f6dbb40b0c948bfb219191167416c6e",
            "b5c79d2c3832456fb65743fb284c5011",
            "4f1135c99d5a4e809e19374d54e03ab5",
            "30da41545b9147af95cb633ffd0ac949",
            "bdbbcb7f26a74a89b0c1c7e9b53db0c8",
            "3687005dbc744011a303cdd539d67b2b",
            "08568f38c8ef47e5835485134e6a4392",
            "86ad3b736ea84cef88974bf531859fec",
            "30a17ee900134a2cb628708d88f47383",
            "9e3558bbde1147d3801840f5ec2a44f6",
            "a274c65e94274f248f33157526d5e914",
            "dfd749a03c7e4fb2ac1b0f098e0b9224",
            "16e702d8138a4c3f9cef0ff46a660e70",
            "973ebbb4388249fd978356bf71b34471",
            "7295873850234ea3aa570d22ec1329bc",
            "4d6fc384f0804cba896b283c45ff48c6",
            "69fe53c5e51544c09086349b574eb92e",
            "e628f769c6e7457ea2356c3b03ae9ea6",
            "9614ededef8947a58c18931c1d707e62",
            "ef48a4a457424bb482fa82d7cbb280fe",
            "fc8a884501cc44d3b819cb5eb778333e",
            "ed77b2fcfdda4496b1bf45c98808b9b9",
            "c02f9e7f43444910adc56ee9d78ebb89",
            "00f7280b44564079b83fa5ead6583465"
          ]
        },
        "id": "DLdZfaBF5LRu",
        "outputId": "8c40ddc2-b4f2-4a32-c51c-0d5860caf88e"
      },
      "outputs": [],
      "source": [
        "from datasets import load_dataset\n",
        "from tqdm.notebook import tqdm\n",
        "from collections import defaultdict\n",
        "import time\n",
        "\n",
        "seed = 42\n",
        "temperature = 0.1\n",
        "max_new_tokens = 100\n",
        "target_device = target_model.device\n",
        "data = load_dataset(\"reasoning-machines/gsm-hard\")['train'].shuffle(seed=seed).select(range(10))['input']\n",
        "messages = [\n",
        "    [\n",
        "        {'role': 'system', 'content': 'You are an algebra assistant. The user will ask you math questions and you will solve them.'},\n",
        "        {'role': 'user', 'content': example},\n",
        "    ]\n",
        "    for example in data\n",
        "]\n",
        "inputs = tokenizer.apply_chat_template(messages, tokenize=False)"
      ]
    },
    {
      "cell_type": "code",
      "execution_count": 7,
      "metadata": {
        "colab": {
          "base_uri": "https://localhost:8080/",
          "height": 49,
          "referenced_widgets": [
            "2b6ffd4d1974415289fbb0551dc71675",
            "60016a623f2e45449cf5d83245e38f9b",
            "85eb16f1852f42d4bdd0834253404730",
            "7343700b0586457fa3c371d87de7a143",
            "5cdcbc945a174c4c889092fe5f0b9418",
            "ceda62169f1943bf824278fe9c814fe9",
            "391329a2130747f7a30de23453c02b51",
            "84b5688773d940a68fe4373a3ce0e371",
            "82ba586017d24bfe9747e39fda17490e",
            "3d6cd2f9c28047289b9a8ce1410a8bdc",
            "d3f3b334b12440b68d8a739bf54f8111"
          ]
        },
        "id": "KLmn0_G-TnrI",
        "outputId": "b14667ce-a3a8-4ef0-9d56-ab588c00a14e"
      },
      "outputs": [
        {
          "data": {
            "application/vnd.jupyter.widget-view+json": {
              "model_id": "3efab7f0e4934c498d0cc0470bca5de7",
              "version_major": 2,
              "version_minor": 0
            },
            "text/plain": [
              "  0%|          | 0/10 [00:00<?, ?it/s]"
            ]
          },
          "metadata": {},
          "output_type": "display_data"
        }
      ],
      "source": [
        "from accelerate.utils import release_memory\n",
        "\n",
        "sample_latencies = []\n",
        "for example in tqdm(inputs):\n",
        "    input_ids = tokenizer(example, return_tensors=\"pt\", padding=False).input_ids.to(target_device)\n",
        "    start = time.perf_counter()\n",
        "    sampled_ids, log_probs = sample_decode(target_model, tokenizer, input_ids, max_new_tokens, temperature=temperature)\n",
        "    latency = time.perf_counter() - start\n",
        "    sample_latencies.append(latency)\n",
        "\n",
        "target_model = release_memory(target_model)\n",
        "auxilary_model = release_memory(auxilary_model)"
      ]
    },
    {
      "cell_type": "code",
      "execution_count": 8,
      "metadata": {
        "colab": {
          "base_uri": "https://localhost:8080/",
          "height": 1000,
          "referenced_widgets": [
            "1d02663a567b46d1ba20122e4b7361dd",
            "7e08b44dfe5347f99eb485c755ce178a",
            "b49abfc1e0b7445b8b5cbbf2eb885e18",
            "943c96cc125c409787d49267db24171d",
            "ffa61e2b39d54fd69882620bddd7caab",
            "e7d1922e060c4764832d35b13bb5ec61",
            "b9ffa917e77447dd865aac2aa772d63c",
            "c1c6cb41493243e4b22205f0230008de",
            "3b63dd28cf4548e3a2735efeab20b3f7",
            "1d5074c189d047849c7b9c799bfb7094",
            "b1b1cdf8206d41d7984ba04c796a637c",
            "dd17d0a46c6d4bc4b09d3f58bc7d36ae",
            "5c92c8f6447c4ef19a6f33825c4238ae",
            "6f34b8af71a74278a1d24487466801d5",
            "5b1a870f181e4efd90e9e02393037e3e",
            "81ef2be8420c431a859d84ff99843281",
            "dce9fa7b65b649a494a4ced72c92b271",
            "6ff70e04799c4f73a52474e183fa8fa2",
            "f3109e0621174d86bff2c85035d1b539",
            "e1643cb32292492995c9bf793dd6a4fe",
            "dba22813182d4d5b8ad17ead96a0efc8",
            "8972e91a10f04dc19ed8ecdadef64999",
            "8807743976d04d88a1f646255ddd5a99",
            "39dccadb3c3348efb687adb2ca298871",
            "d210298528ef4c5690c6c2d9614d52cc",
            "a5eecc6760834348aa1ac4b87a0f07d1",
            "dc6f9c56174e48758f854ef0456f4362",
            "3e0cd2ae9b814250bd5d5f6811fdc29a",
            "e8410a6f3c174dd789fbb9eebcd6703f",
            "d3edd6b3e2364ef097575c396582fd79",
            "32001f5ab9bf4b87b2b523c259079032",
            "ef62ecc135a743918c15bf862126fa3e",
            "c645b2da2c9a4595b80725473e655b57",
            "5df0d9a984fc4d4fa33fe32eeeb59a94",
            "0d7f76e4a8aa4f81b144a4bea28dedd8",
            "c79f1d3cb551498493cc3f1e1e1aad35",
            "bafab255956c4d75b357edca040b79e0",
            "bd826ab0c689428297b8c3e69b61b0b9",
            "c9bd47d82f1843e181ae1bdbe94bac43",
            "cd301117ec7a4e889164c40d430a8bc4",
            "e8cc5a080c5b478dbce1461f20ac31a2",
            "a3da6433748b4215b37eb6c9b241fc25",
            "363b371217de4a029a5b6833e8a89802",
            "71e0a4992eba420a9fc96e07142b807e"
          ]
        },
        "id": "p5Sgyu8FThKk",
        "outputId": "6e36fd71-ca4b-4ab3-b741-c82ea26ec803"
      },
      "outputs": [
        {
          "name": "stdout",
          "output_type": "stream",
          "text": [
            "Testing with 1 speculative tokens\n"
          ]
        },
        {
          "data": {
            "application/vnd.jupyter.widget-view+json": {
              "model_id": "4fba71337429407481bc6f4dee578408",
              "version_major": 2,
              "version_minor": 0
            },
            "text/plain": [
              "Loading safetensors checkpoint shards:   0% Completed | 0/1 [00:00<?, ?it/s]\n"
            ]
          },
          "metadata": {},
          "output_type": "display_data"
        },
        {
          "data": {
            "application/vnd.jupyter.widget-view+json": {
              "model_id": "cf7596eee3844e1baf0ab62994e9fe62",
              "version_major": 2,
              "version_minor": 0
            },
            "text/plain": [
              "Loading safetensors checkpoint shards:   0% Completed | 0/1 [00:00<?, ?it/s]\n"
            ]
          },
          "metadata": {},
          "output_type": "display_data"
        },
        {
          "data": {
            "application/vnd.jupyter.widget-view+json": {
              "model_id": "472733ec26ce4d8dbb5b898470aa23a6",
              "version_major": 2,
              "version_minor": 0
            },
            "text/plain": [
              "Loading safetensors checkpoint shards:   0% Completed | 0/1 [00:00<?, ?it/s]\n"
            ]
          },
          "metadata": {},
          "output_type": "display_data"
        },
        {
          "data": {
            "application/vnd.jupyter.widget-view+json": {
              "model_id": "2c01c63762724896b2ec3d1df55ff43d",
              "version_major": 2,
              "version_minor": 0
            },
            "text/plain": [
              "Loading safetensors checkpoint shards:   0% Completed | 0/1 [00:00<?, ?it/s]\n"
            ]
          },
          "metadata": {},
          "output_type": "display_data"
        },
        {
          "data": {
            "application/vnd.jupyter.widget-view+json": {
              "model_id": "1d0c633fd6be46d2a0f0b84ad2fd3427",
              "version_major": 2,
              "version_minor": 0
            },
            "text/plain": [
              "  0%|          | 0/10 [00:00<?, ?it/s]"
            ]
          },
          "metadata": {},
          "output_type": "display_data"
        },
        {
          "name": "stderr",
          "output_type": "stream",
          "text": [
            "Processed prompts: 100%|██████████| 2/2 [00:01<00:00,  1.28it/s, est. speed input: 3.85 toks/s, output: 128.28 toks/s]\n",
            "Processed prompts: 100%|██████████| 2/2 [00:01<00:00,  1.44it/s, est. speed input: 4.33 toks/s, output: 144.48 toks/s]\n",
            "Processed prompts: 100%|██████████| 2/2 [00:01<00:00,  1.43it/s, est. speed input: 4.30 toks/s, output: 143.32 toks/s]\n",
            "Processed prompts: 100%|██████████| 2/2 [00:01<00:00,  1.43it/s, est. speed input: 4.31 toks/s, output: 143.53 toks/s]\n",
            "Processed prompts: 100%|██████████| 2/2 [00:01<00:00,  1.44it/s, est. speed input: 4.31 toks/s, output: 143.68 toks/s]\n",
            "Processed prompts: 100%|██████████| 2/2 [00:01<00:00,  1.44it/s, est. speed input: 4.32 toks/s, output: 143.87 toks/s]\n",
            "Processed prompts: 100%|██████████| 2/2 [00:01<00:00,  1.44it/s, est. speed input: 4.32 toks/s, output: 144.07 toks/s]\n",
            "Processed prompts: 100%|██████████| 2/2 [00:01<00:00,  1.43it/s, est. speed input: 4.31 toks/s, output: 143.55 toks/s]\n",
            "Processed prompts: 100%|██████████| 2/2 [00:01<00:00,  1.43it/s, est. speed input: 4.29 toks/s, output: 143.11 toks/s]\n",
            "Processed prompts: 100%|██████████| 2/2 [00:01<00:00,  1.43it/s, est. speed input: 4.28 toks/s, output: 142.67 toks/s]\n"
          ]
        },
        {
          "name": "stdout",
          "output_type": "stream",
          "text": [
            "Testing with 2 speculative tokens\n"
          ]
        },
        {
          "data": {
            "application/vnd.jupyter.widget-view+json": {
              "model_id": "f77cdc6e07114c0bbc07530f35cdab10",
              "version_major": 2,
              "version_minor": 0
            },
            "text/plain": [
              "Loading safetensors checkpoint shards:   0% Completed | 0/1 [00:00<?, ?it/s]\n"
            ]
          },
          "metadata": {},
          "output_type": "display_data"
        },
        {
          "data": {
            "application/vnd.jupyter.widget-view+json": {
              "model_id": "1cf5a804b53d42ab88f8790922ec23f6",
              "version_major": 2,
              "version_minor": 0
            },
            "text/plain": [
              "Loading safetensors checkpoint shards:   0% Completed | 0/1 [00:00<?, ?it/s]\n"
            ]
          },
          "metadata": {},
          "output_type": "display_data"
        },
        {
          "data": {
            "application/vnd.jupyter.widget-view+json": {
              "model_id": "92acd3ad4dee4ac7a0899eda5672cf98",
              "version_major": 2,
              "version_minor": 0
            },
            "text/plain": [
              "Loading safetensors checkpoint shards:   0% Completed | 0/1 [00:00<?, ?it/s]\n"
            ]
          },
          "metadata": {},
          "output_type": "display_data"
        },
        {
          "data": {
            "application/vnd.jupyter.widget-view+json": {
              "model_id": "7a919599bac442fbb13c54e52961100a",
              "version_major": 2,
              "version_minor": 0
            },
            "text/plain": [
              "Loading safetensors checkpoint shards:   0% Completed | 0/1 [00:00<?, ?it/s]\n"
            ]
          },
          "metadata": {},
          "output_type": "display_data"
        },
        {
          "data": {
            "application/vnd.jupyter.widget-view+json": {
              "model_id": "878fbfa2d9cf407fa0d7d9c6b9dd6128",
              "version_major": 2,
              "version_minor": 0
            },
            "text/plain": [
              "  0%|          | 0/10 [00:00<?, ?it/s]"
            ]
          },
          "metadata": {},
          "output_type": "display_data"
        },
        {
          "name": "stderr",
          "output_type": "stream",
          "text": [
            "Processed prompts: 100%|██████████| 2/2 [00:02<00:00,  1.07s/it, est. speed input: 2.81 toks/s, output: 93.53 toks/s]\n",
            "Processed prompts: 100%|██████████| 2/2 [00:01<00:00,  1.14it/s, est. speed input: 3.43 toks/s, output: 114.43 toks/s]\n",
            "Processed prompts: 100%|██████████| 2/2 [00:01<00:00,  1.11it/s, est. speed input: 3.33 toks/s, output: 110.96 toks/s]\n",
            "Processed prompts: 100%|██████████| 2/2 [00:01<00:00,  1.02it/s, est. speed input: 3.05 toks/s, output: 101.82 toks/s]\n",
            "Processed prompts: 100%|██████████| 2/2 [00:01<00:00,  1.02it/s, est. speed input: 3.05 toks/s, output: 101.56 toks/s]\n",
            "Processed prompts: 100%|██████████| 2/2 [00:01<00:00,  1.26it/s, est. speed input: 3.77 toks/s, output: 125.82 toks/s]\n",
            "Processed prompts: 100%|██████████| 2/2 [00:01<00:00,  1.16it/s, est. speed input: 3.49 toks/s, output: 116.26 toks/s]\n",
            "Processed prompts: 100%|██████████| 2/2 [00:01<00:00,  1.14it/s, est. speed input: 3.43 toks/s, output: 114.37 toks/s]\n",
            "Processed prompts: 100%|██████████| 2/2 [00:01<00:00,  1.16it/s, est. speed input: 3.47 toks/s, output: 115.83 toks/s]\n",
            "Processed prompts: 100%|██████████| 2/2 [00:01<00:00,  1.08it/s, est. speed input: 3.25 toks/s, output: 108.49 toks/s]\n"
          ]
        },
        {
          "name": "stdout",
          "output_type": "stream",
          "text": [
            "Testing with 3 speculative tokens\n"
          ]
        },
        {
          "data": {
            "application/vnd.jupyter.widget-view+json": {
              "model_id": "2b19f1e4f1b54865ad5cb96f24ba7f68",
              "version_major": 2,
              "version_minor": 0
            },
            "text/plain": [
              "Loading safetensors checkpoint shards:   0% Completed | 0/1 [00:00<?, ?it/s]\n"
            ]
          },
          "metadata": {},
          "output_type": "display_data"
        },
        {
          "data": {
            "application/vnd.jupyter.widget-view+json": {
              "model_id": "b1e7d166a2804635ae847d2251a5fb2d",
              "version_major": 2,
              "version_minor": 0
            },
            "text/plain": [
              "Loading safetensors checkpoint shards:   0% Completed | 0/1 [00:00<?, ?it/s]\n"
            ]
          },
          "metadata": {},
          "output_type": "display_data"
        },
        {
          "data": {
            "application/vnd.jupyter.widget-view+json": {
              "model_id": "4ba34887a68f40b4b143cf4e647486ce",
              "version_major": 2,
              "version_minor": 0
            },
            "text/plain": [
              "Loading safetensors checkpoint shards:   0% Completed | 0/1 [00:00<?, ?it/s]\n"
            ]
          },
          "metadata": {},
          "output_type": "display_data"
        },
        {
          "data": {
            "application/vnd.jupyter.widget-view+json": {
              "model_id": "3e88028650974840a6078d2d75228c91",
              "version_major": 2,
              "version_minor": 0
            },
            "text/plain": [
              "Loading safetensors checkpoint shards:   0% Completed | 0/1 [00:00<?, ?it/s]\n"
            ]
          },
          "metadata": {},
          "output_type": "display_data"
        },
        {
          "data": {
            "application/vnd.jupyter.widget-view+json": {
              "model_id": "3d9afdd86a214bd2a8c77d37ca1df464",
              "version_major": 2,
              "version_minor": 0
            },
            "text/plain": [
              "  0%|          | 0/10 [00:00<?, ?it/s]"
            ]
          },
          "metadata": {},
          "output_type": "display_data"
        },
        {
          "name": "stderr",
          "output_type": "stream",
          "text": [
            "Processed prompts: 100%|██████████| 2/2 [00:01<00:00,  1.16it/s, est. speed input: 3.48 toks/s, output: 116.11 toks/s]\n",
            "Processed prompts: 100%|██████████| 2/2 [00:01<00:00,  1.29it/s, est. speed input: 3.88 toks/s, output: 129.31 toks/s]\n",
            "Processed prompts: 100%|██████████| 2/2 [00:01<00:00,  1.35it/s, est. speed input: 4.04 toks/s, output: 134.80 toks/s]\n",
            "Processed prompts: 100%|██████████| 2/2 [00:01<00:00,  1.35it/s, est. speed input: 4.07 toks/s, output: 135.54 toks/s]\n",
            "Processed prompts: 100%|██████████| 2/2 [00:01<00:00,  1.34it/s, est. speed input: 4.04 toks/s, output: 134.51 toks/s]\n",
            "Processed prompts: 100%|██████████| 2/2 [00:01<00:00,  1.36it/s, est. speed input: 4.07 toks/s, output: 135.72 toks/s]\n",
            "Processed prompts: 100%|██████████| 2/2 [00:01<00:00,  1.33it/s, est. speed input: 4.00 toks/s, output: 133.24 toks/s]\n",
            "Processed prompts: 100%|██████████| 2/2 [00:01<00:00,  1.33it/s, est. speed input: 4.00 toks/s, output: 133.38 toks/s]\n",
            "Processed prompts: 100%|██████████| 2/2 [00:01<00:00,  1.34it/s, est. speed input: 4.01 toks/s, output: 133.78 toks/s]\n",
            "Processed prompts: 100%|██████████| 2/2 [00:01<00:00,  1.33it/s, est. speed input: 4.00 toks/s, output: 133.20 toks/s]\n"
          ]
        },
        {
          "name": "stdout",
          "output_type": "stream",
          "text": [
            "Testing with 4 speculative tokens\n"
          ]
        },
        {
          "data": {
            "application/vnd.jupyter.widget-view+json": {
              "model_id": "468bb53e2d464670acc26d901b535b75",
              "version_major": 2,
              "version_minor": 0
            },
            "text/plain": [
              "Loading safetensors checkpoint shards:   0% Completed | 0/1 [00:00<?, ?it/s]\n"
            ]
          },
          "metadata": {},
          "output_type": "display_data"
        },
        {
          "data": {
            "application/vnd.jupyter.widget-view+json": {
              "model_id": "ac8a25f19a3a4e5092dace0ce1fe8d1a",
              "version_major": 2,
              "version_minor": 0
            },
            "text/plain": [
              "Loading safetensors checkpoint shards:   0% Completed | 0/1 [00:00<?, ?it/s]\n"
            ]
          },
          "metadata": {},
          "output_type": "display_data"
        },
        {
          "data": {
            "application/vnd.jupyter.widget-view+json": {
              "model_id": "0658329f704a4cf2ae2972695ce76653",
              "version_major": 2,
              "version_minor": 0
            },
            "text/plain": [
              "Loading safetensors checkpoint shards:   0% Completed | 0/1 [00:00<?, ?it/s]\n"
            ]
          },
          "metadata": {},
          "output_type": "display_data"
        },
        {
          "data": {
            "application/vnd.jupyter.widget-view+json": {
              "model_id": "fc7634e37fe549e39c4a4c075fc3e32d",
              "version_major": 2,
              "version_minor": 0
            },
            "text/plain": [
              "Loading safetensors checkpoint shards:   0% Completed | 0/1 [00:00<?, ?it/s]\n"
            ]
          },
          "metadata": {},
          "output_type": "display_data"
        },
        {
          "data": {
            "application/vnd.jupyter.widget-view+json": {
              "model_id": "e9c3db6575824cae9da57cb98e286bbe",
              "version_major": 2,
              "version_minor": 0
            },
            "text/plain": [
              "  0%|          | 0/10 [00:00<?, ?it/s]"
            ]
          },
          "metadata": {},
          "output_type": "display_data"
        },
        {
          "name": "stderr",
          "output_type": "stream",
          "text": [
            "Processed prompts: 100%|██████████| 2/2 [00:01<00:00,  1.15it/s, est. speed input: 3.44 toks/s, output: 114.81 toks/s]\n",
            "Processed prompts: 100%|██████████| 2/2 [00:01<00:00,  1.28it/s, est. speed input: 3.84 toks/s, output: 128.15 toks/s]\n",
            "Processed prompts: 100%|██████████| 2/2 [00:01<00:00,  1.31it/s, est. speed input: 3.95 toks/s, output: 131.57 toks/s]\n",
            "Processed prompts: 100%|██████████| 2/2 [00:01<00:00,  1.33it/s, est. speed input: 3.98 toks/s, output: 132.79 toks/s]\n",
            "Processed prompts: 100%|██████████| 2/2 [00:01<00:00,  1.36it/s, est. speed input: 4.08 toks/s, output: 135.91 toks/s]\n",
            "Processed prompts: 100%|██████████| 2/2 [00:01<00:00,  1.32it/s, est. speed input: 3.96 toks/s, output: 131.86 toks/s]\n",
            "Processed prompts: 100%|██████████| 2/2 [00:01<00:00,  1.31it/s, est. speed input: 3.94 toks/s, output: 131.24 toks/s]\n",
            "Processed prompts: 100%|██████████| 2/2 [00:01<00:00,  1.35it/s, est. speed input: 4.05 toks/s, output: 134.92 toks/s]\n",
            "Processed prompts: 100%|██████████| 2/2 [00:01<00:00,  1.30it/s, est. speed input: 3.89 toks/s, output: 129.81 toks/s]\n",
            "Processed prompts: 100%|██████████| 2/2 [00:01<00:00,  1.32it/s, est. speed input: 3.97 toks/s, output: 132.37 toks/s]\n"
          ]
        },
        {
          "name": "stdout",
          "output_type": "stream",
          "text": [
            "Testing with 5 speculative tokens\n"
          ]
        },
        {
          "data": {
            "application/vnd.jupyter.widget-view+json": {
              "model_id": "1221ceed0f1442d0aabf8ca9310eebf1",
              "version_major": 2,
              "version_minor": 0
            },
            "text/plain": [
              "Loading safetensors checkpoint shards:   0% Completed | 0/1 [00:00<?, ?it/s]\n"
            ]
          },
          "metadata": {},
          "output_type": "display_data"
        },
        {
          "data": {
            "application/vnd.jupyter.widget-view+json": {
              "model_id": "834ff488a53e40f79425119e4721deaa",
              "version_major": 2,
              "version_minor": 0
            },
            "text/plain": [
              "Loading safetensors checkpoint shards:   0% Completed | 0/1 [00:00<?, ?it/s]\n"
            ]
          },
          "metadata": {},
          "output_type": "display_data"
        },
        {
          "data": {
            "application/vnd.jupyter.widget-view+json": {
              "model_id": "d50f62f39cbe4bb6884c0c978da4b6ed",
              "version_major": 2,
              "version_minor": 0
            },
            "text/plain": [
              "Loading safetensors checkpoint shards:   0% Completed | 0/1 [00:00<?, ?it/s]\n"
            ]
          },
          "metadata": {},
          "output_type": "display_data"
        },
        {
          "data": {
            "application/vnd.jupyter.widget-view+json": {
              "model_id": "9fae144000834830ad5753140e74283d",
              "version_major": 2,
              "version_minor": 0
            },
            "text/plain": [
              "Loading safetensors checkpoint shards:   0% Completed | 0/1 [00:00<?, ?it/s]\n"
            ]
          },
          "metadata": {},
          "output_type": "display_data"
        },
        {
          "data": {
            "application/vnd.jupyter.widget-view+json": {
              "model_id": "005b910169db44d3a0c737a1c094af04",
              "version_major": 2,
              "version_minor": 0
            },
            "text/plain": [
              "  0%|          | 0/10 [00:00<?, ?it/s]"
            ]
          },
          "metadata": {},
          "output_type": "display_data"
        },
        {
          "name": "stderr",
          "output_type": "stream",
          "text": [
            "Processed prompts: 100%|██████████| 2/2 [00:02<00:00,  1.29s/it, est. speed input: 2.32 toks/s, output: 77.36 toks/s]\n",
            "Processed prompts: 100%|██████████| 2/2 [00:02<00:00,  1.23s/it, est. speed input: 2.43 toks/s, output: 81.12 toks/s]\n",
            "Processed prompts: 100%|██████████| 2/2 [00:02<00:00,  1.18s/it, est. speed input: 2.54 toks/s, output: 84.65 toks/s]\n",
            "Processed prompts: 100%|██████████| 2/2 [00:02<00:00,  1.18s/it, est. speed input: 2.53 toks/s, output: 84.49 toks/s]\n",
            "Processed prompts: 100%|██████████| 2/2 [00:02<00:00,  1.22s/it, est. speed input: 2.45 toks/s, output: 81.64 toks/s]\n",
            "Processed prompts: 100%|██████████| 2/2 [00:02<00:00,  1.21s/it, est. speed input: 2.47 toks/s, output: 82.40 toks/s]\n",
            "Processed prompts: 100%|██████████| 2/2 [00:02<00:00,  1.20s/it, est. speed input: 2.50 toks/s, output: 83.40 toks/s]\n",
            "Processed prompts: 100%|██████████| 2/2 [00:02<00:00,  1.21s/it, est. speed input: 2.47 toks/s, output: 82.32 toks/s]\n",
            "Processed prompts: 100%|██████████| 2/2 [00:02<00:00,  1.20s/it, est. speed input: 2.51 toks/s, output: 83.51 toks/s]\n",
            "Processed prompts: 100%|██████████| 2/2 [00:02<00:00,  1.21s/it, est. speed input: 2.48 toks/s, output: 82.82 toks/s]\n"
          ]
        },
        {
          "name": "stdout",
          "output_type": "stream",
          "text": [
            "Testing with 6 speculative tokens\n"
          ]
        },
        {
          "data": {
            "application/vnd.jupyter.widget-view+json": {
              "model_id": "5d9caf555c2d423689cc881603ec2e3a",
              "version_major": 2,
              "version_minor": 0
            },
            "text/plain": [
              "Loading safetensors checkpoint shards:   0% Completed | 0/1 [00:00<?, ?it/s]\n"
            ]
          },
          "metadata": {},
          "output_type": "display_data"
        },
        {
          "data": {
            "application/vnd.jupyter.widget-view+json": {
              "model_id": "de3e61002b09457ea84eefd76570c70c",
              "version_major": 2,
              "version_minor": 0
            },
            "text/plain": [
              "Loading safetensors checkpoint shards:   0% Completed | 0/1 [00:00<?, ?it/s]\n"
            ]
          },
          "metadata": {},
          "output_type": "display_data"
        },
        {
          "data": {
            "application/vnd.jupyter.widget-view+json": {
              "model_id": "98f38012b57e42a7afc80dd2f86dd205",
              "version_major": 2,
              "version_minor": 0
            },
            "text/plain": [
              "Loading safetensors checkpoint shards:   0% Completed | 0/1 [00:00<?, ?it/s]\n"
            ]
          },
          "metadata": {},
          "output_type": "display_data"
        },
        {
          "data": {
            "application/vnd.jupyter.widget-view+json": {
              "model_id": "6f74264243e54743abe48944842e4940",
              "version_major": 2,
              "version_minor": 0
            },
            "text/plain": [
              "Loading safetensors checkpoint shards:   0% Completed | 0/1 [00:00<?, ?it/s]\n"
            ]
          },
          "metadata": {},
          "output_type": "display_data"
        },
        {
          "data": {
            "application/vnd.jupyter.widget-view+json": {
              "model_id": "63ad91a9c4b140a29e1c26dacf5b8021",
              "version_major": 2,
              "version_minor": 0
            },
            "text/plain": [
              "  0%|          | 0/10 [00:00<?, ?it/s]"
            ]
          },
          "metadata": {},
          "output_type": "display_data"
        },
        {
          "name": "stderr",
          "output_type": "stream",
          "text": [
            "Processed prompts: 100%|██████████| 2/2 [00:14<00:00,  7.44s/it, est. speed input: 0.40 toks/s, output: 13.44 toks/s]\n",
            "Processed prompts: 100%|██████████| 2/2 [00:18<00:00,  9.02s/it, est. speed input: 0.33 toks/s, output: 11.09 toks/s]\n",
            "Processed prompts: 100%|██████████| 2/2 [00:16<00:00,  8.27s/it, est. speed input: 0.36 toks/s, output: 12.09 toks/s]\n",
            "Processed prompts: 100%|██████████| 2/2 [00:13<00:00,  6.59s/it, est. speed input: 0.46 toks/s, output: 15.18 toks/s]\n",
            "Processed prompts: 100%|██████████| 2/2 [00:15<00:00,  7.65s/it, est. speed input: 0.39 toks/s, output: 13.07 toks/s]\n",
            "Processed prompts: 100%|██████████| 2/2 [00:11<00:00,  5.99s/it, est. speed input: 0.50 toks/s, output: 16.70 toks/s]\n",
            "Processed prompts: 100%|██████████| 2/2 [00:15<00:00,  7.78s/it, est. speed input: 0.39 toks/s, output: 12.85 toks/s]\n",
            "Processed prompts: 100%|██████████| 2/2 [00:16<00:00,  8.12s/it, est. speed input: 0.37 toks/s, output: 12.31 toks/s]\n",
            "Processed prompts: 100%|██████████| 2/2 [00:13<00:00,  6.90s/it, est. speed input: 0.44 toks/s, output: 14.50 toks/s]\n",
            "Processed prompts: 100%|██████████| 2/2 [00:14<00:00,  7.48s/it, est. speed input: 0.40 toks/s, output: 13.36 toks/s]\n"
          ]
        },
        {
          "name": "stdout",
          "output_type": "stream",
          "text": [
            "Testing with 7 speculative tokens\n"
          ]
        },
        {
          "data": {
            "application/vnd.jupyter.widget-view+json": {
              "model_id": "fa78f812778b412a89e9e719ad10fe1a",
              "version_major": 2,
              "version_minor": 0
            },
            "text/plain": [
              "Loading safetensors checkpoint shards:   0% Completed | 0/1 [00:00<?, ?it/s]\n"
            ]
          },
          "metadata": {},
          "output_type": "display_data"
        },
        {
          "data": {
            "application/vnd.jupyter.widget-view+json": {
              "model_id": "40ce0f7785614a53af4a94fbac8d0b00",
              "version_major": 2,
              "version_minor": 0
            },
            "text/plain": [
              "Loading safetensors checkpoint shards:   0% Completed | 0/1 [00:00<?, ?it/s]\n"
            ]
          },
          "metadata": {},
          "output_type": "display_data"
        },
        {
          "data": {
            "application/vnd.jupyter.widget-view+json": {
              "model_id": "a812c1b363cd4812ae06fc9e63965a1f",
              "version_major": 2,
              "version_minor": 0
            },
            "text/plain": [
              "Loading safetensors checkpoint shards:   0% Completed | 0/1 [00:00<?, ?it/s]\n"
            ]
          },
          "metadata": {},
          "output_type": "display_data"
        },
        {
          "data": {
            "application/vnd.jupyter.widget-view+json": {
              "model_id": "b2922767382d4918928cb274c52ff150",
              "version_major": 2,
              "version_minor": 0
            },
            "text/plain": [
              "Loading safetensors checkpoint shards:   0% Completed | 0/1 [00:00<?, ?it/s]\n"
            ]
          },
          "metadata": {},
          "output_type": "display_data"
        },
        {
          "data": {
            "application/vnd.jupyter.widget-view+json": {
              "model_id": "d9cd4e363e5047c6806c680596eea7bf",
              "version_major": 2,
              "version_minor": 0
            },
            "text/plain": [
              "  0%|          | 0/10 [00:00<?, ?it/s]"
            ]
          },
          "metadata": {},
          "output_type": "display_data"
        },
        {
          "name": "stderr",
          "output_type": "stream",
          "text": [
            "Processed prompts: 100%|██████████| 2/2 [00:11<00:00,  5.59s/it, est. speed input: 0.54 toks/s, output: 17.88 toks/s]\n",
            "Processed prompts: 100%|██████████| 2/2 [00:11<00:00,  5.88s/it, est. speed input: 0.51 toks/s, output: 17.01 toks/s]\n",
            "Processed prompts: 100%|██████████| 2/2 [00:11<00:00,  5.55s/it, est. speed input: 0.54 toks/s, output: 18.01 toks/s]\n",
            "Processed prompts: 100%|██████████| 2/2 [00:07<00:00,  3.71s/it, est. speed input: 0.81 toks/s, output: 26.92 toks/s]\n",
            "Processed prompts: 100%|██████████| 2/2 [00:09<00:00,  4.75s/it, est. speed input: 0.63 toks/s, output: 21.06 toks/s]\n",
            "Processed prompts: 100%|██████████| 2/2 [00:13<00:00,  6.95s/it, est. speed input: 0.43 toks/s, output: 14.39 toks/s]\n",
            "Processed prompts: 100%|██████████| 2/2 [00:08<00:00,  4.21s/it, est. speed input: 0.71 toks/s, output: 23.75 toks/s]\n",
            "Processed prompts: 100%|██████████| 2/2 [00:09<00:00,  4.78s/it, est. speed input: 0.63 toks/s, output: 20.91 toks/s]\n",
            "Processed prompts: 100%|██████████| 2/2 [00:09<00:00,  4.95s/it, est. speed input: 0.61 toks/s, output: 20.21 toks/s]\n",
            "Processed prompts: 100%|██████████| 2/2 [00:09<00:00,  4.96s/it, est. speed input: 0.61 toks/s, output: 20.17 toks/s]\n"
          ]
        },
        {
          "name": "stdout",
          "output_type": "stream",
          "text": [
            "Testing with 8 speculative tokens\n"
          ]
        },
        {
          "data": {
            "application/vnd.jupyter.widget-view+json": {
              "model_id": "d0ac9c9e7b364c4d872b80ed2e716d8d",
              "version_major": 2,
              "version_minor": 0
            },
            "text/plain": [
              "Loading safetensors checkpoint shards:   0% Completed | 0/1 [00:00<?, ?it/s]\n"
            ]
          },
          "metadata": {},
          "output_type": "display_data"
        },
        {
          "data": {
            "application/vnd.jupyter.widget-view+json": {
              "model_id": "f7b68d1dcd954132803832f1547cd3ee",
              "version_major": 2,
              "version_minor": 0
            },
            "text/plain": [
              "Loading safetensors checkpoint shards:   0% Completed | 0/1 [00:00<?, ?it/s]\n"
            ]
          },
          "metadata": {},
          "output_type": "display_data"
        },
        {
          "data": {
            "application/vnd.jupyter.widget-view+json": {
              "model_id": "b97f9431af054a82af615986b75dc79f",
              "version_major": 2,
              "version_minor": 0
            },
            "text/plain": [
              "Loading safetensors checkpoint shards:   0% Completed | 0/1 [00:00<?, ?it/s]\n"
            ]
          },
          "metadata": {},
          "output_type": "display_data"
        },
        {
          "data": {
            "application/vnd.jupyter.widget-view+json": {
              "model_id": "31da4d321216472ea11f6470e9b4f3df",
              "version_major": 2,
              "version_minor": 0
            },
            "text/plain": [
              "Loading safetensors checkpoint shards:   0% Completed | 0/1 [00:00<?, ?it/s]\n"
            ]
          },
          "metadata": {},
          "output_type": "display_data"
        },
        {
          "data": {
            "application/vnd.jupyter.widget-view+json": {
              "model_id": "637c8b04761b47ad985cf222fd335313",
              "version_major": 2,
              "version_minor": 0
            },
            "text/plain": [
              "  0%|          | 0/10 [00:00<?, ?it/s]"
            ]
          },
          "metadata": {},
          "output_type": "display_data"
        },
        {
          "name": "stderr",
          "output_type": "stream",
          "text": [
            "Processed prompts: 100%|██████████| 2/2 [00:12<00:00,  6.21s/it, est. speed input: 0.48 toks/s, output: 16.09 toks/s]\n",
            "Processed prompts: 100%|██████████| 2/2 [00:09<00:00,  4.79s/it, est. speed input: 0.63 toks/s, output: 20.86 toks/s]\n",
            "Processed prompts: 100%|██████████| 2/2 [00:12<00:00,  6.49s/it, est. speed input: 0.46 toks/s, output: 15.41 toks/s]\n",
            "Processed prompts: 100%|██████████| 2/2 [00:12<00:00,  6.06s/it, est. speed input: 0.49 toks/s, output: 16.49 toks/s]\n",
            "Processed prompts: 100%|██████████| 2/2 [00:13<00:00,  6.66s/it, est. speed input: 0.45 toks/s, output: 15.02 toks/s]\n",
            "Processed prompts: 100%|██████████| 2/2 [00:11<00:00,  6.00s/it, est. speed input: 0.50 toks/s, output: 16.67 toks/s]\n",
            "Processed prompts: 100%|██████████| 2/2 [00:12<00:00,  6.06s/it, est. speed input: 0.50 toks/s, output: 16.52 toks/s]\n",
            "Processed prompts: 100%|██████████| 2/2 [00:12<00:00,  6.34s/it, est. speed input: 0.47 toks/s, output: 15.77 toks/s]\n",
            "Processed prompts: 100%|██████████| 2/2 [00:11<00:00,  5.97s/it, est. speed input: 0.50 toks/s, output: 16.75 toks/s]\n",
            "Processed prompts: 100%|██████████| 2/2 [00:09<00:00,  4.87s/it, est. speed input: 0.62 toks/s, output: 20.55 toks/s]\n"
          ]
        },
        {
          "name": "stdout",
          "output_type": "stream",
          "text": [
            "Testing with 9 speculative tokens\n"
          ]
        },
        {
          "data": {
            "application/vnd.jupyter.widget-view+json": {
              "model_id": "a9b800308aa145d7b7998bc9e9c00580",
              "version_major": 2,
              "version_minor": 0
            },
            "text/plain": [
              "Loading safetensors checkpoint shards:   0% Completed | 0/1 [00:00<?, ?it/s]\n"
            ]
          },
          "metadata": {},
          "output_type": "display_data"
        },
        {
          "data": {
            "application/vnd.jupyter.widget-view+json": {
              "model_id": "398cf3fc7a68482291c922223d98d112",
              "version_major": 2,
              "version_minor": 0
            },
            "text/plain": [
              "Loading safetensors checkpoint shards:   0% Completed | 0/1 [00:00<?, ?it/s]\n"
            ]
          },
          "metadata": {},
          "output_type": "display_data"
        },
        {
          "data": {
            "application/vnd.jupyter.widget-view+json": {
              "model_id": "c99086fd6ef44567984f297c320f880d",
              "version_major": 2,
              "version_minor": 0
            },
            "text/plain": [
              "Loading safetensors checkpoint shards:   0% Completed | 0/1 [00:00<?, ?it/s]\n"
            ]
          },
          "metadata": {},
          "output_type": "display_data"
        },
        {
          "data": {
            "application/vnd.jupyter.widget-view+json": {
              "model_id": "6bbdc63b8ff74947a59eec7d06913515",
              "version_major": 2,
              "version_minor": 0
            },
            "text/plain": [
              "Loading safetensors checkpoint shards:   0% Completed | 0/1 [00:00<?, ?it/s]\n"
            ]
          },
          "metadata": {},
          "output_type": "display_data"
        },
        {
          "data": {
            "application/vnd.jupyter.widget-view+json": {
              "model_id": "993d6d09e65442fd8ee3d26ab3e35b65",
              "version_major": 2,
              "version_minor": 0
            },
            "text/plain": [
              "  0%|          | 0/10 [00:00<?, ?it/s]"
            ]
          },
          "metadata": {},
          "output_type": "display_data"
        },
        {
          "name": "stderr",
          "output_type": "stream",
          "text": [
            "Processed prompts: 100%|██████████| 2/2 [00:20<00:00, 10.09s/it, est. speed input: 0.30 toks/s, output: 9.91 toks/s]\n",
            "Processed prompts: 100%|██████████| 2/2 [00:18<00:00,  9.29s/it, est. speed input: 0.32 toks/s, output: 10.76 toks/s]\n",
            "Processed prompts: 100%|██████████| 2/2 [00:20<00:00, 10.07s/it, est. speed input: 0.30 toks/s, output: 9.93 toks/s]\n",
            "Processed prompts: 100%|██████████| 2/2 [00:18<00:00,  9.42s/it, est. speed input: 0.32 toks/s, output: 10.62 toks/s]\n",
            "Processed prompts: 100%|██████████| 2/2 [00:22<00:00, 11.27s/it, est. speed input: 0.27 toks/s, output: 8.87 toks/s]\n",
            "Processed prompts: 100%|██████████| 2/2 [00:18<00:00,  9.45s/it, est. speed input: 0.32 toks/s, output: 10.58 toks/s]\n",
            "Processed prompts: 100%|██████████| 2/2 [00:22<00:00, 11.04s/it, est. speed input: 0.27 toks/s, output: 9.06 toks/s]\n",
            "Processed prompts: 100%|██████████| 2/2 [00:15<00:00,  7.94s/it, est. speed input: 0.38 toks/s, output: 12.60 toks/s]\n",
            "Processed prompts: 100%|██████████| 2/2 [00:19<00:00,  9.59s/it, est. speed input: 0.31 toks/s, output: 10.43 toks/s]\n",
            "Processed prompts: 100%|██████████| 2/2 [00:26<00:00, 13.35s/it, est. speed input: 0.22 toks/s, output: 7.49 toks/s]\n"
          ]
        },
        {
          "name": "stdout",
          "output_type": "stream",
          "text": [
            "Testing with 10 speculative tokens\n"
          ]
        },
        {
          "data": {
            "application/vnd.jupyter.widget-view+json": {
              "model_id": "fa916edd28fc4d499558fb76998d8126",
              "version_major": 2,
              "version_minor": 0
            },
            "text/plain": [
              "Loading safetensors checkpoint shards:   0% Completed | 0/1 [00:00<?, ?it/s]\n"
            ]
          },
          "metadata": {},
          "output_type": "display_data"
        },
        {
          "data": {
            "application/vnd.jupyter.widget-view+json": {
              "model_id": "7ddab3495aa64d0580fafe031e4e5a9e",
              "version_major": 2,
              "version_minor": 0
            },
            "text/plain": [
              "Loading safetensors checkpoint shards:   0% Completed | 0/1 [00:00<?, ?it/s]\n"
            ]
          },
          "metadata": {},
          "output_type": "display_data"
        },
        {
          "data": {
            "application/vnd.jupyter.widget-view+json": {
              "model_id": "90b87758f8674ce090bb2126fbace739",
              "version_major": 2,
              "version_minor": 0
            },
            "text/plain": [
              "Loading safetensors checkpoint shards:   0% Completed | 0/1 [00:00<?, ?it/s]\n"
            ]
          },
          "metadata": {},
          "output_type": "display_data"
        },
        {
          "data": {
            "application/vnd.jupyter.widget-view+json": {
              "model_id": "c74ab7891ad94c60a025537c1c2ca412",
              "version_major": 2,
              "version_minor": 0
            },
            "text/plain": [
              "Loading safetensors checkpoint shards:   0% Completed | 0/1 [00:00<?, ?it/s]\n"
            ]
          },
          "metadata": {},
          "output_type": "display_data"
        },
        {
          "data": {
            "application/vnd.jupyter.widget-view+json": {
              "model_id": "33f0251dcf6443ad8a75d7f10ad6e656",
              "version_major": 2,
              "version_minor": 0
            },
            "text/plain": [
              "  0%|          | 0/10 [00:00<?, ?it/s]"
            ]
          },
          "metadata": {},
          "output_type": "display_data"
        },
        {
          "name": "stderr",
          "output_type": "stream",
          "text": [
            "Processed prompts: 100%|██████████| 2/2 [00:14<00:00,  7.41s/it, est. speed input: 0.41 toks/s, output: 13.50 toks/s]\n",
            "Processed prompts: 100%|██████████| 2/2 [00:15<00:00,  7.72s/it, est. speed input: 0.39 toks/s, output: 12.95 toks/s]\n",
            "Processed prompts: 100%|██████████| 2/2 [00:17<00:00,  8.84s/it, est. speed input: 0.34 toks/s, output: 11.31 toks/s]\n",
            "Processed prompts: 100%|██████████| 2/2 [00:15<00:00,  7.52s/it, est. speed input: 0.40 toks/s, output: 13.30 toks/s]\n",
            "Processed prompts: 100%|██████████| 2/2 [00:20<00:00, 10.12s/it, est. speed input: 0.30 toks/s, output: 9.88 toks/s]\n",
            "Processed prompts: 100%|██████████| 2/2 [00:19<00:00,  9.90s/it, est. speed input: 0.30 toks/s, output: 10.10 toks/s]\n",
            "Processed prompts: 100%|██████████| 2/2 [00:18<00:00,  9.41s/it, est. speed input: 0.32 toks/s, output: 10.63 toks/s]\n",
            "Processed prompts: 100%|██████████| 2/2 [00:20<00:00, 10.23s/it, est. speed input: 0.29 toks/s, output: 9.78 toks/s]\n",
            "Processed prompts: 100%|██████████| 2/2 [00:15<00:00,  7.90s/it, est. speed input: 0.38 toks/s, output: 12.67 toks/s]\n",
            "Processed prompts: 100%|██████████| 2/2 [00:19<00:00,  9.77s/it, est. speed input: 0.31 toks/s, output: 10.24 toks/s]\n"
          ]
        },
        {
          "name": "stdout",
          "output_type": "stream",
          "text": [
            "Testing with 11 speculative tokens\n"
          ]
        },
        {
          "data": {
            "application/vnd.jupyter.widget-view+json": {
              "model_id": "266c49a058da430cb499ab2eecb88d6b",
              "version_major": 2,
              "version_minor": 0
            },
            "text/plain": [
              "Loading safetensors checkpoint shards:   0% Completed | 0/1 [00:00<?, ?it/s]\n"
            ]
          },
          "metadata": {},
          "output_type": "display_data"
        },
        {
          "data": {
            "application/vnd.jupyter.widget-view+json": {
              "model_id": "0cb59af2981c489783a95b2e58e10889",
              "version_major": 2,
              "version_minor": 0
            },
            "text/plain": [
              "Loading safetensors checkpoint shards:   0% Completed | 0/1 [00:00<?, ?it/s]\n"
            ]
          },
          "metadata": {},
          "output_type": "display_data"
        },
        {
          "data": {
            "application/vnd.jupyter.widget-view+json": {
              "model_id": "3b88cf79a8634980bf4aae8387d1ca59",
              "version_major": 2,
              "version_minor": 0
            },
            "text/plain": [
              "Loading safetensors checkpoint shards:   0% Completed | 0/1 [00:00<?, ?it/s]\n"
            ]
          },
          "metadata": {},
          "output_type": "display_data"
        },
        {
          "data": {
            "application/vnd.jupyter.widget-view+json": {
              "model_id": "a88566971c2643deb60dc0f0183905e1",
              "version_major": 2,
              "version_minor": 0
            },
            "text/plain": [
              "Loading safetensors checkpoint shards:   0% Completed | 0/1 [00:00<?, ?it/s]\n"
            ]
          },
          "metadata": {},
          "output_type": "display_data"
        },
        {
          "data": {
            "application/vnd.jupyter.widget-view+json": {
              "model_id": "335b99b1f75b45aeb862cf3f8ad43516",
              "version_major": 2,
              "version_minor": 0
            },
            "text/plain": [
              "  0%|          | 0/10 [00:00<?, ?it/s]"
            ]
          },
          "metadata": {},
          "output_type": "display_data"
        },
        {
          "name": "stderr",
          "output_type": "stream",
          "text": [
            "Processed prompts: 100%|██████████| 2/2 [00:21<00:00, 10.91s/it, est. speed input: 0.27 toks/s, output: 9.17 toks/s]\n",
            "Processed prompts: 100%|██████████| 2/2 [00:08<00:00,  4.46s/it, est. speed input: 0.67 toks/s, output: 22.44 toks/s]\n",
            "Processed prompts: 100%|██████████| 2/2 [00:09<00:00,  4.52s/it, est. speed input: 0.66 toks/s, output: 22.11 toks/s]\n",
            "Processed prompts: 100%|██████████| 2/2 [00:16<00:00,  8.20s/it, est. speed input: 0.37 toks/s, output: 12.20 toks/s]\n",
            "Processed prompts: 100%|██████████| 2/2 [00:14<00:00,  7.44s/it, est. speed input: 0.40 toks/s, output: 13.44 toks/s]\n",
            "Processed prompts: 100%|██████████| 2/2 [00:14<00:00,  7.19s/it, est. speed input: 0.42 toks/s, output: 13.91 toks/s]\n",
            "Processed prompts: 100%|██████████| 2/2 [00:16<00:00,  8.06s/it, est. speed input: 0.37 toks/s, output: 12.41 toks/s]\n",
            "Processed prompts: 100%|██████████| 2/2 [00:11<00:00,  5.68s/it, est. speed input: 0.53 toks/s, output: 17.60 toks/s]\n",
            "Processed prompts: 100%|██████████| 2/2 [00:14<00:00,  7.08s/it, est. speed input: 0.42 toks/s, output: 14.12 toks/s]\n",
            "Processed prompts: 100%|██████████| 2/2 [00:12<00:00,  6.00s/it, est. speed input: 0.50 toks/s, output: 16.67 toks/s]\n"
          ]
        },
        {
          "name": "stdout",
          "output_type": "stream",
          "text": [
            "Testing with 12 speculative tokens\n"
          ]
        },
        {
          "data": {
            "application/vnd.jupyter.widget-view+json": {
              "model_id": "ae30c63636aa4459b6f04fffaa3198ed",
              "version_major": 2,
              "version_minor": 0
            },
            "text/plain": [
              "Loading safetensors checkpoint shards:   0% Completed | 0/1 [00:00<?, ?it/s]\n"
            ]
          },
          "metadata": {},
          "output_type": "display_data"
        },
        {
          "data": {
            "application/vnd.jupyter.widget-view+json": {
              "model_id": "ecea8defc1ae464ebed37aa11233d229",
              "version_major": 2,
              "version_minor": 0
            },
            "text/plain": [
              "Loading safetensors checkpoint shards:   0% Completed | 0/1 [00:00<?, ?it/s]\n"
            ]
          },
          "metadata": {},
          "output_type": "display_data"
        },
        {
          "data": {
            "application/vnd.jupyter.widget-view+json": {
              "model_id": "14cc301fc0f24919a0e1159f007b4696",
              "version_major": 2,
              "version_minor": 0
            },
            "text/plain": [
              "Loading safetensors checkpoint shards:   0% Completed | 0/1 [00:00<?, ?it/s]\n"
            ]
          },
          "metadata": {},
          "output_type": "display_data"
        },
        {
          "data": {
            "application/vnd.jupyter.widget-view+json": {
              "model_id": "ca1e7852415c4fc99ec92799004ff224",
              "version_major": 2,
              "version_minor": 0
            },
            "text/plain": [
              "Loading safetensors checkpoint shards:   0% Completed | 0/1 [00:00<?, ?it/s]\n"
            ]
          },
          "metadata": {},
          "output_type": "display_data"
        },
        {
          "data": {
            "application/vnd.jupyter.widget-view+json": {
              "model_id": "4bc89321bb254fbf8e24b45f230a035d",
              "version_major": 2,
              "version_minor": 0
            },
            "text/plain": [
              "  0%|          | 0/10 [00:00<?, ?it/s]"
            ]
          },
          "metadata": {},
          "output_type": "display_data"
        },
        {
          "name": "stderr",
          "output_type": "stream",
          "text": [
            "Processed prompts: 100%|██████████| 2/2 [00:20<00:00, 10.22s/it, est. speed input: 0.29 toks/s, output: 9.78 toks/s]\n",
            "Processed prompts: 100%|██████████| 2/2 [00:15<00:00,  7.72s/it, est. speed input: 0.39 toks/s, output: 12.95 toks/s]\n",
            "Processed prompts: 100%|██████████| 2/2 [00:16<00:00,  8.25s/it, est. speed input: 0.36 toks/s, output: 12.12 toks/s]\n",
            "Processed prompts: 100%|██████████| 2/2 [00:15<00:00,  7.56s/it, est. speed input: 0.40 toks/s, output: 13.22 toks/s]\n",
            "Processed prompts: 100%|██████████| 2/2 [00:21<00:00, 10.89s/it, est. speed input: 0.28 toks/s, output: 9.18 toks/s]\n",
            "Processed prompts: 100%|██████████| 2/2 [00:16<00:00,  8.08s/it, est. speed input: 0.37 toks/s, output: 12.38 toks/s]\n",
            "Processed prompts: 100%|██████████| 2/2 [00:17<00:00,  8.56s/it, est. speed input: 0.35 toks/s, output: 11.69 toks/s]\n",
            "Processed prompts: 100%|██████████| 2/2 [00:21<00:00, 10.50s/it, est. speed input: 0.29 toks/s, output: 9.52 toks/s]\n",
            "Processed prompts: 100%|██████████| 2/2 [00:13<00:00,  6.97s/it, est. speed input: 0.43 toks/s, output: 14.36 toks/s]\n",
            "Processed prompts: 100%|██████████| 2/2 [00:11<00:00,  5.66s/it, est. speed input: 0.53 toks/s, output: 17.68 toks/s]\n"
          ]
        },
        {
          "name": "stdout",
          "output_type": "stream",
          "text": [
            "Testing with 13 speculative tokens\n"
          ]
        },
        {
          "data": {
            "application/vnd.jupyter.widget-view+json": {
              "model_id": "1891add8b5ee4d558d2398b368b0c76e",
              "version_major": 2,
              "version_minor": 0
            },
            "text/plain": [
              "Loading safetensors checkpoint shards:   0% Completed | 0/1 [00:00<?, ?it/s]\n"
            ]
          },
          "metadata": {},
          "output_type": "display_data"
        },
        {
          "data": {
            "application/vnd.jupyter.widget-view+json": {
              "model_id": "dc012d3c32d24ebd88d107b5f00c4acd",
              "version_major": 2,
              "version_minor": 0
            },
            "text/plain": [
              "Loading safetensors checkpoint shards:   0% Completed | 0/1 [00:00<?, ?it/s]\n"
            ]
          },
          "metadata": {},
          "output_type": "display_data"
        },
        {
          "data": {
            "application/vnd.jupyter.widget-view+json": {
              "model_id": "5f104f0b51bb4529b4b51ab793d37593",
              "version_major": 2,
              "version_minor": 0
            },
            "text/plain": [
              "Loading safetensors checkpoint shards:   0% Completed | 0/1 [00:00<?, ?it/s]\n"
            ]
          },
          "metadata": {},
          "output_type": "display_data"
        },
        {
          "data": {
            "application/vnd.jupyter.widget-view+json": {
              "model_id": "c12b1ce1d25149b79a5dd223377eb1da",
              "version_major": 2,
              "version_minor": 0
            },
            "text/plain": [
              "Loading safetensors checkpoint shards:   0% Completed | 0/1 [00:00<?, ?it/s]\n"
            ]
          },
          "metadata": {},
          "output_type": "display_data"
        },
        {
          "data": {
            "application/vnd.jupyter.widget-view+json": {
              "model_id": "30b9bdcd8b2846bfb57ef5b40ee03467",
              "version_major": 2,
              "version_minor": 0
            },
            "text/plain": [
              "  0%|          | 0/10 [00:00<?, ?it/s]"
            ]
          },
          "metadata": {},
          "output_type": "display_data"
        },
        {
          "name": "stderr",
          "output_type": "stream",
          "text": [
            "Processed prompts: 100%|██████████| 2/2 [00:15<00:00,  7.85s/it, est. speed input: 0.38 toks/s, output: 12.74 toks/s]\n",
            "Processed prompts: 100%|██████████| 2/2 [00:16<00:00,  8.47s/it, est. speed input: 0.35 toks/s, output: 11.81 toks/s]\n",
            "Processed prompts: 100%|██████████| 2/2 [00:19<00:00,  9.81s/it, est. speed input: 0.31 toks/s, output: 10.19 toks/s]\n",
            "Processed prompts: 100%|██████████| 2/2 [00:17<00:00,  8.73s/it, est. speed input: 0.34 toks/s, output: 11.46 toks/s]\n",
            "Processed prompts: 100%|██████████| 2/2 [00:17<00:00,  8.92s/it, est. speed input: 0.34 toks/s, output: 11.21 toks/s]\n",
            "Processed prompts: 100%|██████████| 2/2 [00:15<00:00,  7.82s/it, est. speed input: 0.38 toks/s, output: 12.79 toks/s]\n",
            "Processed prompts: 100%|██████████| 2/2 [00:16<00:00,  8.34s/it, est. speed input: 0.36 toks/s, output: 11.99 toks/s]\n",
            "Processed prompts: 100%|██████████| 2/2 [00:17<00:00,  8.84s/it, est. speed input: 0.34 toks/s, output: 11.31 toks/s]\n",
            "Processed prompts: 100%|██████████| 2/2 [00:17<00:00,  8.71s/it, est. speed input: 0.34 toks/s, output: 11.49 toks/s]\n",
            "Processed prompts: 100%|██████████| 2/2 [00:17<00:00,  8.87s/it, est. speed input: 0.34 toks/s, output: 11.28 toks/s]\n"
          ]
        },
        {
          "name": "stdout",
          "output_type": "stream",
          "text": [
            "Testing with 14 speculative tokens\n"
          ]
        },
        {
          "data": {
            "application/vnd.jupyter.widget-view+json": {
              "model_id": "22d55900511c40beb782caa6270c2379",
              "version_major": 2,
              "version_minor": 0
            },
            "text/plain": [
              "Loading safetensors checkpoint shards:   0% Completed | 0/1 [00:00<?, ?it/s]\n"
            ]
          },
          "metadata": {},
          "output_type": "display_data"
        },
        {
          "data": {
            "application/vnd.jupyter.widget-view+json": {
              "model_id": "cf2913df4e8b4d88bd3cfc519cdae31d",
              "version_major": 2,
              "version_minor": 0
            },
            "text/plain": [
              "Loading safetensors checkpoint shards:   0% Completed | 0/1 [00:00<?, ?it/s]\n"
            ]
          },
          "metadata": {},
          "output_type": "display_data"
        },
        {
          "data": {
            "application/vnd.jupyter.widget-view+json": {
              "model_id": "9aeba5f5e70341f1ae9e194050392e9c",
              "version_major": 2,
              "version_minor": 0
            },
            "text/plain": [
              "Loading safetensors checkpoint shards:   0% Completed | 0/1 [00:00<?, ?it/s]\n"
            ]
          },
          "metadata": {},
          "output_type": "display_data"
        },
        {
          "data": {
            "application/vnd.jupyter.widget-view+json": {
              "model_id": "590bced03ac849eaa8e4ec24cd87f28b",
              "version_major": 2,
              "version_minor": 0
            },
            "text/plain": [
              "Loading safetensors checkpoint shards:   0% Completed | 0/1 [00:00<?, ?it/s]\n"
            ]
          },
          "metadata": {},
          "output_type": "display_data"
        },
        {
          "data": {
            "application/vnd.jupyter.widget-view+json": {
              "model_id": "6d6cf917af044ac0b3d81338c1d63221",
              "version_major": 2,
              "version_minor": 0
            },
            "text/plain": [
              "  0%|          | 0/10 [00:00<?, ?it/s]"
            ]
          },
          "metadata": {},
          "output_type": "display_data"
        },
        {
          "name": "stderr",
          "output_type": "stream",
          "text": [
            "Processed prompts: 100%|██████████| 2/2 [00:32<00:00, 16.12s/it, est. speed input: 0.19 toks/s, output: 6.20 toks/s]\n",
            "Processed prompts: 100%|██████████| 2/2 [00:38<00:00, 19.03s/it, est. speed input: 0.16 toks/s, output: 5.26 toks/s]\n",
            "Processed prompts: 100%|██████████| 2/2 [00:33<00:00, 16.56s/it, est. speed input: 0.18 toks/s, output: 6.04 toks/s]\n",
            "Processed prompts: 100%|██████████| 2/2 [00:35<00:00, 17.58s/it, est. speed input: 0.17 toks/s, output: 5.69 toks/s]\n",
            "Processed prompts: 100%|██████████| 2/2 [00:31<00:00, 15.67s/it, est. speed input: 0.19 toks/s, output: 6.38 toks/s]\n",
            "Processed prompts: 100%|██████████| 2/2 [00:33<00:00, 16.56s/it, est. speed input: 0.18 toks/s, output: 6.04 toks/s]\n",
            "Processed prompts: 100%|██████████| 2/2 [00:30<00:00, 15.30s/it, est. speed input: 0.20 toks/s, output: 6.54 toks/s]\n",
            "Processed prompts: 100%|██████████| 2/2 [00:31<00:00, 15.70s/it, est. speed input: 0.19 toks/s, output: 6.37 toks/s]\n",
            "Processed prompts: 100%|██████████| 2/2 [00:32<00:00, 16.31s/it, est. speed input: 0.18 toks/s, output: 6.13 toks/s]\n",
            "Processed prompts: 100%|██████████| 2/2 [00:33<00:00, 16.67s/it, est. speed input: 0.18 toks/s, output: 6.00 toks/s]\n"
          ]
        },
        {
          "name": "stdout",
          "output_type": "stream",
          "text": [
            "Testing with 15 speculative tokens\n"
          ]
        },
        {
          "data": {
            "application/vnd.jupyter.widget-view+json": {
              "model_id": "fa199d24eb97467a823fa825d90dea69",
              "version_major": 2,
              "version_minor": 0
            },
            "text/plain": [
              "Loading safetensors checkpoint shards:   0% Completed | 0/1 [00:00<?, ?it/s]\n"
            ]
          },
          "metadata": {},
          "output_type": "display_data"
        },
        {
          "data": {
            "application/vnd.jupyter.widget-view+json": {
              "model_id": "074dafc7ce204396ab368d77e8b99b62",
              "version_major": 2,
              "version_minor": 0
            },
            "text/plain": [
              "Loading safetensors checkpoint shards:   0% Completed | 0/1 [00:00<?, ?it/s]\n"
            ]
          },
          "metadata": {},
          "output_type": "display_data"
        },
        {
          "data": {
            "application/vnd.jupyter.widget-view+json": {
              "model_id": "2553b0d32be34255926c98358b9a941c",
              "version_major": 2,
              "version_minor": 0
            },
            "text/plain": [
              "Loading safetensors checkpoint shards:   0% Completed | 0/1 [00:00<?, ?it/s]\n"
            ]
          },
          "metadata": {},
          "output_type": "display_data"
        },
        {
          "data": {
            "application/vnd.jupyter.widget-view+json": {
              "model_id": "45d31f8baa5b4fdcb183b5e19bbdd431",
              "version_major": 2,
              "version_minor": 0
            },
            "text/plain": [
              "Loading safetensors checkpoint shards:   0% Completed | 0/1 [00:00<?, ?it/s]\n"
            ]
          },
          "metadata": {},
          "output_type": "display_data"
        },
        {
          "data": {
            "application/vnd.jupyter.widget-view+json": {
              "model_id": "d72537b4cb2a40a185cfc0181030d594",
              "version_major": 2,
              "version_minor": 0
            },
            "text/plain": [
              "  0%|          | 0/10 [00:00<?, ?it/s]"
            ]
          },
          "metadata": {},
          "output_type": "display_data"
        },
        {
          "name": "stderr",
          "output_type": "stream",
          "text": [
            "Processed prompts: 100%|██████████| 2/2 [00:14<00:00,  7.45s/it, est. speed input: 0.40 toks/s, output: 13.43 toks/s]\n",
            "Processed prompts: 100%|██████████| 2/2 [00:16<00:00,  8.41s/it, est. speed input: 0.36 toks/s, output: 11.89 toks/s]\n",
            "Processed prompts: 100%|██████████| 2/2 [00:16<00:00,  8.04s/it, est. speed input: 0.37 toks/s, output: 12.44 toks/s]\n",
            "Processed prompts: 100%|██████████| 2/2 [00:13<00:00,  6.83s/it, est. speed input: 0.44 toks/s, output: 14.65 toks/s]\n",
            "Processed prompts: 100%|██████████| 2/2 [00:15<00:00,  7.60s/it, est. speed input: 0.39 toks/s, output: 13.15 toks/s]\n",
            "Processed prompts: 100%|██████████| 2/2 [00:15<00:00,  7.75s/it, est. speed input: 0.39 toks/s, output: 12.90 toks/s]\n",
            "Processed prompts: 100%|██████████| 2/2 [00:14<00:00,  7.31s/it, est. speed input: 0.41 toks/s, output: 13.67 toks/s]\n",
            "Processed prompts: 100%|██████████| 2/2 [00:25<00:00, 12.69s/it, est. speed input: 0.24 toks/s, output: 7.88 toks/s]\n",
            "Processed prompts: 100%|██████████| 2/2 [00:14<00:00,  7.39s/it, est. speed input: 0.41 toks/s, output: 13.53 toks/s]\n",
            "Processed prompts: 100%|██████████| 2/2 [00:16<00:00,  8.38s/it, est. speed input: 0.36 toks/s, output: 11.93 toks/s]\n"
          ]
        },
        {
          "name": "stdout",
          "output_type": "stream",
          "text": [
            "Testing with 16 speculative tokens\n"
          ]
        },
        {
          "data": {
            "application/vnd.jupyter.widget-view+json": {
              "model_id": "06acb81648c64068b95984d44c391c0c",
              "version_major": 2,
              "version_minor": 0
            },
            "text/plain": [
              "Loading safetensors checkpoint shards:   0% Completed | 0/1 [00:00<?, ?it/s]\n"
            ]
          },
          "metadata": {},
          "output_type": "display_data"
        },
        {
          "data": {
            "application/vnd.jupyter.widget-view+json": {
              "model_id": "34599566cd2d444784ce65c2bd54e629",
              "version_major": 2,
              "version_minor": 0
            },
            "text/plain": [
              "Loading safetensors checkpoint shards:   0% Completed | 0/1 [00:00<?, ?it/s]\n"
            ]
          },
          "metadata": {},
          "output_type": "display_data"
        },
        {
          "data": {
            "application/vnd.jupyter.widget-view+json": {
              "model_id": "3f8b838b31264f8cbc5a3fbb491b57d1",
              "version_major": 2,
              "version_minor": 0
            },
            "text/plain": [
              "Loading safetensors checkpoint shards:   0% Completed | 0/1 [00:00<?, ?it/s]\n"
            ]
          },
          "metadata": {},
          "output_type": "display_data"
        },
        {
          "data": {
            "application/vnd.jupyter.widget-view+json": {
              "model_id": "8b90659ebaae4fa48e639b26ab8c82dc",
              "version_major": 2,
              "version_minor": 0
            },
            "text/plain": [
              "Loading safetensors checkpoint shards:   0% Completed | 0/1 [00:00<?, ?it/s]\n"
            ]
          },
          "metadata": {},
          "output_type": "display_data"
        },
        {
          "data": {
            "application/vnd.jupyter.widget-view+json": {
              "model_id": "d4f9820e71e94489941714833959a508",
              "version_major": 2,
              "version_minor": 0
            },
            "text/plain": [
              "  0%|          | 0/10 [00:00<?, ?it/s]"
            ]
          },
          "metadata": {},
          "output_type": "display_data"
        },
        {
          "name": "stderr",
          "output_type": "stream",
          "text": [
            "Processed prompts: 100%|██████████| 2/2 [00:19<00:00,  9.68s/it, est. speed input: 0.31 toks/s, output: 10.33 toks/s]\n",
            "Processed prompts: 100%|██████████| 2/2 [00:17<00:00,  8.59s/it, est. speed input: 0.35 toks/s, output: 11.64 toks/s]\n",
            "Processed prompts: 100%|██████████| 2/2 [00:18<00:00,  9.04s/it, est. speed input: 0.33 toks/s, output: 11.06 toks/s]\n",
            "Processed prompts: 100%|██████████| 2/2 [00:18<00:00,  9.14s/it, est. speed input: 0.33 toks/s, output: 10.94 toks/s]\n",
            "Processed prompts: 100%|██████████| 2/2 [00:18<00:00,  9.39s/it, est. speed input: 0.32 toks/s, output: 10.65 toks/s]\n",
            "Processed prompts: 100%|██████████| 2/2 [00:18<00:00,  9.24s/it, est. speed input: 0.32 toks/s, output: 10.82 toks/s]\n",
            "Processed prompts: 100%|██████████| 2/2 [00:18<00:00,  9.30s/it, est. speed input: 0.32 toks/s, output: 10.75 toks/s]\n",
            "Processed prompts: 100%|██████████| 2/2 [00:18<00:00,  9.15s/it, est. speed input: 0.33 toks/s, output: 10.93 toks/s]\n",
            "Processed prompts: 100%|██████████| 2/2 [00:19<00:00,  9.58s/it, est. speed input: 0.31 toks/s, output: 10.43 toks/s]\n",
            "Processed prompts: 100%|██████████| 2/2 [00:17<00:00,  8.64s/it, est. speed input: 0.35 toks/s, output: 11.58 toks/s]\n"
          ]
        },
        {
          "name": "stdout",
          "output_type": "stream",
          "text": [
            "Testing with 17 speculative tokens\n"
          ]
        },
        {
          "data": {
            "application/vnd.jupyter.widget-view+json": {
              "model_id": "a54e6db96ddd4743be992ef5a64c3185",
              "version_major": 2,
              "version_minor": 0
            },
            "text/plain": [
              "Loading safetensors checkpoint shards:   0% Completed | 0/1 [00:00<?, ?it/s]\n"
            ]
          },
          "metadata": {},
          "output_type": "display_data"
        },
        {
          "data": {
            "application/vnd.jupyter.widget-view+json": {
              "model_id": "a5f5f863788d48ed87591ab0051b93c0",
              "version_major": 2,
              "version_minor": 0
            },
            "text/plain": [
              "Loading safetensors checkpoint shards:   0% Completed | 0/1 [00:00<?, ?it/s]\n"
            ]
          },
          "metadata": {},
          "output_type": "display_data"
        },
        {
          "data": {
            "application/vnd.jupyter.widget-view+json": {
              "model_id": "e3c7f83d85dc469fa333be920649201d",
              "version_major": 2,
              "version_minor": 0
            },
            "text/plain": [
              "Loading safetensors checkpoint shards:   0% Completed | 0/1 [00:00<?, ?it/s]\n"
            ]
          },
          "metadata": {},
          "output_type": "display_data"
        },
        {
          "data": {
            "application/vnd.jupyter.widget-view+json": {
              "model_id": "5f394fbdfd5f4de2957edcb2358261e6",
              "version_major": 2,
              "version_minor": 0
            },
            "text/plain": [
              "Loading safetensors checkpoint shards:   0% Completed | 0/1 [00:00<?, ?it/s]\n"
            ]
          },
          "metadata": {},
          "output_type": "display_data"
        },
        {
          "data": {
            "application/vnd.jupyter.widget-view+json": {
              "model_id": "a806665450cb49f5badaefc52ed390d9",
              "version_major": 2,
              "version_minor": 0
            },
            "text/plain": [
              "  0%|          | 0/10 [00:00<?, ?it/s]"
            ]
          },
          "metadata": {},
          "output_type": "display_data"
        },
        {
          "name": "stderr",
          "output_type": "stream",
          "text": [
            "Processed prompts: 100%|██████████| 2/2 [00:26<00:00, 13.01s/it, est. speed input: 0.23 toks/s, output: 7.69 toks/s]\n",
            "Processed prompts: 100%|██████████| 2/2 [00:41<00:00, 20.60s/it, est. speed input: 0.15 toks/s, output: 4.85 toks/s]\n",
            "Processed prompts: 100%|██████████| 2/2 [00:30<00:00, 15.48s/it, est. speed input: 0.19 toks/s, output: 6.46 toks/s]\n",
            "Processed prompts: 100%|██████████| 2/2 [00:18<00:00,  9.29s/it, est. speed input: 0.32 toks/s, output: 10.76 toks/s]\n",
            "Processed prompts: 100%|██████████| 2/2 [00:21<00:00, 10.70s/it, est. speed input: 0.28 toks/s, output: 9.34 toks/s]\n",
            "Processed prompts: 100%|██████████| 2/2 [00:17<00:00,  8.77s/it, est. speed input: 0.34 toks/s, output: 11.40 toks/s]\n",
            "Processed prompts: 100%|██████████| 2/2 [00:22<00:00, 11.03s/it, est. speed input: 0.27 toks/s, output: 9.07 toks/s]\n",
            "Processed prompts: 100%|██████████| 2/2 [00:19<00:00,  9.51s/it, est. speed input: 0.32 toks/s, output: 10.52 toks/s]\n",
            "Processed prompts: 100%|██████████| 2/2 [00:17<00:00,  8.95s/it, est. speed input: 0.34 toks/s, output: 11.18 toks/s]\n",
            "Processed prompts: 100%|██████████| 2/2 [00:17<00:00,  8.91s/it, est. speed input: 0.34 toks/s, output: 11.22 toks/s]\n"
          ]
        },
        {
          "name": "stdout",
          "output_type": "stream",
          "text": [
            "Testing with 18 speculative tokens\n"
          ]
        },
        {
          "data": {
            "application/vnd.jupyter.widget-view+json": {
              "model_id": "d34b39652a8b41a8aea6a58c0cca4664",
              "version_major": 2,
              "version_minor": 0
            },
            "text/plain": [
              "Loading safetensors checkpoint shards:   0% Completed | 0/1 [00:00<?, ?it/s]\n"
            ]
          },
          "metadata": {},
          "output_type": "display_data"
        },
        {
          "data": {
            "application/vnd.jupyter.widget-view+json": {
              "model_id": "65b956250b304af6a86b51d2d7da33ae",
              "version_major": 2,
              "version_minor": 0
            },
            "text/plain": [
              "Loading safetensors checkpoint shards:   0% Completed | 0/1 [00:00<?, ?it/s]\n"
            ]
          },
          "metadata": {},
          "output_type": "display_data"
        },
        {
          "data": {
            "application/vnd.jupyter.widget-view+json": {
              "model_id": "542104d0366a4db7ac58c715c58a8cf5",
              "version_major": 2,
              "version_minor": 0
            },
            "text/plain": [
              "Loading safetensors checkpoint shards:   0% Completed | 0/1 [00:00<?, ?it/s]\n"
            ]
          },
          "metadata": {},
          "output_type": "display_data"
        },
        {
          "data": {
            "application/vnd.jupyter.widget-view+json": {
              "model_id": "9e118e2286d149e986b49c87c188cc7f",
              "version_major": 2,
              "version_minor": 0
            },
            "text/plain": [
              "Loading safetensors checkpoint shards:   0% Completed | 0/1 [00:00<?, ?it/s]\n"
            ]
          },
          "metadata": {},
          "output_type": "display_data"
        },
        {
          "data": {
            "application/vnd.jupyter.widget-view+json": {
              "model_id": "5327b6e2b5ec46b0b178afcc48ddf69d",
              "version_major": 2,
              "version_minor": 0
            },
            "text/plain": [
              "  0%|          | 0/10 [00:00<?, ?it/s]"
            ]
          },
          "metadata": {},
          "output_type": "display_data"
        },
        {
          "name": "stderr",
          "output_type": "stream",
          "text": [
            "Processed prompts: 100%|██████████| 2/2 [00:16<00:00,  8.08s/it, est. speed input: 0.37 toks/s, output: 12.37 toks/s]\n",
            "Processed prompts: 100%|██████████| 2/2 [00:16<00:00,  8.30s/it, est. speed input: 0.36 toks/s, output: 12.05 toks/s]\n",
            "Processed prompts: 100%|██████████| 2/2 [00:16<00:00,  8.19s/it, est. speed input: 0.37 toks/s, output: 12.21 toks/s]\n",
            "Processed prompts: 100%|██████████| 2/2 [00:14<00:00,  7.35s/it, est. speed input: 0.41 toks/s, output: 13.61 toks/s]\n",
            "Processed prompts: 100%|██████████| 2/2 [00:14<00:00,  7.17s/it, est. speed input: 0.42 toks/s, output: 13.96 toks/s]\n",
            "Processed prompts: 100%|██████████| 2/2 [00:15<00:00,  7.72s/it, est. speed input: 0.39 toks/s, output: 12.95 toks/s]\n",
            "Processed prompts: 100%|██████████| 2/2 [00:16<00:00,  8.01s/it, est. speed input: 0.37 toks/s, output: 12.49 toks/s]\n",
            "Processed prompts: 100%|██████████| 2/2 [00:15<00:00,  7.71s/it, est. speed input: 0.39 toks/s, output: 12.97 toks/s]\n",
            "Processed prompts: 100%|██████████| 2/2 [00:17<00:00,  8.62s/it, est. speed input: 0.35 toks/s, output: 11.60 toks/s]\n",
            "Processed prompts: 100%|██████████| 2/2 [00:15<00:00,  7.59s/it, est. speed input: 0.40 toks/s, output: 13.17 toks/s]\n"
          ]
        },
        {
          "name": "stdout",
          "output_type": "stream",
          "text": [
            "Testing with 19 speculative tokens\n"
          ]
        },
        {
          "data": {
            "application/vnd.jupyter.widget-view+json": {
              "model_id": "309827102d70455bb2a81a99dcd54e87",
              "version_major": 2,
              "version_minor": 0
            },
            "text/plain": [
              "Loading safetensors checkpoint shards:   0% Completed | 0/1 [00:00<?, ?it/s]\n"
            ]
          },
          "metadata": {},
          "output_type": "display_data"
        },
        {
          "data": {
            "application/vnd.jupyter.widget-view+json": {
              "model_id": "16f309be3821457db564cc1977541871",
              "version_major": 2,
              "version_minor": 0
            },
            "text/plain": [
              "Loading safetensors checkpoint shards:   0% Completed | 0/1 [00:00<?, ?it/s]\n"
            ]
          },
          "metadata": {},
          "output_type": "display_data"
        },
        {
          "data": {
            "application/vnd.jupyter.widget-view+json": {
              "model_id": "d97b82543b9d4949a908443cfa68e3d9",
              "version_major": 2,
              "version_minor": 0
            },
            "text/plain": [
              "Loading safetensors checkpoint shards:   0% Completed | 0/1 [00:00<?, ?it/s]\n"
            ]
          },
          "metadata": {},
          "output_type": "display_data"
        },
        {
          "data": {
            "application/vnd.jupyter.widget-view+json": {
              "model_id": "2587d049b7bf4a389a071a4acef8674d",
              "version_major": 2,
              "version_minor": 0
            },
            "text/plain": [
              "Loading safetensors checkpoint shards:   0% Completed | 0/1 [00:00<?, ?it/s]\n"
            ]
          },
          "metadata": {},
          "output_type": "display_data"
        },
        {
          "data": {
            "application/vnd.jupyter.widget-view+json": {
              "model_id": "a90b4141dc7c4b9f9ca81bff80be9e60",
              "version_major": 2,
              "version_minor": 0
            },
            "text/plain": [
              "  0%|          | 0/10 [00:00<?, ?it/s]"
            ]
          },
          "metadata": {},
          "output_type": "display_data"
        },
        {
          "name": "stderr",
          "output_type": "stream",
          "text": [
            "Processed prompts: 100%|██████████| 2/2 [00:19<00:00,  9.84s/it, est. speed input: 0.30 toks/s, output: 10.16 toks/s]\n",
            "Processed prompts: 100%|██████████| 2/2 [00:17<00:00,  8.90s/it, est. speed input: 0.34 toks/s, output: 11.23 toks/s]\n",
            "Processed prompts: 100%|██████████| 2/2 [00:18<00:00,  9.02s/it, est. speed input: 0.33 toks/s, output: 11.09 toks/s]\n",
            "Processed prompts: 100%|██████████| 2/2 [00:18<00:00,  9.29s/it, est. speed input: 0.32 toks/s, output: 10.77 toks/s]\n",
            "Processed prompts: 100%|██████████| 2/2 [00:17<00:00,  8.61s/it, est. speed input: 0.35 toks/s, output: 11.62 toks/s]\n",
            "Processed prompts: 100%|██████████| 2/2 [00:17<00:00,  8.64s/it, est. speed input: 0.35 toks/s, output: 11.58 toks/s]\n",
            "Processed prompts: 100%|██████████| 2/2 [00:17<00:00,  8.80s/it, est. speed input: 0.34 toks/s, output: 11.37 toks/s]\n",
            "Processed prompts: 100%|██████████| 2/2 [00:16<00:00,  8.43s/it, est. speed input: 0.36 toks/s, output: 11.87 toks/s]\n",
            "Processed prompts: 100%|██████████| 2/2 [00:17<00:00,  8.97s/it, est. speed input: 0.33 toks/s, output: 11.15 toks/s]\n",
            "Processed prompts: 100%|██████████| 2/2 [00:17<00:00,  8.80s/it, est. speed input: 0.34 toks/s, output: 11.36 toks/s]\n"
          ]
        }
      ],
      "source": [
        "import torch\n",
        "import gc\n",
        "import os\n",
        "from time import sleep\n",
        "os.environ[\"VLLM_CONFIGURE_LOGGING\"] = \"1\"\n",
        "os.environ[\"VLLM_LOGGING_CONFIG_PATH\"] = \"./vllm_logging_config.json\"\n",
        "\n",
        "from vllm import LLM, SamplingParams\n",
        "\n",
        "sampling_params = SamplingParams(temperature=temperature, seed=seed, max_tokens=max_new_tokens)\n",
        "vllm_args = {\n",
        "    \"model\": target_model_name,\n",
        "    \"tensor_parallel_size\": 1,\n",
        "    \"max_model_len\": 4096,\n",
        "    \"speculative_model\": auxilary_model_name,\n",
        "    \"use_v2_block_manager\": True,\n",
        "    \"trust_remote_code\": True,\n",
        "    \"gpu_memory_utilization\": 0.9,\n",
        "    \"dtype\": torch.bfloat16,\n",
        "    \"quantization\": \"bitsandbytes\",\n",
        "    \"load_format\": \"bitsandbytes\"\n",
        "}\n",
        "\n",
        "vllm_latencies = defaultdict(list)\n",
        "for specualtion_size in range(1, 20):\n",
        "    print(f\"Testing with {specualtion_size} speculative tokens\")\n",
        "    llm = LLM(\n",
        "        **vllm_args,\n",
        "        num_speculative_tokens=specualtion_size,\n",
        "        disable_log_stats=False\n",
        "    )\n",
        "    speculative_latencies = []\n",
        "    for example in tqdm(inputs):\n",
        "        input_ids = tokenizer(example, padding=False)\n",
        "        start = time.perf_counter()\n",
        "        outputs = llm.generate(input_ids, sampling_params=sampling_params)\n",
        "        latency = time.perf_counter() - start\n",
        "        speculative_latencies.append(latency)\n",
        "    vllm_latencies[specualtion_size] = speculative_latencies\n",
        "    sleep(10)\n",
        "    del llm\n",
        "    torch.cuda.empty_cache()\n",
        "    gc.collect()"
      ]
    },
    {
      "cell_type": "code",
      "execution_count": 9,
      "metadata": {},
      "outputs": [
        {
          "data": {
            "text/plain": [
              "<BarContainer object of 19 artists>"
            ]
          },
          "execution_count": 9,
          "metadata": {},
          "output_type": "execute_result"
        },
        {
          "data": {
            "image/png": "[encoded data removed]",
            "text/plain": [
              "<Figure size 1000x600 with 1 Axes>"
            ]
          },
          "metadata": {},
          "output_type": "display_data"
        }
      ],
      "source": [
        "import pandas as pd\n",
        "import numpy as np\n",
        "import matplotlib.pyplot as plt\n",
        "\n",
        "sample_latencies_mean = np.mean(sample_latencies)\n",
        "vllm_latencies_df = pd.DataFrame(vllm_latencies)\n",
        "improvements = vllm_latencies_df.mean(axis=0) / sample_latencies_mean\n",
        "\n",
        "plt.figure(figsize=(10, 6))\n",
        "plt.ylabel(\"Runtime (% of Sampling)\")\n",
        "plt.xlabel(\"Number of Speculative Tokens\")\n",
        "plt.xticks(vllm_latencies_df.columns)\n",
        "plt.bar(vllm_latencies_df.columns, improvements * 100)\n",
        "\n"
      ]
    },
    {
      "cell_type": "code",
      "execution_count": 11,
      "metadata": {},
      "outputs": [
        {
          "data": {
            "image/png": "[encoded data removed]",
            "text/plain": [
              "<Figure size 1000x600 with 1 Axes>"
            ]
          },
          "metadata": {},
          "output_type": "display_data"
        },
        {
          "data": {
            "image/png": "[encoded data removed]",
            "text/plain": [
              "<Figure size 1000x600 with 1 Axes>"
            ]
          },
          "metadata": {},
          "output_type": "display_data"
        },
        {
          "data": {
            "image/png": "[encoded data removed]",
            "text/plain": [
              "<Figure size 1000x600 with 1 Axes>"
            ]
          },
          "metadata": {},
          "output_type": "display_data"
        },
        {
          "data": {
            "image/png": "[encoded data removed]",
            "text/plain": [
              "<Figure size 1000x600 with 1 Axes>"
            ]
          },
          "metadata": {},
          "output_type": "display_data"
        },
        {
          "data": {
            "image/png": "[encoded data removed]",
            "text/plain": [
              "<Figure size 1000x600 with 1 Axes>"
            ]
          },
          "metadata": {},
          "output_type": "display_data"
        }
      ],
      "source": [
        "from parse_vllm_metrics import parse_and_plot_metrics\n",
        "parse_and_plot_metrics(\"./vllm_metrics.log\")"
      ]
    },
    {
      "cell_type": "code",
      "execution_count": 14,
      "metadata": {},
      "outputs": [
        {
          "name": "stderr",
          "output_type": "stream",
          "text": [
            "Unused kwargs: ['_load_in_4bit', '_load_in_8bit', 'quant_method']. These kwargs are not used in <class 'transformers.utils.quantization_config.BitsAndBytesConfig'>.\n",
            "Unused kwargs: ['_load_in_4bit', '_load_in_8bit', 'quant_method']. These kwargs are not used in <class 'transformers.utils.quantization_config.BitsAndBytesConfig'>.\n"
          ]
        }
      ],
      "source": [
        "from datasets import load_dataset\n",
        "from tqdm.notebook import tqdm\n",
        "from collections import defaultdict\n",
        "import time\n",
        "\n",
        "seed = 42\n",
        "temperature = 0.1\n",
        "max_new_tokens = 100\n",
        "target_model = AutoModelForCausalLM.from_pretrained(target_model_name, **model_args)\n",
        "auxilary_model = AutoModelForCausalLM.from_pretrained(auxilary_model_name, **model_args)\n",
        "target_device = target_model.device\n",
        "data = load_dataset(\"reasoning-machines/gsm-hard\")['train'].shuffle(seed=seed).select(range(10))['input']\n",
        "messages = [\n",
        "    [\n",
        "        {'role': 'system', 'content': 'You are an algebra assistant. The user will ask you math questions and you will solve them.'},\n",
        "        {'role': 'user', 'content': example},\n",
        "    ]\n",
        "    for example in data\n",
        "]\n",
        "inputs = tokenizer.apply_chat_template(messages, tokenize=True, padding=False)"
      ]
    },
    {
      "cell_type": "code",
      "execution_count": 15,
      "metadata": {},
      "outputs": [
        {
          "data": {
            "application/vnd.jupyter.widget-view+json": {
              "model_id": "87a85b27dfaf490dac1be08e3f4900a2",
              "version_major": 2,
              "version_minor": 0
            },
            "text/plain": [
              "  0%|          | 0/10 [00:00<?, ?it/s]"
            ]
          },
          "metadata": {},
          "output_type": "display_data"
        },
        {
          "name": "stderr",
          "output_type": "stream",
          "text": [
            "[W1114 15:37:21.989525783 collection.cpp:601] Warning: cudaLaunchKernel (function operator())\n"
          ]
        }
      ],
      "source": [
        "import torch\n",
        "from accelerate.utils import release_memory\n",
        "\n",
        "profile_dir = \"./profile/sampling\"\n",
        "with torch.profiler.profile(\n",
        "    activities=[\n",
        "        torch.profiler.ProfilerActivity.CPU,\n",
        "        torch.profiler.ProfilerActivity.CUDA,\n",
        "    ],\n",
        "    on_trace_ready=torch.profiler.tensorboard_trace_handler(profile_dir),\n",
        ") as p:\n",
        "    for input_ids in tqdm(inputs):\n",
        "        # input_ids = tokenizer(example, return_tensors=\"pt\", padding=False).input_ids.to(target_device)\n",
        "        input_ids = torch.tensor(input_ids, device=target_device).unsqueeze(0)\n",
        "        sampled_ids, log_probs = sample_decode(target_model, tokenizer, input_ids, max_new_tokens, temperature=temperature)\n",
        "    \n",
        "\n",
        "target_model = release_memory(target_model)\n",
        "auxilary_model = release_memory(auxilary_model)"
      ]
    },
    {
      "cell_type": "code",
      "execution_count": null,
      "metadata": {},
      "outputs": [],
      "source": [
        "import torch\n",
        "import gc\n",
        "import os\n",
        "from time import sleep\n",
        "os.environ[\"VLLM_CONFIGURE_LOGGING\"] = \"1\"\n",
        "os.environ[\"VLLM_LOGGING_CONFIG_PATH\"] = \"./vllm_logging_config.json\"\n",
        "\n",
        "from vllm import LLM, SamplingParams\n",
        "\n",
        "sampling_params = SamplingParams(temperature=temperature, seed=seed, max_tokens=max_new_tokens)\n",
        "vllm_args = {\n",
        "    \"model\": target_model_name,\n",
        "    \"tensor_parallel_size\": 1,\n",
        "    \"max_model_len\": 4096,\n",
        "    \"speculative_model\": auxilary_model_name,\n",
        "    \"use_v2_block_manager\": True,\n",
        "    \"trust_remote_code\": True,\n",
        "    \"gpu_memory_utilization\": 0.9,\n",
        "    \"dtype\": torch.bfloat16,\n",
        "    \"quantization\": \"bitsandbytes\",\n",
        "    \"load_format\": \"bitsandbytes\"\n",
        "}\n",
        "\n",
        "for specualtion_size in range(1, 20):\n",
        "    print(f\"Testing with {specualtion_size} speculative tokens\")\n",
        "    llm = LLM(\n",
        "        **vllm_args,\n",
        "        num_speculative_tokens=specualtion_size,\n",
        "        disable_log_stats=False\n",
        "    )\n",
        "    profile_dir = f\"./profile/speculation_{specualtion_size}\"\n",
        "    with torch.profiler.profile(\n",
        "        activities=[\n",
        "            torch.profiler.ProfilerActivity.CPU,\n",
        "            torch.profiler.ProfilerActivity.CUDA,\n",
        "        ],\n",
        "        on_trace_ready=torch.profiler.tensorboard_trace_handler(str(profile_dir))\n",
        "    ) as p:\n",
        "        for example in tqdm(inputs):\n",
        "            outputs = llm.generate(example, sampling_params=sampling_params)\n",
        "    \n",
        "    sleep(10)\n",
        "    del llm\n",
        "    torch.cuda.empty_cache()\n",
        "    gc.collect()"
      ]
    }
  ],
  "metadata": {
    "accelerator": "GPU",
    "colab": {
      "gpuType": "T4",
      "provenance": []
    },
    "kernelspec": {
      "display_name": "Python 3",
      "name": "python3"
    },
    "language_info": {
      "codemirror_mode": {
        "name": "ipython",
        "version": 3
      },
      "file_extension": ".py",
      "mimetype": "text/x-python",
      "name": "python",
      "nbconvert_exporter": "python",
      "pygments_lexer": "ipython3",
      "version": "3.11.9"
    },
    "widgets": {
      "application/vnd.jupyter.widget-state+json": {
        "00f7280b44564079b83fa5ead6583465": {
          "model_module": "@jupyter-widgets/controls",
          "model_module_version": "1.5.0",
          "model_name": "DescriptionStyleModel",
          "state": {
            "_model_module": "@jupyter-widgets/controls",
            "_model_module_version": "1.5.0",
            "_model_name": "DescriptionStyleModel",
            "_view_count": null,
            "_view_module": "@jupyter-widgets/base",
            "_view_module_version": "1.2.0",
            "_view_name": "StyleView",
            "description_width": ""
          }
        },
        "08568f38c8ef47e5835485134e6a4392": {
          "model_module": "@jupyter-widgets/base",
          "model_module_version": "1.2.0",
          "model_name": "LayoutModel",
          "state": {
            "_model_module": "@jupyter-widgets/base",
            "_model_module_version": "1.2.0",
            "_model_name": "LayoutModel",
            "_view_count": null,
            "_view_module": "@jupyter-widgets/base",
            "_view_module_version": "1.2.0",
            "_view_name": "LayoutView",
            "align_content": null,
            "align_items": null,
            "align_self": null,
            "border": null,
            "bottom": null,
            "display": null,
            "flex": null,
            "flex_flow": null,
            "grid_area": null,
            "grid_auto_columns": null,
            "grid_auto_flow": null,
            "grid_auto_rows": null,
            "grid_column": null,
            "grid_gap": null,
            "grid_row": null,
            "grid_template_areas": null,
            "grid_template_columns": null,
            "grid_template_rows": null,
            "height": null,
            "justify_content": null,
            "justify_items": null,
            "left": null,
            "margin": null,
            "max_height": null,
            "max_width": null,
            "min_height": null,
            "min_width": null,
            "object_fit": null,
            "object_position": null,
            "order": null,
            "overflow": null,
            "overflow_x": null,
            "overflow_y": null,
            "padding": null,
            "right": null,
            "top": null,
            "visibility": null,
            "width": null
          }
        },
        "0d5308cac10b495cb89128f4585a0e7e": {
          "model_module": "@jupyter-widgets/base",
          "model_module_version": "1.2.0",
          "model_name": "LayoutModel",
          "state": {
            "_model_module": "@jupyter-widgets/base",
            "_model_module_version": "1.2.0",
            "_model_name": "LayoutModel",
            "_view_count": null,
            "_view_module": "@jupyter-widgets/base",
            "_view_module_version": "1.2.0",
            "_view_name": "LayoutView",
            "align_content": null,
            "align_items": null,
            "align_self": null,
            "border": null,
            "bottom": null,
            "display": null,
            "flex": null,
            "flex_flow": null,
            "grid_area": null,
            "grid_auto_columns": null,
            "grid_auto_flow": null,
            "grid_auto_rows": null,
            "grid_column": null,
            "grid_gap": null,
            "grid_row": null,
            "grid_template_areas": null,
            "grid_template_columns": null,
            "grid_template_rows": null,
            "height": null,
            "justify_content": null,
            "justify_items": null,
            "left": null,
            "margin": null,
            "max_height": null,
            "max_width": null,
            "min_height": null,
            "min_width": null,
            "object_fit": null,
            "object_position": null,
            "order": null,
            "overflow": null,
            "overflow_x": null,
            "overflow_y": null,
            "padding": null,
            "right": null,
            "top": null,
            "visibility": null,
            "width": null
          }
        },
        "0d7f76e4a8aa4f81b144a4bea28dedd8": {
          "model_module": "@jupyter-widgets/controls",
          "model_module_version": "1.5.0",
          "model_name": "HTMLModel",
          "state": {
            "_dom_classes": [],
            "_model_module": "@jupyter-widgets/controls",
            "_model_module_version": "1.5.0",
            "_model_name": "HTMLModel",
            "_view_count": null,
            "_view_module": "@jupyter-widgets/controls",
            "_view_module_version": "1.5.0",
            "_view_name": "HTMLView",
            "description": "",
            "description_tooltip": null,
            "layout": "IPY_MODEL_c9bd47d82f1843e181ae1bdbe94bac43",
            "placeholder": "​",
            "style": "IPY_MODEL_cd301117ec7a4e889164c40d430a8bc4",
            "value": ""
          }
        },
        "0df80053fdea49dfad7291645a40dcee": {
          "model_module": "@jupyter-widgets/controls",
          "model_module_version": "1.5.0",
          "model_name": "FloatProgressModel",
          "state": {
            "_dom_classes": [],
            "_model_module": "@jupyter-widgets/controls",
            "_model_module_version": "1.5.0",
            "_model_name": "FloatProgressModel",
            "_view_count": null,
            "_view_module": "@jupyter-widgets/controls",
            "_view_module_version": "1.5.0",
            "_view_name": "ProgressView",
            "bar_style": "success",
            "description": "",
            "description_tooltip": null,
            "layout": "IPY_MODEL_c8cadd9e0f054c409bd2ece4a0230fda",
            "max": 1513,
            "min": 0,
            "orientation": "horizontal",
            "style": "IPY_MODEL_82e19bcc64524fd187e9b984ad64795d",
            "value": 1513
          }
        },
        "16e702d8138a4c3f9cef0ff46a660e70": {
          "model_module": "@jupyter-widgets/controls",
          "model_module_version": "1.5.0",
          "model_name": "DescriptionStyleModel",
          "state": {
            "_model_module": "@jupyter-widgets/controls",
            "_model_module_version": "1.5.0",
            "_model_name": "DescriptionStyleModel",
            "_view_count": null,
            "_view_module": "@jupyter-widgets/base",
            "_view_module_version": "1.2.0",
            "_view_name": "StyleView",
            "description_width": ""
          }
        },
        "1d02663a567b46d1ba20122e4b7361dd": {
          "model_module": "@jupyter-widgets/controls",
          "model_module_version": "1.5.0",
          "model_name": "HBoxModel",
          "state": {
            "_dom_classes": [],
            "_model_module": "@jupyter-widgets/controls",
            "_model_module_version": "1.5.0",
            "_model_name": "HBoxModel",
            "_view_count": null,
            "_view_module": "@jupyter-widgets/controls",
            "_view_module_version": "1.5.0",
            "_view_name": "HBoxView",
            "box_style": "",
            "children": [
              "IPY_MODEL_7e08b44dfe5347f99eb485c755ce178a",
              "IPY_MODEL_b49abfc1e0b7445b8b5cbbf2eb885e18",
              "IPY_MODEL_943c96cc125c409787d49267db24171d"
            ],
            "layout": "IPY_MODEL_ffa61e2b39d54fd69882620bddd7caab"
          }
        },
        "1d5074c189d047849c7b9c799bfb7094": {
          "model_module": "@jupyter-widgets/base",
          "model_module_version": "1.2.0",
          "model_name": "LayoutModel",
          "state": {
            "_model_module": "@jupyter-widgets/base",
            "_model_module_version": "1.2.0",
            "_model_name": "LayoutModel",
            "_view_count": null,
            "_view_module": "@jupyter-widgets/base",
            "_view_module_version": "1.2.0",
            "_view_name": "LayoutView",
            "align_content": null,
            "align_items": null,
            "align_self": null,
            "border": null,
            "bottom": null,
            "display": null,
            "flex": null,
            "flex_flow": null,
            "grid_area": null,
            "grid_auto_columns": null,
            "grid_auto_flow": null,
            "grid_auto_rows": null,
            "grid_column": null,
            "grid_gap": null,
            "grid_row": null,
            "grid_template_areas": null,
            "grid_template_columns": null,
            "grid_template_rows": null,
            "height": null,
            "justify_content": null,
            "justify_items": null,
            "left": null,
            "margin": null,
            "max_height": null,
            "max_width": null,
            "min_height": null,
            "min_width": null,
            "object_fit": null,
            "object_position": null,
            "order": null,
            "overflow": null,
            "overflow_x": null,
            "overflow_y": null,
            "padding": null,
            "right": null,
            "top": null,
            "visibility": null,
            "width": null
          }
        },
        "218c79d36ac4445cb67d658f2995025e": {
          "model_module": "@jupyter-widgets/controls",
          "model_module_version": "1.5.0",
          "model_name": "HTMLModel",
          "state": {
            "_dom_classes": [],
            "_model_module": "@jupyter-widgets/controls",
            "_model_module_version": "1.5.0",
            "_model_name": "HTMLModel",
            "_view_count": null,
            "_view_module": "@jupyter-widgets/controls",
            "_view_module_version": "1.5.0",
            "_view_name": "HTMLView",
            "description": "",
            "description_tooltip": null,
            "layout": "IPY_MODEL_35ee8f38ee924e8fa2915312fcb970be",
            "placeholder": "​",
            "style": "IPY_MODEL_e673d6e178c448ce96e721dbc9a590f7",
            "value": "README.md: 100%"
          }
        },
        "2b6ffd4d1974415289fbb0551dc71675": {
          "model_module": "@jupyter-widgets/controls",
          "model_module_version": "1.5.0",
          "model_name": "HBoxModel",
          "state": {
            "_dom_classes": [],
            "_model_module": "@jupyter-widgets/controls",
            "_model_module_version": "1.5.0",
            "_model_name": "HBoxModel",
            "_view_count": null,
            "_view_module": "@jupyter-widgets/controls",
            "_view_module_version": "1.5.0",
            "_view_name": "HBoxView",
            "box_style": "",
            "children": [
              "IPY_MODEL_60016a623f2e45449cf5d83245e38f9b",
              "IPY_MODEL_85eb16f1852f42d4bdd0834253404730",
              "IPY_MODEL_7343700b0586457fa3c371d87de7a143"
            ],
            "layout": "IPY_MODEL_5cdcbc945a174c4c889092fe5f0b9418"
          }
        },
        "30a17ee900134a2cb628708d88f47383": {
          "model_module": "@jupyter-widgets/controls",
          "model_module_version": "1.5.0",
          "model_name": "DescriptionStyleModel",
          "state": {
            "_model_module": "@jupyter-widgets/controls",
            "_model_module_version": "1.5.0",
            "_model_name": "DescriptionStyleModel",
            "_view_count": null,
            "_view_module": "@jupyter-widgets/base",
            "_view_module_version": "1.2.0",
            "_view_name": "StyleView",
            "description_width": ""
          }
        },
        "30da41545b9147af95cb633ffd0ac949": {
          "model_module": "@jupyter-widgets/controls",
          "model_module_version": "1.5.0",
          "model_name": "HTMLModel",
          "state": {
            "_dom_classes": [],
            "_model_module": "@jupyter-widgets/controls",
            "_model_module_version": "1.5.0",
            "_model_name": "HTMLModel",
            "_view_count": null,
            "_view_module": "@jupyter-widgets/controls",
            "_view_module_version": "1.5.0",
            "_view_name": "HTMLView",
            "description": "",
            "description_tooltip": null,
            "layout": "IPY_MODEL_86ad3b736ea84cef88974bf531859fec",
            "placeholder": "​",
            "style": "IPY_MODEL_30a17ee900134a2cb628708d88f47383",
            "value": "gsmhardv2.jsonl: 100%"
          }
        },
        "32001f5ab9bf4b87b2b523c259079032": {
          "model_module": "@jupyter-widgets/controls",
          "model_module_version": "1.5.0",
          "model_name": "ProgressStyleModel",
          "state": {
            "_model_module": "@jupyter-widgets/controls",
            "_model_module_version": "1.5.0",
            "_model_name": "ProgressStyleModel",
            "_view_count": null,
            "_view_module": "@jupyter-widgets/base",
            "_view_module_version": "1.2.0",
            "_view_name": "StyleView",
            "bar_color": null,
            "description_width": ""
          }
        },
        "35ee8f38ee924e8fa2915312fcb970be": {
          "model_module": "@jupyter-widgets/base",
          "model_module_version": "1.2.0",
          "model_name": "LayoutModel",
          "state": {
            "_model_module": "@jupyter-widgets/base",
            "_model_module_version": "1.2.0",
            "_model_name": "LayoutModel",
            "_view_count": null,
            "_view_module": "@jupyter-widgets/base",
            "_view_module_version": "1.2.0",
            "_view_name": "LayoutView",
            "align_content": null,
            "align_items": null,
            "align_self": null,
            "border": null,
            "bottom": null,
            "display": null,
            "flex": null,
            "flex_flow": null,
            "grid_area": null,
            "grid_auto_columns": null,
            "grid_auto_flow": null,
            "grid_auto_rows": null,
            "grid_column": null,
            "grid_gap": null,
            "grid_row": null,
            "grid_template_areas": null,
            "grid_template_columns": null,
            "grid_template_rows": null,
            "height": null,
            "justify_content": null,
            "justify_items": null,
            "left": null,
            "margin": null,
            "max_height": null,
            "max_width": null,
            "min_height": null,
            "min_width": null,
            "object_fit": null,
            "object_position": null,
            "order": null,
            "overflow": null,
            "overflow_x": null,
            "overflow_y": null,
            "padding": null,
            "right": null,
            "top": null,
            "visibility": null,
            "width": null
          }
        },
        "363b371217de4a029a5b6833e8a89802": {
          "model_module": "@jupyter-widgets/base",
          "model_module_version": "1.2.0",
          "model_name": "LayoutModel",
          "state": {
            "_model_module": "@jupyter-widgets/base",
            "_model_module_version": "1.2.0",
            "_model_name": "LayoutModel",
            "_view_count": null,
            "_view_module": "@jupyter-widgets/base",
            "_view_module_version": "1.2.0",
            "_view_name": "LayoutView",
            "align_content": null,
            "align_items": null,
            "align_self": null,
            "border": null,
            "bottom": null,
            "display": null,
            "flex": null,
            "flex_flow": null,
            "grid_area": null,
            "grid_auto_columns": null,
            "grid_auto_flow": null,
            "grid_auto_rows": null,
            "grid_column": null,
            "grid_gap": null,
            "grid_row": null,
            "grid_template_areas": null,
            "grid_template_columns": null,
            "grid_template_rows": null,
            "height": null,
            "justify_content": null,
            "justify_items": null,
            "left": null,
            "margin": null,
            "max_height": null,
            "max_width": null,
            "min_height": null,
            "min_width": null,
            "object_fit": null,
            "object_position": null,
            "order": null,
            "overflow": null,
            "overflow_x": null,
            "overflow_y": null,
            "padding": null,
            "right": null,
            "top": null,
            "visibility": null,
            "width": null
          }
        },
        "3687005dbc744011a303cdd539d67b2b": {
          "model_module": "@jupyter-widgets/controls",
          "model_module_version": "1.5.0",
          "model_name": "HTMLModel",
          "state": {
            "_dom_classes": [],
            "_model_module": "@jupyter-widgets/controls",
            "_model_module_version": "1.5.0",
            "_model_name": "HTMLModel",
            "_view_count": null,
            "_view_module": "@jupyter-widgets/controls",
            "_view_module_version": "1.5.0",
            "_view_name": "HTMLView",
            "description": "",
            "description_tooltip": null,
            "layout": "IPY_MODEL_dfd749a03c7e4fb2ac1b0f098e0b9224",
            "placeholder": "​",
            "style": "IPY_MODEL_16e702d8138a4c3f9cef0ff46a660e70",
            "value": " 1.14M/1.14M [00:00&lt;00:00, 5.93MB/s]"
          }
        },
        "391329a2130747f7a30de23453c02b51": {
          "model_module": "@jupyter-widgets/controls",
          "model_module_version": "1.5.0",
          "model_name": "DescriptionStyleModel",
          "state": {
            "_model_module": "@jupyter-widgets/controls",
            "_model_module_version": "1.5.0",
            "_model_name": "DescriptionStyleModel",
            "_view_count": null,
            "_view_module": "@jupyter-widgets/base",
            "_view_module_version": "1.2.0",
            "_view_name": "StyleView",
            "description_width": ""
          }
        },
        "39dccadb3c3348efb687adb2ca298871": {
          "model_module": "@jupyter-widgets/controls",
          "model_module_version": "1.5.0",
          "model_name": "HTMLModel",
          "state": {
            "_dom_classes": [],
            "_model_module": "@jupyter-widgets/controls",
            "_model_module_version": "1.5.0",
            "_model_name": "HTMLModel",
            "_view_count": null,
            "_view_module": "@jupyter-widgets/controls",
            "_view_module_version": "1.5.0",
            "_view_name": "HTMLView",
            "description": "",
            "description_tooltip": null,
            "layout": "IPY_MODEL_3e0cd2ae9b814250bd5d5f6811fdc29a",
            "placeholder": "​",
            "style": "IPY_MODEL_e8410a6f3c174dd789fbb9eebcd6703f",
            "value": ""
          }
        },
        "3b63dd28cf4548e3a2735efeab20b3f7": {
          "model_module": "@jupyter-widgets/controls",
          "model_module_version": "1.5.0",
          "model_name": "ProgressStyleModel",
          "state": {
            "_model_module": "@jupyter-widgets/controls",
            "_model_module_version": "1.5.0",
            "_model_name": "ProgressStyleModel",
            "_view_count": null,
            "_view_module": "@jupyter-widgets/base",
            "_view_module_version": "1.2.0",
            "_view_name": "StyleView",
            "bar_color": null,
            "description_width": ""
          }
        },
        "3d6cd2f9c28047289b9a8ce1410a8bdc": {
          "model_module": "@jupyter-widgets/base",
          "model_module_version": "1.2.0",
          "model_name": "LayoutModel",
          "state": {
            "_model_module": "@jupyter-widgets/base",
            "_model_module_version": "1.2.0",
            "_model_name": "LayoutModel",
            "_view_count": null,
            "_view_module": "@jupyter-widgets/base",
            "_view_module_version": "1.2.0",
            "_view_name": "LayoutView",
            "align_content": null,
            "align_items": null,
            "align_self": null,
            "border": null,
            "bottom": null,
            "display": null,
            "flex": null,
            "flex_flow": null,
            "grid_area": null,
            "grid_auto_columns": null,
            "grid_auto_flow": null,
            "grid_auto_rows": null,
            "grid_column": null,
            "grid_gap": null,
            "grid_row": null,
            "grid_template_areas": null,
            "grid_template_columns": null,
            "grid_template_rows": null,
            "height": null,
            "justify_content": null,
            "justify_items": null,
            "left": null,
            "margin": null,
            "max_height": null,
            "max_width": null,
            "min_height": null,
            "min_width": null,
            "object_fit": null,
            "object_position": null,
            "order": null,
            "overflow": null,
            "overflow_x": null,
            "overflow_y": null,
            "padding": null,
            "right": null,
            "top": null,
            "visibility": null,
            "width": null
          }
        },
        "3e0cd2ae9b814250bd5d5f6811fdc29a": {
          "model_module": "@jupyter-widgets/base",
          "model_module_version": "1.2.0",
          "model_name": "LayoutModel",
          "state": {
            "_model_module": "@jupyter-widgets/base",
            "_model_module_version": "1.2.0",
            "_model_name": "LayoutModel",
            "_view_count": null,
            "_view_module": "@jupyter-widgets/base",
            "_view_module_version": "1.2.0",
            "_view_name": "LayoutView",
            "align_content": null,
            "align_items": null,
            "align_self": null,
            "border": null,
            "bottom": null,
            "display": null,
            "flex": null,
            "flex_flow": null,
            "grid_area": null,
            "grid_auto_columns": null,
            "grid_auto_flow": null,
            "grid_auto_rows": null,
            "grid_column": null,
            "grid_gap": null,
            "grid_row": null,
            "grid_template_areas": null,
            "grid_template_columns": null,
            "grid_template_rows": null,
            "height": null,
            "justify_content": null,
            "justify_items": null,
            "left": null,
            "margin": null,
            "max_height": null,
            "max_width": null,
            "min_height": null,
            "min_width": null,
            "object_fit": null,
            "object_position": null,
            "order": null,
            "overflow": null,
            "overflow_x": null,
            "overflow_y": null,
            "padding": null,
            "right": null,
            "top": null,
            "visibility": null,
            "width": null
          }
        },
        "489c67ddbfc34058a315d3a2d942075c": {
          "model_module": "@jupyter-widgets/controls",
          "model_module_version": "1.5.0",
          "model_name": "HBoxModel",
          "state": {
            "_dom_classes": [],
            "_model_module": "@jupyter-widgets/controls",
            "_model_module_version": "1.5.0",
            "_model_name": "HBoxModel",
            "_view_count": null,
            "_view_module": "@jupyter-widgets/controls",
            "_view_module_version": "1.5.0",
            "_view_name": "HBoxView",
            "box_style": "",
            "children": [
              "IPY_MODEL_218c79d36ac4445cb67d658f2995025e",
              "IPY_MODEL_0df80053fdea49dfad7291645a40dcee",
              "IPY_MODEL_a4392fd858d2439fbf56f0750b53d9e6"
            ],
            "layout": "IPY_MODEL_0d5308cac10b495cb89128f4585a0e7e"
          }
        },
        "4d6fc384f0804cba896b283c45ff48c6": {
          "model_module": "@jupyter-widgets/controls",
          "model_module_version": "1.5.0",
          "model_name": "FloatProgressModel",
          "state": {
            "_dom_classes": [],
            "_model_module": "@jupyter-widgets/controls",
            "_model_module_version": "1.5.0",
            "_model_name": "FloatProgressModel",
            "_view_count": null,
            "_view_module": "@jupyter-widgets/controls",
            "_view_module_version": "1.5.0",
            "_view_name": "ProgressView",
            "bar_style": "success",
            "description": "",
            "description_tooltip": null,
            "layout": "IPY_MODEL_fc8a884501cc44d3b819cb5eb778333e",
            "max": 1319,
            "min": 0,
            "orientation": "horizontal",
            "style": "IPY_MODEL_ed77b2fcfdda4496b1bf45c98808b9b9",
            "value": 1319
          }
        },
        "4f1135c99d5a4e809e19374d54e03ab5": {
          "model_module": "@jupyter-widgets/controls",
          "model_module_version": "1.5.0",
          "model_name": "HBoxModel",
          "state": {
            "_dom_classes": [],
            "_model_module": "@jupyter-widgets/controls",
            "_model_module_version": "1.5.0",
            "_model_name": "HBoxModel",
            "_view_count": null,
            "_view_module": "@jupyter-widgets/controls",
            "_view_module_version": "1.5.0",
            "_view_name": "HBoxView",
            "box_style": "",
            "children": [
              "IPY_MODEL_30da41545b9147af95cb633ffd0ac949",
              "IPY_MODEL_bdbbcb7f26a74a89b0c1c7e9b53db0c8",
              "IPY_MODEL_3687005dbc744011a303cdd539d67b2b"
            ],
            "layout": "IPY_MODEL_08568f38c8ef47e5835485134e6a4392"
          }
        },
        "5b1a870f181e4efd90e9e02393037e3e": {
          "model_module": "@jupyter-widgets/controls",
          "model_module_version": "1.5.0",
          "model_name": "HTMLModel",
          "state": {
            "_dom_classes": [],
            "_model_module": "@jupyter-widgets/controls",
            "_model_module_version": "1.5.0",
            "_model_name": "HTMLModel",
            "_view_count": null,
            "_view_module": "@jupyter-widgets/controls",
            "_view_module_version": "1.5.0",
            "_view_name": "HTMLView",
            "description": "",
            "description_tooltip": null,
            "layout": "IPY_MODEL_dba22813182d4d5b8ad17ead96a0efc8",
            "placeholder": "​",
            "style": "IPY_MODEL_8972e91a10f04dc19ed8ecdadef64999",
            "value": "Loading safetensors checkpoint shards: 100% Completed | 1/1 [00:01&lt;00:00,  1.12s/it]\n"
          }
        },
        "5c92c8f6447c4ef19a6f33825c4238ae": {
          "model_module": "@jupyter-widgets/controls",
          "model_module_version": "1.5.0",
          "model_name": "HTMLModel",
          "state": {
            "_dom_classes": [],
            "_model_module": "@jupyter-widgets/controls",
            "_model_module_version": "1.5.0",
            "_model_name": "HTMLModel",
            "_view_count": null,
            "_view_module": "@jupyter-widgets/controls",
            "_view_module_version": "1.5.0",
            "_view_name": "HTMLView",
            "description": "",
            "description_tooltip": null,
            "layout": "IPY_MODEL_dce9fa7b65b649a494a4ced72c92b271",
            "placeholder": "​",
            "style": "IPY_MODEL_6ff70e04799c4f73a52474e183fa8fa2",
            "value": ""
          }
        },
        "5cdcbc945a174c4c889092fe5f0b9418": {
          "model_module": "@jupyter-widgets/base",
          "model_module_version": "1.2.0",
          "model_name": "LayoutModel",
          "state": {
            "_model_module": "@jupyter-widgets/base",
            "_model_module_version": "1.2.0",
            "_model_name": "LayoutModel",
            "_view_count": null,
            "_view_module": "@jupyter-widgets/base",
            "_view_module_version": "1.2.0",
            "_view_name": "LayoutView",
            "align_content": null,
            "align_items": null,
            "align_self": null,
            "border": null,
            "bottom": null,
            "display": null,
            "flex": null,
            "flex_flow": null,
            "grid_area": null,
            "grid_auto_columns": null,
            "grid_auto_flow": null,
            "grid_auto_rows": null,
            "grid_column": null,
            "grid_gap": null,
            "grid_row": null,
            "grid_template_areas": null,
            "grid_template_columns": null,
            "grid_template_rows": null,
            "height": null,
            "justify_content": null,
            "justify_items": null,
            "left": null,
            "margin": null,
            "max_height": null,
            "max_width": null,
            "min_height": null,
            "min_width": null,
            "object_fit": null,
            "object_position": null,
            "order": null,
            "overflow": null,
            "overflow_x": null,
            "overflow_y": null,
            "padding": null,
            "right": null,
            "top": null,
            "visibility": null,
            "width": null
          }
        },
        "5df0d9a984fc4d4fa33fe32eeeb59a94": {
          "model_module": "@jupyter-widgets/controls",
          "model_module_version": "1.5.0",
          "model_name": "HBoxModel",
          "state": {
            "_dom_classes": [],
            "_model_module": "@jupyter-widgets/controls",
            "_model_module_version": "1.5.0",
            "_model_name": "HBoxModel",
            "_view_count": null,
            "_view_module": "@jupyter-widgets/controls",
            "_view_module_version": "1.5.0",
            "_view_name": "HBoxView",
            "box_style": "",
            "children": [
              "IPY_MODEL_0d7f76e4a8aa4f81b144a4bea28dedd8",
              "IPY_MODEL_c79f1d3cb551498493cc3f1e1e1aad35",
              "IPY_MODEL_bafab255956c4d75b357edca040b79e0"
            ],
            "layout": "IPY_MODEL_bd826ab0c689428297b8c3e69b61b0b9"
          }
        },
        "60016a623f2e45449cf5d83245e38f9b": {
          "model_module": "@jupyter-widgets/controls",
          "model_module_version": "1.5.0",
          "model_name": "HTMLModel",
          "state": {
            "_dom_classes": [],
            "_model_module": "@jupyter-widgets/controls",
            "_model_module_version": "1.5.0",
            "_model_name": "HTMLModel",
            "_view_count": null,
            "_view_module": "@jupyter-widgets/controls",
            "_view_module_version": "1.5.0",
            "_view_name": "HTMLView",
            "description": "",
            "description_tooltip": null,
            "layout": "IPY_MODEL_ceda62169f1943bf824278fe9c814fe9",
            "placeholder": "​",
            "style": "IPY_MODEL_391329a2130747f7a30de23453c02b51",
            "value": "100%"
          }
        },
        "69fe53c5e51544c09086349b574eb92e": {
          "model_module": "@jupyter-widgets/controls",
          "model_module_version": "1.5.0",
          "model_name": "HTMLModel",
          "state": {
            "_dom_classes": [],
            "_model_module": "@jupyter-widgets/controls",
            "_model_module_version": "1.5.0",
            "_model_name": "HTMLModel",
            "_view_count": null,
            "_view_module": "@jupyter-widgets/controls",
            "_view_module_version": "1.5.0",
            "_view_name": "HTMLView",
            "description": "",
            "description_tooltip": null,
            "layout": "IPY_MODEL_c02f9e7f43444910adc56ee9d78ebb89",
            "placeholder": "​",
            "style": "IPY_MODEL_00f7280b44564079b83fa5ead6583465",
            "value": " 1319/1319 [00:00&lt;00:00, 12082.53 examples/s]"
          }
        },
        "6f34b8af71a74278a1d24487466801d5": {
          "model_module": "@jupyter-widgets/controls",
          "model_module_version": "1.5.0",
          "model_name": "FloatProgressModel",
          "state": {
            "_dom_classes": [],
            "_model_module": "@jupyter-widgets/controls",
            "_model_module_version": "1.5.0",
            "_model_name": "FloatProgressModel",
            "_view_count": null,
            "_view_module": "@jupyter-widgets/controls",
            "_view_module_version": "1.5.0",
            "_view_name": "ProgressView",
            "bar_style": "success",
            "description": "",
            "description_tooltip": null,
            "layout": "IPY_MODEL_f3109e0621174d86bff2c85035d1b539",
            "max": 1,
            "min": 0,
            "orientation": "horizontal",
            "style": "IPY_MODEL_e1643cb32292492995c9bf793dd6a4fe",
            "value": 1
          }
        },
        "6ff70e04799c4f73a52474e183fa8fa2": {
          "model_module": "@jupyter-widgets/controls",
          "model_module_version": "1.5.0",
          "model_name": "DescriptionStyleModel",
          "state": {
            "_model_module": "@jupyter-widgets/controls",
            "_model_module_version": "1.5.0",
            "_model_name": "DescriptionStyleModel",
            "_view_count": null,
            "_view_module": "@jupyter-widgets/base",
            "_view_module_version": "1.2.0",
            "_view_name": "StyleView",
            "description_width": ""
          }
        },
        "71e0a4992eba420a9fc96e07142b807e": {
          "model_module": "@jupyter-widgets/controls",
          "model_module_version": "1.5.0",
          "model_name": "DescriptionStyleModel",
          "state": {
            "_model_module": "@jupyter-widgets/controls",
            "_model_module_version": "1.5.0",
            "_model_name": "DescriptionStyleModel",
            "_view_count": null,
            "_view_module": "@jupyter-widgets/base",
            "_view_module_version": "1.2.0",
            "_view_name": "StyleView",
            "description_width": ""
          }
        },
        "7295873850234ea3aa570d22ec1329bc": {
          "model_module": "@jupyter-widgets/controls",
          "model_module_version": "1.5.0",
          "model_name": "HTMLModel",
          "state": {
            "_dom_classes": [],
            "_model_module": "@jupyter-widgets/controls",
            "_model_module_version": "1.5.0",
            "_model_name": "HTMLModel",
            "_view_count": null,
            "_view_module": "@jupyter-widgets/controls",
            "_view_module_version": "1.5.0",
            "_view_name": "HTMLView",
            "description": "",
            "description_tooltip": null,
            "layout": "IPY_MODEL_9614ededef8947a58c18931c1d707e62",
            "placeholder": "​",
            "style": "IPY_MODEL_ef48a4a457424bb482fa82d7cbb280fe",
            "value": "Generating train split: 100%"
          }
        },
        "7343700b0586457fa3c371d87de7a143": {
          "model_module": "@jupyter-widgets/controls",
          "model_module_version": "1.5.0",
          "model_name": "HTMLModel",
          "state": {
            "_dom_classes": [],
            "_model_module": "@jupyter-widgets/controls",
            "_model_module_version": "1.5.0",
            "_model_name": "HTMLModel",
            "_view_count": null,
            "_view_module": "@jupyter-widgets/controls",
            "_view_module_version": "1.5.0",
            "_view_name": "HTMLView",
            "description": "",
            "description_tooltip": null,
            "layout": "IPY_MODEL_3d6cd2f9c28047289b9a8ce1410a8bdc",
            "placeholder": "​",
            "style": "IPY_MODEL_d3f3b334b12440b68d8a739bf54f8111",
            "value": " 10/10 [00:41&lt;00:00,  4.21s/it]"
          }
        },
        "7e08b44dfe5347f99eb485c755ce178a": {
          "model_module": "@jupyter-widgets/controls",
          "model_module_version": "1.5.0",
          "model_name": "HTMLModel",
          "state": {
            "_dom_classes": [],
            "_model_module": "@jupyter-widgets/controls",
            "_model_module_version": "1.5.0",
            "_model_name": "HTMLModel",
            "_view_count": null,
            "_view_module": "@jupyter-widgets/controls",
            "_view_module_version": "1.5.0",
            "_view_name": "HTMLView",
            "description": "",
            "description_tooltip": null,
            "layout": "IPY_MODEL_e7d1922e060c4764832d35b13bb5ec61",
            "placeholder": "​",
            "style": "IPY_MODEL_b9ffa917e77447dd865aac2aa772d63c",
            "value": ""
          }
        },
        "7f6dbb40b0c948bfb219191167416c6e": {
          "model_module": "@jupyter-widgets/base",
          "model_module_version": "1.2.0",
          "model_name": "LayoutModel",
          "state": {
            "_model_module": "@jupyter-widgets/base",
            "_model_module_version": "1.2.0",
            "_model_name": "LayoutModel",
            "_view_count": null,
            "_view_module": "@jupyter-widgets/base",
            "_view_module_version": "1.2.0",
            "_view_name": "LayoutView",
            "align_content": null,
            "align_items": null,
            "align_self": null,
            "border": null,
            "bottom": null,
            "display": null,
            "flex": null,
            "flex_flow": null,
            "grid_area": null,
            "grid_auto_columns": null,
            "grid_auto_flow": null,
            "grid_auto_rows": null,
            "grid_column": null,
            "grid_gap": null,
            "grid_row": null,
            "grid_template_areas": null,
            "grid_template_columns": null,
            "grid_template_rows": null,
            "height": null,
            "justify_content": null,
            "justify_items": null,
            "left": null,
            "margin": null,
            "max_height": null,
            "max_width": null,
            "min_height": null,
            "min_width": null,
            "object_fit": null,
            "object_position": null,
            "order": null,
            "overflow": null,
            "overflow_x": null,
            "overflow_y": null,
            "padding": null,
            "right": null,
            "top": null,
            "visibility": null,
            "width": null
          }
        },
        "81ef2be8420c431a859d84ff99843281": {
          "model_module": "@jupyter-widgets/base",
          "model_module_version": "1.2.0",
          "model_name": "LayoutModel",
          "state": {
            "_model_module": "@jupyter-widgets/base",
            "_model_module_version": "1.2.0",
            "_model_name": "LayoutModel",
            "_view_count": null,
            "_view_module": "@jupyter-widgets/base",
            "_view_module_version": "1.2.0",
            "_view_name": "LayoutView",
            "align_content": null,
            "align_items": null,
            "align_self": null,
            "border": null,
            "bottom": null,
            "display": null,
            "flex": null,
            "flex_flow": null,
            "grid_area": null,
            "grid_auto_columns": null,
            "grid_auto_flow": null,
            "grid_auto_rows": null,
            "grid_column": null,
            "grid_gap": null,
            "grid_row": null,
            "grid_template_areas": null,
            "grid_template_columns": null,
            "grid_template_rows": null,
            "height": null,
            "justify_content": null,
            "justify_items": null,
            "left": null,
            "margin": null,
            "max_height": null,
            "max_width": null,
            "min_height": null,
            "min_width": null,
            "object_fit": null,
            "object_position": null,
            "order": null,
            "overflow": null,
            "overflow_x": null,
            "overflow_y": null,
            "padding": null,
            "right": null,
            "top": null,
            "visibility": null,
            "width": null
          }
        },
        "82ba586017d24bfe9747e39fda17490e": {
          "model_module": "@jupyter-widgets/controls",
          "model_module_version": "1.5.0",
          "model_name": "ProgressStyleModel",
          "state": {
            "_model_module": "@jupyter-widgets/controls",
            "_model_module_version": "1.5.0",
            "_model_name": "ProgressStyleModel",
            "_view_count": null,
            "_view_module": "@jupyter-widgets/base",
            "_view_module_version": "1.2.0",
            "_view_name": "StyleView",
            "bar_color": null,
            "description_width": ""
          }
        },
        "82e19bcc64524fd187e9b984ad64795d": {
          "model_module": "@jupyter-widgets/controls",
          "model_module_version": "1.5.0",
          "model_name": "ProgressStyleModel",
          "state": {
            "_model_module": "@jupyter-widgets/controls",
            "_model_module_version": "1.5.0",
            "_model_name": "ProgressStyleModel",
            "_view_count": null,
            "_view_module": "@jupyter-widgets/base",
            "_view_module_version": "1.2.0",
            "_view_name": "StyleView",
            "bar_color": null,
            "description_width": ""
          }
        },
        "84b5688773d940a68fe4373a3ce0e371": {
          "model_module": "@jupyter-widgets/base",
          "model_module_version": "1.2.0",
          "model_name": "LayoutModel",
          "state": {
            "_model_module": "@jupyter-widgets/base",
            "_model_module_version": "1.2.0",
            "_model_name": "LayoutModel",
            "_view_count": null,
            "_view_module": "@jupyter-widgets/base",
            "_view_module_version": "1.2.0",
            "_view_name": "LayoutView",
            "align_content": null,
            "align_items": null,
            "align_self": null,
            "border": null,
            "bottom": null,
            "display": null,
            "flex": null,
            "flex_flow": null,
            "grid_area": null,
            "grid_auto_columns": null,
            "grid_auto_flow": null,
            "grid_auto_rows": null,
            "grid_column": null,
            "grid_gap": null,
            "grid_row": null,
            "grid_template_areas": null,
            "grid_template_columns": null,
            "grid_template_rows": null,
            "height": null,
            "justify_content": null,
            "justify_items": null,
            "left": null,
            "margin": null,
            "max_height": null,
            "max_width": null,
            "min_height": null,
            "min_width": null,
            "object_fit": null,
            "object_position": null,
            "order": null,
            "overflow": null,
            "overflow_x": null,
            "overflow_y": null,
            "padding": null,
            "right": null,
            "top": null,
            "visibility": null,
            "width": null
          }
        },
        "85eb16f1852f42d4bdd0834253404730": {
          "model_module": "@jupyter-widgets/controls",
          "model_module_version": "1.5.0",
          "model_name": "FloatProgressModel",
          "state": {
            "_dom_classes": [],
            "_model_module": "@jupyter-widgets/controls",
            "_model_module_version": "1.5.0",
            "_model_name": "FloatProgressModel",
            "_view_count": null,
            "_view_module": "@jupyter-widgets/controls",
            "_view_module_version": "1.5.0",
            "_view_name": "ProgressView",
            "bar_style": "success",
            "description": "",
            "description_tooltip": null,
            "layout": "IPY_MODEL_84b5688773d940a68fe4373a3ce0e371",
            "max": 10,
            "min": 0,
            "orientation": "horizontal",
            "style": "IPY_MODEL_82ba586017d24bfe9747e39fda17490e",
            "value": 10
          }
        },
        "86ad3b736ea84cef88974bf531859fec": {
          "model_module": "@jupyter-widgets/base",
          "model_module_version": "1.2.0",
          "model_name": "LayoutModel",
          "state": {
            "_model_module": "@jupyter-widgets/base",
            "_model_module_version": "1.2.0",
            "_model_name": "LayoutModel",
            "_view_count": null,
            "_view_module": "@jupyter-widgets/base",
            "_view_module_version": "1.2.0",
            "_view_name": "LayoutView",
            "align_content": null,
            "align_items": null,
            "align_self": null,
            "border": null,
            "bottom": null,
            "display": null,
            "flex": null,
            "flex_flow": null,
            "grid_area": null,
            "grid_auto_columns": null,
            "grid_auto_flow": null,
            "grid_auto_rows": null,
            "grid_column": null,
            "grid_gap": null,
            "grid_row": null,
            "grid_template_areas": null,
            "grid_template_columns": null,
            "grid_template_rows": null,
            "height": null,
            "justify_content": null,
            "justify_items": null,
            "left": null,
            "margin": null,
            "max_height": null,
            "max_width": null,
            "min_height": null,
            "min_width": null,
            "object_fit": null,
            "object_position": null,
            "order": null,
            "overflow": null,
            "overflow_x": null,
            "overflow_y": null,
            "padding": null,
            "right": null,
            "top": null,
            "visibility": null,
            "width": null
          }
        },
        "8807743976d04d88a1f646255ddd5a99": {
          "model_module": "@jupyter-widgets/controls",
          "model_module_version": "1.5.0",
          "model_name": "HBoxModel",
          "state": {
            "_dom_classes": [],
            "_model_module": "@jupyter-widgets/controls",
            "_model_module_version": "1.5.0",
            "_model_name": "HBoxModel",
            "_view_count": null,
            "_view_module": "@jupyter-widgets/controls",
            "_view_module_version": "1.5.0",
            "_view_name": "HBoxView",
            "box_style": "",
            "children": [
              "IPY_MODEL_39dccadb3c3348efb687adb2ca298871",
              "IPY_MODEL_d210298528ef4c5690c6c2d9614d52cc",
              "IPY_MODEL_a5eecc6760834348aa1ac4b87a0f07d1"
            ],
            "layout": "IPY_MODEL_dc6f9c56174e48758f854ef0456f4362"
          }
        },
        "8972e91a10f04dc19ed8ecdadef64999": {
          "model_module": "@jupyter-widgets/controls",
          "model_module_version": "1.5.0",
          "model_name": "DescriptionStyleModel",
          "state": {
            "_model_module": "@jupyter-widgets/controls",
            "_model_module_version": "1.5.0",
            "_model_name": "DescriptionStyleModel",
            "_view_count": null,
            "_view_module": "@jupyter-widgets/base",
            "_view_module_version": "1.2.0",
            "_view_name": "StyleView",
            "description_width": ""
          }
        },
        "943c96cc125c409787d49267db24171d": {
          "model_module": "@jupyter-widgets/controls",
          "model_module_version": "1.5.0",
          "model_name": "HTMLModel",
          "state": {
            "_dom_classes": [],
            "_model_module": "@jupyter-widgets/controls",
            "_model_module_version": "1.5.0",
            "_model_name": "HTMLModel",
            "_view_count": null,
            "_view_module": "@jupyter-widgets/controls",
            "_view_module_version": "1.5.0",
            "_view_name": "HTMLView",
            "description": "",
            "description_tooltip": null,
            "layout": "IPY_MODEL_1d5074c189d047849c7b9c799bfb7094",
            "placeholder": "​",
            "style": "IPY_MODEL_b1b1cdf8206d41d7984ba04c796a637c",
            "value": "Loading safetensors checkpoint shards: 100% Completed | 1/1 [00:01&lt;00:00,  1.05s/it]\n"
          }
        },
        "9614ededef8947a58c18931c1d707e62": {
          "model_module": "@jupyter-widgets/base",
          "model_module_version": "1.2.0",
          "model_name": "LayoutModel",
          "state": {
            "_model_module": "@jupyter-widgets/base",
            "_model_module_version": "1.2.0",
            "_model_name": "LayoutModel",
            "_view_count": null,
            "_view_module": "@jupyter-widgets/base",
            "_view_module_version": "1.2.0",
            "_view_name": "LayoutView",
            "align_content": null,
            "align_items": null,
            "align_self": null,
            "border": null,
            "bottom": null,
            "display": null,
            "flex": null,
            "flex_flow": null,
            "grid_area": null,
            "grid_auto_columns": null,
            "grid_auto_flow": null,
            "grid_auto_rows": null,
            "grid_column": null,
            "grid_gap": null,
            "grid_row": null,
            "grid_template_areas": null,
            "grid_template_columns": null,
            "grid_template_rows": null,
            "height": null,
            "justify_content": null,
            "justify_items": null,
            "left": null,
            "margin": null,
            "max_height": null,
            "max_width": null,
            "min_height": null,
            "min_width": null,
            "object_fit": null,
            "object_position": null,
            "order": null,
            "overflow": null,
            "overflow_x": null,
            "overflow_y": null,
            "padding": null,
            "right": null,
            "top": null,
            "visibility": null,
            "width": null
          }
        },
        "973ebbb4388249fd978356bf71b34471": {
          "model_module": "@jupyter-widgets/controls",
          "model_module_version": "1.5.0",
          "model_name": "HBoxModel",
          "state": {
            "_dom_classes": [],
            "_model_module": "@jupyter-widgets/controls",
            "_model_module_version": "1.5.0",
            "_model_name": "HBoxModel",
            "_view_count": null,
            "_view_module": "@jupyter-widgets/controls",
            "_view_module_version": "1.5.0",
            "_view_name": "HBoxView",
            "box_style": "",
            "children": [
              "IPY_MODEL_7295873850234ea3aa570d22ec1329bc",
              "IPY_MODEL_4d6fc384f0804cba896b283c45ff48c6",
              "IPY_MODEL_69fe53c5e51544c09086349b574eb92e"
            ],
            "layout": "IPY_MODEL_e628f769c6e7457ea2356c3b03ae9ea6"
          }
        },
        "9e3558bbde1147d3801840f5ec2a44f6": {
          "model_module": "@jupyter-widgets/base",
          "model_module_version": "1.2.0",
          "model_name": "LayoutModel",
          "state": {
            "_model_module": "@jupyter-widgets/base",
            "_model_module_version": "1.2.0",
            "_model_name": "LayoutModel",
            "_view_count": null,
            "_view_module": "@jupyter-widgets/base",
            "_view_module_version": "1.2.0",
            "_view_name": "LayoutView",
            "align_content": null,
            "align_items": null,
            "align_self": null,
            "border": null,
            "bottom": null,
            "display": null,
            "flex": null,
            "flex_flow": null,
            "grid_area": null,
            "grid_auto_columns": null,
            "grid_auto_flow": null,
            "grid_auto_rows": null,
            "grid_column": null,
            "grid_gap": null,
            "grid_row": null,
            "grid_template_areas": null,
            "grid_template_columns": null,
            "grid_template_rows": null,
            "height": null,
            "justify_content": null,
            "justify_items": null,
            "left": null,
            "margin": null,
            "max_height": null,
            "max_width": null,
            "min_height": null,
            "min_width": null,
            "object_fit": null,
            "object_position": null,
            "order": null,
            "overflow": null,
            "overflow_x": null,
            "overflow_y": null,
            "padding": null,
            "right": null,
            "top": null,
            "visibility": null,
            "width": null
          }
        },
        "a274c65e94274f248f33157526d5e914": {
          "model_module": "@jupyter-widgets/controls",
          "model_module_version": "1.5.0",
          "model_name": "ProgressStyleModel",
          "state": {
            "_model_module": "@jupyter-widgets/controls",
            "_model_module_version": "1.5.0",
            "_model_name": "ProgressStyleModel",
            "_view_count": null,
            "_view_module": "@jupyter-widgets/base",
            "_view_module_version": "1.2.0",
            "_view_name": "StyleView",
            "bar_color": null,
            "description_width": ""
          }
        },
        "a3da6433748b4215b37eb6c9b241fc25": {
          "model_module": "@jupyter-widgets/controls",
          "model_module_version": "1.5.0",
          "model_name": "ProgressStyleModel",
          "state": {
            "_model_module": "@jupyter-widgets/controls",
            "_model_module_version": "1.5.0",
            "_model_name": "ProgressStyleModel",
            "_view_count": null,
            "_view_module": "@jupyter-widgets/base",
            "_view_module_version": "1.2.0",
            "_view_name": "StyleView",
            "bar_color": null,
            "description_width": ""
          }
        },
        "a4392fd858d2439fbf56f0750b53d9e6": {
          "model_module": "@jupyter-widgets/controls",
          "model_module_version": "1.5.0",
          "model_name": "HTMLModel",
          "state": {
            "_dom_classes": [],
            "_model_module": "@jupyter-widgets/controls",
            "_model_module_version": "1.5.0",
            "_model_name": "HTMLModel",
            "_view_count": null,
            "_view_module": "@jupyter-widgets/controls",
            "_view_module_version": "1.5.0",
            "_view_name": "HTMLView",
            "description": "",
            "description_tooltip": null,
            "layout": "IPY_MODEL_7f6dbb40b0c948bfb219191167416c6e",
            "placeholder": "​",
            "style": "IPY_MODEL_b5c79d2c3832456fb65743fb284c5011",
            "value": " 1.51k/1.51k [00:00&lt;00:00, 88.6kB/s]"
          }
        },
        "a5eecc6760834348aa1ac4b87a0f07d1": {
          "model_module": "@jupyter-widgets/controls",
          "model_module_version": "1.5.0",
          "model_name": "HTMLModel",
          "state": {
            "_dom_classes": [],
            "_model_module": "@jupyter-widgets/controls",
            "_model_module_version": "1.5.0",
            "_model_name": "HTMLModel",
            "_view_count": null,
            "_view_module": "@jupyter-widgets/controls",
            "_view_module_version": "1.5.0",
            "_view_name": "HTMLView",
            "description": "",
            "description_tooltip": null,
            "layout": "IPY_MODEL_ef62ecc135a743918c15bf862126fa3e",
            "placeholder": "​",
            "style": "IPY_MODEL_c645b2da2c9a4595b80725473e655b57",
            "value": "Loading safetensors checkpoint shards: 100% Completed | 1/1 [00:00&lt;00:00,  1.55it/s]\n"
          }
        },
        "b1b1cdf8206d41d7984ba04c796a637c": {
          "model_module": "@jupyter-widgets/controls",
          "model_module_version": "1.5.0",
          "model_name": "DescriptionStyleModel",
          "state": {
            "_model_module": "@jupyter-widgets/controls",
            "_model_module_version": "1.5.0",
            "_model_name": "DescriptionStyleModel",
            "_view_count": null,
            "_view_module": "@jupyter-widgets/base",
            "_view_module_version": "1.2.0",
            "_view_name": "StyleView",
            "description_width": ""
          }
        },
        "b49abfc1e0b7445b8b5cbbf2eb885e18": {
          "model_module": "@jupyter-widgets/controls",
          "model_module_version": "1.5.0",
          "model_name": "FloatProgressModel",
          "state": {
            "_dom_classes": [],
            "_model_module": "@jupyter-widgets/controls",
            "_model_module_version": "1.5.0",
            "_model_name": "FloatProgressModel",
            "_view_count": null,
            "_view_module": "@jupyter-widgets/controls",
            "_view_module_version": "1.5.0",
            "_view_name": "ProgressView",
            "bar_style": "success",
            "description": "",
            "description_tooltip": null,
            "layout": "IPY_MODEL_c1c6cb41493243e4b22205f0230008de",
            "max": 1,
            "min": 0,
            "orientation": "horizontal",
            "style": "IPY_MODEL_3b63dd28cf4548e3a2735efeab20b3f7",
            "value": 1
          }
        },
        "b5c79d2c3832456fb65743fb284c5011": {
          "model_module": "@jupyter-widgets/controls",
          "model_module_version": "1.5.0",
          "model_name": "DescriptionStyleModel",
          "state": {
            "_model_module": "@jupyter-widgets/controls",
            "_model_module_version": "1.5.0",
            "_model_name": "DescriptionStyleModel",
            "_view_count": null,
            "_view_module": "@jupyter-widgets/base",
            "_view_module_version": "1.2.0",
            "_view_name": "StyleView",
            "description_width": ""
          }
        },
        "b9ffa917e77447dd865aac2aa772d63c": {
          "model_module": "@jupyter-widgets/controls",
          "model_module_version": "1.5.0",
          "model_name": "DescriptionStyleModel",
          "state": {
            "_model_module": "@jupyter-widgets/controls",
            "_model_module_version": "1.5.0",
            "_model_name": "DescriptionStyleModel",
            "_view_count": null,
            "_view_module": "@jupyter-widgets/base",
            "_view_module_version": "1.2.0",
            "_view_name": "StyleView",
            "description_width": ""
          }
        },
        "bafab255956c4d75b357edca040b79e0": {
          "model_module": "@jupyter-widgets/controls",
          "model_module_version": "1.5.0",
          "model_name": "HTMLModel",
          "state": {
            "_dom_classes": [],
            "_model_module": "@jupyter-widgets/controls",
            "_model_module_version": "1.5.0",
            "_model_name": "HTMLModel",
            "_view_count": null,
            "_view_module": "@jupyter-widgets/controls",
            "_view_module_version": "1.5.0",
            "_view_name": "HTMLView",
            "description": "",
            "description_tooltip": null,
            "layout": "IPY_MODEL_363b371217de4a029a5b6833e8a89802",
            "placeholder": "​",
            "style": "IPY_MODEL_71e0a4992eba420a9fc96e07142b807e",
            "value": "Loading safetensors checkpoint shards: 100% Completed | 1/1 [00:00&lt;00:00,  1.56it/s]\n"
          }
        },
        "bd826ab0c689428297b8c3e69b61b0b9": {
          "model_module": "@jupyter-widgets/base",
          "model_module_version": "1.2.0",
          "model_name": "LayoutModel",
          "state": {
            "_model_module": "@jupyter-widgets/base",
            "_model_module_version": "1.2.0",
            "_model_name": "LayoutModel",
            "_view_count": null,
            "_view_module": "@jupyter-widgets/base",
            "_view_module_version": "1.2.0",
            "_view_name": "LayoutView",
            "align_content": null,
            "align_items": null,
            "align_self": null,
            "border": null,
            "bottom": null,
            "display": null,
            "flex": null,
            "flex_flow": null,
            "grid_area": null,
            "grid_auto_columns": null,
            "grid_auto_flow": null,
            "grid_auto_rows": null,
            "grid_column": null,
            "grid_gap": null,
            "grid_row": null,
            "grid_template_areas": null,
            "grid_template_columns": null,
            "grid_template_rows": null,
            "height": null,
            "justify_content": null,
            "justify_items": null,
            "left": null,
            "margin": null,
            "max_height": null,
            "max_width": null,
            "min_height": null,
            "min_width": null,
            "object_fit": null,
            "object_position": null,
            "order": null,
            "overflow": null,
            "overflow_x": null,
            "overflow_y": null,
            "padding": null,
            "right": null,
            "top": null,
            "visibility": null,
            "width": null
          }
        },
        "bdbbcb7f26a74a89b0c1c7e9b53db0c8": {
          "model_module": "@jupyter-widgets/controls",
          "model_module_version": "1.5.0",
          "model_name": "FloatProgressModel",
          "state": {
            "_dom_classes": [],
            "_model_module": "@jupyter-widgets/controls",
            "_model_module_version": "1.5.0",
            "_model_name": "FloatProgressModel",
            "_view_count": null,
            "_view_module": "@jupyter-widgets/controls",
            "_view_module_version": "1.5.0",
            "_view_name": "ProgressView",
            "bar_style": "success",
            "description": "",
            "description_tooltip": null,
            "layout": "IPY_MODEL_9e3558bbde1147d3801840f5ec2a44f6",
            "max": 1138151,
            "min": 0,
            "orientation": "horizontal",
            "style": "IPY_MODEL_a274c65e94274f248f33157526d5e914",
            "value": 1138151
          }
        },
        "c02f9e7f43444910adc56ee9d78ebb89": {
          "model_module": "@jupyter-widgets/base",
          "model_module_version": "1.2.0",
          "model_name": "LayoutModel",
          "state": {
            "_model_module": "@jupyter-widgets/base",
            "_model_module_version": "1.2.0",
            "_model_name": "LayoutModel",
            "_view_count": null,
            "_view_module": "@jupyter-widgets/base",
            "_view_module_version": "1.2.0",
            "_view_name": "LayoutView",
            "align_content": null,
            "align_items": null,
            "align_self": null,
            "border": null,
            "bottom": null,
            "display": null,
            "flex": null,
            "flex_flow": null,
            "grid_area": null,
            "grid_auto_columns": null,
            "grid_auto_flow": null,
            "grid_auto_rows": null,
            "grid_column": null,
            "grid_gap": null,
            "grid_row": null,
            "grid_template_areas": null,
            "grid_template_columns": null,
            "grid_template_rows": null,
            "height": null,
            "justify_content": null,
            "justify_items": null,
            "left": null,
            "margin": null,
            "max_height": null,
            "max_width": null,
            "min_height": null,
            "min_width": null,
            "object_fit": null,
            "object_position": null,
            "order": null,
            "overflow": null,
            "overflow_x": null,
            "overflow_y": null,
            "padding": null,
            "right": null,
            "top": null,
            "visibility": null,
            "width": null
          }
        },
        "c1c6cb41493243e4b22205f0230008de": {
          "model_module": "@jupyter-widgets/base",
          "model_module_version": "1.2.0",
          "model_name": "LayoutModel",
          "state": {
            "_model_module": "@jupyter-widgets/base",
            "_model_module_version": "1.2.0",
            "_model_name": "LayoutModel",
            "_view_count": null,
            "_view_module": "@jupyter-widgets/base",
            "_view_module_version": "1.2.0",
            "_view_name": "LayoutView",
            "align_content": null,
            "align_items": null,
            "align_self": null,
            "border": null,
            "bottom": null,
            "display": null,
            "flex": null,
            "flex_flow": null,
            "grid_area": null,
            "grid_auto_columns": null,
            "grid_auto_flow": null,
            "grid_auto_rows": null,
            "grid_column": null,
            "grid_gap": null,
            "grid_row": null,
            "grid_template_areas": null,
            "grid_template_columns": null,
            "grid_template_rows": null,
            "height": null,
            "justify_content": null,
            "justify_items": null,
            "left": null,
            "margin": null,
            "max_height": null,
            "max_width": null,
            "min_height": null,
            "min_width": null,
            "object_fit": null,
            "object_position": null,
            "order": null,
            "overflow": null,
            "overflow_x": null,
            "overflow_y": null,
            "padding": null,
            "right": null,
            "top": null,
            "visibility": null,
            "width": null
          }
        },
        "c645b2da2c9a4595b80725473e655b57": {
          "model_module": "@jupyter-widgets/controls",
          "model_module_version": "1.5.0",
          "model_name": "DescriptionStyleModel",
          "state": {
            "_model_module": "@jupyter-widgets/controls",
            "_model_module_version": "1.5.0",
            "_model_name": "DescriptionStyleModel",
            "_view_count": null,
            "_view_module": "@jupyter-widgets/base",
            "_view_module_version": "1.2.0",
            "_view_name": "StyleView",
            "description_width": ""
          }
        },
        "c79f1d3cb551498493cc3f1e1e1aad35": {
          "model_module": "@jupyter-widgets/controls",
          "model_module_version": "1.5.0",
          "model_name": "FloatProgressModel",
          "state": {
            "_dom_classes": [],
            "_model_module": "@jupyter-widgets/controls",
            "_model_module_version": "1.5.0",
            "_model_name": "FloatProgressModel",
            "_view_count": null,
            "_view_module": "@jupyter-widgets/controls",
            "_view_module_version": "1.5.0",
            "_view_name": "ProgressView",
            "bar_style": "success",
            "description": "",
            "description_tooltip": null,
            "layout": "IPY_MODEL_e8cc5a080c5b478dbce1461f20ac31a2",
            "max": 1,
            "min": 0,
            "orientation": "horizontal",
            "style": "IPY_MODEL_a3da6433748b4215b37eb6c9b241fc25",
            "value": 1
          }
        },
        "c8cadd9e0f054c409bd2ece4a0230fda": {
          "model_module": "@jupyter-widgets/base",
          "model_module_version": "1.2.0",
          "model_name": "LayoutModel",
          "state": {
            "_model_module": "@jupyter-widgets/base",
            "_model_module_version": "1.2.0",
            "_model_name": "LayoutModel",
            "_view_count": null,
            "_view_module": "@jupyter-widgets/base",
            "_view_module_version": "1.2.0",
            "_view_name": "LayoutView",
            "align_content": null,
            "align_items": null,
            "align_self": null,
            "border": null,
            "bottom": null,
            "display": null,
            "flex": null,
            "flex_flow": null,
            "grid_area": null,
            "grid_auto_columns": null,
            "grid_auto_flow": null,
            "grid_auto_rows": null,
            "grid_column": null,
            "grid_gap": null,
            "grid_row": null,
            "grid_template_areas": null,
            "grid_template_columns": null,
            "grid_template_rows": null,
            "height": null,
            "justify_content": null,
            "justify_items": null,
            "left": null,
            "margin": null,
            "max_height": null,
            "max_width": null,
            "min_height": null,
            "min_width": null,
            "object_fit": null,
            "object_position": null,
            "order": null,
            "overflow": null,
            "overflow_x": null,
            "overflow_y": null,
            "padding": null,
            "right": null,
            "top": null,
            "visibility": null,
            "width": null
          }
        },
        "c9bd47d82f1843e181ae1bdbe94bac43": {
          "model_module": "@jupyter-widgets/base",
          "model_module_version": "1.2.0",
          "model_name": "LayoutModel",
          "state": {
            "_model_module": "@jupyter-widgets/base",
            "_model_module_version": "1.2.0",
            "_model_name": "LayoutModel",
            "_view_count": null,
            "_view_module": "@jupyter-widgets/base",
            "_view_module_version": "1.2.0",
            "_view_name": "LayoutView",
            "align_content": null,
            "align_items": null,
            "align_self": null,
            "border": null,
            "bottom": null,
            "display": null,
            "flex": null,
            "flex_flow": null,
            "grid_area": null,
            "grid_auto_columns": null,
            "grid_auto_flow": null,
            "grid_auto_rows": null,
            "grid_column": null,
            "grid_gap": null,
            "grid_row": null,
            "grid_template_areas": null,
            "grid_template_columns": null,
            "grid_template_rows": null,
            "height": null,
            "justify_content": null,
            "justify_items": null,
            "left": null,
            "margin": null,
            "max_height": null,
            "max_width": null,
            "min_height": null,
            "min_width": null,
            "object_fit": null,
            "object_position": null,
            "order": null,
            "overflow": null,
            "overflow_x": null,
            "overflow_y": null,
            "padding": null,
            "right": null,
            "top": null,
            "visibility": null,
            "width": null
          }
        },
        "cd301117ec7a4e889164c40d430a8bc4": {
          "model_module": "@jupyter-widgets/controls",
          "model_module_version": "1.5.0",
          "model_name": "DescriptionStyleModel",
          "state": {
            "_model_module": "@jupyter-widgets/controls",
            "_model_module_version": "1.5.0",
            "_model_name": "DescriptionStyleModel",
            "_view_count": null,
            "_view_module": "@jupyter-widgets/base",
            "_view_module_version": "1.2.0",
            "_view_name": "StyleView",
            "description_width": ""
          }
        },
        "ceda62169f1943bf824278fe9c814fe9": {
          "model_module": "@jupyter-widgets/base",
          "model_module_version": "1.2.0",
          "model_name": "LayoutModel",
          "state": {
            "_model_module": "@jupyter-widgets/base",
            "_model_module_version": "1.2.0",
            "_model_name": "LayoutModel",
            "_view_count": null,
            "_view_module": "@jupyter-widgets/base",
            "_view_module_version": "1.2.0",
            "_view_name": "LayoutView",
            "align_content": null,
            "align_items": null,
            "align_self": null,
            "border": null,
            "bottom": null,
            "display": null,
            "flex": null,
            "flex_flow": null,
            "grid_area": null,
            "grid_auto_columns": null,
            "grid_auto_flow": null,
            "grid_auto_rows": null,
            "grid_column": null,
            "grid_gap": null,
            "grid_row": null,
            "grid_template_areas": null,
            "grid_template_columns": null,
            "grid_template_rows": null,
            "height": null,
            "justify_content": null,
            "justify_items": null,
            "left": null,
            "margin": null,
            "max_height": null,
            "max_width": null,
            "min_height": null,
            "min_width": null,
            "object_fit": null,
            "object_position": null,
            "order": null,
            "overflow": null,
            "overflow_x": null,
            "overflow_y": null,
            "padding": null,
            "right": null,
            "top": null,
            "visibility": null,
            "width": null
          }
        },
        "d210298528ef4c5690c6c2d9614d52cc": {
          "model_module": "@jupyter-widgets/controls",
          "model_module_version": "1.5.0",
          "model_name": "FloatProgressModel",
          "state": {
            "_dom_classes": [],
            "_model_module": "@jupyter-widgets/controls",
            "_model_module_version": "1.5.0",
            "_model_name": "FloatProgressModel",
            "_view_count": null,
            "_view_module": "@jupyter-widgets/controls",
            "_view_module_version": "1.5.0",
            "_view_name": "ProgressView",
            "bar_style": "success",
            "description": "",
            "description_tooltip": null,
            "layout": "IPY_MODEL_d3edd6b3e2364ef097575c396582fd79",
            "max": 1,
            "min": 0,
            "orientation": "horizontal",
            "style": "IPY_MODEL_32001f5ab9bf4b87b2b523c259079032",
            "value": 1
          }
        },
        "d3edd6b3e2364ef097575c396582fd79": {
          "model_module": "@jupyter-widgets/base",
          "model_module_version": "1.2.0",
          "model_name": "LayoutModel",
          "state": {
            "_model_module": "@jupyter-widgets/base",
            "_model_module_version": "1.2.0",
            "_model_name": "LayoutModel",
            "_view_count": null,
            "_view_module": "@jupyter-widgets/base",
            "_view_module_version": "1.2.0",
            "_view_name": "LayoutView",
            "align_content": null,
            "align_items": null,
            "align_self": null,
            "border": null,
            "bottom": null,
            "display": null,
            "flex": null,
            "flex_flow": null,
            "grid_area": null,
            "grid_auto_columns": null,
            "grid_auto_flow": null,
            "grid_auto_rows": null,
            "grid_column": null,
            "grid_gap": null,
            "grid_row": null,
            "grid_template_areas": null,
            "grid_template_columns": null,
            "grid_template_rows": null,
            "height": null,
            "justify_content": null,
            "justify_items": null,
            "left": null,
            "margin": null,
            "max_height": null,
            "max_width": null,
            "min_height": null,
            "min_width": null,
            "object_fit": null,
            "object_position": null,
            "order": null,
            "overflow": null,
            "overflow_x": null,
            "overflow_y": null,
            "padding": null,
            "right": null,
            "top": null,
            "visibility": null,
            "width": null
          }
        },
        "d3f3b334b12440b68d8a739bf54f8111": {
          "model_module": "@jupyter-widgets/controls",
          "model_module_version": "1.5.0",
          "model_name": "DescriptionStyleModel",
          "state": {
            "_model_module": "@jupyter-widgets/controls",
            "_model_module_version": "1.5.0",
            "_model_name": "DescriptionStyleModel",
            "_view_count": null,
            "_view_module": "@jupyter-widgets/base",
            "_view_module_version": "1.2.0",
            "_view_name": "StyleView",
            "description_width": ""
          }
        },
        "dba22813182d4d5b8ad17ead96a0efc8": {
          "model_module": "@jupyter-widgets/base",
          "model_module_version": "1.2.0",
          "model_name": "LayoutModel",
          "state": {
            "_model_module": "@jupyter-widgets/base",
            "_model_module_version": "1.2.0",
            "_model_name": "LayoutModel",
            "_view_count": null,
            "_view_module": "@jupyter-widgets/base",
            "_view_module_version": "1.2.0",
            "_view_name": "LayoutView",
            "align_content": null,
            "align_items": null,
            "align_self": null,
            "border": null,
            "bottom": null,
            "display": null,
            "flex": null,
            "flex_flow": null,
            "grid_area": null,
            "grid_auto_columns": null,
            "grid_auto_flow": null,
            "grid_auto_rows": null,
            "grid_column": null,
            "grid_gap": null,
            "grid_row": null,
            "grid_template_areas": null,
            "grid_template_columns": null,
            "grid_template_rows": null,
            "height": null,
            "justify_content": null,
            "justify_items": null,
            "left": null,
            "margin": null,
            "max_height": null,
            "max_width": null,
            "min_height": null,
            "min_width": null,
            "object_fit": null,
            "object_position": null,
            "order": null,
            "overflow": null,
            "overflow_x": null,
            "overflow_y": null,
            "padding": null,
            "right": null,
            "top": null,
            "visibility": null,
            "width": null
          }
        },
        "dc6f9c56174e48758f854ef0456f4362": {
          "model_module": "@jupyter-widgets/base",
          "model_module_version": "1.2.0",
          "model_name": "LayoutModel",
          "state": {
            "_model_module": "@jupyter-widgets/base",
            "_model_module_version": "1.2.0",
            "_model_name": "LayoutModel",
            "_view_count": null,
            "_view_module": "@jupyter-widgets/base",
            "_view_module_version": "1.2.0",
            "_view_name": "LayoutView",
            "align_content": null,
            "align_items": null,
            "align_self": null,
            "border": null,
            "bottom": null,
            "display": null,
            "flex": null,
            "flex_flow": null,
            "grid_area": null,
            "grid_auto_columns": null,
            "grid_auto_flow": null,
            "grid_auto_rows": null,
            "grid_column": null,
            "grid_gap": null,
            "grid_row": null,
            "grid_template_areas": null,
            "grid_template_columns": null,
            "grid_template_rows": null,
            "height": null,
            "justify_content": null,
            "justify_items": null,
            "left": null,
            "margin": null,
            "max_height": null,
            "max_width": null,
            "min_height": null,
            "min_width": null,
            "object_fit": null,
            "object_position": null,
            "order": null,
            "overflow": null,
            "overflow_x": null,
            "overflow_y": null,
            "padding": null,
            "right": null,
            "top": null,
            "visibility": null,
            "width": null
          }
        },
        "dce9fa7b65b649a494a4ced72c92b271": {
          "model_module": "@jupyter-widgets/base",
          "model_module_version": "1.2.0",
          "model_name": "LayoutModel",
          "state": {
            "_model_module": "@jupyter-widgets/base",
            "_model_module_version": "1.2.0",
            "_model_name": "LayoutModel",
            "_view_count": null,
            "_view_module": "@jupyter-widgets/base",
            "_view_module_version": "1.2.0",
            "_view_name": "LayoutView",
            "align_content": null,
            "align_items": null,
            "align_self": null,
            "border": null,
            "bottom": null,
            "display": null,
            "flex": null,
            "flex_flow": null,
            "grid_area": null,
            "grid_auto_columns": null,
            "grid_auto_flow": null,
            "grid_auto_rows": null,
            "grid_column": null,
            "grid_gap": null,
            "grid_row": null,
            "grid_template_areas": null,
            "grid_template_columns": null,
            "grid_template_rows": null,
            "height": null,
            "justify_content": null,
            "justify_items": null,
            "left": null,
            "margin": null,
            "max_height": null,
            "max_width": null,
            "min_height": null,
            "min_width": null,
            "object_fit": null,
            "object_position": null,
            "order": null,
            "overflow": null,
            "overflow_x": null,
            "overflow_y": null,
            "padding": null,
            "right": null,
            "top": null,
            "visibility": null,
            "width": null
          }
        },
        "dd17d0a46c6d4bc4b09d3f58bc7d36ae": {
          "model_module": "@jupyter-widgets/controls",
          "model_module_version": "1.5.0",
          "model_name": "HBoxModel",
          "state": {
            "_dom_classes": [],
            "_model_module": "@jupyter-widgets/controls",
            "_model_module_version": "1.5.0",
            "_model_name": "HBoxModel",
            "_view_count": null,
            "_view_module": "@jupyter-widgets/controls",
            "_view_module_version": "1.5.0",
            "_view_name": "HBoxView",
            "box_style": "",
            "children": [
              "IPY_MODEL_5c92c8f6447c4ef19a6f33825c4238ae",
              "IPY_MODEL_6f34b8af71a74278a1d24487466801d5",
              "IPY_MODEL_5b1a870f181e4efd90e9e02393037e3e"
            ],
            "layout": "IPY_MODEL_81ef2be8420c431a859d84ff99843281"
          }
        },
        "dfd749a03c7e4fb2ac1b0f098e0b9224": {
          "model_module": "@jupyter-widgets/base",
          "model_module_version": "1.2.0",
          "model_name": "LayoutModel",
          "state": {
            "_model_module": "@jupyter-widgets/base",
            "_model_module_version": "1.2.0",
            "_model_name": "LayoutModel",
            "_view_count": null,
            "_view_module": "@jupyter-widgets/base",
            "_view_module_version": "1.2.0",
            "_view_name": "LayoutView",
            "align_content": null,
            "align_items": null,
            "align_self": null,
            "border": null,
            "bottom": null,
            "display": null,
            "flex": null,
            "flex_flow": null,
            "grid_area": null,
            "grid_auto_columns": null,
            "grid_auto_flow": null,
            "grid_auto_rows": null,
            "grid_column": null,
            "grid_gap": null,
            "grid_row": null,
            "grid_template_areas": null,
            "grid_template_columns": null,
            "grid_template_rows": null,
            "height": null,
            "justify_content": null,
            "justify_items": null,
            "left": null,
            "margin": null,
            "max_height": null,
            "max_width": null,
            "min_height": null,
            "min_width": null,
            "object_fit": null,
            "object_position": null,
            "order": null,
            "overflow": null,
            "overflow_x": null,
            "overflow_y": null,
            "padding": null,
            "right": null,
            "top": null,
            "visibility": null,
            "width": null
          }
        },
        "e1643cb32292492995c9bf793dd6a4fe": {
          "model_module": "@jupyter-widgets/controls",
          "model_module_version": "1.5.0",
          "model_name": "ProgressStyleModel",
          "state": {
            "_model_module": "@jupyter-widgets/controls",
            "_model_module_version": "1.5.0",
            "_model_name": "ProgressStyleModel",
            "_view_count": null,
            "_view_module": "@jupyter-widgets/base",
            "_view_module_version": "1.2.0",
            "_view_name": "StyleView",
            "bar_color": null,
            "description_width": ""
          }
        },
        "e628f769c6e7457ea2356c3b03ae9ea6": {
          "model_module": "@jupyter-widgets/base",
          "model_module_version": "1.2.0",
          "model_name": "LayoutModel",
          "state": {
            "_model_module": "@jupyter-widgets/base",
            "_model_module_version": "1.2.0",
            "_model_name": "LayoutModel",
            "_view_count": null,
            "_view_module": "@jupyter-widgets/base",
            "_view_module_version": "1.2.0",
            "_view_name": "LayoutView",
            "align_content": null,
            "align_items": null,
            "align_self": null,
            "border": null,
            "bottom": null,
            "display": null,
            "flex": null,
            "flex_flow": null,
            "grid_area": null,
            "grid_auto_columns": null,
            "grid_auto_flow": null,
            "grid_auto_rows": null,
            "grid_column": null,
            "grid_gap": null,
            "grid_row": null,
            "grid_template_areas": null,
            "grid_template_columns": null,
            "grid_template_rows": null,
            "height": null,
            "justify_content": null,
            "justify_items": null,
            "left": null,
            "margin": null,
            "max_height": null,
            "max_width": null,
            "min_height": null,
            "min_width": null,
            "object_fit": null,
            "object_position": null,
            "order": null,
            "overflow": null,
            "overflow_x": null,
            "overflow_y": null,
            "padding": null,
            "right": null,
            "top": null,
            "visibility": null,
            "width": null
          }
        },
        "e673d6e178c448ce96e721dbc9a590f7": {
          "model_module": "@jupyter-widgets/controls",
          "model_module_version": "1.5.0",
          "model_name": "DescriptionStyleModel",
          "state": {
            "_model_module": "@jupyter-widgets/controls",
            "_model_module_version": "1.5.0",
            "_model_name": "DescriptionStyleModel",
            "_view_count": null,
            "_view_module": "@jupyter-widgets/base",
            "_view_module_version": "1.2.0",
            "_view_name": "StyleView",
            "description_width": ""
          }
        },
        "e7d1922e060c4764832d35b13bb5ec61": {
          "model_module": "@jupyter-widgets/base",
          "model_module_version": "1.2.0",
          "model_name": "LayoutModel",
          "state": {
            "_model_module": "@jupyter-widgets/base",
            "_model_module_version": "1.2.0",
            "_model_name": "LayoutModel",
            "_view_count": null,
            "_view_module": "@jupyter-widgets/base",
            "_view_module_version": "1.2.0",
            "_view_name": "LayoutView",
            "align_content": null,
            "align_items": null,
            "align_self": null,
            "border": null,
            "bottom": null,
            "display": null,
            "flex": null,
            "flex_flow": null,
            "grid_area": null,
            "grid_auto_columns": null,
            "grid_auto_flow": null,
            "grid_auto_rows": null,
            "grid_column": null,
            "grid_gap": null,
            "grid_row": null,
            "grid_template_areas": null,
            "grid_template_columns": null,
            "grid_template_rows": null,
            "height": null,
            "justify_content": null,
            "justify_items": null,
            "left": null,
            "margin": null,
            "max_height": null,
            "max_width": null,
            "min_height": null,
            "min_width": null,
            "object_fit": null,
            "object_position": null,
            "order": null,
            "overflow": null,
            "overflow_x": null,
            "overflow_y": null,
            "padding": null,
            "right": null,
            "top": null,
            "visibility": null,
            "width": null
          }
        },
        "e8410a6f3c174dd789fbb9eebcd6703f": {
          "model_module": "@jupyter-widgets/controls",
          "model_module_version": "1.5.0",
          "model_name": "DescriptionStyleModel",
          "state": {
            "_model_module": "@jupyter-widgets/controls",
            "_model_module_version": "1.5.0",
            "_model_name": "DescriptionStyleModel",
            "_view_count": null,
            "_view_module": "@jupyter-widgets/base",
            "_view_module_version": "1.2.0",
            "_view_name": "StyleView",
            "description_width": ""
          }
        },
        "e8cc5a080c5b478dbce1461f20ac31a2": {
          "model_module": "@jupyter-widgets/base",
          "model_module_version": "1.2.0",
          "model_name": "LayoutModel",
          "state": {
            "_model_module": "@jupyter-widgets/base",
            "_model_module_version": "1.2.0",
            "_model_name": "LayoutModel",
            "_view_count": null,
            "_view_module": "@jupyter-widgets/base",
            "_view_module_version": "1.2.0",
            "_view_name": "LayoutView",
            "align_content": null,
            "align_items": null,
            "align_self": null,
            "border": null,
            "bottom": null,
            "display": null,
            "flex": null,
            "flex_flow": null,
            "grid_area": null,
            "grid_auto_columns": null,
            "grid_auto_flow": null,
            "grid_auto_rows": null,
            "grid_column": null,
            "grid_gap": null,
            "grid_row": null,
            "grid_template_areas": null,
            "grid_template_columns": null,
            "grid_template_rows": null,
            "height": null,
            "justify_content": null,
            "justify_items": null,
            "left": null,
            "margin": null,
            "max_height": null,
            "max_width": null,
            "min_height": null,
            "min_width": null,
            "object_fit": null,
            "object_position": null,
            "order": null,
            "overflow": null,
            "overflow_x": null,
            "overflow_y": null,
            "padding": null,
            "right": null,
            "top": null,
            "visibility": null,
            "width": null
          }
        },
        "ed77b2fcfdda4496b1bf45c98808b9b9": {
          "model_module": "@jupyter-widgets/controls",
          "model_module_version": "1.5.0",
          "model_name": "ProgressStyleModel",
          "state": {
            "_model_module": "@jupyter-widgets/controls",
            "_model_module_version": "1.5.0",
            "_model_name": "ProgressStyleModel",
            "_view_count": null,
            "_view_module": "@jupyter-widgets/base",
            "_view_module_version": "1.2.0",
            "_view_name": "StyleView",
            "bar_color": null,
            "description_width": ""
          }
        },
        "ef48a4a457424bb482fa82d7cbb280fe": {
          "model_module": "@jupyter-widgets/controls",
          "model_module_version": "1.5.0",
          "model_name": "DescriptionStyleModel",
          "state": {
            "_model_module": "@jupyter-widgets/controls",
            "_model_module_version": "1.5.0",
            "_model_name": "DescriptionStyleModel",
            "_view_count": null,
            "_view_module": "@jupyter-widgets/base",
            "_view_module_version": "1.2.0",
            "_view_name": "StyleView",
            "description_width": ""
          }
        },
        "ef62ecc135a743918c15bf862126fa3e": {
          "model_module": "@jupyter-widgets/base",
          "model_module_version": "1.2.0",
          "model_name": "LayoutModel",
          "state": {
            "_model_module": "@jupyter-widgets/base",
            "_model_module_version": "1.2.0",
            "_model_name": "LayoutModel",
            "_view_count": null,
            "_view_module": "@jupyter-widgets/base",
            "_view_module_version": "1.2.0",
            "_view_name": "LayoutView",
            "align_content": null,
            "align_items": null,
            "align_self": null,
            "border": null,
            "bottom": null,
            "display": null,
            "flex": null,
            "flex_flow": null,
            "grid_area": null,
            "grid_auto_columns": null,
            "grid_auto_flow": null,
            "grid_auto_rows": null,
            "grid_column": null,
            "grid_gap": null,
            "grid_row": null,
            "grid_template_areas": null,
            "grid_template_columns": null,
            "grid_template_rows": null,
            "height": null,
            "justify_content": null,
            "justify_items": null,
            "left": null,
            "margin": null,
            "max_height": null,
            "max_width": null,
            "min_height": null,
            "min_width": null,
            "object_fit": null,
            "object_position": null,
            "order": null,
            "overflow": null,
            "overflow_x": null,
            "overflow_y": null,
            "padding": null,
            "right": null,
            "top": null,
            "visibility": null,
            "width": null
          }
        },
        "f3109e0621174d86bff2c85035d1b539": {
          "model_module": "@jupyter-widgets/base",
          "model_module_version": "1.2.0",
          "model_name": "LayoutModel",
          "state": {
            "_model_module": "@jupyter-widgets/base",
            "_model_module_version": "1.2.0",
            "_model_name": "LayoutModel",
            "_view_count": null,
            "_view_module": "@jupyter-widgets/base",
            "_view_module_version": "1.2.0",
            "_view_name": "LayoutView",
            "align_content": null,
            "align_items": null,
            "align_self": null,
            "border": null,
            "bottom": null,
            "display": null,
            "flex": null,
            "flex_flow": null,
            "grid_area": null,
            "grid_auto_columns": null,
            "grid_auto_flow": null,
            "grid_auto_rows": null,
            "grid_column": null,
            "grid_gap": null,
            "grid_row": null,
            "grid_template_areas": null,
            "grid_template_columns": null,
            "grid_template_rows": null,
            "height": null,
            "justify_content": null,
            "justify_items": null,
            "left": null,
            "margin": null,
            "max_height": null,
            "max_width": null,
            "min_height": null,
            "min_width": null,
            "object_fit": null,
            "object_position": null,
            "order": null,
            "overflow": null,
            "overflow_x": null,
            "overflow_y": null,
            "padding": null,
            "right": null,
            "top": null,
            "visibility": null,
            "width": null
          }
        },
        "fc8a884501cc44d3b819cb5eb778333e": {
          "model_module": "@jupyter-widgets/base",
          "model_module_version": "1.2.0",
          "model_name": "LayoutModel",
          "state": {
            "_model_module": "@jupyter-widgets/base",
            "_model_module_version": "1.2.0",
            "_model_name": "LayoutModel",
            "_view_count": null,
            "_view_module": "@jupyter-widgets/base",
            "_view_module_version": "1.2.0",
            "_view_name": "LayoutView",
            "align_content": null,
            "align_items": null,
            "align_self": null,
            "border": null,
            "bottom": null,
            "display": null,
            "flex": null,
            "flex_flow": null,
            "grid_area": null,
            "grid_auto_columns": null,
            "grid_auto_flow": null,
            "grid_auto_rows": null,
            "grid_column": null,
            "grid_gap": null,
            "grid_row": null,
            "grid_template_areas": null,
            "grid_template_columns": null,
            "grid_template_rows": null,
            "height": null,
            "justify_content": null,
            "justify_items": null,
            "left": null,
            "margin": null,
            "max_height": null,
            "max_width": null,
            "min_height": null,
            "min_width": null,
            "object_fit": null,
            "object_position": null,
            "order": null,
            "overflow": null,
            "overflow_x": null,
            "overflow_y": null,
            "padding": null,
            "right": null,
            "top": null,
            "visibility": null,
            "width": null
          }
        },
        "ffa61e2b39d54fd69882620bddd7caab": {
          "model_module": "@jupyter-widgets/base",
          "model_module_version": "1.2.0",
          "model_name": "LayoutModel",
          "state": {
            "_model_module": "@jupyter-widgets/base",
            "_model_module_version": "1.2.0",
            "_model_name": "LayoutModel",
            "_view_count": null,
            "_view_module": "@jupyter-widgets/base",
            "_view_module_version": "1.2.0",
            "_view_name": "LayoutView",
            "align_content": null,
            "align_items": null,
            "align_self": null,
            "border": null,
            "bottom": null,
            "display": null,
            "flex": null,
            "flex_flow": null,
            "grid_area": null,
            "grid_auto_columns": null,
            "grid_auto_flow": null,
            "grid_auto_rows": null,
            "grid_column": null,
            "grid_gap": null,
            "grid_row": null,
            "grid_template_areas": null,
            "grid_template_columns": null,
            "grid_template_rows": null,
            "height": null,
            "justify_content": null,
            "justify_items": null,
            "left": null,
            "margin": null,
            "max_height": null,
            "max_width": null,
            "min_height": null,
            "min_width": null,
            "object_fit": null,
            "object_position": null,
            "order": null,
            "overflow": null,
            "overflow_x": null,
            "overflow_y": null,
            "padding": null,
            "right": null,
            "top": null,
            "visibility": null,
            "width": null
          }
        }
      }
    }
  },
  "nbformat": 4,
  "nbformat_minor": 0
}
